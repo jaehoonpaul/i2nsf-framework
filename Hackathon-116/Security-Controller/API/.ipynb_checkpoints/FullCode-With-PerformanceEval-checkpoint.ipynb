{
 "cells": [
  {
   "cell_type": "code",
   "execution_count": 478,
   "metadata": {},
   "outputs": [],
   "source": [
    "# All imported Library\n",
    "import networkx as nx\n",
    "import random\n",
    "import igraph\n",
    "from igraph import Graph, EdgeSeq\n",
    "import plotly.graph_objects as go\n",
    "import operator\n",
    "from difflib import SequenceMatcher as SeqMatch\n",
    "\n",
    "from zss import simple_distance, Node #Zhang-Shasha Algorithm for Tree Edit Distance Calculation\n",
    "import Levenshtein as Lv #Levenhstein Distance Algorithm\n",
    "\n",
    "import nltk, string #Still in testing, not needed\n",
    "from sklearn.feature_extraction.text import TfidfVectorizer # For testing, not needed\n",
    "\n",
    "import math\n",
    "import re\n",
    "from collections import Counter"
   ]
  },
  {
   "cell_type": "code",
   "execution_count": 479,
   "metadata": {},
   "outputs": [],
   "source": [
    "#Python Class for YANG Data Model. Each node of YANG Data Model is assigned in yangdm python class.\n",
    "class yangdm:\n",
    "    def __init__ (self, tag, id, isLeaf, level, skip):\n",
    "        self.tag = tag         # The TAG of the node in the YANG Data Model\n",
    "        self.id = id           # The ID of the node in the YANG Data Model --> The ID should be assigned sequentially from top to bottom of the YANG DM\n",
    "        self.isLeaf = isLeaf   # True if the node is a Leaf, False if it is not a Leaf\n",
    "        self.level = level     # Level of the node YANG DM (Level 0 = Root, Level 1 = child of root)\n",
    "        self.skip = skip       # True if it is skippable, e.g., Match-Case in YANG Data Model\n",
    "        self.parent = None     # Parent of the node\n",
    "        self.child = []        # Child of the node. If the node is a leaf, it is empty, i.e., []\n",
    "        \n",
    "    def setParent(self,parent): # For setting the parent of the node\n",
    "        self.parent = parent\n",
    "    \n",
    "    def printParent(self):   # Printing the parent\n",
    "        if self.parent is not None:\n",
    "            print(\"Parent : {}\".format(self.parent.tag))\n",
    "        \n",
    "    def printDM(self):       # Printing the node details\n",
    "        print(\"Tag    : {}\".format(self.tag))\n",
    "        print(\"ID     : {}\".format(self.id))\n",
    "        print(\"isLeaf : {}\".format(self.isLeaf))\n",
    "        print(\"Level  : {}\".format(self.level))\n",
    "        print(\"Skip   : {}\".format(self.skip))\n",
    "        yangdm.printParent(self)\n",
    "        print(\"Child  : {}\".format(self.child))\n",
    "    \n",
    "    def setChild(self,child): # Setting the child of the node\n",
    "        self.child.append(child)\n",
    "    \n",
    "    def setLeafID(self,leafID):\n",
    "        self.leafID = leafID\n",
    "        \n",
    "    def path(self):\n",
    "        if self.parent is None:\n",
    "            return \"/{}\".format(self.tag)\n",
    "        else:\n",
    "            return \"{}/{}\".format(self.parent.path(),self.tag)"
   ]
  },
  {
   "cell_type": "code",
   "execution_count": 480,
   "metadata": {},
   "outputs": [],
   "source": [
    "#Parsing from YANG Tree Data Model into Python Class yangdm. Reading each line of the YANG Tree Data Model\n",
    "def parsing(line,id):\n",
    "    linelen = len(line)\n",
    "    skip = False\n",
    "    \n",
    "    start = 0\n",
    "    while line[start] == ' ' or line[start] == '|':\n",
    "        start += 1\n",
    "    level = int((start-2)/3)\n",
    "    \n",
    "    if line[start+3] == 'r':\n",
    "        start += 6\n",
    "    else:\n",
    "        start += 4\n",
    "    end = start\n",
    "    \n",
    "    if line[start] == '(':\n",
    "        for i in range(start, linelen):\n",
    "            if line[i] == ')':\n",
    "                end = i\n",
    "                break\n",
    "        tag = line[start:end+1]\n",
    "        start = end\n",
    "        skip = True\n",
    "    else:\n",
    "        for i in range(start, linelen):\n",
    "            if line[i] =='*' or line[i] =='?' or line[i] ==' 'or line[i] == '\\n':\n",
    "                end = i\n",
    "                break\n",
    "        tag = line[start:end]\n",
    "        if line[end] == '*' or line[end] == '?':\n",
    "            start = end + 1\n",
    "        else:\n",
    "            start = end\n",
    "            \n",
    "    isLeaf=True\n",
    "    end = start\n",
    "    while line[end] ==' ':\n",
    "        end += 1\n",
    "    if line[end] == '[' or line[end]=='\\n':\n",
    "        isLeaf = False\n",
    "    data = yangdm(tag=tag,id=id,level=level,isLeaf=isLeaf, skip=skip)\n",
    "    return data"
   ]
  },
  {
   "cell_type": "code",
   "execution_count": 481,
   "metadata": {},
   "outputs": [],
   "source": [
    "# READ CFI / High-Level YANG Data Model tree and parse it into python yang dm class\n",
    "\n",
    "with open('DataModel/cfi_minus.txt','r') as f:\n",
    "    next(f)\n",
    "    id = 0\n",
    "    cfiFull = [] #Full data model\n",
    "    for line in f:\n",
    "        cfiFull.append(parsing(line,id))\n",
    "        id += 1\n",
    "        \n",
    "for i in range(len(cfiFull)-1,-1,-1):\n",
    "    for j in range(i-1,-1,-1):\n",
    "        if cfiFull[i].level > cfiFull[j].level:\n",
    "            cfiFull[i].setParent(cfiFull[j])\n",
    "            break\n",
    "\n",
    "for i in range(len(cfiFull)-1,-1,-1):\n",
    "    try:\n",
    "        while cfiFull[i].parent.skip:\n",
    "            cfiFull[i].setParent(cfiFull[i].parent.parent)\n",
    "    except:\n",
    "        pass\n",
    "\n",
    "for i in range(len(cfiFull)):\n",
    "    for j in range(len(cfiFull)):\n",
    "        try:\n",
    "            if cfiFull[i].id == cfiFull[j].parent.id and not cfiFull[j].skip:\n",
    "                cfiFull[i].setChild(cfiFull[j])\n",
    "        except:\n",
    "            pass\n",
    "                \n",
    "cfiLeaf = [] #For only the leaf data model\n",
    "\n",
    "leafID=0\n",
    "for x in cfiFull:\n",
    "    if x.isLeaf and not x.skip:\n",
    "        x.setLeafID(leafID)\n",
    "        cfiLeaf.append(x)\n",
    "        leafID+=1"
   ]
  },
  {
   "cell_type": "code",
   "execution_count": 482,
   "metadata": {},
   "outputs": [
    {
     "name": "stdout",
     "output_type": "stream",
     "text": [
      "i2nsf-cfi-policy\n"
     ]
    }
   ],
   "source": [
    "cfiNonLeaf = []\n",
    "for x in cfiFull:\n",
    "    if not x.isLeaf and not x.skip:\n",
    "        cfiNonLeaf.append(x)\n",
    "print(cfiNonLeaf[0].tag)"
   ]
  },
  {
   "cell_type": "code",
   "execution_count": 483,
   "metadata": {},
   "outputs": [
    {
     "name": "stdout",
     "output_type": "stream",
     "text": [
      "Tag    : i2nsf-cfi-policy\n",
      "ID     : 0\n",
      "isLeaf : False\n",
      "Level  : 0\n",
      "Skip   : False\n",
      "Child  : [<__main__.yangdm object at 0x00000262CBABB400>, <__main__.yangdm object at 0x00000262CBABB0A0>, <__main__.yangdm object at 0x00000262CBABBBB0>, <__main__.yangdm object at 0x00000262CBABB2E0>]\n",
      "None\n"
     ]
    }
   ],
   "source": [
    "# Remove the skippable line\n",
    "cfiNoSkip = []\n",
    "\n",
    "for x in cfiFull:\n",
    "    if not x.skip:\n",
    "        cfiNoSkip.append(x) #Remove the skipped data model (i.e., case- match-)\n",
    "\n",
    "print(cfiNoSkip[0].printDM())"
   ]
  },
  {
   "cell_type": "code",
   "execution_count": 484,
   "metadata": {},
   "outputs": [
    {
     "name": "stdout",
     "output_type": "stream",
     "text": [
      "Tag    : i2nsf-security-policy\n",
      "ID     : 0\n",
      "isLeaf : False\n",
      "Level  : 0\n",
      "Skip   : False\n",
      "Child  : [<__main__.yangdm object at 0x00000262CBA6F970>, <__main__.yangdm object at 0x00000262CBB27FA0>, <__main__.yangdm object at 0x00000262CBB27FD0>, <__main__.yangdm object at 0x00000262CB970E50>, <__main__.yangdm object at 0x00000262CB970B20>, <__main__.yangdm object at 0x00000262CB9704C0>, <__main__.yangdm object at 0x00000262CBA84430>]\n"
     ]
    }
   ],
   "source": [
    "# READ NFI / High-Level YANG Data Model tree and parse it into python yang dm class\n",
    "\n",
    "with open('DataModel/nfi.txt','r') as f:\n",
    "    next(f)\n",
    "    id = 0\n",
    "    nfiFull = [] #Full data model\n",
    "    for line in f:\n",
    "        nfiFull.append(parsing(line,id))\n",
    "        id += 1\n",
    "        \n",
    "for i in range(len(nfiFull)-1,-1,-1):\n",
    "    for j in range(i-1,-1,-1):\n",
    "        if nfiFull[i].level > nfiFull[j].level:\n",
    "            nfiFull[i].setParent(nfiFull[j])\n",
    "            break\n",
    "\n",
    "for i in range(len(nfiFull)-1,-1,-1):\n",
    "    try:\n",
    "        while nfiFull[i].parent.skip:\n",
    "            nfiFull[i].setParent(nfiFull[i].parent.parent)\n",
    "    except:\n",
    "        pass\n",
    "\n",
    "for i in range(len(nfiFull)):\n",
    "    for j in range(len(nfiFull)):\n",
    "        try:\n",
    "            if nfiFull[i].id == nfiFull[j].parent.id and not nfiFull[j].skip:\n",
    "                nfiFull[i].setChild(nfiFull[j])\n",
    "        except:\n",
    "            pass\n",
    "                \n",
    "nfiFull[0].printDM()\n",
    "nfiLeaf = [] #For only the leaf data model\n",
    "nfiLeafID = 0\n",
    "for x in nfiFull:\n",
    "    if x.isLeaf and not x.skip:\n",
    "        x.setLeafID(nfiLeafID)\n",
    "        nfiLeaf.append(x)\n",
    "        nfiLeafID+=1"
   ]
  },
  {
   "cell_type": "code",
   "execution_count": 485,
   "metadata": {},
   "outputs": [
    {
     "name": "stdout",
     "output_type": "stream",
     "text": [
      "i2nsf-security-policy\n"
     ]
    }
   ],
   "source": [
    "nfiNonLeaf = []\n",
    "for x in nfiFull:\n",
    "    if not x.isLeaf and not x.skip:\n",
    "        nfiNonLeaf.append(x)\n",
    "\n",
    "print(nfiNonLeaf[0].tag)"
   ]
  },
  {
   "cell_type": "code",
   "execution_count": 486,
   "metadata": {},
   "outputs": [
    {
     "name": "stdout",
     "output_type": "stream",
     "text": [
      "Tag    : i2nsf-security-policy\n",
      "ID     : 0\n",
      "isLeaf : False\n",
      "Level  : 0\n",
      "Skip   : False\n",
      "Child  : [<__main__.yangdm object at 0x00000262CBA6F970>, <__main__.yangdm object at 0x00000262CBB27FA0>, <__main__.yangdm object at 0x00000262CBB27FD0>, <__main__.yangdm object at 0x00000262CB970E50>, <__main__.yangdm object at 0x00000262CB970B20>, <__main__.yangdm object at 0x00000262CB9704C0>, <__main__.yangdm object at 0x00000262CBA84430>]\n",
      "None\n",
      "206\n"
     ]
    }
   ],
   "source": [
    "# Remove the skippable line\n",
    "nfiNoSkip = []\n",
    "\n",
    "for x in nfiFull:\n",
    "    if not x.skip:\n",
    "        nfiNoSkip.append(x) #Remove the skipped data model (i.e., case- match-)\n",
    "\n",
    "print(nfiNoSkip[0].printDM())\n",
    "print(len(nfiFull))"
   ]
  },
  {
   "cell_type": "code",
   "execution_count": 487,
   "metadata": {},
   "outputs": [],
   "source": [
    "#For Creating the Graph\n",
    "\n",
    "def hierarchy_pos(G, root, levels=None, width=1., height=5.):\n",
    "    '''If there is a cycle that is reachable from root, then this will see infinite recursion.\n",
    "       G: the graph\n",
    "       root: the root node\n",
    "       levels: a dictionary\n",
    "               key: level number (starting from 0)\n",
    "               value: number of nodes in this level\n",
    "       width: horizontal space allocated for drawing\n",
    "       height: vertical space allocated for drawing'''\n",
    "    TOTAL = \"total\"\n",
    "    CURRENT = \"current\"\n",
    "    def make_levels(levels, node=root, currentLevel=0, parent=None):\n",
    "        \"\"\"Compute the number of nodes for each level\n",
    "        \"\"\"\n",
    "        if not currentLevel in levels:\n",
    "            levels[currentLevel] = {TOTAL : 0, CURRENT : 0}\n",
    "        levels[currentLevel][TOTAL] += 1\n",
    "        neighbors = G.neighbors(node)\n",
    "        for neighbor in neighbors:\n",
    "            if not neighbor == parent:\n",
    "                levels =  make_levels(levels, neighbor, currentLevel + 1, node)\n",
    "        return levels\n",
    "\n",
    "    def make_pos(pos, node=root, currentLevel=0, parent=None, vert_loc=0):\n",
    "        dx = 1/levels[currentLevel][TOTAL]\n",
    "        left = dx/2\n",
    "        pos[node] = ((left + dx*levels[currentLevel][CURRENT])*width, vert_loc)\n",
    "        levels[currentLevel][CURRENT] += 1\n",
    "        neighbors = G.neighbors(node)\n",
    "        for neighbor in neighbors:\n",
    "            if not neighbor == parent:\n",
    "                pos = make_pos(pos, neighbor, currentLevel + 1, node, vert_loc-vert_gap)\n",
    "        return pos\n",
    "    if levels is None:\n",
    "        levels = make_levels({})\n",
    "    else:\n",
    "        levels = {l:{TOTAL: levels[l], CURRENT:0} for l in levels}\n",
    "    vert_gap = height / (max([l for l in levels])+1)\n",
    "    return make_pos({})"
   ]
  },
  {
   "cell_type": "code",
   "execution_count": 488,
   "metadata": {},
   "outputs": [],
   "source": [
    "#Labeling the nodes for the figures\n",
    "def make_annotations(pos, text, dmNoSkip, font_size=10, font_color='rgb(250,250,250)'):\n",
    "    L=len(pos)\n",
    "    #if len(text)!=L:\n",
    "        #raise ValueError('The lists pos and text must have the same len')\n",
    "    annotations = []\n",
    "    for k in range(len(dmNoSkip)):\n",
    "        annotations.append(\n",
    "            dict(\n",
    "                text=text[k], # or replace labels with a different list for the text within the circle\n",
    "                x=pos[dmNoSkip[k].id][0], y=pos[dmNoSkip[k].id][1],\n",
    "                xref='x1', yref='y1',\n",
    "                font=dict(color=font_color, size=font_size),\n",
    "                showarrow=False)\n",
    "        )\n",
    "    return annotations"
   ]
  },
  {
   "cell_type": "code",
   "execution_count": 489,
   "metadata": {},
   "outputs": [
    {
     "name": "stdout",
     "output_type": "stream",
     "text": [
      "69\n",
      "[(0, 1), (0, 2), (0, 3), (0, 4), (4, 5), (4, 6), (4, 7), (4, 10), (4, 63), (7, 8), (7, 9), (10, 11), (10, 21), (10, 26), (10, 28), (10, 30), (10, 32), (10, 36), (10, 61), (11, 12), (11, 13), (11, 14), (11, 15), (11, 16), (11, 19), (16, 17), (16, 18), (19, 20), (21, 22), (22, 23), (22, 24), (22, 25), (26, 27), (28, 29), (30, 31), (32, 33), (32, 34), (32, 35), (36, 37), (36, 47), (36, 49), (36, 51), (36, 58), (37, 38), (37, 39), (37, 40), (37, 46), (40, 41), (40, 42), (40, 43), (40, 44), (40, 45), (47, 48), (49, 50), (51, 52), (51, 55), (52, 53), (52, 54), (55, 56), (55, 57), (58, 59), (58, 60), (61, 62), (63, 64), (63, 67), (64, 65), (64, 66), (67, 68)]\n",
      "69\n"
     ]
    }
   ],
   "source": [
    "#Setting the CFI YANG Nodes and Edges for drawing the Figure\n",
    "\n",
    "nr_vertices = len(cfiNoSkip)\n",
    "v_label = [cfiNoSkip[i].id for i in range(len(cfiNoSkip))]\n",
    "\n",
    "Nodes = [(cfiNoSkip[i].id, {'label':cfiNoSkip[i].tag}) for i in range(len(cfiNoSkip))]\n",
    "E = [(cfiNoSkip[i].id, cfiNoSkip[i].child[j].id) for i in range(len(cfiNoSkip)) for j in range(len(cfiNoSkip[i].child))] # list of edges\n",
    "print(len(cfiNoSkip))\n",
    "G1=nx.DiGraph()\n",
    "G1.add_nodes_from(Nodes)\n",
    "G1.add_edges_from(E)\n",
    "print(G1.edges)\n",
    "position = hierarchy_pos(G1,0)\n",
    "print(len(position))\n",
    "\n",
    "Y = [position[cfiNoSkip[i].id][1] for i in range(len(cfiNoSkip))]\n",
    "M = max(Y)\n",
    "\n",
    "L = len(position)\n",
    "Xn = [position[cfiNoSkip[i].id][0] for i in range(len(cfiNoSkip))]\n",
    "Yn = [2*M+position[cfiNoSkip[i].id][1] for i in range(len(cfiNoSkip))]\n",
    "Xe = []\n",
    "Ye = []\n",
    "for edge in E:\n",
    "    Xe+=[position[edge[0]][0],position[edge[1]][0], None]\n",
    "    Ye+=[2*M+position[edge[0]][1],2*M+position[edge[1]][1], None]\n",
    "labels = [cfiNoSkip[i].tag for i in range(len(cfiNoSkip))]"
   ]
  },
  {
   "cell_type": "code",
   "execution_count": 490,
   "metadata": {},
   "outputs": [
    {
     "name": "stdout",
     "output_type": "stream",
     "text": [
      "69\n",
      "69\n"
     ]
    },
    {
     "data": {
      "application/vnd.plotly.v1+json": {
       "config": {
        "plotlyServerURL": "https://plot.ly"
       },
       "data": [
        {
         "hoverinfo": "none",
         "line": {
          "color": "rgb(0,255,0)",
          "width": 2
         },
         "mode": "lines",
         "type": "scatter",
         "x": [
          0.5,
          0.125,
          null,
          0.5,
          0.375,
          null,
          0.5,
          0.625,
          null,
          0.5,
          0.875,
          null,
          0.875,
          0.1,
          null,
          0.875,
          0.30000000000000004,
          null,
          0.875,
          0.5,
          null,
          0.875,
          0.7000000000000001,
          null,
          0.875,
          0.9,
          null,
          0.5,
          0.041666666666666664,
          null,
          0.5,
          0.125,
          null,
          0.7000000000000001,
          0.20833333333333331,
          null,
          0.7000000000000001,
          0.2916666666666667,
          null,
          0.7000000000000001,
          0.375,
          null,
          0.7000000000000001,
          0.4583333333333333,
          null,
          0.7000000000000001,
          0.5416666666666666,
          null,
          0.7000000000000001,
          0.6249999999999999,
          null,
          0.7000000000000001,
          0.7083333333333333,
          null,
          0.7000000000000001,
          0.7916666666666666,
          null,
          0.20833333333333331,
          0.022727272727272728,
          null,
          0.20833333333333331,
          0.06818181818181818,
          null,
          0.20833333333333331,
          0.11363636363636365,
          null,
          0.20833333333333331,
          0.1590909090909091,
          null,
          0.20833333333333331,
          0.20454545454545456,
          null,
          0.20833333333333331,
          0.25,
          null,
          0.20454545454545456,
          0.03125,
          null,
          0.20454545454545456,
          0.09375,
          null,
          0.25,
          0.15625,
          null,
          0.2916666666666667,
          0.2954545454545454,
          null,
          0.2954545454545454,
          0.21875,
          null,
          0.2954545454545454,
          0.28125,
          null,
          0.2954545454545454,
          0.34375,
          null,
          0.375,
          0.3409090909090909,
          null,
          0.4583333333333333,
          0.38636363636363635,
          null,
          0.5416666666666666,
          0.4318181818181818,
          null,
          0.6249999999999999,
          0.4772727272727273,
          null,
          0.6249999999999999,
          0.5227272727272727,
          null,
          0.6249999999999999,
          0.5681818181818181,
          null,
          0.7083333333333333,
          0.6136363636363636,
          null,
          0.7083333333333333,
          0.6590909090909091,
          null,
          0.7083333333333333,
          0.7045454545454546,
          null,
          0.7083333333333333,
          0.75,
          null,
          0.7083333333333333,
          0.7954545454545454,
          null,
          0.6136363636363636,
          0.40625,
          null,
          0.6136363636363636,
          0.46875,
          null,
          0.6136363636363636,
          0.53125,
          null,
          0.6136363636363636,
          0.59375,
          null,
          0.53125,
          0.05555555555555555,
          null,
          0.53125,
          0.16666666666666666,
          null,
          0.53125,
          0.2777777777777778,
          null,
          0.53125,
          0.38888888888888884,
          null,
          0.53125,
          0.5,
          null,
          0.6590909090909091,
          0.65625,
          null,
          0.7045454545454546,
          0.71875,
          null,
          0.75,
          0.78125,
          null,
          0.75,
          0.84375,
          null,
          0.78125,
          0.6111111111111112,
          null,
          0.78125,
          0.7222222222222222,
          null,
          0.84375,
          0.8333333333333333,
          null,
          0.84375,
          0.9444444444444444,
          null,
          0.7954545454545454,
          0.90625,
          null,
          0.7954545454545454,
          0.96875,
          null,
          0.7916666666666666,
          0.8409090909090909,
          null,
          0.9,
          0.8749999999999999,
          null,
          0.9,
          0.9583333333333333,
          null,
          0.8749999999999999,
          0.8863636363636364,
          null,
          0.8749999999999999,
          0.9318181818181819,
          null,
          0.9583333333333333,
          0.9772727272727273,
          null
         ],
         "y": [
          0,
          -0.7142857142857143,
          null,
          0,
          -0.7142857142857143,
          null,
          0,
          -0.7142857142857143,
          null,
          0,
          -0.7142857142857143,
          null,
          -0.7142857142857143,
          -1.4285714285714286,
          null,
          -0.7142857142857143,
          -1.4285714285714286,
          null,
          -0.7142857142857143,
          -1.4285714285714286,
          null,
          -0.7142857142857143,
          -1.4285714285714286,
          null,
          -0.7142857142857143,
          -1.4285714285714286,
          null,
          -1.4285714285714286,
          -2.142857142857143,
          null,
          -1.4285714285714286,
          -2.142857142857143,
          null,
          -1.4285714285714286,
          -2.142857142857143,
          null,
          -1.4285714285714286,
          -2.142857142857143,
          null,
          -1.4285714285714286,
          -2.142857142857143,
          null,
          -1.4285714285714286,
          -2.142857142857143,
          null,
          -1.4285714285714286,
          -2.142857142857143,
          null,
          -1.4285714285714286,
          -2.142857142857143,
          null,
          -1.4285714285714286,
          -2.142857142857143,
          null,
          -1.4285714285714286,
          -2.142857142857143,
          null,
          -2.142857142857143,
          -2.857142857142857,
          null,
          -2.142857142857143,
          -2.857142857142857,
          null,
          -2.142857142857143,
          -2.857142857142857,
          null,
          -2.142857142857143,
          -2.857142857142857,
          null,
          -2.142857142857143,
          -2.857142857142857,
          null,
          -2.142857142857143,
          -2.857142857142857,
          null,
          -2.857142857142857,
          -3.5714285714285716,
          null,
          -2.857142857142857,
          -3.5714285714285716,
          null,
          -2.857142857142857,
          -3.5714285714285716,
          null,
          -2.142857142857143,
          -2.857142857142857,
          null,
          -2.857142857142857,
          -3.5714285714285716,
          null,
          -2.857142857142857,
          -3.5714285714285716,
          null,
          -2.857142857142857,
          -3.5714285714285716,
          null,
          -2.142857142857143,
          -2.857142857142857,
          null,
          -2.142857142857143,
          -2.857142857142857,
          null,
          -2.142857142857143,
          -2.857142857142857,
          null,
          -2.142857142857143,
          -2.857142857142857,
          null,
          -2.142857142857143,
          -2.857142857142857,
          null,
          -2.142857142857143,
          -2.857142857142857,
          null,
          -2.142857142857143,
          -2.857142857142857,
          null,
          -2.142857142857143,
          -2.857142857142857,
          null,
          -2.142857142857143,
          -2.857142857142857,
          null,
          -2.142857142857143,
          -2.857142857142857,
          null,
          -2.142857142857143,
          -2.857142857142857,
          null,
          -2.857142857142857,
          -3.5714285714285716,
          null,
          -2.857142857142857,
          -3.5714285714285716,
          null,
          -2.857142857142857,
          -3.5714285714285716,
          null,
          -2.857142857142857,
          -3.5714285714285716,
          null,
          -3.5714285714285716,
          -4.285714285714286,
          null,
          -3.5714285714285716,
          -4.285714285714286,
          null,
          -3.5714285714285716,
          -4.285714285714286,
          null,
          -3.5714285714285716,
          -4.285714285714286,
          null,
          -3.5714285714285716,
          -4.285714285714286,
          null,
          -2.857142857142857,
          -3.5714285714285716,
          null,
          -2.857142857142857,
          -3.5714285714285716,
          null,
          -2.857142857142857,
          -3.5714285714285716,
          null,
          -2.857142857142857,
          -3.5714285714285716,
          null,
          -3.5714285714285716,
          -4.285714285714286,
          null,
          -3.5714285714285716,
          -4.285714285714286,
          null,
          -3.5714285714285716,
          -4.285714285714286,
          null,
          -3.5714285714285716,
          -4.285714285714286,
          null,
          -2.857142857142857,
          -3.5714285714285716,
          null,
          -2.857142857142857,
          -3.5714285714285716,
          null,
          -2.142857142857143,
          -2.857142857142857,
          null,
          -1.4285714285714286,
          -2.142857142857143,
          null,
          -1.4285714285714286,
          -2.142857142857143,
          null,
          -2.142857142857143,
          -2.857142857142857,
          null,
          -2.142857142857143,
          -2.857142857142857,
          null,
          -2.142857142857143,
          -2.857142857142857,
          null
         ]
        },
        {
         "hoverinfo": "text",
         "marker": {
          "color": "rgb(0,0,0)",
          "line": {
           "color": "rgb(250,250,250)",
           "width": 1
          },
          "size": 20,
          "symbol": "circle"
         },
         "mode": "markers",
         "name": "bla",
         "opacity": 1,
         "text": [
          "i2nsf-cfi-policy",
          "name",
          "language",
          "resolution-strategy",
          "rules",
          "name",
          "priority",
          "event",
          "system-event",
          "system-alarm",
          "condition",
          "firewall",
          "source",
          "destination",
          "dscp",
          "transport-layer-protocol",
          "range-port-number",
          "start-port-number",
          "end-port-number",
          "icmp",
          "message",
          "ddos",
          "rate-limit",
          "packet-rate-threshold",
          "byte-rate-threshold",
          "flow-rate-threshold",
          "anti-virus",
          "exception-files",
          "payload",
          "content",
          "url-category",
          "url-name",
          "voice",
          "source-id",
          "destination-id",
          "user-agent",
          "context",
          "time",
          "start-date-time",
          "end-date-time",
          "period",
          "start-time",
          "end-time",
          "day",
          "date",
          "month",
          "frequency",
          "application",
          "protocol",
          "device-type",
          "device",
          "users",
          "user",
          "id",
          "name",
          "group",
          "id",
          "name",
          "geographic-location",
          "source",
          "destination",
          "threat-feed",
          "name",
          "action",
          "primary-action",
          "ingress-action",
          "egress-action",
          "secondary-action",
          "log-action"
         ],
         "type": "scatter",
         "x": [
          0.5,
          0.125,
          0.375,
          0.625,
          0.875,
          0.1,
          0.30000000000000004,
          0.5,
          0.041666666666666664,
          0.125,
          0.7000000000000001,
          0.20833333333333331,
          0.022727272727272728,
          0.06818181818181818,
          0.11363636363636365,
          0.1590909090909091,
          0.20454545454545456,
          0.03125,
          0.09375,
          0.25,
          0.15625,
          0.2916666666666667,
          0.2954545454545454,
          0.21875,
          0.28125,
          0.34375,
          0.375,
          0.3409090909090909,
          0.4583333333333333,
          0.38636363636363635,
          0.5416666666666666,
          0.4318181818181818,
          0.6249999999999999,
          0.4772727272727273,
          0.5227272727272727,
          0.5681818181818181,
          0.7083333333333333,
          0.6136363636363636,
          0.40625,
          0.46875,
          0.53125,
          0.05555555555555555,
          0.16666666666666666,
          0.2777777777777778,
          0.38888888888888884,
          0.5,
          0.59375,
          0.6590909090909091,
          0.65625,
          0.7045454545454546,
          0.71875,
          0.75,
          0.78125,
          0.6111111111111112,
          0.7222222222222222,
          0.84375,
          0.8333333333333333,
          0.9444444444444444,
          0.7954545454545454,
          0.90625,
          0.96875,
          0.7916666666666666,
          0.8409090909090909,
          0.9,
          0.8749999999999999,
          0.8863636363636364,
          0.9318181818181819,
          0.9583333333333333,
          0.9772727272727273
         ],
         "y": [
          0,
          -0.7142857142857143,
          -0.7142857142857143,
          -0.7142857142857143,
          -0.7142857142857143,
          -1.4285714285714286,
          -1.4285714285714286,
          -1.4285714285714286,
          -2.142857142857143,
          -2.142857142857143,
          -1.4285714285714286,
          -2.142857142857143,
          -2.857142857142857,
          -2.857142857142857,
          -2.857142857142857,
          -2.857142857142857,
          -2.857142857142857,
          -3.5714285714285716,
          -3.5714285714285716,
          -2.857142857142857,
          -3.5714285714285716,
          -2.142857142857143,
          -2.857142857142857,
          -3.5714285714285716,
          -3.5714285714285716,
          -3.5714285714285716,
          -2.142857142857143,
          -2.857142857142857,
          -2.142857142857143,
          -2.857142857142857,
          -2.142857142857143,
          -2.857142857142857,
          -2.142857142857143,
          -2.857142857142857,
          -2.857142857142857,
          -2.857142857142857,
          -2.142857142857143,
          -2.857142857142857,
          -3.5714285714285716,
          -3.5714285714285716,
          -3.5714285714285716,
          -4.285714285714286,
          -4.285714285714286,
          -4.285714285714286,
          -4.285714285714286,
          -4.285714285714286,
          -3.5714285714285716,
          -2.857142857142857,
          -3.5714285714285716,
          -2.857142857142857,
          -3.5714285714285716,
          -2.857142857142857,
          -3.5714285714285716,
          -4.285714285714286,
          -4.285714285714286,
          -3.5714285714285716,
          -4.285714285714286,
          -4.285714285714286,
          -2.857142857142857,
          -3.5714285714285716,
          -3.5714285714285716,
          -2.142857142857143,
          -2.857142857142857,
          -1.4285714285714286,
          -2.142857142857143,
          -2.857142857142857,
          -2.857142857142857,
          -2.142857142857143,
          -2.857142857142857
         ]
        }
       ],
       "layout": {
        "annotations": [
         {
          "font": {
           "color": "rgb(250,250,250)",
           "size": 10
          },
          "showarrow": false,
          "text": "0",
          "x": 0.5,
          "xref": "x",
          "y": 0,
          "yref": "y"
         },
         {
          "font": {
           "color": "rgb(250,250,250)",
           "size": 10
          },
          "showarrow": false,
          "text": "1",
          "x": 0.125,
          "xref": "x",
          "y": -0.7142857142857143,
          "yref": "y"
         },
         {
          "font": {
           "color": "rgb(250,250,250)",
           "size": 10
          },
          "showarrow": false,
          "text": "2",
          "x": 0.375,
          "xref": "x",
          "y": -0.7142857142857143,
          "yref": "y"
         },
         {
          "font": {
           "color": "rgb(250,250,250)",
           "size": 10
          },
          "showarrow": false,
          "text": "3",
          "x": 0.625,
          "xref": "x",
          "y": -0.7142857142857143,
          "yref": "y"
         },
         {
          "font": {
           "color": "rgb(250,250,250)",
           "size": 10
          },
          "showarrow": false,
          "text": "4",
          "x": 0.875,
          "xref": "x",
          "y": -0.7142857142857143,
          "yref": "y"
         },
         {
          "font": {
           "color": "rgb(250,250,250)",
           "size": 10
          },
          "showarrow": false,
          "text": "5",
          "x": 0.1,
          "xref": "x",
          "y": -1.4285714285714286,
          "yref": "y"
         },
         {
          "font": {
           "color": "rgb(250,250,250)",
           "size": 10
          },
          "showarrow": false,
          "text": "6",
          "x": 0.30000000000000004,
          "xref": "x",
          "y": -1.4285714285714286,
          "yref": "y"
         },
         {
          "font": {
           "color": "rgb(250,250,250)",
           "size": 10
          },
          "showarrow": false,
          "text": "7",
          "x": 0.5,
          "xref": "x",
          "y": -1.4285714285714286,
          "yref": "y"
         },
         {
          "font": {
           "color": "rgb(250,250,250)",
           "size": 10
          },
          "showarrow": false,
          "text": "8",
          "x": 0.041666666666666664,
          "xref": "x",
          "y": -2.142857142857143,
          "yref": "y"
         },
         {
          "font": {
           "color": "rgb(250,250,250)",
           "size": 10
          },
          "showarrow": false,
          "text": "9",
          "x": 0.125,
          "xref": "x",
          "y": -2.142857142857143,
          "yref": "y"
         },
         {
          "font": {
           "color": "rgb(250,250,250)",
           "size": 10
          },
          "showarrow": false,
          "text": "10",
          "x": 0.7000000000000001,
          "xref": "x",
          "y": -1.4285714285714286,
          "yref": "y"
         },
         {
          "font": {
           "color": "rgb(250,250,250)",
           "size": 10
          },
          "showarrow": false,
          "text": "11",
          "x": 0.20833333333333331,
          "xref": "x",
          "y": -2.142857142857143,
          "yref": "y"
         },
         {
          "font": {
           "color": "rgb(250,250,250)",
           "size": 10
          },
          "showarrow": false,
          "text": "12",
          "x": 0.022727272727272728,
          "xref": "x",
          "y": -2.857142857142857,
          "yref": "y"
         },
         {
          "font": {
           "color": "rgb(250,250,250)",
           "size": 10
          },
          "showarrow": false,
          "text": "13",
          "x": 0.06818181818181818,
          "xref": "x",
          "y": -2.857142857142857,
          "yref": "y"
         },
         {
          "font": {
           "color": "rgb(250,250,250)",
           "size": 10
          },
          "showarrow": false,
          "text": "14",
          "x": 0.11363636363636365,
          "xref": "x",
          "y": -2.857142857142857,
          "yref": "y"
         },
         {
          "font": {
           "color": "rgb(250,250,250)",
           "size": 10
          },
          "showarrow": false,
          "text": "15",
          "x": 0.1590909090909091,
          "xref": "x",
          "y": -2.857142857142857,
          "yref": "y"
         },
         {
          "font": {
           "color": "rgb(250,250,250)",
           "size": 10
          },
          "showarrow": false,
          "text": "16",
          "x": 0.20454545454545456,
          "xref": "x",
          "y": -2.857142857142857,
          "yref": "y"
         },
         {
          "font": {
           "color": "rgb(250,250,250)",
           "size": 10
          },
          "showarrow": false,
          "text": "17",
          "x": 0.03125,
          "xref": "x",
          "y": -3.5714285714285716,
          "yref": "y"
         },
         {
          "font": {
           "color": "rgb(250,250,250)",
           "size": 10
          },
          "showarrow": false,
          "text": "18",
          "x": 0.09375,
          "xref": "x",
          "y": -3.5714285714285716,
          "yref": "y"
         },
         {
          "font": {
           "color": "rgb(250,250,250)",
           "size": 10
          },
          "showarrow": false,
          "text": "19",
          "x": 0.25,
          "xref": "x",
          "y": -2.857142857142857,
          "yref": "y"
         },
         {
          "font": {
           "color": "rgb(250,250,250)",
           "size": 10
          },
          "showarrow": false,
          "text": "20",
          "x": 0.15625,
          "xref": "x",
          "y": -3.5714285714285716,
          "yref": "y"
         },
         {
          "font": {
           "color": "rgb(250,250,250)",
           "size": 10
          },
          "showarrow": false,
          "text": "21",
          "x": 0.2916666666666667,
          "xref": "x",
          "y": -2.142857142857143,
          "yref": "y"
         },
         {
          "font": {
           "color": "rgb(250,250,250)",
           "size": 10
          },
          "showarrow": false,
          "text": "22",
          "x": 0.2954545454545454,
          "xref": "x",
          "y": -2.857142857142857,
          "yref": "y"
         },
         {
          "font": {
           "color": "rgb(250,250,250)",
           "size": 10
          },
          "showarrow": false,
          "text": "23",
          "x": 0.21875,
          "xref": "x",
          "y": -3.5714285714285716,
          "yref": "y"
         },
         {
          "font": {
           "color": "rgb(250,250,250)",
           "size": 10
          },
          "showarrow": false,
          "text": "24",
          "x": 0.28125,
          "xref": "x",
          "y": -3.5714285714285716,
          "yref": "y"
         },
         {
          "font": {
           "color": "rgb(250,250,250)",
           "size": 10
          },
          "showarrow": false,
          "text": "25",
          "x": 0.34375,
          "xref": "x",
          "y": -3.5714285714285716,
          "yref": "y"
         },
         {
          "font": {
           "color": "rgb(250,250,250)",
           "size": 10
          },
          "showarrow": false,
          "text": "26",
          "x": 0.375,
          "xref": "x",
          "y": -2.142857142857143,
          "yref": "y"
         },
         {
          "font": {
           "color": "rgb(250,250,250)",
           "size": 10
          },
          "showarrow": false,
          "text": "27",
          "x": 0.3409090909090909,
          "xref": "x",
          "y": -2.857142857142857,
          "yref": "y"
         },
         {
          "font": {
           "color": "rgb(250,250,250)",
           "size": 10
          },
          "showarrow": false,
          "text": "28",
          "x": 0.4583333333333333,
          "xref": "x",
          "y": -2.142857142857143,
          "yref": "y"
         },
         {
          "font": {
           "color": "rgb(250,250,250)",
           "size": 10
          },
          "showarrow": false,
          "text": "29",
          "x": 0.38636363636363635,
          "xref": "x",
          "y": -2.857142857142857,
          "yref": "y"
         },
         {
          "font": {
           "color": "rgb(250,250,250)",
           "size": 10
          },
          "showarrow": false,
          "text": "30",
          "x": 0.5416666666666666,
          "xref": "x",
          "y": -2.142857142857143,
          "yref": "y"
         },
         {
          "font": {
           "color": "rgb(250,250,250)",
           "size": 10
          },
          "showarrow": false,
          "text": "31",
          "x": 0.4318181818181818,
          "xref": "x",
          "y": -2.857142857142857,
          "yref": "y"
         },
         {
          "font": {
           "color": "rgb(250,250,250)",
           "size": 10
          },
          "showarrow": false,
          "text": "32",
          "x": 0.6249999999999999,
          "xref": "x",
          "y": -2.142857142857143,
          "yref": "y"
         },
         {
          "font": {
           "color": "rgb(250,250,250)",
           "size": 10
          },
          "showarrow": false,
          "text": "33",
          "x": 0.4772727272727273,
          "xref": "x",
          "y": -2.857142857142857,
          "yref": "y"
         },
         {
          "font": {
           "color": "rgb(250,250,250)",
           "size": 10
          },
          "showarrow": false,
          "text": "34",
          "x": 0.5227272727272727,
          "xref": "x",
          "y": -2.857142857142857,
          "yref": "y"
         },
         {
          "font": {
           "color": "rgb(250,250,250)",
           "size": 10
          },
          "showarrow": false,
          "text": "35",
          "x": 0.5681818181818181,
          "xref": "x",
          "y": -2.857142857142857,
          "yref": "y"
         },
         {
          "font": {
           "color": "rgb(250,250,250)",
           "size": 10
          },
          "showarrow": false,
          "text": "36",
          "x": 0.7083333333333333,
          "xref": "x",
          "y": -2.142857142857143,
          "yref": "y"
         },
         {
          "font": {
           "color": "rgb(250,250,250)",
           "size": 10
          },
          "showarrow": false,
          "text": "37",
          "x": 0.6136363636363636,
          "xref": "x",
          "y": -2.857142857142857,
          "yref": "y"
         },
         {
          "font": {
           "color": "rgb(250,250,250)",
           "size": 10
          },
          "showarrow": false,
          "text": "38",
          "x": 0.40625,
          "xref": "x",
          "y": -3.5714285714285716,
          "yref": "y"
         },
         {
          "font": {
           "color": "rgb(250,250,250)",
           "size": 10
          },
          "showarrow": false,
          "text": "39",
          "x": 0.46875,
          "xref": "x",
          "y": -3.5714285714285716,
          "yref": "y"
         },
         {
          "font": {
           "color": "rgb(250,250,250)",
           "size": 10
          },
          "showarrow": false,
          "text": "40",
          "x": 0.53125,
          "xref": "x",
          "y": -3.5714285714285716,
          "yref": "y"
         },
         {
          "font": {
           "color": "rgb(250,250,250)",
           "size": 10
          },
          "showarrow": false,
          "text": "41",
          "x": 0.05555555555555555,
          "xref": "x",
          "y": -4.285714285714286,
          "yref": "y"
         },
         {
          "font": {
           "color": "rgb(250,250,250)",
           "size": 10
          },
          "showarrow": false,
          "text": "42",
          "x": 0.16666666666666666,
          "xref": "x",
          "y": -4.285714285714286,
          "yref": "y"
         },
         {
          "font": {
           "color": "rgb(250,250,250)",
           "size": 10
          },
          "showarrow": false,
          "text": "43",
          "x": 0.2777777777777778,
          "xref": "x",
          "y": -4.285714285714286,
          "yref": "y"
         },
         {
          "font": {
           "color": "rgb(250,250,250)",
           "size": 10
          },
          "showarrow": false,
          "text": "44",
          "x": 0.38888888888888884,
          "xref": "x",
          "y": -4.285714285714286,
          "yref": "y"
         },
         {
          "font": {
           "color": "rgb(250,250,250)",
           "size": 10
          },
          "showarrow": false,
          "text": "45",
          "x": 0.5,
          "xref": "x",
          "y": -4.285714285714286,
          "yref": "y"
         },
         {
          "font": {
           "color": "rgb(250,250,250)",
           "size": 10
          },
          "showarrow": false,
          "text": "46",
          "x": 0.59375,
          "xref": "x",
          "y": -3.5714285714285716,
          "yref": "y"
         },
         {
          "font": {
           "color": "rgb(250,250,250)",
           "size": 10
          },
          "showarrow": false,
          "text": "47",
          "x": 0.6590909090909091,
          "xref": "x",
          "y": -2.857142857142857,
          "yref": "y"
         },
         {
          "font": {
           "color": "rgb(250,250,250)",
           "size": 10
          },
          "showarrow": false,
          "text": "48",
          "x": 0.65625,
          "xref": "x",
          "y": -3.5714285714285716,
          "yref": "y"
         },
         {
          "font": {
           "color": "rgb(250,250,250)",
           "size": 10
          },
          "showarrow": false,
          "text": "49",
          "x": 0.7045454545454546,
          "xref": "x",
          "y": -2.857142857142857,
          "yref": "y"
         },
         {
          "font": {
           "color": "rgb(250,250,250)",
           "size": 10
          },
          "showarrow": false,
          "text": "50",
          "x": 0.71875,
          "xref": "x",
          "y": -3.5714285714285716,
          "yref": "y"
         },
         {
          "font": {
           "color": "rgb(250,250,250)",
           "size": 10
          },
          "showarrow": false,
          "text": "51",
          "x": 0.75,
          "xref": "x",
          "y": -2.857142857142857,
          "yref": "y"
         },
         {
          "font": {
           "color": "rgb(250,250,250)",
           "size": 10
          },
          "showarrow": false,
          "text": "52",
          "x": 0.78125,
          "xref": "x",
          "y": -3.5714285714285716,
          "yref": "y"
         },
         {
          "font": {
           "color": "rgb(250,250,250)",
           "size": 10
          },
          "showarrow": false,
          "text": "53",
          "x": 0.6111111111111112,
          "xref": "x",
          "y": -4.285714285714286,
          "yref": "y"
         },
         {
          "font": {
           "color": "rgb(250,250,250)",
           "size": 10
          },
          "showarrow": false,
          "text": "54",
          "x": 0.7222222222222222,
          "xref": "x",
          "y": -4.285714285714286,
          "yref": "y"
         },
         {
          "font": {
           "color": "rgb(250,250,250)",
           "size": 10
          },
          "showarrow": false,
          "text": "55",
          "x": 0.84375,
          "xref": "x",
          "y": -3.5714285714285716,
          "yref": "y"
         },
         {
          "font": {
           "color": "rgb(250,250,250)",
           "size": 10
          },
          "showarrow": false,
          "text": "56",
          "x": 0.8333333333333333,
          "xref": "x",
          "y": -4.285714285714286,
          "yref": "y"
         },
         {
          "font": {
           "color": "rgb(250,250,250)",
           "size": 10
          },
          "showarrow": false,
          "text": "57",
          "x": 0.9444444444444444,
          "xref": "x",
          "y": -4.285714285714286,
          "yref": "y"
         },
         {
          "font": {
           "color": "rgb(250,250,250)",
           "size": 10
          },
          "showarrow": false,
          "text": "58",
          "x": 0.7954545454545454,
          "xref": "x",
          "y": -2.857142857142857,
          "yref": "y"
         },
         {
          "font": {
           "color": "rgb(250,250,250)",
           "size": 10
          },
          "showarrow": false,
          "text": "59",
          "x": 0.90625,
          "xref": "x",
          "y": -3.5714285714285716,
          "yref": "y"
         },
         {
          "font": {
           "color": "rgb(250,250,250)",
           "size": 10
          },
          "showarrow": false,
          "text": "60",
          "x": 0.96875,
          "xref": "x",
          "y": -3.5714285714285716,
          "yref": "y"
         },
         {
          "font": {
           "color": "rgb(250,250,250)",
           "size": 10
          },
          "showarrow": false,
          "text": "61",
          "x": 0.7916666666666666,
          "xref": "x",
          "y": -2.142857142857143,
          "yref": "y"
         },
         {
          "font": {
           "color": "rgb(250,250,250)",
           "size": 10
          },
          "showarrow": false,
          "text": "62",
          "x": 0.8409090909090909,
          "xref": "x",
          "y": -2.857142857142857,
          "yref": "y"
         },
         {
          "font": {
           "color": "rgb(250,250,250)",
           "size": 10
          },
          "showarrow": false,
          "text": "63",
          "x": 0.9,
          "xref": "x",
          "y": -1.4285714285714286,
          "yref": "y"
         },
         {
          "font": {
           "color": "rgb(250,250,250)",
           "size": 10
          },
          "showarrow": false,
          "text": "64",
          "x": 0.8749999999999999,
          "xref": "x",
          "y": -2.142857142857143,
          "yref": "y"
         },
         {
          "font": {
           "color": "rgb(250,250,250)",
           "size": 10
          },
          "showarrow": false,
          "text": "65",
          "x": 0.8863636363636364,
          "xref": "x",
          "y": -2.857142857142857,
          "yref": "y"
         },
         {
          "font": {
           "color": "rgb(250,250,250)",
           "size": 10
          },
          "showarrow": false,
          "text": "66",
          "x": 0.9318181818181819,
          "xref": "x",
          "y": -2.857142857142857,
          "yref": "y"
         },
         {
          "font": {
           "color": "rgb(250,250,250)",
           "size": 10
          },
          "showarrow": false,
          "text": "67",
          "x": 0.9583333333333333,
          "xref": "x",
          "y": -2.142857142857143,
          "yref": "y"
         },
         {
          "font": {
           "color": "rgb(250,250,250)",
           "size": 10
          },
          "showarrow": false,
          "text": "68",
          "x": 0.9772727272727273,
          "xref": "x",
          "y": -2.857142857142857,
          "yref": "y"
         }
        ],
        "font": {
         "size": 10
        },
        "hovermode": "closest",
        "margin": {
         "b": 85,
         "l": 40,
         "r": 40,
         "t": 100
        },
        "plot_bgcolor": "rgb(250,250,250)",
        "showlegend": false,
        "template": {
         "data": {
          "bar": [
           {
            "error_x": {
             "color": "#2a3f5f"
            },
            "error_y": {
             "color": "#2a3f5f"
            },
            "marker": {
             "line": {
              "color": "#E5ECF6",
              "width": 0.5
             },
             "pattern": {
              "fillmode": "overlay",
              "size": 10,
              "solidity": 0.2
             }
            },
            "type": "bar"
           }
          ],
          "barpolar": [
           {
            "marker": {
             "line": {
              "color": "#E5ECF6",
              "width": 0.5
             },
             "pattern": {
              "fillmode": "overlay",
              "size": 10,
              "solidity": 0.2
             }
            },
            "type": "barpolar"
           }
          ],
          "carpet": [
           {
            "aaxis": {
             "endlinecolor": "#2a3f5f",
             "gridcolor": "white",
             "linecolor": "white",
             "minorgridcolor": "white",
             "startlinecolor": "#2a3f5f"
            },
            "baxis": {
             "endlinecolor": "#2a3f5f",
             "gridcolor": "white",
             "linecolor": "white",
             "minorgridcolor": "white",
             "startlinecolor": "#2a3f5f"
            },
            "type": "carpet"
           }
          ],
          "choropleth": [
           {
            "colorbar": {
             "outlinewidth": 0,
             "ticks": ""
            },
            "type": "choropleth"
           }
          ],
          "contour": [
           {
            "colorbar": {
             "outlinewidth": 0,
             "ticks": ""
            },
            "colorscale": [
             [
              0,
              "#0d0887"
             ],
             [
              0.1111111111111111,
              "#46039f"
             ],
             [
              0.2222222222222222,
              "#7201a8"
             ],
             [
              0.3333333333333333,
              "#9c179e"
             ],
             [
              0.4444444444444444,
              "#bd3786"
             ],
             [
              0.5555555555555556,
              "#d8576b"
             ],
             [
              0.6666666666666666,
              "#ed7953"
             ],
             [
              0.7777777777777778,
              "#fb9f3a"
             ],
             [
              0.8888888888888888,
              "#fdca26"
             ],
             [
              1,
              "#f0f921"
             ]
            ],
            "type": "contour"
           }
          ],
          "contourcarpet": [
           {
            "colorbar": {
             "outlinewidth": 0,
             "ticks": ""
            },
            "type": "contourcarpet"
           }
          ],
          "heatmap": [
           {
            "colorbar": {
             "outlinewidth": 0,
             "ticks": ""
            },
            "colorscale": [
             [
              0,
              "#0d0887"
             ],
             [
              0.1111111111111111,
              "#46039f"
             ],
             [
              0.2222222222222222,
              "#7201a8"
             ],
             [
              0.3333333333333333,
              "#9c179e"
             ],
             [
              0.4444444444444444,
              "#bd3786"
             ],
             [
              0.5555555555555556,
              "#d8576b"
             ],
             [
              0.6666666666666666,
              "#ed7953"
             ],
             [
              0.7777777777777778,
              "#fb9f3a"
             ],
             [
              0.8888888888888888,
              "#fdca26"
             ],
             [
              1,
              "#f0f921"
             ]
            ],
            "type": "heatmap"
           }
          ],
          "heatmapgl": [
           {
            "colorbar": {
             "outlinewidth": 0,
             "ticks": ""
            },
            "colorscale": [
             [
              0,
              "#0d0887"
             ],
             [
              0.1111111111111111,
              "#46039f"
             ],
             [
              0.2222222222222222,
              "#7201a8"
             ],
             [
              0.3333333333333333,
              "#9c179e"
             ],
             [
              0.4444444444444444,
              "#bd3786"
             ],
             [
              0.5555555555555556,
              "#d8576b"
             ],
             [
              0.6666666666666666,
              "#ed7953"
             ],
             [
              0.7777777777777778,
              "#fb9f3a"
             ],
             [
              0.8888888888888888,
              "#fdca26"
             ],
             [
              1,
              "#f0f921"
             ]
            ],
            "type": "heatmapgl"
           }
          ],
          "histogram": [
           {
            "marker": {
             "pattern": {
              "fillmode": "overlay",
              "size": 10,
              "solidity": 0.2
             }
            },
            "type": "histogram"
           }
          ],
          "histogram2d": [
           {
            "colorbar": {
             "outlinewidth": 0,
             "ticks": ""
            },
            "colorscale": [
             [
              0,
              "#0d0887"
             ],
             [
              0.1111111111111111,
              "#46039f"
             ],
             [
              0.2222222222222222,
              "#7201a8"
             ],
             [
              0.3333333333333333,
              "#9c179e"
             ],
             [
              0.4444444444444444,
              "#bd3786"
             ],
             [
              0.5555555555555556,
              "#d8576b"
             ],
             [
              0.6666666666666666,
              "#ed7953"
             ],
             [
              0.7777777777777778,
              "#fb9f3a"
             ],
             [
              0.8888888888888888,
              "#fdca26"
             ],
             [
              1,
              "#f0f921"
             ]
            ],
            "type": "histogram2d"
           }
          ],
          "histogram2dcontour": [
           {
            "colorbar": {
             "outlinewidth": 0,
             "ticks": ""
            },
            "colorscale": [
             [
              0,
              "#0d0887"
             ],
             [
              0.1111111111111111,
              "#46039f"
             ],
             [
              0.2222222222222222,
              "#7201a8"
             ],
             [
              0.3333333333333333,
              "#9c179e"
             ],
             [
              0.4444444444444444,
              "#bd3786"
             ],
             [
              0.5555555555555556,
              "#d8576b"
             ],
             [
              0.6666666666666666,
              "#ed7953"
             ],
             [
              0.7777777777777778,
              "#fb9f3a"
             ],
             [
              0.8888888888888888,
              "#fdca26"
             ],
             [
              1,
              "#f0f921"
             ]
            ],
            "type": "histogram2dcontour"
           }
          ],
          "mesh3d": [
           {
            "colorbar": {
             "outlinewidth": 0,
             "ticks": ""
            },
            "type": "mesh3d"
           }
          ],
          "parcoords": [
           {
            "line": {
             "colorbar": {
              "outlinewidth": 0,
              "ticks": ""
             }
            },
            "type": "parcoords"
           }
          ],
          "pie": [
           {
            "automargin": true,
            "type": "pie"
           }
          ],
          "scatter": [
           {
            "fillpattern": {
             "fillmode": "overlay",
             "size": 10,
             "solidity": 0.2
            },
            "type": "scatter"
           }
          ],
          "scatter3d": [
           {
            "line": {
             "colorbar": {
              "outlinewidth": 0,
              "ticks": ""
             }
            },
            "marker": {
             "colorbar": {
              "outlinewidth": 0,
              "ticks": ""
             }
            },
            "type": "scatter3d"
           }
          ],
          "scattercarpet": [
           {
            "marker": {
             "colorbar": {
              "outlinewidth": 0,
              "ticks": ""
             }
            },
            "type": "scattercarpet"
           }
          ],
          "scattergeo": [
           {
            "marker": {
             "colorbar": {
              "outlinewidth": 0,
              "ticks": ""
             }
            },
            "type": "scattergeo"
           }
          ],
          "scattergl": [
           {
            "marker": {
             "colorbar": {
              "outlinewidth": 0,
              "ticks": ""
             }
            },
            "type": "scattergl"
           }
          ],
          "scattermapbox": [
           {
            "marker": {
             "colorbar": {
              "outlinewidth": 0,
              "ticks": ""
             }
            },
            "type": "scattermapbox"
           }
          ],
          "scatterpolar": [
           {
            "marker": {
             "colorbar": {
              "outlinewidth": 0,
              "ticks": ""
             }
            },
            "type": "scatterpolar"
           }
          ],
          "scatterpolargl": [
           {
            "marker": {
             "colorbar": {
              "outlinewidth": 0,
              "ticks": ""
             }
            },
            "type": "scatterpolargl"
           }
          ],
          "scatterternary": [
           {
            "marker": {
             "colorbar": {
              "outlinewidth": 0,
              "ticks": ""
             }
            },
            "type": "scatterternary"
           }
          ],
          "surface": [
           {
            "colorbar": {
             "outlinewidth": 0,
             "ticks": ""
            },
            "colorscale": [
             [
              0,
              "#0d0887"
             ],
             [
              0.1111111111111111,
              "#46039f"
             ],
             [
              0.2222222222222222,
              "#7201a8"
             ],
             [
              0.3333333333333333,
              "#9c179e"
             ],
             [
              0.4444444444444444,
              "#bd3786"
             ],
             [
              0.5555555555555556,
              "#d8576b"
             ],
             [
              0.6666666666666666,
              "#ed7953"
             ],
             [
              0.7777777777777778,
              "#fb9f3a"
             ],
             [
              0.8888888888888888,
              "#fdca26"
             ],
             [
              1,
              "#f0f921"
             ]
            ],
            "type": "surface"
           }
          ],
          "table": [
           {
            "cells": {
             "fill": {
              "color": "#EBF0F8"
             },
             "line": {
              "color": "white"
             }
            },
            "header": {
             "fill": {
              "color": "#C8D4E3"
             },
             "line": {
              "color": "white"
             }
            },
            "type": "table"
           }
          ]
         },
         "layout": {
          "annotationdefaults": {
           "arrowcolor": "#2a3f5f",
           "arrowhead": 0,
           "arrowwidth": 1
          },
          "autotypenumbers": "strict",
          "coloraxis": {
           "colorbar": {
            "outlinewidth": 0,
            "ticks": ""
           }
          },
          "colorscale": {
           "diverging": [
            [
             0,
             "#8e0152"
            ],
            [
             0.1,
             "#c51b7d"
            ],
            [
             0.2,
             "#de77ae"
            ],
            [
             0.3,
             "#f1b6da"
            ],
            [
             0.4,
             "#fde0ef"
            ],
            [
             0.5,
             "#f7f7f7"
            ],
            [
             0.6,
             "#e6f5d0"
            ],
            [
             0.7,
             "#b8e186"
            ],
            [
             0.8,
             "#7fbc41"
            ],
            [
             0.9,
             "#4d9221"
            ],
            [
             1,
             "#276419"
            ]
           ],
           "sequential": [
            [
             0,
             "#0d0887"
            ],
            [
             0.1111111111111111,
             "#46039f"
            ],
            [
             0.2222222222222222,
             "#7201a8"
            ],
            [
             0.3333333333333333,
             "#9c179e"
            ],
            [
             0.4444444444444444,
             "#bd3786"
            ],
            [
             0.5555555555555556,
             "#d8576b"
            ],
            [
             0.6666666666666666,
             "#ed7953"
            ],
            [
             0.7777777777777778,
             "#fb9f3a"
            ],
            [
             0.8888888888888888,
             "#fdca26"
            ],
            [
             1,
             "#f0f921"
            ]
           ],
           "sequentialminus": [
            [
             0,
             "#0d0887"
            ],
            [
             0.1111111111111111,
             "#46039f"
            ],
            [
             0.2222222222222222,
             "#7201a8"
            ],
            [
             0.3333333333333333,
             "#9c179e"
            ],
            [
             0.4444444444444444,
             "#bd3786"
            ],
            [
             0.5555555555555556,
             "#d8576b"
            ],
            [
             0.6666666666666666,
             "#ed7953"
            ],
            [
             0.7777777777777778,
             "#fb9f3a"
            ],
            [
             0.8888888888888888,
             "#fdca26"
            ],
            [
             1,
             "#f0f921"
            ]
           ]
          },
          "colorway": [
           "#636efa",
           "#EF553B",
           "#00cc96",
           "#ab63fa",
           "#FFA15A",
           "#19d3f3",
           "#FF6692",
           "#B6E880",
           "#FF97FF",
           "#FECB52"
          ],
          "font": {
           "color": "#2a3f5f"
          },
          "geo": {
           "bgcolor": "white",
           "lakecolor": "white",
           "landcolor": "#E5ECF6",
           "showlakes": true,
           "showland": true,
           "subunitcolor": "white"
          },
          "hoverlabel": {
           "align": "left"
          },
          "hovermode": "closest",
          "mapbox": {
           "style": "light"
          },
          "paper_bgcolor": "white",
          "plot_bgcolor": "#E5ECF6",
          "polar": {
           "angularaxis": {
            "gridcolor": "white",
            "linecolor": "white",
            "ticks": ""
           },
           "bgcolor": "#E5ECF6",
           "radialaxis": {
            "gridcolor": "white",
            "linecolor": "white",
            "ticks": ""
           }
          },
          "scene": {
           "xaxis": {
            "backgroundcolor": "#E5ECF6",
            "gridcolor": "white",
            "gridwidth": 2,
            "linecolor": "white",
            "showbackground": true,
            "ticks": "",
            "zerolinecolor": "white"
           },
           "yaxis": {
            "backgroundcolor": "#E5ECF6",
            "gridcolor": "white",
            "gridwidth": 2,
            "linecolor": "white",
            "showbackground": true,
            "ticks": "",
            "zerolinecolor": "white"
           },
           "zaxis": {
            "backgroundcolor": "#E5ECF6",
            "gridcolor": "white",
            "gridwidth": 2,
            "linecolor": "white",
            "showbackground": true,
            "ticks": "",
            "zerolinecolor": "white"
           }
          },
          "shapedefaults": {
           "line": {
            "color": "#2a3f5f"
           }
          },
          "ternary": {
           "aaxis": {
            "gridcolor": "white",
            "linecolor": "white",
            "ticks": ""
           },
           "baxis": {
            "gridcolor": "white",
            "linecolor": "white",
            "ticks": ""
           },
           "bgcolor": "#E5ECF6",
           "caxis": {
            "gridcolor": "white",
            "linecolor": "white",
            "ticks": ""
           }
          },
          "title": {
           "x": 0.05
          },
          "xaxis": {
           "automargin": true,
           "gridcolor": "white",
           "linecolor": "white",
           "ticks": "",
           "title": {
            "standoff": 15
           },
           "zerolinecolor": "white",
           "zerolinewidth": 2
          },
          "yaxis": {
           "automargin": true,
           "gridcolor": "white",
           "linecolor": "white",
           "ticks": "",
           "title": {
            "standoff": 15
           },
           "zerolinecolor": "white",
           "zerolinewidth": 2
          }
         }
        },
        "title": {
         "text": "Tree with Reingold-Tilford Layout"
        },
        "xaxis": {
         "showgrid": false,
         "showline": false,
         "showticklabels": false,
         "zeroline": false
        },
        "yaxis": {
         "showgrid": false,
         "showline": false,
         "showticklabels": false,
         "zeroline": false
        }
       }
      },
      "text/html": [
       "<div>                            <div id=\"7ae3fc30-16f4-4350-bece-75a1c074d921\" class=\"plotly-graph-div\" style=\"height:525px; width:100%;\"></div>            <script type=\"text/javascript\">                require([\"plotly\"], function(Plotly) {                    window.PLOTLYENV=window.PLOTLYENV || {};                                    if (document.getElementById(\"7ae3fc30-16f4-4350-bece-75a1c074d921\")) {                    Plotly.newPlot(                        \"7ae3fc30-16f4-4350-bece-75a1c074d921\",                        [{\"hoverinfo\":\"none\",\"line\":{\"color\":\"rgb(0,255,0)\",\"width\":2},\"mode\":\"lines\",\"x\":[0.5,0.125,null,0.5,0.375,null,0.5,0.625,null,0.5,0.875,null,0.875,0.1,null,0.875,0.30000000000000004,null,0.875,0.5,null,0.875,0.7000000000000001,null,0.875,0.9,null,0.5,0.041666666666666664,null,0.5,0.125,null,0.7000000000000001,0.20833333333333331,null,0.7000000000000001,0.2916666666666667,null,0.7000000000000001,0.375,null,0.7000000000000001,0.4583333333333333,null,0.7000000000000001,0.5416666666666666,null,0.7000000000000001,0.6249999999999999,null,0.7000000000000001,0.7083333333333333,null,0.7000000000000001,0.7916666666666666,null,0.20833333333333331,0.022727272727272728,null,0.20833333333333331,0.06818181818181818,null,0.20833333333333331,0.11363636363636365,null,0.20833333333333331,0.1590909090909091,null,0.20833333333333331,0.20454545454545456,null,0.20833333333333331,0.25,null,0.20454545454545456,0.03125,null,0.20454545454545456,0.09375,null,0.25,0.15625,null,0.2916666666666667,0.2954545454545454,null,0.2954545454545454,0.21875,null,0.2954545454545454,0.28125,null,0.2954545454545454,0.34375,null,0.375,0.3409090909090909,null,0.4583333333333333,0.38636363636363635,null,0.5416666666666666,0.4318181818181818,null,0.6249999999999999,0.4772727272727273,null,0.6249999999999999,0.5227272727272727,null,0.6249999999999999,0.5681818181818181,null,0.7083333333333333,0.6136363636363636,null,0.7083333333333333,0.6590909090909091,null,0.7083333333333333,0.7045454545454546,null,0.7083333333333333,0.75,null,0.7083333333333333,0.7954545454545454,null,0.6136363636363636,0.40625,null,0.6136363636363636,0.46875,null,0.6136363636363636,0.53125,null,0.6136363636363636,0.59375,null,0.53125,0.05555555555555555,null,0.53125,0.16666666666666666,null,0.53125,0.2777777777777778,null,0.53125,0.38888888888888884,null,0.53125,0.5,null,0.6590909090909091,0.65625,null,0.7045454545454546,0.71875,null,0.75,0.78125,null,0.75,0.84375,null,0.78125,0.6111111111111112,null,0.78125,0.7222222222222222,null,0.84375,0.8333333333333333,null,0.84375,0.9444444444444444,null,0.7954545454545454,0.90625,null,0.7954545454545454,0.96875,null,0.7916666666666666,0.8409090909090909,null,0.9,0.8749999999999999,null,0.9,0.9583333333333333,null,0.8749999999999999,0.8863636363636364,null,0.8749999999999999,0.9318181818181819,null,0.9583333333333333,0.9772727272727273,null],\"y\":[0,-0.7142857142857143,null,0,-0.7142857142857143,null,0,-0.7142857142857143,null,0,-0.7142857142857143,null,-0.7142857142857143,-1.4285714285714286,null,-0.7142857142857143,-1.4285714285714286,null,-0.7142857142857143,-1.4285714285714286,null,-0.7142857142857143,-1.4285714285714286,null,-0.7142857142857143,-1.4285714285714286,null,-1.4285714285714286,-2.142857142857143,null,-1.4285714285714286,-2.142857142857143,null,-1.4285714285714286,-2.142857142857143,null,-1.4285714285714286,-2.142857142857143,null,-1.4285714285714286,-2.142857142857143,null,-1.4285714285714286,-2.142857142857143,null,-1.4285714285714286,-2.142857142857143,null,-1.4285714285714286,-2.142857142857143,null,-1.4285714285714286,-2.142857142857143,null,-1.4285714285714286,-2.142857142857143,null,-2.142857142857143,-2.857142857142857,null,-2.142857142857143,-2.857142857142857,null,-2.142857142857143,-2.857142857142857,null,-2.142857142857143,-2.857142857142857,null,-2.142857142857143,-2.857142857142857,null,-2.142857142857143,-2.857142857142857,null,-2.857142857142857,-3.5714285714285716,null,-2.857142857142857,-3.5714285714285716,null,-2.857142857142857,-3.5714285714285716,null,-2.142857142857143,-2.857142857142857,null,-2.857142857142857,-3.5714285714285716,null,-2.857142857142857,-3.5714285714285716,null,-2.857142857142857,-3.5714285714285716,null,-2.142857142857143,-2.857142857142857,null,-2.142857142857143,-2.857142857142857,null,-2.142857142857143,-2.857142857142857,null,-2.142857142857143,-2.857142857142857,null,-2.142857142857143,-2.857142857142857,null,-2.142857142857143,-2.857142857142857,null,-2.142857142857143,-2.857142857142857,null,-2.142857142857143,-2.857142857142857,null,-2.142857142857143,-2.857142857142857,null,-2.142857142857143,-2.857142857142857,null,-2.142857142857143,-2.857142857142857,null,-2.857142857142857,-3.5714285714285716,null,-2.857142857142857,-3.5714285714285716,null,-2.857142857142857,-3.5714285714285716,null,-2.857142857142857,-3.5714285714285716,null,-3.5714285714285716,-4.285714285714286,null,-3.5714285714285716,-4.285714285714286,null,-3.5714285714285716,-4.285714285714286,null,-3.5714285714285716,-4.285714285714286,null,-3.5714285714285716,-4.285714285714286,null,-2.857142857142857,-3.5714285714285716,null,-2.857142857142857,-3.5714285714285716,null,-2.857142857142857,-3.5714285714285716,null,-2.857142857142857,-3.5714285714285716,null,-3.5714285714285716,-4.285714285714286,null,-3.5714285714285716,-4.285714285714286,null,-3.5714285714285716,-4.285714285714286,null,-3.5714285714285716,-4.285714285714286,null,-2.857142857142857,-3.5714285714285716,null,-2.857142857142857,-3.5714285714285716,null,-2.142857142857143,-2.857142857142857,null,-1.4285714285714286,-2.142857142857143,null,-1.4285714285714286,-2.142857142857143,null,-2.142857142857143,-2.857142857142857,null,-2.142857142857143,-2.857142857142857,null,-2.142857142857143,-2.857142857142857,null],\"type\":\"scatter\"},{\"hoverinfo\":\"text\",\"marker\":{\"color\":\"rgb(0,0,0)\",\"line\":{\"color\":\"rgb(250,250,250)\",\"width\":1},\"size\":20,\"symbol\":\"circle\"},\"mode\":\"markers\",\"name\":\"bla\",\"opacity\":1,\"text\":[\"i2nsf-cfi-policy\",\"name\",\"language\",\"resolution-strategy\",\"rules\",\"name\",\"priority\",\"event\",\"system-event\",\"system-alarm\",\"condition\",\"firewall\",\"source\",\"destination\",\"dscp\",\"transport-layer-protocol\",\"range-port-number\",\"start-port-number\",\"end-port-number\",\"icmp\",\"message\",\"ddos\",\"rate-limit\",\"packet-rate-threshold\",\"byte-rate-threshold\",\"flow-rate-threshold\",\"anti-virus\",\"exception-files\",\"payload\",\"content\",\"url-category\",\"url-name\",\"voice\",\"source-id\",\"destination-id\",\"user-agent\",\"context\",\"time\",\"start-date-time\",\"end-date-time\",\"period\",\"start-time\",\"end-time\",\"day\",\"date\",\"month\",\"frequency\",\"application\",\"protocol\",\"device-type\",\"device\",\"users\",\"user\",\"id\",\"name\",\"group\",\"id\",\"name\",\"geographic-location\",\"source\",\"destination\",\"threat-feed\",\"name\",\"action\",\"primary-action\",\"ingress-action\",\"egress-action\",\"secondary-action\",\"log-action\"],\"x\":[0.5,0.125,0.375,0.625,0.875,0.1,0.30000000000000004,0.5,0.041666666666666664,0.125,0.7000000000000001,0.20833333333333331,0.022727272727272728,0.06818181818181818,0.11363636363636365,0.1590909090909091,0.20454545454545456,0.03125,0.09375,0.25,0.15625,0.2916666666666667,0.2954545454545454,0.21875,0.28125,0.34375,0.375,0.3409090909090909,0.4583333333333333,0.38636363636363635,0.5416666666666666,0.4318181818181818,0.6249999999999999,0.4772727272727273,0.5227272727272727,0.5681818181818181,0.7083333333333333,0.6136363636363636,0.40625,0.46875,0.53125,0.05555555555555555,0.16666666666666666,0.2777777777777778,0.38888888888888884,0.5,0.59375,0.6590909090909091,0.65625,0.7045454545454546,0.71875,0.75,0.78125,0.6111111111111112,0.7222222222222222,0.84375,0.8333333333333333,0.9444444444444444,0.7954545454545454,0.90625,0.96875,0.7916666666666666,0.8409090909090909,0.9,0.8749999999999999,0.8863636363636364,0.9318181818181819,0.9583333333333333,0.9772727272727273],\"y\":[0,-0.7142857142857143,-0.7142857142857143,-0.7142857142857143,-0.7142857142857143,-1.4285714285714286,-1.4285714285714286,-1.4285714285714286,-2.142857142857143,-2.142857142857143,-1.4285714285714286,-2.142857142857143,-2.857142857142857,-2.857142857142857,-2.857142857142857,-2.857142857142857,-2.857142857142857,-3.5714285714285716,-3.5714285714285716,-2.857142857142857,-3.5714285714285716,-2.142857142857143,-2.857142857142857,-3.5714285714285716,-3.5714285714285716,-3.5714285714285716,-2.142857142857143,-2.857142857142857,-2.142857142857143,-2.857142857142857,-2.142857142857143,-2.857142857142857,-2.142857142857143,-2.857142857142857,-2.857142857142857,-2.857142857142857,-2.142857142857143,-2.857142857142857,-3.5714285714285716,-3.5714285714285716,-3.5714285714285716,-4.285714285714286,-4.285714285714286,-4.285714285714286,-4.285714285714286,-4.285714285714286,-3.5714285714285716,-2.857142857142857,-3.5714285714285716,-2.857142857142857,-3.5714285714285716,-2.857142857142857,-3.5714285714285716,-4.285714285714286,-4.285714285714286,-3.5714285714285716,-4.285714285714286,-4.285714285714286,-2.857142857142857,-3.5714285714285716,-3.5714285714285716,-2.142857142857143,-2.857142857142857,-1.4285714285714286,-2.142857142857143,-2.857142857142857,-2.857142857142857,-2.142857142857143,-2.857142857142857],\"type\":\"scatter\"}],                        {\"template\":{\"data\":{\"histogram2dcontour\":[{\"type\":\"histogram2dcontour\",\"colorbar\":{\"outlinewidth\":0,\"ticks\":\"\"},\"colorscale\":[[0.0,\"#0d0887\"],[0.1111111111111111,\"#46039f\"],[0.2222222222222222,\"#7201a8\"],[0.3333333333333333,\"#9c179e\"],[0.4444444444444444,\"#bd3786\"],[0.5555555555555556,\"#d8576b\"],[0.6666666666666666,\"#ed7953\"],[0.7777777777777778,\"#fb9f3a\"],[0.8888888888888888,\"#fdca26\"],[1.0,\"#f0f921\"]]}],\"choropleth\":[{\"type\":\"choropleth\",\"colorbar\":{\"outlinewidth\":0,\"ticks\":\"\"}}],\"histogram2d\":[{\"type\":\"histogram2d\",\"colorbar\":{\"outlinewidth\":0,\"ticks\":\"\"},\"colorscale\":[[0.0,\"#0d0887\"],[0.1111111111111111,\"#46039f\"],[0.2222222222222222,\"#7201a8\"],[0.3333333333333333,\"#9c179e\"],[0.4444444444444444,\"#bd3786\"],[0.5555555555555556,\"#d8576b\"],[0.6666666666666666,\"#ed7953\"],[0.7777777777777778,\"#fb9f3a\"],[0.8888888888888888,\"#fdca26\"],[1.0,\"#f0f921\"]]}],\"heatmap\":[{\"type\":\"heatmap\",\"colorbar\":{\"outlinewidth\":0,\"ticks\":\"\"},\"colorscale\":[[0.0,\"#0d0887\"],[0.1111111111111111,\"#46039f\"],[0.2222222222222222,\"#7201a8\"],[0.3333333333333333,\"#9c179e\"],[0.4444444444444444,\"#bd3786\"],[0.5555555555555556,\"#d8576b\"],[0.6666666666666666,\"#ed7953\"],[0.7777777777777778,\"#fb9f3a\"],[0.8888888888888888,\"#fdca26\"],[1.0,\"#f0f921\"]]}],\"heatmapgl\":[{\"type\":\"heatmapgl\",\"colorbar\":{\"outlinewidth\":0,\"ticks\":\"\"},\"colorscale\":[[0.0,\"#0d0887\"],[0.1111111111111111,\"#46039f\"],[0.2222222222222222,\"#7201a8\"],[0.3333333333333333,\"#9c179e\"],[0.4444444444444444,\"#bd3786\"],[0.5555555555555556,\"#d8576b\"],[0.6666666666666666,\"#ed7953\"],[0.7777777777777778,\"#fb9f3a\"],[0.8888888888888888,\"#fdca26\"],[1.0,\"#f0f921\"]]}],\"contourcarpet\":[{\"type\":\"contourcarpet\",\"colorbar\":{\"outlinewidth\":0,\"ticks\":\"\"}}],\"contour\":[{\"type\":\"contour\",\"colorbar\":{\"outlinewidth\":0,\"ticks\":\"\"},\"colorscale\":[[0.0,\"#0d0887\"],[0.1111111111111111,\"#46039f\"],[0.2222222222222222,\"#7201a8\"],[0.3333333333333333,\"#9c179e\"],[0.4444444444444444,\"#bd3786\"],[0.5555555555555556,\"#d8576b\"],[0.6666666666666666,\"#ed7953\"],[0.7777777777777778,\"#fb9f3a\"],[0.8888888888888888,\"#fdca26\"],[1.0,\"#f0f921\"]]}],\"surface\":[{\"type\":\"surface\",\"colorbar\":{\"outlinewidth\":0,\"ticks\":\"\"},\"colorscale\":[[0.0,\"#0d0887\"],[0.1111111111111111,\"#46039f\"],[0.2222222222222222,\"#7201a8\"],[0.3333333333333333,\"#9c179e\"],[0.4444444444444444,\"#bd3786\"],[0.5555555555555556,\"#d8576b\"],[0.6666666666666666,\"#ed7953\"],[0.7777777777777778,\"#fb9f3a\"],[0.8888888888888888,\"#fdca26\"],[1.0,\"#f0f921\"]]}],\"mesh3d\":[{\"type\":\"mesh3d\",\"colorbar\":{\"outlinewidth\":0,\"ticks\":\"\"}}],\"scatter\":[{\"fillpattern\":{\"fillmode\":\"overlay\",\"size\":10,\"solidity\":0.2},\"type\":\"scatter\"}],\"parcoords\":[{\"type\":\"parcoords\",\"line\":{\"colorbar\":{\"outlinewidth\":0,\"ticks\":\"\"}}}],\"scatterpolargl\":[{\"type\":\"scatterpolargl\",\"marker\":{\"colorbar\":{\"outlinewidth\":0,\"ticks\":\"\"}}}],\"bar\":[{\"error_x\":{\"color\":\"#2a3f5f\"},\"error_y\":{\"color\":\"#2a3f5f\"},\"marker\":{\"line\":{\"color\":\"#E5ECF6\",\"width\":0.5},\"pattern\":{\"fillmode\":\"overlay\",\"size\":10,\"solidity\":0.2}},\"type\":\"bar\"}],\"scattergeo\":[{\"type\":\"scattergeo\",\"marker\":{\"colorbar\":{\"outlinewidth\":0,\"ticks\":\"\"}}}],\"scatterpolar\":[{\"type\":\"scatterpolar\",\"marker\":{\"colorbar\":{\"outlinewidth\":0,\"ticks\":\"\"}}}],\"histogram\":[{\"marker\":{\"pattern\":{\"fillmode\":\"overlay\",\"size\":10,\"solidity\":0.2}},\"type\":\"histogram\"}],\"scattergl\":[{\"type\":\"scattergl\",\"marker\":{\"colorbar\":{\"outlinewidth\":0,\"ticks\":\"\"}}}],\"scatter3d\":[{\"type\":\"scatter3d\",\"line\":{\"colorbar\":{\"outlinewidth\":0,\"ticks\":\"\"}},\"marker\":{\"colorbar\":{\"outlinewidth\":0,\"ticks\":\"\"}}}],\"scattermapbox\":[{\"type\":\"scattermapbox\",\"marker\":{\"colorbar\":{\"outlinewidth\":0,\"ticks\":\"\"}}}],\"scatterternary\":[{\"type\":\"scatterternary\",\"marker\":{\"colorbar\":{\"outlinewidth\":0,\"ticks\":\"\"}}}],\"scattercarpet\":[{\"type\":\"scattercarpet\",\"marker\":{\"colorbar\":{\"outlinewidth\":0,\"ticks\":\"\"}}}],\"carpet\":[{\"aaxis\":{\"endlinecolor\":\"#2a3f5f\",\"gridcolor\":\"white\",\"linecolor\":\"white\",\"minorgridcolor\":\"white\",\"startlinecolor\":\"#2a3f5f\"},\"baxis\":{\"endlinecolor\":\"#2a3f5f\",\"gridcolor\":\"white\",\"linecolor\":\"white\",\"minorgridcolor\":\"white\",\"startlinecolor\":\"#2a3f5f\"},\"type\":\"carpet\"}],\"table\":[{\"cells\":{\"fill\":{\"color\":\"#EBF0F8\"},\"line\":{\"color\":\"white\"}},\"header\":{\"fill\":{\"color\":\"#C8D4E3\"},\"line\":{\"color\":\"white\"}},\"type\":\"table\"}],\"barpolar\":[{\"marker\":{\"line\":{\"color\":\"#E5ECF6\",\"width\":0.5},\"pattern\":{\"fillmode\":\"overlay\",\"size\":10,\"solidity\":0.2}},\"type\":\"barpolar\"}],\"pie\":[{\"automargin\":true,\"type\":\"pie\"}]},\"layout\":{\"autotypenumbers\":\"strict\",\"colorway\":[\"#636efa\",\"#EF553B\",\"#00cc96\",\"#ab63fa\",\"#FFA15A\",\"#19d3f3\",\"#FF6692\",\"#B6E880\",\"#FF97FF\",\"#FECB52\"],\"font\":{\"color\":\"#2a3f5f\"},\"hovermode\":\"closest\",\"hoverlabel\":{\"align\":\"left\"},\"paper_bgcolor\":\"white\",\"plot_bgcolor\":\"#E5ECF6\",\"polar\":{\"bgcolor\":\"#E5ECF6\",\"angularaxis\":{\"gridcolor\":\"white\",\"linecolor\":\"white\",\"ticks\":\"\"},\"radialaxis\":{\"gridcolor\":\"white\",\"linecolor\":\"white\",\"ticks\":\"\"}},\"ternary\":{\"bgcolor\":\"#E5ECF6\",\"aaxis\":{\"gridcolor\":\"white\",\"linecolor\":\"white\",\"ticks\":\"\"},\"baxis\":{\"gridcolor\":\"white\",\"linecolor\":\"white\",\"ticks\":\"\"},\"caxis\":{\"gridcolor\":\"white\",\"linecolor\":\"white\",\"ticks\":\"\"}},\"coloraxis\":{\"colorbar\":{\"outlinewidth\":0,\"ticks\":\"\"}},\"colorscale\":{\"sequential\":[[0.0,\"#0d0887\"],[0.1111111111111111,\"#46039f\"],[0.2222222222222222,\"#7201a8\"],[0.3333333333333333,\"#9c179e\"],[0.4444444444444444,\"#bd3786\"],[0.5555555555555556,\"#d8576b\"],[0.6666666666666666,\"#ed7953\"],[0.7777777777777778,\"#fb9f3a\"],[0.8888888888888888,\"#fdca26\"],[1.0,\"#f0f921\"]],\"sequentialminus\":[[0.0,\"#0d0887\"],[0.1111111111111111,\"#46039f\"],[0.2222222222222222,\"#7201a8\"],[0.3333333333333333,\"#9c179e\"],[0.4444444444444444,\"#bd3786\"],[0.5555555555555556,\"#d8576b\"],[0.6666666666666666,\"#ed7953\"],[0.7777777777777778,\"#fb9f3a\"],[0.8888888888888888,\"#fdca26\"],[1.0,\"#f0f921\"]],\"diverging\":[[0,\"#8e0152\"],[0.1,\"#c51b7d\"],[0.2,\"#de77ae\"],[0.3,\"#f1b6da\"],[0.4,\"#fde0ef\"],[0.5,\"#f7f7f7\"],[0.6,\"#e6f5d0\"],[0.7,\"#b8e186\"],[0.8,\"#7fbc41\"],[0.9,\"#4d9221\"],[1,\"#276419\"]]},\"xaxis\":{\"gridcolor\":\"white\",\"linecolor\":\"white\",\"ticks\":\"\",\"title\":{\"standoff\":15},\"zerolinecolor\":\"white\",\"automargin\":true,\"zerolinewidth\":2},\"yaxis\":{\"gridcolor\":\"white\",\"linecolor\":\"white\",\"ticks\":\"\",\"title\":{\"standoff\":15},\"zerolinecolor\":\"white\",\"automargin\":true,\"zerolinewidth\":2},\"scene\":{\"xaxis\":{\"backgroundcolor\":\"#E5ECF6\",\"gridcolor\":\"white\",\"linecolor\":\"white\",\"showbackground\":true,\"ticks\":\"\",\"zerolinecolor\":\"white\",\"gridwidth\":2},\"yaxis\":{\"backgroundcolor\":\"#E5ECF6\",\"gridcolor\":\"white\",\"linecolor\":\"white\",\"showbackground\":true,\"ticks\":\"\",\"zerolinecolor\":\"white\",\"gridwidth\":2},\"zaxis\":{\"backgroundcolor\":\"#E5ECF6\",\"gridcolor\":\"white\",\"linecolor\":\"white\",\"showbackground\":true,\"ticks\":\"\",\"zerolinecolor\":\"white\",\"gridwidth\":2}},\"shapedefaults\":{\"line\":{\"color\":\"#2a3f5f\"}},\"annotationdefaults\":{\"arrowcolor\":\"#2a3f5f\",\"arrowhead\":0,\"arrowwidth\":1},\"geo\":{\"bgcolor\":\"white\",\"landcolor\":\"#E5ECF6\",\"subunitcolor\":\"white\",\"showland\":true,\"showlakes\":true,\"lakecolor\":\"white\"},\"title\":{\"x\":0.05},\"mapbox\":{\"style\":\"light\"}}},\"font\":{\"size\":10},\"xaxis\":{\"showline\":false,\"zeroline\":false,\"showgrid\":false,\"showticklabels\":false},\"yaxis\":{\"showline\":false,\"zeroline\":false,\"showgrid\":false,\"showticklabels\":false},\"margin\":{\"l\":40,\"r\":40,\"b\":85,\"t\":100},\"title\":{\"text\":\"Tree with Reingold-Tilford Layout\"},\"annotations\":[{\"font\":{\"color\":\"rgb(250,250,250)\",\"size\":10},\"showarrow\":false,\"text\":\"0\",\"x\":0.5,\"xref\":\"x\",\"y\":0,\"yref\":\"y\"},{\"font\":{\"color\":\"rgb(250,250,250)\",\"size\":10},\"showarrow\":false,\"text\":\"1\",\"x\":0.125,\"xref\":\"x\",\"y\":-0.7142857142857143,\"yref\":\"y\"},{\"font\":{\"color\":\"rgb(250,250,250)\",\"size\":10},\"showarrow\":false,\"text\":\"2\",\"x\":0.375,\"xref\":\"x\",\"y\":-0.7142857142857143,\"yref\":\"y\"},{\"font\":{\"color\":\"rgb(250,250,250)\",\"size\":10},\"showarrow\":false,\"text\":\"3\",\"x\":0.625,\"xref\":\"x\",\"y\":-0.7142857142857143,\"yref\":\"y\"},{\"font\":{\"color\":\"rgb(250,250,250)\",\"size\":10},\"showarrow\":false,\"text\":\"4\",\"x\":0.875,\"xref\":\"x\",\"y\":-0.7142857142857143,\"yref\":\"y\"},{\"font\":{\"color\":\"rgb(250,250,250)\",\"size\":10},\"showarrow\":false,\"text\":\"5\",\"x\":0.1,\"xref\":\"x\",\"y\":-1.4285714285714286,\"yref\":\"y\"},{\"font\":{\"color\":\"rgb(250,250,250)\",\"size\":10},\"showarrow\":false,\"text\":\"6\",\"x\":0.30000000000000004,\"xref\":\"x\",\"y\":-1.4285714285714286,\"yref\":\"y\"},{\"font\":{\"color\":\"rgb(250,250,250)\",\"size\":10},\"showarrow\":false,\"text\":\"7\",\"x\":0.5,\"xref\":\"x\",\"y\":-1.4285714285714286,\"yref\":\"y\"},{\"font\":{\"color\":\"rgb(250,250,250)\",\"size\":10},\"showarrow\":false,\"text\":\"8\",\"x\":0.041666666666666664,\"xref\":\"x\",\"y\":-2.142857142857143,\"yref\":\"y\"},{\"font\":{\"color\":\"rgb(250,250,250)\",\"size\":10},\"showarrow\":false,\"text\":\"9\",\"x\":0.125,\"xref\":\"x\",\"y\":-2.142857142857143,\"yref\":\"y\"},{\"font\":{\"color\":\"rgb(250,250,250)\",\"size\":10},\"showarrow\":false,\"text\":\"10\",\"x\":0.7000000000000001,\"xref\":\"x\",\"y\":-1.4285714285714286,\"yref\":\"y\"},{\"font\":{\"color\":\"rgb(250,250,250)\",\"size\":10},\"showarrow\":false,\"text\":\"11\",\"x\":0.20833333333333331,\"xref\":\"x\",\"y\":-2.142857142857143,\"yref\":\"y\"},{\"font\":{\"color\":\"rgb(250,250,250)\",\"size\":10},\"showarrow\":false,\"text\":\"12\",\"x\":0.022727272727272728,\"xref\":\"x\",\"y\":-2.857142857142857,\"yref\":\"y\"},{\"font\":{\"color\":\"rgb(250,250,250)\",\"size\":10},\"showarrow\":false,\"text\":\"13\",\"x\":0.06818181818181818,\"xref\":\"x\",\"y\":-2.857142857142857,\"yref\":\"y\"},{\"font\":{\"color\":\"rgb(250,250,250)\",\"size\":10},\"showarrow\":false,\"text\":\"14\",\"x\":0.11363636363636365,\"xref\":\"x\",\"y\":-2.857142857142857,\"yref\":\"y\"},{\"font\":{\"color\":\"rgb(250,250,250)\",\"size\":10},\"showarrow\":false,\"text\":\"15\",\"x\":0.1590909090909091,\"xref\":\"x\",\"y\":-2.857142857142857,\"yref\":\"y\"},{\"font\":{\"color\":\"rgb(250,250,250)\",\"size\":10},\"showarrow\":false,\"text\":\"16\",\"x\":0.20454545454545456,\"xref\":\"x\",\"y\":-2.857142857142857,\"yref\":\"y\"},{\"font\":{\"color\":\"rgb(250,250,250)\",\"size\":10},\"showarrow\":false,\"text\":\"17\",\"x\":0.03125,\"xref\":\"x\",\"y\":-3.5714285714285716,\"yref\":\"y\"},{\"font\":{\"color\":\"rgb(250,250,250)\",\"size\":10},\"showarrow\":false,\"text\":\"18\",\"x\":0.09375,\"xref\":\"x\",\"y\":-3.5714285714285716,\"yref\":\"y\"},{\"font\":{\"color\":\"rgb(250,250,250)\",\"size\":10},\"showarrow\":false,\"text\":\"19\",\"x\":0.25,\"xref\":\"x\",\"y\":-2.857142857142857,\"yref\":\"y\"},{\"font\":{\"color\":\"rgb(250,250,250)\",\"size\":10},\"showarrow\":false,\"text\":\"20\",\"x\":0.15625,\"xref\":\"x\",\"y\":-3.5714285714285716,\"yref\":\"y\"},{\"font\":{\"color\":\"rgb(250,250,250)\",\"size\":10},\"showarrow\":false,\"text\":\"21\",\"x\":0.2916666666666667,\"xref\":\"x\",\"y\":-2.142857142857143,\"yref\":\"y\"},{\"font\":{\"color\":\"rgb(250,250,250)\",\"size\":10},\"showarrow\":false,\"text\":\"22\",\"x\":0.2954545454545454,\"xref\":\"x\",\"y\":-2.857142857142857,\"yref\":\"y\"},{\"font\":{\"color\":\"rgb(250,250,250)\",\"size\":10},\"showarrow\":false,\"text\":\"23\",\"x\":0.21875,\"xref\":\"x\",\"y\":-3.5714285714285716,\"yref\":\"y\"},{\"font\":{\"color\":\"rgb(250,250,250)\",\"size\":10},\"showarrow\":false,\"text\":\"24\",\"x\":0.28125,\"xref\":\"x\",\"y\":-3.5714285714285716,\"yref\":\"y\"},{\"font\":{\"color\":\"rgb(250,250,250)\",\"size\":10},\"showarrow\":false,\"text\":\"25\",\"x\":0.34375,\"xref\":\"x\",\"y\":-3.5714285714285716,\"yref\":\"y\"},{\"font\":{\"color\":\"rgb(250,250,250)\",\"size\":10},\"showarrow\":false,\"text\":\"26\",\"x\":0.375,\"xref\":\"x\",\"y\":-2.142857142857143,\"yref\":\"y\"},{\"font\":{\"color\":\"rgb(250,250,250)\",\"size\":10},\"showarrow\":false,\"text\":\"27\",\"x\":0.3409090909090909,\"xref\":\"x\",\"y\":-2.857142857142857,\"yref\":\"y\"},{\"font\":{\"color\":\"rgb(250,250,250)\",\"size\":10},\"showarrow\":false,\"text\":\"28\",\"x\":0.4583333333333333,\"xref\":\"x\",\"y\":-2.142857142857143,\"yref\":\"y\"},{\"font\":{\"color\":\"rgb(250,250,250)\",\"size\":10},\"showarrow\":false,\"text\":\"29\",\"x\":0.38636363636363635,\"xref\":\"x\",\"y\":-2.857142857142857,\"yref\":\"y\"},{\"font\":{\"color\":\"rgb(250,250,250)\",\"size\":10},\"showarrow\":false,\"text\":\"30\",\"x\":0.5416666666666666,\"xref\":\"x\",\"y\":-2.142857142857143,\"yref\":\"y\"},{\"font\":{\"color\":\"rgb(250,250,250)\",\"size\":10},\"showarrow\":false,\"text\":\"31\",\"x\":0.4318181818181818,\"xref\":\"x\",\"y\":-2.857142857142857,\"yref\":\"y\"},{\"font\":{\"color\":\"rgb(250,250,250)\",\"size\":10},\"showarrow\":false,\"text\":\"32\",\"x\":0.6249999999999999,\"xref\":\"x\",\"y\":-2.142857142857143,\"yref\":\"y\"},{\"font\":{\"color\":\"rgb(250,250,250)\",\"size\":10},\"showarrow\":false,\"text\":\"33\",\"x\":0.4772727272727273,\"xref\":\"x\",\"y\":-2.857142857142857,\"yref\":\"y\"},{\"font\":{\"color\":\"rgb(250,250,250)\",\"size\":10},\"showarrow\":false,\"text\":\"34\",\"x\":0.5227272727272727,\"xref\":\"x\",\"y\":-2.857142857142857,\"yref\":\"y\"},{\"font\":{\"color\":\"rgb(250,250,250)\",\"size\":10},\"showarrow\":false,\"text\":\"35\",\"x\":0.5681818181818181,\"xref\":\"x\",\"y\":-2.857142857142857,\"yref\":\"y\"},{\"font\":{\"color\":\"rgb(250,250,250)\",\"size\":10},\"showarrow\":false,\"text\":\"36\",\"x\":0.7083333333333333,\"xref\":\"x\",\"y\":-2.142857142857143,\"yref\":\"y\"},{\"font\":{\"color\":\"rgb(250,250,250)\",\"size\":10},\"showarrow\":false,\"text\":\"37\",\"x\":0.6136363636363636,\"xref\":\"x\",\"y\":-2.857142857142857,\"yref\":\"y\"},{\"font\":{\"color\":\"rgb(250,250,250)\",\"size\":10},\"showarrow\":false,\"text\":\"38\",\"x\":0.40625,\"xref\":\"x\",\"y\":-3.5714285714285716,\"yref\":\"y\"},{\"font\":{\"color\":\"rgb(250,250,250)\",\"size\":10},\"showarrow\":false,\"text\":\"39\",\"x\":0.46875,\"xref\":\"x\",\"y\":-3.5714285714285716,\"yref\":\"y\"},{\"font\":{\"color\":\"rgb(250,250,250)\",\"size\":10},\"showarrow\":false,\"text\":\"40\",\"x\":0.53125,\"xref\":\"x\",\"y\":-3.5714285714285716,\"yref\":\"y\"},{\"font\":{\"color\":\"rgb(250,250,250)\",\"size\":10},\"showarrow\":false,\"text\":\"41\",\"x\":0.05555555555555555,\"xref\":\"x\",\"y\":-4.285714285714286,\"yref\":\"y\"},{\"font\":{\"color\":\"rgb(250,250,250)\",\"size\":10},\"showarrow\":false,\"text\":\"42\",\"x\":0.16666666666666666,\"xref\":\"x\",\"y\":-4.285714285714286,\"yref\":\"y\"},{\"font\":{\"color\":\"rgb(250,250,250)\",\"size\":10},\"showarrow\":false,\"text\":\"43\",\"x\":0.2777777777777778,\"xref\":\"x\",\"y\":-4.285714285714286,\"yref\":\"y\"},{\"font\":{\"color\":\"rgb(250,250,250)\",\"size\":10},\"showarrow\":false,\"text\":\"44\",\"x\":0.38888888888888884,\"xref\":\"x\",\"y\":-4.285714285714286,\"yref\":\"y\"},{\"font\":{\"color\":\"rgb(250,250,250)\",\"size\":10},\"showarrow\":false,\"text\":\"45\",\"x\":0.5,\"xref\":\"x\",\"y\":-4.285714285714286,\"yref\":\"y\"},{\"font\":{\"color\":\"rgb(250,250,250)\",\"size\":10},\"showarrow\":false,\"text\":\"46\",\"x\":0.59375,\"xref\":\"x\",\"y\":-3.5714285714285716,\"yref\":\"y\"},{\"font\":{\"color\":\"rgb(250,250,250)\",\"size\":10},\"showarrow\":false,\"text\":\"47\",\"x\":0.6590909090909091,\"xref\":\"x\",\"y\":-2.857142857142857,\"yref\":\"y\"},{\"font\":{\"color\":\"rgb(250,250,250)\",\"size\":10},\"showarrow\":false,\"text\":\"48\",\"x\":0.65625,\"xref\":\"x\",\"y\":-3.5714285714285716,\"yref\":\"y\"},{\"font\":{\"color\":\"rgb(250,250,250)\",\"size\":10},\"showarrow\":false,\"text\":\"49\",\"x\":0.7045454545454546,\"xref\":\"x\",\"y\":-2.857142857142857,\"yref\":\"y\"},{\"font\":{\"color\":\"rgb(250,250,250)\",\"size\":10},\"showarrow\":false,\"text\":\"50\",\"x\":0.71875,\"xref\":\"x\",\"y\":-3.5714285714285716,\"yref\":\"y\"},{\"font\":{\"color\":\"rgb(250,250,250)\",\"size\":10},\"showarrow\":false,\"text\":\"51\",\"x\":0.75,\"xref\":\"x\",\"y\":-2.857142857142857,\"yref\":\"y\"},{\"font\":{\"color\":\"rgb(250,250,250)\",\"size\":10},\"showarrow\":false,\"text\":\"52\",\"x\":0.78125,\"xref\":\"x\",\"y\":-3.5714285714285716,\"yref\":\"y\"},{\"font\":{\"color\":\"rgb(250,250,250)\",\"size\":10},\"showarrow\":false,\"text\":\"53\",\"x\":0.6111111111111112,\"xref\":\"x\",\"y\":-4.285714285714286,\"yref\":\"y\"},{\"font\":{\"color\":\"rgb(250,250,250)\",\"size\":10},\"showarrow\":false,\"text\":\"54\",\"x\":0.7222222222222222,\"xref\":\"x\",\"y\":-4.285714285714286,\"yref\":\"y\"},{\"font\":{\"color\":\"rgb(250,250,250)\",\"size\":10},\"showarrow\":false,\"text\":\"55\",\"x\":0.84375,\"xref\":\"x\",\"y\":-3.5714285714285716,\"yref\":\"y\"},{\"font\":{\"color\":\"rgb(250,250,250)\",\"size\":10},\"showarrow\":false,\"text\":\"56\",\"x\":0.8333333333333333,\"xref\":\"x\",\"y\":-4.285714285714286,\"yref\":\"y\"},{\"font\":{\"color\":\"rgb(250,250,250)\",\"size\":10},\"showarrow\":false,\"text\":\"57\",\"x\":0.9444444444444444,\"xref\":\"x\",\"y\":-4.285714285714286,\"yref\":\"y\"},{\"font\":{\"color\":\"rgb(250,250,250)\",\"size\":10},\"showarrow\":false,\"text\":\"58\",\"x\":0.7954545454545454,\"xref\":\"x\",\"y\":-2.857142857142857,\"yref\":\"y\"},{\"font\":{\"color\":\"rgb(250,250,250)\",\"size\":10},\"showarrow\":false,\"text\":\"59\",\"x\":0.90625,\"xref\":\"x\",\"y\":-3.5714285714285716,\"yref\":\"y\"},{\"font\":{\"color\":\"rgb(250,250,250)\",\"size\":10},\"showarrow\":false,\"text\":\"60\",\"x\":0.96875,\"xref\":\"x\",\"y\":-3.5714285714285716,\"yref\":\"y\"},{\"font\":{\"color\":\"rgb(250,250,250)\",\"size\":10},\"showarrow\":false,\"text\":\"61\",\"x\":0.7916666666666666,\"xref\":\"x\",\"y\":-2.142857142857143,\"yref\":\"y\"},{\"font\":{\"color\":\"rgb(250,250,250)\",\"size\":10},\"showarrow\":false,\"text\":\"62\",\"x\":0.8409090909090909,\"xref\":\"x\",\"y\":-2.857142857142857,\"yref\":\"y\"},{\"font\":{\"color\":\"rgb(250,250,250)\",\"size\":10},\"showarrow\":false,\"text\":\"63\",\"x\":0.9,\"xref\":\"x\",\"y\":-1.4285714285714286,\"yref\":\"y\"},{\"font\":{\"color\":\"rgb(250,250,250)\",\"size\":10},\"showarrow\":false,\"text\":\"64\",\"x\":0.8749999999999999,\"xref\":\"x\",\"y\":-2.142857142857143,\"yref\":\"y\"},{\"font\":{\"color\":\"rgb(250,250,250)\",\"size\":10},\"showarrow\":false,\"text\":\"65\",\"x\":0.8863636363636364,\"xref\":\"x\",\"y\":-2.857142857142857,\"yref\":\"y\"},{\"font\":{\"color\":\"rgb(250,250,250)\",\"size\":10},\"showarrow\":false,\"text\":\"66\",\"x\":0.9318181818181819,\"xref\":\"x\",\"y\":-2.857142857142857,\"yref\":\"y\"},{\"font\":{\"color\":\"rgb(250,250,250)\",\"size\":10},\"showarrow\":false,\"text\":\"67\",\"x\":0.9583333333333333,\"xref\":\"x\",\"y\":-2.142857142857143,\"yref\":\"y\"},{\"font\":{\"color\":\"rgb(250,250,250)\",\"size\":10},\"showarrow\":false,\"text\":\"68\",\"x\":0.9772727272727273,\"xref\":\"x\",\"y\":-2.857142857142857,\"yref\":\"y\"}],\"showlegend\":false,\"hovermode\":\"closest\",\"plot_bgcolor\":\"rgb(250,250,250)\"},                        {\"responsive\": true}                    ).then(function(){\n",
       "                            \n",
       "var gd = document.getElementById('7ae3fc30-16f4-4350-bece-75a1c074d921');\n",
       "var x = new MutationObserver(function (mutations, observer) {{\n",
       "        var display = window.getComputedStyle(gd).display;\n",
       "        if (!display || display === 'none') {{\n",
       "            console.log([gd, 'removed!']);\n",
       "            Plotly.purge(gd);\n",
       "            observer.disconnect();\n",
       "        }}\n",
       "}});\n",
       "\n",
       "// Listen for the removal of the full notebook cells\n",
       "var notebookContainer = gd.closest('#notebook-container');\n",
       "if (notebookContainer) {{\n",
       "    x.observe(notebookContainer, {childList: true});\n",
       "}}\n",
       "\n",
       "// Listen for the clearing of the current output cell\n",
       "var outputEl = gd.closest('.output');\n",
       "if (outputEl) {{\n",
       "    x.observe(outputEl, {childList: true});\n",
       "}}\n",
       "\n",
       "                        })                };                });            </script>        </div>"
      ]
     },
     "metadata": {},
     "output_type": "display_data"
    }
   ],
   "source": [
    "#Show the CFI Figure\n",
    "fig = go.Figure()\n",
    "fig.add_trace(go.Scatter(x=Xe,\n",
    "                   y=Ye,\n",
    "                   mode='lines',\n",
    "                   line=dict(color='rgb(0,255,0)', width=2),\n",
    "                   hoverinfo='none'\n",
    "                   ))\n",
    "fig.add_trace(go.Scatter(x=Xn,\n",
    "                  y=Yn,\n",
    "                  mode='markers',\n",
    "                  name='bla',\n",
    "                  marker=dict(symbol='circle',\n",
    "                                size=20,\n",
    "                                color='rgb(0,0,0)',    #'#DB4551',\n",
    "                                line=dict(color='rgb(250,250,250)', width=1)\n",
    "                                ),\n",
    "                  text=labels,\n",
    "                  hoverinfo='text',\n",
    "                  opacity=1\n",
    "                  ))\n",
    "\n",
    "axis = dict(showline=False, # hide axis line, grid, ticklabels and  title\n",
    "            zeroline=False,\n",
    "            showgrid=False,\n",
    "            showticklabels=False,\n",
    "            )\n",
    "print(len(position))\n",
    "print(len(v_label))\n",
    "fig.update_layout(title= 'Tree with Reingold-Tilford Layout',\n",
    "              annotations=make_annotations(position, v_label, cfiNoSkip),\n",
    "              font_size=10,\n",
    "              showlegend=False,\n",
    "              xaxis=axis,\n",
    "              yaxis=axis,\n",
    "              margin=dict(l=40, r=40, b=85, t=100),\n",
    "              hovermode='closest',\n",
    "              plot_bgcolor='rgb(250,250,250)'\n",
    "              )\n",
    "fig.show()"
   ]
  },
  {
   "cell_type": "code",
   "execution_count": 491,
   "metadata": {},
   "outputs": [
    {
     "name": "stdout",
     "output_type": "stream",
     "text": [
      "185\n",
      "185\n"
     ]
    }
   ],
   "source": [
    "#Setting the NFI YANG Nodes and Edges for drawing the Figure\n",
    "nr_vertices = len(nfiNoSkip)\n",
    "v_label = [nfiNoSkip[i].id for i in range(len(nfiNoSkip))]\n",
    "\n",
    "Nodes = [(nfiNoSkip[i].id, {'label':nfiNoSkip[i].tag}) for i in range(len(nfiNoSkip))]\n",
    "E = [(nfiNoSkip[i].id, nfiNoSkip[i].child[j].id) for i in range(len(nfiNoSkip)) for j in range(len(nfiNoSkip[i].child))] # list of edges\n",
    "print(len(nfiNoSkip))\n",
    "G2=nx.Graph()\n",
    "G2.add_nodes_from(Nodes)\n",
    "G2.add_edges_from(E)\n",
    "position = hierarchy_pos(G2,0)\n",
    "print(len(position))\n",
    "\n",
    "Y = [position[nfiNoSkip[i].id][1] for i in range(len(nfiNoSkip))]\n",
    "M = max(Y)\n",
    "\n",
    "L = len(position)\n",
    "Xn = [position[nfiNoSkip[i].id][0] for i in range(len(nfiNoSkip))]\n",
    "Yn = [2*M+position[nfiNoSkip[i].id][1] for i in range(len(nfiNoSkip))]\n",
    "Xe = []\n",
    "Ye = []\n",
    "for edge in E:\n",
    "    Xe+=[position[edge[0]][0],position[edge[1]][0], None]\n",
    "    Ye+=[2*M+position[edge[0]][1],2*M+position[edge[1]][1], None]\n",
    "labels = [nfiNoSkip[i].tag for i in range(len(nfiNoSkip))]\n"
   ]
  },
  {
   "cell_type": "code",
   "execution_count": 492,
   "metadata": {
    "scrolled": false
   },
   "outputs": [
    {
     "name": "stdout",
     "output_type": "stream",
     "text": [
      "185\n",
      "185\n"
     ]
    },
    {
     "data": {
      "application/vnd.plotly.v1+json": {
       "config": {
        "plotlyServerURL": "https://plot.ly"
       },
       "data": [
        {
         "hoverinfo": "none",
         "line": {
          "color": "rgb(0,255,0)",
          "width": 2
         },
         "mode": "lines",
         "type": "scatter",
         "x": [
          0.5,
          0.07142857142857142,
          null,
          0.5,
          0.21428571428571427,
          null,
          0.5,
          0.3571428571428571,
          null,
          0.5,
          0.5,
          null,
          0.5,
          0.6428571428571428,
          null,
          0.5,
          0.7857142857142856,
          null,
          0.5,
          0.9285714285714285,
          null,
          0.7857142857142856,
          0.05555555555555555,
          null,
          0.7857142857142856,
          0.16666666666666666,
          null,
          0.7857142857142856,
          0.2777777777777778,
          null,
          0.7857142857142856,
          0.38888888888888884,
          null,
          0.7857142857142856,
          0.5,
          null,
          0.7857142857142856,
          0.6111111111111112,
          null,
          0.7857142857142856,
          0.7222222222222222,
          null,
          0.7857142857142856,
          0.8333333333333333,
          null,
          0.5,
          0.017241379310344827,
          null,
          0.5,
          0.05172413793103448,
          null,
          0.6111111111111112,
          0.08620689655172414,
          null,
          0.6111111111111112,
          0.12068965517241378,
          null,
          0.6111111111111112,
          0.15517241379310345,
          null,
          0.7222222222222222,
          0.18965517241379312,
          null,
          0.7222222222222222,
          0.22413793103448276,
          null,
          0.7222222222222222,
          0.2586206896551724,
          null,
          0.7222222222222222,
          0.29310344827586204,
          null,
          0.7222222222222222,
          0.3275862068965517,
          null,
          0.7222222222222222,
          0.3620689655172414,
          null,
          0.7222222222222222,
          0.396551724137931,
          null,
          0.7222222222222222,
          0.43103448275862066,
          null,
          0.7222222222222222,
          0.46551724137931033,
          null,
          0.7222222222222222,
          0.49999999999999994,
          null,
          0.7222222222222222,
          0.5344827586206897,
          null,
          0.7222222222222222,
          0.5689655172413793,
          null,
          0.7222222222222222,
          0.603448275862069,
          null,
          0.7222222222222222,
          0.6379310344827587,
          null,
          0.7222222222222222,
          0.6724137931034483,
          null,
          0.7222222222222222,
          0.706896551724138,
          null,
          0.22413793103448276,
          0.005434782608695652,
          null,
          0.2586206896551724,
          0.016304347826086956,
          null,
          0.2586206896551724,
          0.02717391304347826,
          null,
          0.2586206896551724,
          0.03804347826086957,
          null,
          0.2586206896551724,
          0.048913043478260865,
          null,
          0.2586206896551724,
          0.059782608695652176,
          null,
          0.2586206896551724,
          0.07065217391304347,
          null,
          0.29310344827586204,
          0.08152173913043478,
          null,
          0.29310344827586204,
          0.09239130434782608,
          null,
          0.29310344827586204,
          0.10326086956521738,
          null,
          0.29310344827586204,
          0.11413043478260869,
          null,
          0.29310344827586204,
          0.125,
          null,
          0.29310344827586204,
          0.1358695652173913,
          null,
          0.29310344827586204,
          0.1467391304347826,
          null,
          0.29310344827586204,
          0.15760869565217392,
          null,
          0.29310344827586204,
          0.16847826086956522,
          null,
          0.29310344827586204,
          0.1793478260869565,
          null,
          0.29310344827586204,
          0.1902173913043478,
          null,
          0.29310344827586204,
          0.2010869565217391,
          null,
          0.29310344827586204,
          0.21195652173913043,
          null,
          0.29310344827586204,
          0.22282608695652173,
          null,
          0.2010869565217391,
          0.013157894736842105,
          null,
          0.2010869565217391,
          0.039473684210526314,
          null,
          0.22282608695652173,
          0.06578947368421052,
          null,
          0.22282608695652173,
          0.09210526315789473,
          null,
          0.3275862068965517,
          0.23369565217391303,
          null,
          0.3275862068965517,
          0.24456521739130435,
          null,
          0.3275862068965517,
          0.2554347826086957,
          null,
          0.3275862068965517,
          0.266304347826087,
          null,
          0.3275862068965517,
          0.27717391304347827,
          null,
          0.3275862068965517,
          0.28804347826086957,
          null,
          0.3275862068965517,
          0.29891304347826086,
          null,
          0.3275862068965517,
          0.3097826086956522,
          null,
          0.3275862068965517,
          0.3206521739130435,
          null,
          0.3275862068965517,
          0.3315217391304348,
          null,
          0.3275862068965517,
          0.3423913043478261,
          null,
          0.3097826086956522,
          0.11842105263157894,
          null,
          0.3097826086956522,
          0.14473684210526316,
          null,
          0.3315217391304348,
          0.17105263157894735,
          null,
          0.3315217391304348,
          0.19736842105263158,
          null,
          0.3620689655172414,
          0.3532608695652174,
          null,
          0.3620689655172414,
          0.3641304347826087,
          null,
          0.3620689655172414,
          0.375,
          null,
          0.3620689655172414,
          0.3858695652173913,
          null,
          0.3620689655172414,
          0.3967391304347826,
          null,
          0.3620689655172414,
          0.40760869565217395,
          null,
          0.3620689655172414,
          0.41847826086956524,
          null,
          0.3620689655172414,
          0.42934782608695654,
          null,
          0.3620689655172414,
          0.44021739130434784,
          null,
          0.3620689655172414,
          0.45108695652173914,
          null,
          0.3620689655172414,
          0.46195652173913043,
          null,
          0.3641304347826087,
          0.22368421052631576,
          null,
          0.3641304347826087,
          0.25,
          null,
          0.375,
          0.2763157894736842,
          null,
          0.375,
          0.3026315789473684,
          null,
          0.396551724137931,
          0.47282608695652173,
          null,
          0.396551724137931,
          0.4836956521739131,
          null,
          0.396551724137931,
          0.4945652173913044,
          null,
          0.396551724137931,
          0.5054347826086957,
          null,
          0.4836956521739131,
          0.3289473684210526,
          null,
          0.4836956521739131,
          0.3552631578947368,
          null,
          0.4945652173913044,
          0.381578947368421,
          null,
          0.4945652173913044,
          0.40789473684210525,
          null,
          0.43103448275862066,
          0.5163043478260869,
          null,
          0.43103448275862066,
          0.5271739130434783,
          null,
          0.43103448275862066,
          0.5380434782608696,
          null,
          0.43103448275862066,
          0.5489130434782609,
          null,
          0.43103448275862066,
          0.5597826086956522,
          null,
          0.5271739130434783,
          0.43421052631578944,
          null,
          0.5271739130434783,
          0.4605263157894736,
          null,
          0.5380434782608696,
          0.48684210526315785,
          null,
          0.5380434782608696,
          0.5131578947368421,
          null,
          0.46551724137931033,
          0.5706521739130435,
          null,
          0.46551724137931033,
          0.5815217391304348,
          null,
          0.46551724137931033,
          0.592391304347826,
          null,
          0.46551724137931033,
          0.6032608695652174,
          null,
          0.46551724137931033,
          0.6141304347826088,
          null,
          0.46551724137931033,
          0.625,
          null,
          0.5815217391304348,
          0.5394736842105263,
          null,
          0.5815217391304348,
          0.5657894736842105,
          null,
          0.592391304347826,
          0.5921052631578948,
          null,
          0.592391304347826,
          0.618421052631579,
          null,
          0.49999999999999994,
          0.6358695652173914,
          null,
          0.49999999999999994,
          0.6467391304347826,
          null,
          0.49999999999999994,
          0.657608695652174,
          null,
          0.49999999999999994,
          0.6684782608695652,
          null,
          0.49999999999999994,
          0.6793478260869565,
          null,
          0.5344827586206897,
          0.6902173913043478,
          null,
          0.5344827586206897,
          0.7010869565217391,
          null,
          0.5344827586206897,
          0.7119565217391305,
          null,
          0.5689655172413793,
          0.7228260869565217,
          null,
          0.5689655172413793,
          0.7336956521739131,
          null,
          0.5689655172413793,
          0.7445652173913043,
          null,
          0.5689655172413793,
          0.7554347826086957,
          null,
          0.603448275862069,
          0.7663043478260869,
          null,
          0.603448275862069,
          0.7771739130434783,
          null,
          0.603448275862069,
          0.7880434782608695,
          null,
          0.603448275862069,
          0.7989130434782609,
          null,
          0.6379310344827587,
          0.8097826086956522,
          null,
          0.6379310344827587,
          0.8206521739130435,
          null,
          0.6724137931034483,
          0.8315217391304348,
          null,
          0.6724137931034483,
          0.842391304347826,
          null,
          0.706896551724138,
          0.8532608695652174,
          null,
          0.706896551724138,
          0.8641304347826086,
          null,
          0.706896551724138,
          0.875,
          null,
          0.706896551724138,
          0.8858695652173914,
          null,
          0.706896551724138,
          0.8967391304347826,
          null,
          0.706896551724138,
          0.907608695652174,
          null,
          0.8641304347826086,
          0.6447368421052632,
          null,
          0.8641304347826086,
          0.6710526315789473,
          null,
          0.8641304347826086,
          0.6973684210526315,
          null,
          0.8641304347826086,
          0.7236842105263158,
          null,
          0.6973684210526315,
          0.05555555555555555,
          null,
          0.6973684210526315,
          0.16666666666666666,
          null,
          0.6973684210526315,
          0.2777777777777778,
          null,
          0.6973684210526315,
          0.38888888888888884,
          null,
          0.6973684210526315,
          0.5,
          null,
          0.875,
          0.75,
          null,
          0.875,
          0.7763157894736842,
          null,
          0.8858695652173914,
          0.8026315789473685,
          null,
          0.8858695652173914,
          0.8289473684210527,
          null,
          0.8967391304347826,
          0.8552631578947368,
          null,
          0.8967391304347826,
          0.881578947368421,
          null,
          0.8967391304347826,
          0.9078947368421052,
          null,
          0.881578947368421,
          0.6111111111111112,
          null,
          0.881578947368421,
          0.7222222222222222,
          null,
          0.9078947368421052,
          0.8333333333333333,
          null,
          0.9078947368421052,
          0.9444444444444444,
          null,
          0.907608695652174,
          0.9342105263157895,
          null,
          0.907608695652174,
          0.9605263157894737,
          null,
          0.907608695652174,
          0.9868421052631579,
          null,
          0.8333333333333333,
          0.7413793103448276,
          null,
          0.8333333333333333,
          0.7758620689655172,
          null,
          0.8333333333333333,
          0.810344827586207,
          null,
          0.8333333333333333,
          0.8448275862068966,
          null,
          0.7758620689655172,
          0.9184782608695652,
          null,
          0.7758620689655172,
          0.9293478260869565,
          null,
          0.7758620689655172,
          0.9402173913043478,
          null,
          0.810344827586207,
          0.9510869565217391,
          null,
          0.810344827586207,
          0.9619565217391305,
          null,
          0.810344827586207,
          0.9728260869565217,
          null,
          0.8448275862068966,
          0.9836956521739131,
          null,
          0.8448275862068966,
          0.9945652173913043,
          null,
          0.9285714285714285,
          0.9444444444444444,
          null,
          0.9444444444444444,
          0.8793103448275862,
          null,
          0.9444444444444444,
          0.9137931034482759,
          null,
          0.9444444444444444,
          0.9482758620689655,
          null,
          0.9444444444444444,
          0.9827586206896551,
          null
         ],
         "y": [
          0,
          -0.7142857142857143,
          null,
          0,
          -0.7142857142857143,
          null,
          0,
          -0.7142857142857143,
          null,
          0,
          -0.7142857142857143,
          null,
          0,
          -0.7142857142857143,
          null,
          0,
          -0.7142857142857143,
          null,
          0,
          -0.7142857142857143,
          null,
          -0.7142857142857143,
          -1.4285714285714286,
          null,
          -0.7142857142857143,
          -1.4285714285714286,
          null,
          -0.7142857142857143,
          -1.4285714285714286,
          null,
          -0.7142857142857143,
          -1.4285714285714286,
          null,
          -0.7142857142857143,
          -1.4285714285714286,
          null,
          -0.7142857142857143,
          -1.4285714285714286,
          null,
          -0.7142857142857143,
          -1.4285714285714286,
          null,
          -0.7142857142857143,
          -1.4285714285714286,
          null,
          -1.4285714285714286,
          -2.142857142857143,
          null,
          -1.4285714285714286,
          -2.142857142857143,
          null,
          -1.4285714285714286,
          -2.142857142857143,
          null,
          -1.4285714285714286,
          -2.142857142857143,
          null,
          -1.4285714285714286,
          -2.142857142857143,
          null,
          -1.4285714285714286,
          -2.142857142857143,
          null,
          -1.4285714285714286,
          -2.142857142857143,
          null,
          -1.4285714285714286,
          -2.142857142857143,
          null,
          -1.4285714285714286,
          -2.142857142857143,
          null,
          -1.4285714285714286,
          -2.142857142857143,
          null,
          -1.4285714285714286,
          -2.142857142857143,
          null,
          -1.4285714285714286,
          -2.142857142857143,
          null,
          -1.4285714285714286,
          -2.142857142857143,
          null,
          -1.4285714285714286,
          -2.142857142857143,
          null,
          -1.4285714285714286,
          -2.142857142857143,
          null,
          -1.4285714285714286,
          -2.142857142857143,
          null,
          -1.4285714285714286,
          -2.142857142857143,
          null,
          -1.4285714285714286,
          -2.142857142857143,
          null,
          -1.4285714285714286,
          -2.142857142857143,
          null,
          -1.4285714285714286,
          -2.142857142857143,
          null,
          -1.4285714285714286,
          -2.142857142857143,
          null,
          -2.142857142857143,
          -2.857142857142857,
          null,
          -2.142857142857143,
          -2.857142857142857,
          null,
          -2.142857142857143,
          -2.857142857142857,
          null,
          -2.142857142857143,
          -2.857142857142857,
          null,
          -2.142857142857143,
          -2.857142857142857,
          null,
          -2.142857142857143,
          -2.857142857142857,
          null,
          -2.142857142857143,
          -2.857142857142857,
          null,
          -2.142857142857143,
          -2.857142857142857,
          null,
          -2.142857142857143,
          -2.857142857142857,
          null,
          -2.142857142857143,
          -2.857142857142857,
          null,
          -2.142857142857143,
          -2.857142857142857,
          null,
          -2.142857142857143,
          -2.857142857142857,
          null,
          -2.142857142857143,
          -2.857142857142857,
          null,
          -2.142857142857143,
          -2.857142857142857,
          null,
          -2.142857142857143,
          -2.857142857142857,
          null,
          -2.142857142857143,
          -2.857142857142857,
          null,
          -2.142857142857143,
          -2.857142857142857,
          null,
          -2.142857142857143,
          -2.857142857142857,
          null,
          -2.142857142857143,
          -2.857142857142857,
          null,
          -2.142857142857143,
          -2.857142857142857,
          null,
          -2.142857142857143,
          -2.857142857142857,
          null,
          -2.857142857142857,
          -3.5714285714285716,
          null,
          -2.857142857142857,
          -3.5714285714285716,
          null,
          -2.857142857142857,
          -3.5714285714285716,
          null,
          -2.857142857142857,
          -3.5714285714285716,
          null,
          -2.142857142857143,
          -2.857142857142857,
          null,
          -2.142857142857143,
          -2.857142857142857,
          null,
          -2.142857142857143,
          -2.857142857142857,
          null,
          -2.142857142857143,
          -2.857142857142857,
          null,
          -2.142857142857143,
          -2.857142857142857,
          null,
          -2.142857142857143,
          -2.857142857142857,
          null,
          -2.142857142857143,
          -2.857142857142857,
          null,
          -2.142857142857143,
          -2.857142857142857,
          null,
          -2.142857142857143,
          -2.857142857142857,
          null,
          -2.142857142857143,
          -2.857142857142857,
          null,
          -2.142857142857143,
          -2.857142857142857,
          null,
          -2.857142857142857,
          -3.5714285714285716,
          null,
          -2.857142857142857,
          -3.5714285714285716,
          null,
          -2.857142857142857,
          -3.5714285714285716,
          null,
          -2.857142857142857,
          -3.5714285714285716,
          null,
          -2.142857142857143,
          -2.857142857142857,
          null,
          -2.142857142857143,
          -2.857142857142857,
          null,
          -2.142857142857143,
          -2.857142857142857,
          null,
          -2.142857142857143,
          -2.857142857142857,
          null,
          -2.142857142857143,
          -2.857142857142857,
          null,
          -2.142857142857143,
          -2.857142857142857,
          null,
          -2.142857142857143,
          -2.857142857142857,
          null,
          -2.142857142857143,
          -2.857142857142857,
          null,
          -2.142857142857143,
          -2.857142857142857,
          null,
          -2.142857142857143,
          -2.857142857142857,
          null,
          -2.142857142857143,
          -2.857142857142857,
          null,
          -2.857142857142857,
          -3.5714285714285716,
          null,
          -2.857142857142857,
          -3.5714285714285716,
          null,
          -2.857142857142857,
          -3.5714285714285716,
          null,
          -2.857142857142857,
          -3.5714285714285716,
          null,
          -2.142857142857143,
          -2.857142857142857,
          null,
          -2.142857142857143,
          -2.857142857142857,
          null,
          -2.142857142857143,
          -2.857142857142857,
          null,
          -2.142857142857143,
          -2.857142857142857,
          null,
          -2.857142857142857,
          -3.5714285714285716,
          null,
          -2.857142857142857,
          -3.5714285714285716,
          null,
          -2.857142857142857,
          -3.5714285714285716,
          null,
          -2.857142857142857,
          -3.5714285714285716,
          null,
          -2.142857142857143,
          -2.857142857142857,
          null,
          -2.142857142857143,
          -2.857142857142857,
          null,
          -2.142857142857143,
          -2.857142857142857,
          null,
          -2.142857142857143,
          -2.857142857142857,
          null,
          -2.142857142857143,
          -2.857142857142857,
          null,
          -2.857142857142857,
          -3.5714285714285716,
          null,
          -2.857142857142857,
          -3.5714285714285716,
          null,
          -2.857142857142857,
          -3.5714285714285716,
          null,
          -2.857142857142857,
          -3.5714285714285716,
          null,
          -2.142857142857143,
          -2.857142857142857,
          null,
          -2.142857142857143,
          -2.857142857142857,
          null,
          -2.142857142857143,
          -2.857142857142857,
          null,
          -2.142857142857143,
          -2.857142857142857,
          null,
          -2.142857142857143,
          -2.857142857142857,
          null,
          -2.142857142857143,
          -2.857142857142857,
          null,
          -2.857142857142857,
          -3.5714285714285716,
          null,
          -2.857142857142857,
          -3.5714285714285716,
          null,
          -2.857142857142857,
          -3.5714285714285716,
          null,
          -2.857142857142857,
          -3.5714285714285716,
          null,
          -2.142857142857143,
          -2.857142857142857,
          null,
          -2.142857142857143,
          -2.857142857142857,
          null,
          -2.142857142857143,
          -2.857142857142857,
          null,
          -2.142857142857143,
          -2.857142857142857,
          null,
          -2.142857142857143,
          -2.857142857142857,
          null,
          -2.142857142857143,
          -2.857142857142857,
          null,
          -2.142857142857143,
          -2.857142857142857,
          null,
          -2.142857142857143,
          -2.857142857142857,
          null,
          -2.142857142857143,
          -2.857142857142857,
          null,
          -2.142857142857143,
          -2.857142857142857,
          null,
          -2.142857142857143,
          -2.857142857142857,
          null,
          -2.142857142857143,
          -2.857142857142857,
          null,
          -2.142857142857143,
          -2.857142857142857,
          null,
          -2.142857142857143,
          -2.857142857142857,
          null,
          -2.142857142857143,
          -2.857142857142857,
          null,
          -2.142857142857143,
          -2.857142857142857,
          null,
          -2.142857142857143,
          -2.857142857142857,
          null,
          -2.142857142857143,
          -2.857142857142857,
          null,
          -2.142857142857143,
          -2.857142857142857,
          null,
          -2.142857142857143,
          -2.857142857142857,
          null,
          -2.142857142857143,
          -2.857142857142857,
          null,
          -2.142857142857143,
          -2.857142857142857,
          null,
          -2.142857142857143,
          -2.857142857142857,
          null,
          -2.142857142857143,
          -2.857142857142857,
          null,
          -2.142857142857143,
          -2.857142857142857,
          null,
          -2.142857142857143,
          -2.857142857142857,
          null,
          -2.857142857142857,
          -3.5714285714285716,
          null,
          -2.857142857142857,
          -3.5714285714285716,
          null,
          -2.857142857142857,
          -3.5714285714285716,
          null,
          -2.857142857142857,
          -3.5714285714285716,
          null,
          -3.5714285714285716,
          -4.285714285714286,
          null,
          -3.5714285714285716,
          -4.285714285714286,
          null,
          -3.5714285714285716,
          -4.285714285714286,
          null,
          -3.5714285714285716,
          -4.285714285714286,
          null,
          -3.5714285714285716,
          -4.285714285714286,
          null,
          -2.857142857142857,
          -3.5714285714285716,
          null,
          -2.857142857142857,
          -3.5714285714285716,
          null,
          -2.857142857142857,
          -3.5714285714285716,
          null,
          -2.857142857142857,
          -3.5714285714285716,
          null,
          -2.857142857142857,
          -3.5714285714285716,
          null,
          -2.857142857142857,
          -3.5714285714285716,
          null,
          -2.857142857142857,
          -3.5714285714285716,
          null,
          -3.5714285714285716,
          -4.285714285714286,
          null,
          -3.5714285714285716,
          -4.285714285714286,
          null,
          -3.5714285714285716,
          -4.285714285714286,
          null,
          -3.5714285714285716,
          -4.285714285714286,
          null,
          -2.857142857142857,
          -3.5714285714285716,
          null,
          -2.857142857142857,
          -3.5714285714285716,
          null,
          -2.857142857142857,
          -3.5714285714285716,
          null,
          -1.4285714285714286,
          -2.142857142857143,
          null,
          -1.4285714285714286,
          -2.142857142857143,
          null,
          -1.4285714285714286,
          -2.142857142857143,
          null,
          -1.4285714285714286,
          -2.142857142857143,
          null,
          -2.142857142857143,
          -2.857142857142857,
          null,
          -2.142857142857143,
          -2.857142857142857,
          null,
          -2.142857142857143,
          -2.857142857142857,
          null,
          -2.142857142857143,
          -2.857142857142857,
          null,
          -2.142857142857143,
          -2.857142857142857,
          null,
          -2.142857142857143,
          -2.857142857142857,
          null,
          -2.142857142857143,
          -2.857142857142857,
          null,
          -2.142857142857143,
          -2.857142857142857,
          null,
          -0.7142857142857143,
          -1.4285714285714286,
          null,
          -1.4285714285714286,
          -2.142857142857143,
          null,
          -1.4285714285714286,
          -2.142857142857143,
          null,
          -1.4285714285714286,
          -2.142857142857143,
          null,
          -1.4285714285714286,
          -2.142857142857143,
          null
         ]
        },
        {
         "hoverinfo": "text",
         "marker": {
          "color": "rgb(0,0,0)",
          "line": {
           "color": "rgb(250,250,250)",
           "width": 1
          },
          "size": 20,
          "symbol": "circle"
         },
         "mode": "markers",
         "name": "bla",
         "opacity": 1,
         "text": [
          "i2nsf-security-policy",
          "name",
          "language",
          "priority-usage",
          "resolution-strategy",
          "default-action",
          "rules",
          "name",
          "description",
          "priority",
          "enable",
          "long-connection",
          "enable",
          "duration",
          "event",
          "description",
          "system-event",
          "system-alarm",
          "condition",
          "description",
          "threat-feed",
          "name",
          "layer-2",
          "description",
          "destination-mac-address",
          "destination-mac-address-mask",
          "source-mac-address",
          "source-mac-address-mask",
          "ethertype",
          "ipv4",
          "description",
          "dscp",
          "ecn",
          "length",
          "ttl",
          "protocol",
          "ihl",
          "flags",
          "offset",
          "identification",
          "destination-ipv4-network",
          "destination-ipv4-range",
          "start",
          "end",
          "source-ipv4-network",
          "source-ipv4-range",
          "start",
          "end",
          "ipv6",
          "description",
          "dscp",
          "ecn",
          "length",
          "ttl",
          "protocol",
          "destination-ipv6-network",
          "destination-ipv6-range",
          "start",
          "end",
          "source-ipv6-network",
          "source-ipv6-range",
          "start",
          "end",
          "flow-label",
          "tcp",
          "description",
          "source-port-number",
          "start",
          "end",
          "destination-port-number",
          "start",
          "end",
          "sequence-number",
          "acknowledgement-number",
          "data-offset",
          "reserved",
          "flags",
          "window-size",
          "urgent-pointer",
          "options",
          "udp",
          "description",
          "source-port-number",
          "start",
          "end",
          "destination-port-number",
          "start",
          "end",
          "length",
          "sctp",
          "description",
          "source-port-number",
          "start",
          "end",
          "destination-port-number",
          "start",
          "end",
          "chunk-type",
          "chunk-length",
          "dccp",
          "description",
          "source-port-number",
          "start",
          "end",
          "destination-port-number",
          "start",
          "end",
          "service-code",
          "type",
          "data-offset",
          "icmp",
          "description",
          "version",
          "type",
          "code",
          "rest-of-header",
          "url-category",
          "description",
          "pre-defined",
          "user-defined",
          "voice",
          "description",
          "source-voice-id",
          "destination-voice-id",
          "user-agent",
          "ddos",
          "description",
          "alert-packet-rate",
          "alert-flow-rate",
          "alert-byte-rate",
          "anti-virus",
          "profile",
          "exception-files",
          "payload",
          "description",
          "content",
          "context",
          "description",
          "time",
          "start-date-time",
          "end-date-time",
          "period",
          "start-time",
          "end-time",
          "day",
          "date",
          "month",
          "frequency",
          "application",
          "description",
          "protocol",
          "device-type",
          "description",
          "device",
          "users",
          "description",
          "user",
          "id",
          "name",
          "group",
          "id",
          "name",
          "geographic-location",
          "description",
          "source",
          "destination",
          "action",
          "description",
          "packet-action",
          "ingress-action",
          "egress-action",
          "log-action",
          "flow-action",
          "ingress-action",
          "egress-action",
          "log-action",
          "advanced-action",
          "content-security-control",
          "attack-mitigation-control",
          "rule-group",
          "groups",
          "group-name",
          "rule-name",
          "enable",
          "description"
         ],
         "type": "scatter",
         "x": [
          0.5,
          0.07142857142857142,
          0.21428571428571427,
          0.3571428571428571,
          0.5,
          0.6428571428571428,
          0.7857142857142856,
          0.05555555555555555,
          0.16666666666666666,
          0.2777777777777778,
          0.38888888888888884,
          0.5,
          0.017241379310344827,
          0.05172413793103448,
          0.6111111111111112,
          0.08620689655172414,
          0.12068965517241378,
          0.15517241379310345,
          0.7222222222222222,
          0.18965517241379312,
          0.22413793103448276,
          0.005434782608695652,
          0.2586206896551724,
          0.016304347826086956,
          0.02717391304347826,
          0.03804347826086957,
          0.048913043478260865,
          0.059782608695652176,
          0.07065217391304347,
          0.29310344827586204,
          0.08152173913043478,
          0.09239130434782608,
          0.10326086956521738,
          0.11413043478260869,
          0.125,
          0.1358695652173913,
          0.1467391304347826,
          0.15760869565217392,
          0.16847826086956522,
          0.1793478260869565,
          0.1902173913043478,
          0.2010869565217391,
          0.013157894736842105,
          0.039473684210526314,
          0.21195652173913043,
          0.22282608695652173,
          0.06578947368421052,
          0.09210526315789473,
          0.3275862068965517,
          0.23369565217391303,
          0.24456521739130435,
          0.2554347826086957,
          0.266304347826087,
          0.27717391304347827,
          0.28804347826086957,
          0.29891304347826086,
          0.3097826086956522,
          0.11842105263157894,
          0.14473684210526316,
          0.3206521739130435,
          0.3315217391304348,
          0.17105263157894735,
          0.19736842105263158,
          0.3423913043478261,
          0.3620689655172414,
          0.3532608695652174,
          0.3641304347826087,
          0.22368421052631576,
          0.25,
          0.375,
          0.2763157894736842,
          0.3026315789473684,
          0.3858695652173913,
          0.3967391304347826,
          0.40760869565217395,
          0.41847826086956524,
          0.42934782608695654,
          0.44021739130434784,
          0.45108695652173914,
          0.46195652173913043,
          0.396551724137931,
          0.47282608695652173,
          0.4836956521739131,
          0.3289473684210526,
          0.3552631578947368,
          0.4945652173913044,
          0.381578947368421,
          0.40789473684210525,
          0.5054347826086957,
          0.43103448275862066,
          0.5163043478260869,
          0.5271739130434783,
          0.43421052631578944,
          0.4605263157894736,
          0.5380434782608696,
          0.48684210526315785,
          0.5131578947368421,
          0.5489130434782609,
          0.5597826086956522,
          0.46551724137931033,
          0.5706521739130435,
          0.5815217391304348,
          0.5394736842105263,
          0.5657894736842105,
          0.592391304347826,
          0.5921052631578948,
          0.618421052631579,
          0.6032608695652174,
          0.6141304347826088,
          0.625,
          0.49999999999999994,
          0.6358695652173914,
          0.6467391304347826,
          0.657608695652174,
          0.6684782608695652,
          0.6793478260869565,
          0.5344827586206897,
          0.6902173913043478,
          0.7010869565217391,
          0.7119565217391305,
          0.5689655172413793,
          0.7228260869565217,
          0.7336956521739131,
          0.7445652173913043,
          0.7554347826086957,
          0.603448275862069,
          0.7663043478260869,
          0.7771739130434783,
          0.7880434782608695,
          0.7989130434782609,
          0.6379310344827587,
          0.8097826086956522,
          0.8206521739130435,
          0.6724137931034483,
          0.8315217391304348,
          0.842391304347826,
          0.706896551724138,
          0.8532608695652174,
          0.8641304347826086,
          0.6447368421052632,
          0.6710526315789473,
          0.6973684210526315,
          0.05555555555555555,
          0.16666666666666666,
          0.2777777777777778,
          0.38888888888888884,
          0.5,
          0.7236842105263158,
          0.875,
          0.75,
          0.7763157894736842,
          0.8858695652173914,
          0.8026315789473685,
          0.8289473684210527,
          0.8967391304347826,
          0.8552631578947368,
          0.881578947368421,
          0.6111111111111112,
          0.7222222222222222,
          0.9078947368421052,
          0.8333333333333333,
          0.9444444444444444,
          0.907608695652174,
          0.9342105263157895,
          0.9605263157894737,
          0.9868421052631579,
          0.8333333333333333,
          0.7413793103448276,
          0.7758620689655172,
          0.9184782608695652,
          0.9293478260869565,
          0.9402173913043478,
          0.810344827586207,
          0.9510869565217391,
          0.9619565217391305,
          0.9728260869565217,
          0.8448275862068966,
          0.9836956521739131,
          0.9945652173913043,
          0.9285714285714285,
          0.9444444444444444,
          0.8793103448275862,
          0.9137931034482759,
          0.9482758620689655,
          0.9827586206896551
         ],
         "y": [
          0,
          -0.7142857142857143,
          -0.7142857142857143,
          -0.7142857142857143,
          -0.7142857142857143,
          -0.7142857142857143,
          -0.7142857142857143,
          -1.4285714285714286,
          -1.4285714285714286,
          -1.4285714285714286,
          -1.4285714285714286,
          -1.4285714285714286,
          -2.142857142857143,
          -2.142857142857143,
          -1.4285714285714286,
          -2.142857142857143,
          -2.142857142857143,
          -2.142857142857143,
          -1.4285714285714286,
          -2.142857142857143,
          -2.142857142857143,
          -2.857142857142857,
          -2.142857142857143,
          -2.857142857142857,
          -2.857142857142857,
          -2.857142857142857,
          -2.857142857142857,
          -2.857142857142857,
          -2.857142857142857,
          -2.142857142857143,
          -2.857142857142857,
          -2.857142857142857,
          -2.857142857142857,
          -2.857142857142857,
          -2.857142857142857,
          -2.857142857142857,
          -2.857142857142857,
          -2.857142857142857,
          -2.857142857142857,
          -2.857142857142857,
          -2.857142857142857,
          -2.857142857142857,
          -3.5714285714285716,
          -3.5714285714285716,
          -2.857142857142857,
          -2.857142857142857,
          -3.5714285714285716,
          -3.5714285714285716,
          -2.142857142857143,
          -2.857142857142857,
          -2.857142857142857,
          -2.857142857142857,
          -2.857142857142857,
          -2.857142857142857,
          -2.857142857142857,
          -2.857142857142857,
          -2.857142857142857,
          -3.5714285714285716,
          -3.5714285714285716,
          -2.857142857142857,
          -2.857142857142857,
          -3.5714285714285716,
          -3.5714285714285716,
          -2.857142857142857,
          -2.142857142857143,
          -2.857142857142857,
          -2.857142857142857,
          -3.5714285714285716,
          -3.5714285714285716,
          -2.857142857142857,
          -3.5714285714285716,
          -3.5714285714285716,
          -2.857142857142857,
          -2.857142857142857,
          -2.857142857142857,
          -2.857142857142857,
          -2.857142857142857,
          -2.857142857142857,
          -2.857142857142857,
          -2.857142857142857,
          -2.142857142857143,
          -2.857142857142857,
          -2.857142857142857,
          -3.5714285714285716,
          -3.5714285714285716,
          -2.857142857142857,
          -3.5714285714285716,
          -3.5714285714285716,
          -2.857142857142857,
          -2.142857142857143,
          -2.857142857142857,
          -2.857142857142857,
          -3.5714285714285716,
          -3.5714285714285716,
          -2.857142857142857,
          -3.5714285714285716,
          -3.5714285714285716,
          -2.857142857142857,
          -2.857142857142857,
          -2.142857142857143,
          -2.857142857142857,
          -2.857142857142857,
          -3.5714285714285716,
          -3.5714285714285716,
          -2.857142857142857,
          -3.5714285714285716,
          -3.5714285714285716,
          -2.857142857142857,
          -2.857142857142857,
          -2.857142857142857,
          -2.142857142857143,
          -2.857142857142857,
          -2.857142857142857,
          -2.857142857142857,
          -2.857142857142857,
          -2.857142857142857,
          -2.142857142857143,
          -2.857142857142857,
          -2.857142857142857,
          -2.857142857142857,
          -2.142857142857143,
          -2.857142857142857,
          -2.857142857142857,
          -2.857142857142857,
          -2.857142857142857,
          -2.142857142857143,
          -2.857142857142857,
          -2.857142857142857,
          -2.857142857142857,
          -2.857142857142857,
          -2.142857142857143,
          -2.857142857142857,
          -2.857142857142857,
          -2.142857142857143,
          -2.857142857142857,
          -2.857142857142857,
          -2.142857142857143,
          -2.857142857142857,
          -2.857142857142857,
          -3.5714285714285716,
          -3.5714285714285716,
          -3.5714285714285716,
          -4.285714285714286,
          -4.285714285714286,
          -4.285714285714286,
          -4.285714285714286,
          -4.285714285714286,
          -3.5714285714285716,
          -2.857142857142857,
          -3.5714285714285716,
          -3.5714285714285716,
          -2.857142857142857,
          -3.5714285714285716,
          -3.5714285714285716,
          -2.857142857142857,
          -3.5714285714285716,
          -3.5714285714285716,
          -4.285714285714286,
          -4.285714285714286,
          -3.5714285714285716,
          -4.285714285714286,
          -4.285714285714286,
          -2.857142857142857,
          -3.5714285714285716,
          -3.5714285714285716,
          -3.5714285714285716,
          -1.4285714285714286,
          -2.142857142857143,
          -2.142857142857143,
          -2.857142857142857,
          -2.857142857142857,
          -2.857142857142857,
          -2.142857142857143,
          -2.857142857142857,
          -2.857142857142857,
          -2.857142857142857,
          -2.142857142857143,
          -2.857142857142857,
          -2.857142857142857,
          -0.7142857142857143,
          -1.4285714285714286,
          -2.142857142857143,
          -2.142857142857143,
          -2.142857142857143,
          -2.142857142857143
         ]
        }
       ],
       "layout": {
        "annotations": [
         {
          "font": {
           "color": "rgb(250,250,250)",
           "size": 10
          },
          "showarrow": false,
          "text": "0",
          "x": 0.5,
          "xref": "x",
          "y": 0,
          "yref": "y"
         },
         {
          "font": {
           "color": "rgb(250,250,250)",
           "size": 10
          },
          "showarrow": false,
          "text": "1",
          "x": 0.07142857142857142,
          "xref": "x",
          "y": -0.7142857142857143,
          "yref": "y"
         },
         {
          "font": {
           "color": "rgb(250,250,250)",
           "size": 10
          },
          "showarrow": false,
          "text": "2",
          "x": 0.21428571428571427,
          "xref": "x",
          "y": -0.7142857142857143,
          "yref": "y"
         },
         {
          "font": {
           "color": "rgb(250,250,250)",
           "size": 10
          },
          "showarrow": false,
          "text": "3",
          "x": 0.3571428571428571,
          "xref": "x",
          "y": -0.7142857142857143,
          "yref": "y"
         },
         {
          "font": {
           "color": "rgb(250,250,250)",
           "size": 10
          },
          "showarrow": false,
          "text": "4",
          "x": 0.5,
          "xref": "x",
          "y": -0.7142857142857143,
          "yref": "y"
         },
         {
          "font": {
           "color": "rgb(250,250,250)",
           "size": 10
          },
          "showarrow": false,
          "text": "5",
          "x": 0.6428571428571428,
          "xref": "x",
          "y": -0.7142857142857143,
          "yref": "y"
         },
         {
          "font": {
           "color": "rgb(250,250,250)",
           "size": 10
          },
          "showarrow": false,
          "text": "6",
          "x": 0.7857142857142856,
          "xref": "x",
          "y": -0.7142857142857143,
          "yref": "y"
         },
         {
          "font": {
           "color": "rgb(250,250,250)",
           "size": 10
          },
          "showarrow": false,
          "text": "7",
          "x": 0.05555555555555555,
          "xref": "x",
          "y": -1.4285714285714286,
          "yref": "y"
         },
         {
          "font": {
           "color": "rgb(250,250,250)",
           "size": 10
          },
          "showarrow": false,
          "text": "8",
          "x": 0.16666666666666666,
          "xref": "x",
          "y": -1.4285714285714286,
          "yref": "y"
         },
         {
          "font": {
           "color": "rgb(250,250,250)",
           "size": 10
          },
          "showarrow": false,
          "text": "9",
          "x": 0.2777777777777778,
          "xref": "x",
          "y": -1.4285714285714286,
          "yref": "y"
         },
         {
          "font": {
           "color": "rgb(250,250,250)",
           "size": 10
          },
          "showarrow": false,
          "text": "10",
          "x": 0.38888888888888884,
          "xref": "x",
          "y": -1.4285714285714286,
          "yref": "y"
         },
         {
          "font": {
           "color": "rgb(250,250,250)",
           "size": 10
          },
          "showarrow": false,
          "text": "11",
          "x": 0.5,
          "xref": "x",
          "y": -1.4285714285714286,
          "yref": "y"
         },
         {
          "font": {
           "color": "rgb(250,250,250)",
           "size": 10
          },
          "showarrow": false,
          "text": "12",
          "x": 0.017241379310344827,
          "xref": "x",
          "y": -2.142857142857143,
          "yref": "y"
         },
         {
          "font": {
           "color": "rgb(250,250,250)",
           "size": 10
          },
          "showarrow": false,
          "text": "13",
          "x": 0.05172413793103448,
          "xref": "x",
          "y": -2.142857142857143,
          "yref": "y"
         },
         {
          "font": {
           "color": "rgb(250,250,250)",
           "size": 10
          },
          "showarrow": false,
          "text": "14",
          "x": 0.6111111111111112,
          "xref": "x",
          "y": -1.4285714285714286,
          "yref": "y"
         },
         {
          "font": {
           "color": "rgb(250,250,250)",
           "size": 10
          },
          "showarrow": false,
          "text": "15",
          "x": 0.08620689655172414,
          "xref": "x",
          "y": -2.142857142857143,
          "yref": "y"
         },
         {
          "font": {
           "color": "rgb(250,250,250)",
           "size": 10
          },
          "showarrow": false,
          "text": "16",
          "x": 0.12068965517241378,
          "xref": "x",
          "y": -2.142857142857143,
          "yref": "y"
         },
         {
          "font": {
           "color": "rgb(250,250,250)",
           "size": 10
          },
          "showarrow": false,
          "text": "17",
          "x": 0.15517241379310345,
          "xref": "x",
          "y": -2.142857142857143,
          "yref": "y"
         },
         {
          "font": {
           "color": "rgb(250,250,250)",
           "size": 10
          },
          "showarrow": false,
          "text": "18",
          "x": 0.7222222222222222,
          "xref": "x",
          "y": -1.4285714285714286,
          "yref": "y"
         },
         {
          "font": {
           "color": "rgb(250,250,250)",
           "size": 10
          },
          "showarrow": false,
          "text": "19",
          "x": 0.18965517241379312,
          "xref": "x",
          "y": -2.142857142857143,
          "yref": "y"
         },
         {
          "font": {
           "color": "rgb(250,250,250)",
           "size": 10
          },
          "showarrow": false,
          "text": "20",
          "x": 0.22413793103448276,
          "xref": "x",
          "y": -2.142857142857143,
          "yref": "y"
         },
         {
          "font": {
           "color": "rgb(250,250,250)",
           "size": 10
          },
          "showarrow": false,
          "text": "21",
          "x": 0.005434782608695652,
          "xref": "x",
          "y": -2.857142857142857,
          "yref": "y"
         },
         {
          "font": {
           "color": "rgb(250,250,250)",
           "size": 10
          },
          "showarrow": false,
          "text": "22",
          "x": 0.2586206896551724,
          "xref": "x",
          "y": -2.142857142857143,
          "yref": "y"
         },
         {
          "font": {
           "color": "rgb(250,250,250)",
           "size": 10
          },
          "showarrow": false,
          "text": "23",
          "x": 0.016304347826086956,
          "xref": "x",
          "y": -2.857142857142857,
          "yref": "y"
         },
         {
          "font": {
           "color": "rgb(250,250,250)",
           "size": 10
          },
          "showarrow": false,
          "text": "24",
          "x": 0.02717391304347826,
          "xref": "x",
          "y": -2.857142857142857,
          "yref": "y"
         },
         {
          "font": {
           "color": "rgb(250,250,250)",
           "size": 10
          },
          "showarrow": false,
          "text": "25",
          "x": 0.03804347826086957,
          "xref": "x",
          "y": -2.857142857142857,
          "yref": "y"
         },
         {
          "font": {
           "color": "rgb(250,250,250)",
           "size": 10
          },
          "showarrow": false,
          "text": "26",
          "x": 0.048913043478260865,
          "xref": "x",
          "y": -2.857142857142857,
          "yref": "y"
         },
         {
          "font": {
           "color": "rgb(250,250,250)",
           "size": 10
          },
          "showarrow": false,
          "text": "27",
          "x": 0.059782608695652176,
          "xref": "x",
          "y": -2.857142857142857,
          "yref": "y"
         },
         {
          "font": {
           "color": "rgb(250,250,250)",
           "size": 10
          },
          "showarrow": false,
          "text": "28",
          "x": 0.07065217391304347,
          "xref": "x",
          "y": -2.857142857142857,
          "yref": "y"
         },
         {
          "font": {
           "color": "rgb(250,250,250)",
           "size": 10
          },
          "showarrow": false,
          "text": "31",
          "x": 0.29310344827586204,
          "xref": "x",
          "y": -2.142857142857143,
          "yref": "y"
         },
         {
          "font": {
           "color": "rgb(250,250,250)",
           "size": 10
          },
          "showarrow": false,
          "text": "32",
          "x": 0.08152173913043478,
          "xref": "x",
          "y": -2.857142857142857,
          "yref": "y"
         },
         {
          "font": {
           "color": "rgb(250,250,250)",
           "size": 10
          },
          "showarrow": false,
          "text": "33",
          "x": 0.09239130434782608,
          "xref": "x",
          "y": -2.857142857142857,
          "yref": "y"
         },
         {
          "font": {
           "color": "rgb(250,250,250)",
           "size": 10
          },
          "showarrow": false,
          "text": "34",
          "x": 0.10326086956521738,
          "xref": "x",
          "y": -2.857142857142857,
          "yref": "y"
         },
         {
          "font": {
           "color": "rgb(250,250,250)",
           "size": 10
          },
          "showarrow": false,
          "text": "35",
          "x": 0.11413043478260869,
          "xref": "x",
          "y": -2.857142857142857,
          "yref": "y"
         },
         {
          "font": {
           "color": "rgb(250,250,250)",
           "size": 10
          },
          "showarrow": false,
          "text": "36",
          "x": 0.125,
          "xref": "x",
          "y": -2.857142857142857,
          "yref": "y"
         },
         {
          "font": {
           "color": "rgb(250,250,250)",
           "size": 10
          },
          "showarrow": false,
          "text": "37",
          "x": 0.1358695652173913,
          "xref": "x",
          "y": -2.857142857142857,
          "yref": "y"
         },
         {
          "font": {
           "color": "rgb(250,250,250)",
           "size": 10
          },
          "showarrow": false,
          "text": "38",
          "x": 0.1467391304347826,
          "xref": "x",
          "y": -2.857142857142857,
          "yref": "y"
         },
         {
          "font": {
           "color": "rgb(250,250,250)",
           "size": 10
          },
          "showarrow": false,
          "text": "39",
          "x": 0.15760869565217392,
          "xref": "x",
          "y": -2.857142857142857,
          "yref": "y"
         },
         {
          "font": {
           "color": "rgb(250,250,250)",
           "size": 10
          },
          "showarrow": false,
          "text": "40",
          "x": 0.16847826086956522,
          "xref": "x",
          "y": -2.857142857142857,
          "yref": "y"
         },
         {
          "font": {
           "color": "rgb(250,250,250)",
           "size": 10
          },
          "showarrow": false,
          "text": "41",
          "x": 0.1793478260869565,
          "xref": "x",
          "y": -2.857142857142857,
          "yref": "y"
         },
         {
          "font": {
           "color": "rgb(250,250,250)",
           "size": 10
          },
          "showarrow": false,
          "text": "44",
          "x": 0.1902173913043478,
          "xref": "x",
          "y": -2.857142857142857,
          "yref": "y"
         },
         {
          "font": {
           "color": "rgb(250,250,250)",
           "size": 10
          },
          "showarrow": false,
          "text": "46",
          "x": 0.2010869565217391,
          "xref": "x",
          "y": -2.857142857142857,
          "yref": "y"
         },
         {
          "font": {
           "color": "rgb(250,250,250)",
           "size": 10
          },
          "showarrow": false,
          "text": "47",
          "x": 0.013157894736842105,
          "xref": "x",
          "y": -3.5714285714285716,
          "yref": "y"
         },
         {
          "font": {
           "color": "rgb(250,250,250)",
           "size": 10
          },
          "showarrow": false,
          "text": "48",
          "x": 0.039473684210526314,
          "xref": "x",
          "y": -3.5714285714285716,
          "yref": "y"
         },
         {
          "font": {
           "color": "rgb(250,250,250)",
           "size": 10
          },
          "showarrow": false,
          "text": "51",
          "x": 0.21195652173913043,
          "xref": "x",
          "y": -2.857142857142857,
          "yref": "y"
         },
         {
          "font": {
           "color": "rgb(250,250,250)",
           "size": 10
          },
          "showarrow": false,
          "text": "53",
          "x": 0.22282608695652173,
          "xref": "x",
          "y": -2.857142857142857,
          "yref": "y"
         },
         {
          "font": {
           "color": "rgb(250,250,250)",
           "size": 10
          },
          "showarrow": false,
          "text": "54",
          "x": 0.06578947368421052,
          "xref": "x",
          "y": -3.5714285714285716,
          "yref": "y"
         },
         {
          "font": {
           "color": "rgb(250,250,250)",
           "size": 10
          },
          "showarrow": false,
          "text": "55",
          "x": 0.09210526315789473,
          "xref": "x",
          "y": -3.5714285714285716,
          "yref": "y"
         },
         {
          "font": {
           "color": "rgb(250,250,250)",
           "size": 10
          },
          "showarrow": false,
          "text": "57",
          "x": 0.3275862068965517,
          "xref": "x",
          "y": -2.142857142857143,
          "yref": "y"
         },
         {
          "font": {
           "color": "rgb(250,250,250)",
           "size": 10
          },
          "showarrow": false,
          "text": "58",
          "x": 0.23369565217391303,
          "xref": "x",
          "y": -2.857142857142857,
          "yref": "y"
         },
         {
          "font": {
           "color": "rgb(250,250,250)",
           "size": 10
          },
          "showarrow": false,
          "text": "59",
          "x": 0.24456521739130435,
          "xref": "x",
          "y": -2.857142857142857,
          "yref": "y"
         },
         {
          "font": {
           "color": "rgb(250,250,250)",
           "size": 10
          },
          "showarrow": false,
          "text": "60",
          "x": 0.2554347826086957,
          "xref": "x",
          "y": -2.857142857142857,
          "yref": "y"
         },
         {
          "font": {
           "color": "rgb(250,250,250)",
           "size": 10
          },
          "showarrow": false,
          "text": "61",
          "x": 0.266304347826087,
          "xref": "x",
          "y": -2.857142857142857,
          "yref": "y"
         },
         {
          "font": {
           "color": "rgb(250,250,250)",
           "size": 10
          },
          "showarrow": false,
          "text": "62",
          "x": 0.27717391304347827,
          "xref": "x",
          "y": -2.857142857142857,
          "yref": "y"
         },
         {
          "font": {
           "color": "rgb(250,250,250)",
           "size": 10
          },
          "showarrow": false,
          "text": "63",
          "x": 0.28804347826086957,
          "xref": "x",
          "y": -2.857142857142857,
          "yref": "y"
         },
         {
          "font": {
           "color": "rgb(250,250,250)",
           "size": 10
          },
          "showarrow": false,
          "text": "66",
          "x": 0.29891304347826086,
          "xref": "x",
          "y": -2.857142857142857,
          "yref": "y"
         },
         {
          "font": {
           "color": "rgb(250,250,250)",
           "size": 10
          },
          "showarrow": false,
          "text": "68",
          "x": 0.3097826086956522,
          "xref": "x",
          "y": -2.857142857142857,
          "yref": "y"
         },
         {
          "font": {
           "color": "rgb(250,250,250)",
           "size": 10
          },
          "showarrow": false,
          "text": "69",
          "x": 0.11842105263157894,
          "xref": "x",
          "y": -3.5714285714285716,
          "yref": "y"
         },
         {
          "font": {
           "color": "rgb(250,250,250)",
           "size": 10
          },
          "showarrow": false,
          "text": "70",
          "x": 0.14473684210526316,
          "xref": "x",
          "y": -3.5714285714285716,
          "yref": "y"
         },
         {
          "font": {
           "color": "rgb(250,250,250)",
           "size": 10
          },
          "showarrow": false,
          "text": "73",
          "x": 0.3206521739130435,
          "xref": "x",
          "y": -2.857142857142857,
          "yref": "y"
         },
         {
          "font": {
           "color": "rgb(250,250,250)",
           "size": 10
          },
          "showarrow": false,
          "text": "75",
          "x": 0.3315217391304348,
          "xref": "x",
          "y": -2.857142857142857,
          "yref": "y"
         },
         {
          "font": {
           "color": "rgb(250,250,250)",
           "size": 10
          },
          "showarrow": false,
          "text": "76",
          "x": 0.17105263157894735,
          "xref": "x",
          "y": -3.5714285714285716,
          "yref": "y"
         },
         {
          "font": {
           "color": "rgb(250,250,250)",
           "size": 10
          },
          "showarrow": false,
          "text": "77",
          "x": 0.19736842105263158,
          "xref": "x",
          "y": -3.5714285714285716,
          "yref": "y"
         },
         {
          "font": {
           "color": "rgb(250,250,250)",
           "size": 10
          },
          "showarrow": false,
          "text": "78",
          "x": 0.3423913043478261,
          "xref": "x",
          "y": -2.857142857142857,
          "yref": "y"
         },
         {
          "font": {
           "color": "rgb(250,250,250)",
           "size": 10
          },
          "showarrow": false,
          "text": "81",
          "x": 0.3620689655172414,
          "xref": "x",
          "y": -2.142857142857143,
          "yref": "y"
         },
         {
          "font": {
           "color": "rgb(250,250,250)",
           "size": 10
          },
          "showarrow": false,
          "text": "82",
          "x": 0.3532608695652174,
          "xref": "x",
          "y": -2.857142857142857,
          "yref": "y"
         },
         {
          "font": {
           "color": "rgb(250,250,250)",
           "size": 10
          },
          "showarrow": false,
          "text": "83",
          "x": 0.3641304347826087,
          "xref": "x",
          "y": -2.857142857142857,
          "yref": "y"
         },
         {
          "font": {
           "color": "rgb(250,250,250)",
           "size": 10
          },
          "showarrow": false,
          "text": "84",
          "x": 0.22368421052631576,
          "xref": "x",
          "y": -3.5714285714285716,
          "yref": "y"
         },
         {
          "font": {
           "color": "rgb(250,250,250)",
           "size": 10
          },
          "showarrow": false,
          "text": "85",
          "x": 0.25,
          "xref": "x",
          "y": -3.5714285714285716,
          "yref": "y"
         },
         {
          "font": {
           "color": "rgb(250,250,250)",
           "size": 10
          },
          "showarrow": false,
          "text": "86",
          "x": 0.375,
          "xref": "x",
          "y": -2.857142857142857,
          "yref": "y"
         },
         {
          "font": {
           "color": "rgb(250,250,250)",
           "size": 10
          },
          "showarrow": false,
          "text": "87",
          "x": 0.2763157894736842,
          "xref": "x",
          "y": -3.5714285714285716,
          "yref": "y"
         },
         {
          "font": {
           "color": "rgb(250,250,250)",
           "size": 10
          },
          "showarrow": false,
          "text": "88",
          "x": 0.3026315789473684,
          "xref": "x",
          "y": -3.5714285714285716,
          "yref": "y"
         },
         {
          "font": {
           "color": "rgb(250,250,250)",
           "size": 10
          },
          "showarrow": false,
          "text": "89",
          "x": 0.3858695652173913,
          "xref": "x",
          "y": -2.857142857142857,
          "yref": "y"
         },
         {
          "font": {
           "color": "rgb(250,250,250)",
           "size": 10
          },
          "showarrow": false,
          "text": "90",
          "x": 0.3967391304347826,
          "xref": "x",
          "y": -2.857142857142857,
          "yref": "y"
         },
         {
          "font": {
           "color": "rgb(250,250,250)",
           "size": 10
          },
          "showarrow": false,
          "text": "91",
          "x": 0.40760869565217395,
          "xref": "x",
          "y": -2.857142857142857,
          "yref": "y"
         },
         {
          "font": {
           "color": "rgb(250,250,250)",
           "size": 10
          },
          "showarrow": false,
          "text": "92",
          "x": 0.41847826086956524,
          "xref": "x",
          "y": -2.857142857142857,
          "yref": "y"
         },
         {
          "font": {
           "color": "rgb(250,250,250)",
           "size": 10
          },
          "showarrow": false,
          "text": "93",
          "x": 0.42934782608695654,
          "xref": "x",
          "y": -2.857142857142857,
          "yref": "y"
         },
         {
          "font": {
           "color": "rgb(250,250,250)",
           "size": 10
          },
          "showarrow": false,
          "text": "94",
          "x": 0.44021739130434784,
          "xref": "x",
          "y": -2.857142857142857,
          "yref": "y"
         },
         {
          "font": {
           "color": "rgb(250,250,250)",
           "size": 10
          },
          "showarrow": false,
          "text": "95",
          "x": 0.45108695652173914,
          "xref": "x",
          "y": -2.857142857142857,
          "yref": "y"
         },
         {
          "font": {
           "color": "rgb(250,250,250)",
           "size": 10
          },
          "showarrow": false,
          "text": "96",
          "x": 0.46195652173913043,
          "xref": "x",
          "y": -2.857142857142857,
          "yref": "y"
         },
         {
          "font": {
           "color": "rgb(250,250,250)",
           "size": 10
          },
          "showarrow": false,
          "text": "98",
          "x": 0.396551724137931,
          "xref": "x",
          "y": -2.142857142857143,
          "yref": "y"
         },
         {
          "font": {
           "color": "rgb(250,250,250)",
           "size": 10
          },
          "showarrow": false,
          "text": "99",
          "x": 0.47282608695652173,
          "xref": "x",
          "y": -2.857142857142857,
          "yref": "y"
         },
         {
          "font": {
           "color": "rgb(250,250,250)",
           "size": 10
          },
          "showarrow": false,
          "text": "100",
          "x": 0.4836956521739131,
          "xref": "x",
          "y": -2.857142857142857,
          "yref": "y"
         },
         {
          "font": {
           "color": "rgb(250,250,250)",
           "size": 10
          },
          "showarrow": false,
          "text": "101",
          "x": 0.3289473684210526,
          "xref": "x",
          "y": -3.5714285714285716,
          "yref": "y"
         },
         {
          "font": {
           "color": "rgb(250,250,250)",
           "size": 10
          },
          "showarrow": false,
          "text": "102",
          "x": 0.3552631578947368,
          "xref": "x",
          "y": -3.5714285714285716,
          "yref": "y"
         },
         {
          "font": {
           "color": "rgb(250,250,250)",
           "size": 10
          },
          "showarrow": false,
          "text": "103",
          "x": 0.4945652173913044,
          "xref": "x",
          "y": -2.857142857142857,
          "yref": "y"
         },
         {
          "font": {
           "color": "rgb(250,250,250)",
           "size": 10
          },
          "showarrow": false,
          "text": "104",
          "x": 0.381578947368421,
          "xref": "x",
          "y": -3.5714285714285716,
          "yref": "y"
         },
         {
          "font": {
           "color": "rgb(250,250,250)",
           "size": 10
          },
          "showarrow": false,
          "text": "105",
          "x": 0.40789473684210525,
          "xref": "x",
          "y": -3.5714285714285716,
          "yref": "y"
         },
         {
          "font": {
           "color": "rgb(250,250,250)",
           "size": 10
          },
          "showarrow": false,
          "text": "106",
          "x": 0.5054347826086957,
          "xref": "x",
          "y": -2.857142857142857,
          "yref": "y"
         },
         {
          "font": {
           "color": "rgb(250,250,250)",
           "size": 10
          },
          "showarrow": false,
          "text": "108",
          "x": 0.43103448275862066,
          "xref": "x",
          "y": -2.142857142857143,
          "yref": "y"
         },
         {
          "font": {
           "color": "rgb(250,250,250)",
           "size": 10
          },
          "showarrow": false,
          "text": "109",
          "x": 0.5163043478260869,
          "xref": "x",
          "y": -2.857142857142857,
          "yref": "y"
         },
         {
          "font": {
           "color": "rgb(250,250,250)",
           "size": 10
          },
          "showarrow": false,
          "text": "110",
          "x": 0.5271739130434783,
          "xref": "x",
          "y": -2.857142857142857,
          "yref": "y"
         },
         {
          "font": {
           "color": "rgb(250,250,250)",
           "size": 10
          },
          "showarrow": false,
          "text": "111",
          "x": 0.43421052631578944,
          "xref": "x",
          "y": -3.5714285714285716,
          "yref": "y"
         },
         {
          "font": {
           "color": "rgb(250,250,250)",
           "size": 10
          },
          "showarrow": false,
          "text": "112",
          "x": 0.4605263157894736,
          "xref": "x",
          "y": -3.5714285714285716,
          "yref": "y"
         },
         {
          "font": {
           "color": "rgb(250,250,250)",
           "size": 10
          },
          "showarrow": false,
          "text": "113",
          "x": 0.5380434782608696,
          "xref": "x",
          "y": -2.857142857142857,
          "yref": "y"
         },
         {
          "font": {
           "color": "rgb(250,250,250)",
           "size": 10
          },
          "showarrow": false,
          "text": "114",
          "x": 0.48684210526315785,
          "xref": "x",
          "y": -3.5714285714285716,
          "yref": "y"
         },
         {
          "font": {
           "color": "rgb(250,250,250)",
           "size": 10
          },
          "showarrow": false,
          "text": "115",
          "x": 0.5131578947368421,
          "xref": "x",
          "y": -3.5714285714285716,
          "yref": "y"
         },
         {
          "font": {
           "color": "rgb(250,250,250)",
           "size": 10
          },
          "showarrow": false,
          "text": "116",
          "x": 0.5489130434782609,
          "xref": "x",
          "y": -2.857142857142857,
          "yref": "y"
         },
         {
          "font": {
           "color": "rgb(250,250,250)",
           "size": 10
          },
          "showarrow": false,
          "text": "117",
          "x": 0.5597826086956522,
          "xref": "x",
          "y": -2.857142857142857,
          "yref": "y"
         },
         {
          "font": {
           "color": "rgb(250,250,250)",
           "size": 10
          },
          "showarrow": false,
          "text": "119",
          "x": 0.46551724137931033,
          "xref": "x",
          "y": -2.142857142857143,
          "yref": "y"
         },
         {
          "font": {
           "color": "rgb(250,250,250)",
           "size": 10
          },
          "showarrow": false,
          "text": "120",
          "x": 0.5706521739130435,
          "xref": "x",
          "y": -2.857142857142857,
          "yref": "y"
         },
         {
          "font": {
           "color": "rgb(250,250,250)",
           "size": 10
          },
          "showarrow": false,
          "text": "121",
          "x": 0.5815217391304348,
          "xref": "x",
          "y": -2.857142857142857,
          "yref": "y"
         },
         {
          "font": {
           "color": "rgb(250,250,250)",
           "size": 10
          },
          "showarrow": false,
          "text": "122",
          "x": 0.5394736842105263,
          "xref": "x",
          "y": -3.5714285714285716,
          "yref": "y"
         },
         {
          "font": {
           "color": "rgb(250,250,250)",
           "size": 10
          },
          "showarrow": false,
          "text": "123",
          "x": 0.5657894736842105,
          "xref": "x",
          "y": -3.5714285714285716,
          "yref": "y"
         },
         {
          "font": {
           "color": "rgb(250,250,250)",
           "size": 10
          },
          "showarrow": false,
          "text": "124",
          "x": 0.592391304347826,
          "xref": "x",
          "y": -2.857142857142857,
          "yref": "y"
         },
         {
          "font": {
           "color": "rgb(250,250,250)",
           "size": 10
          },
          "showarrow": false,
          "text": "125",
          "x": 0.5921052631578948,
          "xref": "x",
          "y": -3.5714285714285716,
          "yref": "y"
         },
         {
          "font": {
           "color": "rgb(250,250,250)",
           "size": 10
          },
          "showarrow": false,
          "text": "126",
          "x": 0.618421052631579,
          "xref": "x",
          "y": -3.5714285714285716,
          "yref": "y"
         },
         {
          "font": {
           "color": "rgb(250,250,250)",
           "size": 10
          },
          "showarrow": false,
          "text": "127",
          "x": 0.6032608695652174,
          "xref": "x",
          "y": -2.857142857142857,
          "yref": "y"
         },
         {
          "font": {
           "color": "rgb(250,250,250)",
           "size": 10
          },
          "showarrow": false,
          "text": "128",
          "x": 0.6141304347826088,
          "xref": "x",
          "y": -2.857142857142857,
          "yref": "y"
         },
         {
          "font": {
           "color": "rgb(250,250,250)",
           "size": 10
          },
          "showarrow": false,
          "text": "129",
          "x": 0.625,
          "xref": "x",
          "y": -2.857142857142857,
          "yref": "y"
         },
         {
          "font": {
           "color": "rgb(250,250,250)",
           "size": 10
          },
          "showarrow": false,
          "text": "131",
          "x": 0.49999999999999994,
          "xref": "x",
          "y": -2.142857142857143,
          "yref": "y"
         },
         {
          "font": {
           "color": "rgb(250,250,250)",
           "size": 10
          },
          "showarrow": false,
          "text": "132",
          "x": 0.6358695652173914,
          "xref": "x",
          "y": -2.857142857142857,
          "yref": "y"
         },
         {
          "font": {
           "color": "rgb(250,250,250)",
           "size": 10
          },
          "showarrow": false,
          "text": "133",
          "x": 0.6467391304347826,
          "xref": "x",
          "y": -2.857142857142857,
          "yref": "y"
         },
         {
          "font": {
           "color": "rgb(250,250,250)",
           "size": 10
          },
          "showarrow": false,
          "text": "134",
          "x": 0.657608695652174,
          "xref": "x",
          "y": -2.857142857142857,
          "yref": "y"
         },
         {
          "font": {
           "color": "rgb(250,250,250)",
           "size": 10
          },
          "showarrow": false,
          "text": "135",
          "x": 0.6684782608695652,
          "xref": "x",
          "y": -2.857142857142857,
          "yref": "y"
         },
         {
          "font": {
           "color": "rgb(250,250,250)",
           "size": 10
          },
          "showarrow": false,
          "text": "136",
          "x": 0.6793478260869565,
          "xref": "x",
          "y": -2.857142857142857,
          "yref": "y"
         },
         {
          "font": {
           "color": "rgb(250,250,250)",
           "size": 10
          },
          "showarrow": false,
          "text": "137",
          "x": 0.5344827586206897,
          "xref": "x",
          "y": -2.142857142857143,
          "yref": "y"
         },
         {
          "font": {
           "color": "rgb(250,250,250)",
           "size": 10
          },
          "showarrow": false,
          "text": "138",
          "x": 0.6902173913043478,
          "xref": "x",
          "y": -2.857142857142857,
          "yref": "y"
         },
         {
          "font": {
           "color": "rgb(250,250,250)",
           "size": 10
          },
          "showarrow": false,
          "text": "139",
          "x": 0.7010869565217391,
          "xref": "x",
          "y": -2.857142857142857,
          "yref": "y"
         },
         {
          "font": {
           "color": "rgb(250,250,250)",
           "size": 10
          },
          "showarrow": false,
          "text": "140",
          "x": 0.7119565217391305,
          "xref": "x",
          "y": -2.857142857142857,
          "yref": "y"
         },
         {
          "font": {
           "color": "rgb(250,250,250)",
           "size": 10
          },
          "showarrow": false,
          "text": "141",
          "x": 0.5689655172413793,
          "xref": "x",
          "y": -2.142857142857143,
          "yref": "y"
         },
         {
          "font": {
           "color": "rgb(250,250,250)",
           "size": 10
          },
          "showarrow": false,
          "text": "142",
          "x": 0.7228260869565217,
          "xref": "x",
          "y": -2.857142857142857,
          "yref": "y"
         },
         {
          "font": {
           "color": "rgb(250,250,250)",
           "size": 10
          },
          "showarrow": false,
          "text": "143",
          "x": 0.7336956521739131,
          "xref": "x",
          "y": -2.857142857142857,
          "yref": "y"
         },
         {
          "font": {
           "color": "rgb(250,250,250)",
           "size": 10
          },
          "showarrow": false,
          "text": "144",
          "x": 0.7445652173913043,
          "xref": "x",
          "y": -2.857142857142857,
          "yref": "y"
         },
         {
          "font": {
           "color": "rgb(250,250,250)",
           "size": 10
          },
          "showarrow": false,
          "text": "145",
          "x": 0.7554347826086957,
          "xref": "x",
          "y": -2.857142857142857,
          "yref": "y"
         },
         {
          "font": {
           "color": "rgb(250,250,250)",
           "size": 10
          },
          "showarrow": false,
          "text": "146",
          "x": 0.603448275862069,
          "xref": "x",
          "y": -2.142857142857143,
          "yref": "y"
         },
         {
          "font": {
           "color": "rgb(250,250,250)",
           "size": 10
          },
          "showarrow": false,
          "text": "147",
          "x": 0.7663043478260869,
          "xref": "x",
          "y": -2.857142857142857,
          "yref": "y"
         },
         {
          "font": {
           "color": "rgb(250,250,250)",
           "size": 10
          },
          "showarrow": false,
          "text": "148",
          "x": 0.7771739130434783,
          "xref": "x",
          "y": -2.857142857142857,
          "yref": "y"
         },
         {
          "font": {
           "color": "rgb(250,250,250)",
           "size": 10
          },
          "showarrow": false,
          "text": "149",
          "x": 0.7880434782608695,
          "xref": "x",
          "y": -2.857142857142857,
          "yref": "y"
         },
         {
          "font": {
           "color": "rgb(250,250,250)",
           "size": 10
          },
          "showarrow": false,
          "text": "150",
          "x": 0.7989130434782609,
          "xref": "x",
          "y": -2.857142857142857,
          "yref": "y"
         },
         {
          "font": {
           "color": "rgb(250,250,250)",
           "size": 10
          },
          "showarrow": false,
          "text": "151",
          "x": 0.6379310344827587,
          "xref": "x",
          "y": -2.142857142857143,
          "yref": "y"
         },
         {
          "font": {
           "color": "rgb(250,250,250)",
           "size": 10
          },
          "showarrow": false,
          "text": "152",
          "x": 0.8097826086956522,
          "xref": "x",
          "y": -2.857142857142857,
          "yref": "y"
         },
         {
          "font": {
           "color": "rgb(250,250,250)",
           "size": 10
          },
          "showarrow": false,
          "text": "153",
          "x": 0.8206521739130435,
          "xref": "x",
          "y": -2.857142857142857,
          "yref": "y"
         },
         {
          "font": {
           "color": "rgb(250,250,250)",
           "size": 10
          },
          "showarrow": false,
          "text": "154",
          "x": 0.6724137931034483,
          "xref": "x",
          "y": -2.142857142857143,
          "yref": "y"
         },
         {
          "font": {
           "color": "rgb(250,250,250)",
           "size": 10
          },
          "showarrow": false,
          "text": "155",
          "x": 0.8315217391304348,
          "xref": "x",
          "y": -2.857142857142857,
          "yref": "y"
         },
         {
          "font": {
           "color": "rgb(250,250,250)",
           "size": 10
          },
          "showarrow": false,
          "text": "156",
          "x": 0.842391304347826,
          "xref": "x",
          "y": -2.857142857142857,
          "yref": "y"
         },
         {
          "font": {
           "color": "rgb(250,250,250)",
           "size": 10
          },
          "showarrow": false,
          "text": "157",
          "x": 0.706896551724138,
          "xref": "x",
          "y": -2.142857142857143,
          "yref": "y"
         },
         {
          "font": {
           "color": "rgb(250,250,250)",
           "size": 10
          },
          "showarrow": false,
          "text": "158",
          "x": 0.8532608695652174,
          "xref": "x",
          "y": -2.857142857142857,
          "yref": "y"
         },
         {
          "font": {
           "color": "rgb(250,250,250)",
           "size": 10
          },
          "showarrow": false,
          "text": "159",
          "x": 0.8641304347826086,
          "xref": "x",
          "y": -2.857142857142857,
          "yref": "y"
         },
         {
          "font": {
           "color": "rgb(250,250,250)",
           "size": 10
          },
          "showarrow": false,
          "text": "160",
          "x": 0.6447368421052632,
          "xref": "x",
          "y": -3.5714285714285716,
          "yref": "y"
         },
         {
          "font": {
           "color": "rgb(250,250,250)",
           "size": 10
          },
          "showarrow": false,
          "text": "161",
          "x": 0.6710526315789473,
          "xref": "x",
          "y": -3.5714285714285716,
          "yref": "y"
         },
         {
          "font": {
           "color": "rgb(250,250,250)",
           "size": 10
          },
          "showarrow": false,
          "text": "162",
          "x": 0.6973684210526315,
          "xref": "x",
          "y": -3.5714285714285716,
          "yref": "y"
         },
         {
          "font": {
           "color": "rgb(250,250,250)",
           "size": 10
          },
          "showarrow": false,
          "text": "163",
          "x": 0.05555555555555555,
          "xref": "x",
          "y": -4.285714285714286,
          "yref": "y"
         },
         {
          "font": {
           "color": "rgb(250,250,250)",
           "size": 10
          },
          "showarrow": false,
          "text": "164",
          "x": 0.16666666666666666,
          "xref": "x",
          "y": -4.285714285714286,
          "yref": "y"
         },
         {
          "font": {
           "color": "rgb(250,250,250)",
           "size": 10
          },
          "showarrow": false,
          "text": "165",
          "x": 0.2777777777777778,
          "xref": "x",
          "y": -4.285714285714286,
          "yref": "y"
         },
         {
          "font": {
           "color": "rgb(250,250,250)",
           "size": 10
          },
          "showarrow": false,
          "text": "166",
          "x": 0.38888888888888884,
          "xref": "x",
          "y": -4.285714285714286,
          "yref": "y"
         },
         {
          "font": {
           "color": "rgb(250,250,250)",
           "size": 10
          },
          "showarrow": false,
          "text": "167",
          "x": 0.5,
          "xref": "x",
          "y": -4.285714285714286,
          "yref": "y"
         },
         {
          "font": {
           "color": "rgb(250,250,250)",
           "size": 10
          },
          "showarrow": false,
          "text": "168",
          "x": 0.7236842105263158,
          "xref": "x",
          "y": -3.5714285714285716,
          "yref": "y"
         },
         {
          "font": {
           "color": "rgb(250,250,250)",
           "size": 10
          },
          "showarrow": false,
          "text": "169",
          "x": 0.875,
          "xref": "x",
          "y": -2.857142857142857,
          "yref": "y"
         },
         {
          "font": {
           "color": "rgb(250,250,250)",
           "size": 10
          },
          "showarrow": false,
          "text": "170",
          "x": 0.75,
          "xref": "x",
          "y": -3.5714285714285716,
          "yref": "y"
         },
         {
          "font": {
           "color": "rgb(250,250,250)",
           "size": 10
          },
          "showarrow": false,
          "text": "171",
          "x": 0.7763157894736842,
          "xref": "x",
          "y": -3.5714285714285716,
          "yref": "y"
         },
         {
          "font": {
           "color": "rgb(250,250,250)",
           "size": 10
          },
          "showarrow": false,
          "text": "172",
          "x": 0.8858695652173914,
          "xref": "x",
          "y": -2.857142857142857,
          "yref": "y"
         },
         {
          "font": {
           "color": "rgb(250,250,250)",
           "size": 10
          },
          "showarrow": false,
          "text": "173",
          "x": 0.8026315789473685,
          "xref": "x",
          "y": -3.5714285714285716,
          "yref": "y"
         },
         {
          "font": {
           "color": "rgb(250,250,250)",
           "size": 10
          },
          "showarrow": false,
          "text": "174",
          "x": 0.8289473684210527,
          "xref": "x",
          "y": -3.5714285714285716,
          "yref": "y"
         },
         {
          "font": {
           "color": "rgb(250,250,250)",
           "size": 10
          },
          "showarrow": false,
          "text": "175",
          "x": 0.8967391304347826,
          "xref": "x",
          "y": -2.857142857142857,
          "yref": "y"
         },
         {
          "font": {
           "color": "rgb(250,250,250)",
           "size": 10
          },
          "showarrow": false,
          "text": "176",
          "x": 0.8552631578947368,
          "xref": "x",
          "y": -3.5714285714285716,
          "yref": "y"
         },
         {
          "font": {
           "color": "rgb(250,250,250)",
           "size": 10
          },
          "showarrow": false,
          "text": "177",
          "x": 0.881578947368421,
          "xref": "x",
          "y": -3.5714285714285716,
          "yref": "y"
         },
         {
          "font": {
           "color": "rgb(250,250,250)",
           "size": 10
          },
          "showarrow": false,
          "text": "178",
          "x": 0.6111111111111112,
          "xref": "x",
          "y": -4.285714285714286,
          "yref": "y"
         },
         {
          "font": {
           "color": "rgb(250,250,250)",
           "size": 10
          },
          "showarrow": false,
          "text": "179",
          "x": 0.7222222222222222,
          "xref": "x",
          "y": -4.285714285714286,
          "yref": "y"
         },
         {
          "font": {
           "color": "rgb(250,250,250)",
           "size": 10
          },
          "showarrow": false,
          "text": "180",
          "x": 0.9078947368421052,
          "xref": "x",
          "y": -3.5714285714285716,
          "yref": "y"
         },
         {
          "font": {
           "color": "rgb(250,250,250)",
           "size": 10
          },
          "showarrow": false,
          "text": "181",
          "x": 0.8333333333333333,
          "xref": "x",
          "y": -4.285714285714286,
          "yref": "y"
         },
         {
          "font": {
           "color": "rgb(250,250,250)",
           "size": 10
          },
          "showarrow": false,
          "text": "182",
          "x": 0.9444444444444444,
          "xref": "x",
          "y": -4.285714285714286,
          "yref": "y"
         },
         {
          "font": {
           "color": "rgb(250,250,250)",
           "size": 10
          },
          "showarrow": false,
          "text": "183",
          "x": 0.907608695652174,
          "xref": "x",
          "y": -2.857142857142857,
          "yref": "y"
         },
         {
          "font": {
           "color": "rgb(250,250,250)",
           "size": 10
          },
          "showarrow": false,
          "text": "184",
          "x": 0.9342105263157895,
          "xref": "x",
          "y": -3.5714285714285716,
          "yref": "y"
         },
         {
          "font": {
           "color": "rgb(250,250,250)",
           "size": 10
          },
          "showarrow": false,
          "text": "185",
          "x": 0.9605263157894737,
          "xref": "x",
          "y": -3.5714285714285716,
          "yref": "y"
         },
         {
          "font": {
           "color": "rgb(250,250,250)",
           "size": 10
          },
          "showarrow": false,
          "text": "186",
          "x": 0.9868421052631579,
          "xref": "x",
          "y": -3.5714285714285716,
          "yref": "y"
         },
         {
          "font": {
           "color": "rgb(250,250,250)",
           "size": 10
          },
          "showarrow": false,
          "text": "187",
          "x": 0.8333333333333333,
          "xref": "x",
          "y": -1.4285714285714286,
          "yref": "y"
         },
         {
          "font": {
           "color": "rgb(250,250,250)",
           "size": 10
          },
          "showarrow": false,
          "text": "188",
          "x": 0.7413793103448276,
          "xref": "x",
          "y": -2.142857142857143,
          "yref": "y"
         },
         {
          "font": {
           "color": "rgb(250,250,250)",
           "size": 10
          },
          "showarrow": false,
          "text": "189",
          "x": 0.7758620689655172,
          "xref": "x",
          "y": -2.142857142857143,
          "yref": "y"
         },
         {
          "font": {
           "color": "rgb(250,250,250)",
           "size": 10
          },
          "showarrow": false,
          "text": "190",
          "x": 0.9184782608695652,
          "xref": "x",
          "y": -2.857142857142857,
          "yref": "y"
         },
         {
          "font": {
           "color": "rgb(250,250,250)",
           "size": 10
          },
          "showarrow": false,
          "text": "191",
          "x": 0.9293478260869565,
          "xref": "x",
          "y": -2.857142857142857,
          "yref": "y"
         },
         {
          "font": {
           "color": "rgb(250,250,250)",
           "size": 10
          },
          "showarrow": false,
          "text": "192",
          "x": 0.9402173913043478,
          "xref": "x",
          "y": -2.857142857142857,
          "yref": "y"
         },
         {
          "font": {
           "color": "rgb(250,250,250)",
           "size": 10
          },
          "showarrow": false,
          "text": "193",
          "x": 0.810344827586207,
          "xref": "x",
          "y": -2.142857142857143,
          "yref": "y"
         },
         {
          "font": {
           "color": "rgb(250,250,250)",
           "size": 10
          },
          "showarrow": false,
          "text": "194",
          "x": 0.9510869565217391,
          "xref": "x",
          "y": -2.857142857142857,
          "yref": "y"
         },
         {
          "font": {
           "color": "rgb(250,250,250)",
           "size": 10
          },
          "showarrow": false,
          "text": "195",
          "x": 0.9619565217391305,
          "xref": "x",
          "y": -2.857142857142857,
          "yref": "y"
         },
         {
          "font": {
           "color": "rgb(250,250,250)",
           "size": 10
          },
          "showarrow": false,
          "text": "196",
          "x": 0.9728260869565217,
          "xref": "x",
          "y": -2.857142857142857,
          "yref": "y"
         },
         {
          "font": {
           "color": "rgb(250,250,250)",
           "size": 10
          },
          "showarrow": false,
          "text": "197",
          "x": 0.8448275862068966,
          "xref": "x",
          "y": -2.142857142857143,
          "yref": "y"
         },
         {
          "font": {
           "color": "rgb(250,250,250)",
           "size": 10
          },
          "showarrow": false,
          "text": "198",
          "x": 0.9836956521739131,
          "xref": "x",
          "y": -2.857142857142857,
          "yref": "y"
         },
         {
          "font": {
           "color": "rgb(250,250,250)",
           "size": 10
          },
          "showarrow": false,
          "text": "199",
          "x": 0.9945652173913043,
          "xref": "x",
          "y": -2.857142857142857,
          "yref": "y"
         },
         {
          "font": {
           "color": "rgb(250,250,250)",
           "size": 10
          },
          "showarrow": false,
          "text": "200",
          "x": 0.9285714285714285,
          "xref": "x",
          "y": -0.7142857142857143,
          "yref": "y"
         },
         {
          "font": {
           "color": "rgb(250,250,250)",
           "size": 10
          },
          "showarrow": false,
          "text": "201",
          "x": 0.9444444444444444,
          "xref": "x",
          "y": -1.4285714285714286,
          "yref": "y"
         },
         {
          "font": {
           "color": "rgb(250,250,250)",
           "size": 10
          },
          "showarrow": false,
          "text": "202",
          "x": 0.8793103448275862,
          "xref": "x",
          "y": -2.142857142857143,
          "yref": "y"
         },
         {
          "font": {
           "color": "rgb(250,250,250)",
           "size": 10
          },
          "showarrow": false,
          "text": "203",
          "x": 0.9137931034482759,
          "xref": "x",
          "y": -2.142857142857143,
          "yref": "y"
         },
         {
          "font": {
           "color": "rgb(250,250,250)",
           "size": 10
          },
          "showarrow": false,
          "text": "204",
          "x": 0.9482758620689655,
          "xref": "x",
          "y": -2.142857142857143,
          "yref": "y"
         },
         {
          "font": {
           "color": "rgb(250,250,250)",
           "size": 10
          },
          "showarrow": false,
          "text": "205",
          "x": 0.9827586206896551,
          "xref": "x",
          "y": -2.142857142857143,
          "yref": "y"
         }
        ],
        "font": {
         "size": 10
        },
        "hovermode": "closest",
        "margin": {
         "b": 85,
         "l": 40,
         "r": 40,
         "t": 100
        },
        "plot_bgcolor": "rgb(250,250,250)",
        "showlegend": false,
        "template": {
         "data": {
          "bar": [
           {
            "error_x": {
             "color": "#2a3f5f"
            },
            "error_y": {
             "color": "#2a3f5f"
            },
            "marker": {
             "line": {
              "color": "#E5ECF6",
              "width": 0.5
             },
             "pattern": {
              "fillmode": "overlay",
              "size": 10,
              "solidity": 0.2
             }
            },
            "type": "bar"
           }
          ],
          "barpolar": [
           {
            "marker": {
             "line": {
              "color": "#E5ECF6",
              "width": 0.5
             },
             "pattern": {
              "fillmode": "overlay",
              "size": 10,
              "solidity": 0.2
             }
            },
            "type": "barpolar"
           }
          ],
          "carpet": [
           {
            "aaxis": {
             "endlinecolor": "#2a3f5f",
             "gridcolor": "white",
             "linecolor": "white",
             "minorgridcolor": "white",
             "startlinecolor": "#2a3f5f"
            },
            "baxis": {
             "endlinecolor": "#2a3f5f",
             "gridcolor": "white",
             "linecolor": "white",
             "minorgridcolor": "white",
             "startlinecolor": "#2a3f5f"
            },
            "type": "carpet"
           }
          ],
          "choropleth": [
           {
            "colorbar": {
             "outlinewidth": 0,
             "ticks": ""
            },
            "type": "choropleth"
           }
          ],
          "contour": [
           {
            "colorbar": {
             "outlinewidth": 0,
             "ticks": ""
            },
            "colorscale": [
             [
              0,
              "#0d0887"
             ],
             [
              0.1111111111111111,
              "#46039f"
             ],
             [
              0.2222222222222222,
              "#7201a8"
             ],
             [
              0.3333333333333333,
              "#9c179e"
             ],
             [
              0.4444444444444444,
              "#bd3786"
             ],
             [
              0.5555555555555556,
              "#d8576b"
             ],
             [
              0.6666666666666666,
              "#ed7953"
             ],
             [
              0.7777777777777778,
              "#fb9f3a"
             ],
             [
              0.8888888888888888,
              "#fdca26"
             ],
             [
              1,
              "#f0f921"
             ]
            ],
            "type": "contour"
           }
          ],
          "contourcarpet": [
           {
            "colorbar": {
             "outlinewidth": 0,
             "ticks": ""
            },
            "type": "contourcarpet"
           }
          ],
          "heatmap": [
           {
            "colorbar": {
             "outlinewidth": 0,
             "ticks": ""
            },
            "colorscale": [
             [
              0,
              "#0d0887"
             ],
             [
              0.1111111111111111,
              "#46039f"
             ],
             [
              0.2222222222222222,
              "#7201a8"
             ],
             [
              0.3333333333333333,
              "#9c179e"
             ],
             [
              0.4444444444444444,
              "#bd3786"
             ],
             [
              0.5555555555555556,
              "#d8576b"
             ],
             [
              0.6666666666666666,
              "#ed7953"
             ],
             [
              0.7777777777777778,
              "#fb9f3a"
             ],
             [
              0.8888888888888888,
              "#fdca26"
             ],
             [
              1,
              "#f0f921"
             ]
            ],
            "type": "heatmap"
           }
          ],
          "heatmapgl": [
           {
            "colorbar": {
             "outlinewidth": 0,
             "ticks": ""
            },
            "colorscale": [
             [
              0,
              "#0d0887"
             ],
             [
              0.1111111111111111,
              "#46039f"
             ],
             [
              0.2222222222222222,
              "#7201a8"
             ],
             [
              0.3333333333333333,
              "#9c179e"
             ],
             [
              0.4444444444444444,
              "#bd3786"
             ],
             [
              0.5555555555555556,
              "#d8576b"
             ],
             [
              0.6666666666666666,
              "#ed7953"
             ],
             [
              0.7777777777777778,
              "#fb9f3a"
             ],
             [
              0.8888888888888888,
              "#fdca26"
             ],
             [
              1,
              "#f0f921"
             ]
            ],
            "type": "heatmapgl"
           }
          ],
          "histogram": [
           {
            "marker": {
             "pattern": {
              "fillmode": "overlay",
              "size": 10,
              "solidity": 0.2
             }
            },
            "type": "histogram"
           }
          ],
          "histogram2d": [
           {
            "colorbar": {
             "outlinewidth": 0,
             "ticks": ""
            },
            "colorscale": [
             [
              0,
              "#0d0887"
             ],
             [
              0.1111111111111111,
              "#46039f"
             ],
             [
              0.2222222222222222,
              "#7201a8"
             ],
             [
              0.3333333333333333,
              "#9c179e"
             ],
             [
              0.4444444444444444,
              "#bd3786"
             ],
             [
              0.5555555555555556,
              "#d8576b"
             ],
             [
              0.6666666666666666,
              "#ed7953"
             ],
             [
              0.7777777777777778,
              "#fb9f3a"
             ],
             [
              0.8888888888888888,
              "#fdca26"
             ],
             [
              1,
              "#f0f921"
             ]
            ],
            "type": "histogram2d"
           }
          ],
          "histogram2dcontour": [
           {
            "colorbar": {
             "outlinewidth": 0,
             "ticks": ""
            },
            "colorscale": [
             [
              0,
              "#0d0887"
             ],
             [
              0.1111111111111111,
              "#46039f"
             ],
             [
              0.2222222222222222,
              "#7201a8"
             ],
             [
              0.3333333333333333,
              "#9c179e"
             ],
             [
              0.4444444444444444,
              "#bd3786"
             ],
             [
              0.5555555555555556,
              "#d8576b"
             ],
             [
              0.6666666666666666,
              "#ed7953"
             ],
             [
              0.7777777777777778,
              "#fb9f3a"
             ],
             [
              0.8888888888888888,
              "#fdca26"
             ],
             [
              1,
              "#f0f921"
             ]
            ],
            "type": "histogram2dcontour"
           }
          ],
          "mesh3d": [
           {
            "colorbar": {
             "outlinewidth": 0,
             "ticks": ""
            },
            "type": "mesh3d"
           }
          ],
          "parcoords": [
           {
            "line": {
             "colorbar": {
              "outlinewidth": 0,
              "ticks": ""
             }
            },
            "type": "parcoords"
           }
          ],
          "pie": [
           {
            "automargin": true,
            "type": "pie"
           }
          ],
          "scatter": [
           {
            "fillpattern": {
             "fillmode": "overlay",
             "size": 10,
             "solidity": 0.2
            },
            "type": "scatter"
           }
          ],
          "scatter3d": [
           {
            "line": {
             "colorbar": {
              "outlinewidth": 0,
              "ticks": ""
             }
            },
            "marker": {
             "colorbar": {
              "outlinewidth": 0,
              "ticks": ""
             }
            },
            "type": "scatter3d"
           }
          ],
          "scattercarpet": [
           {
            "marker": {
             "colorbar": {
              "outlinewidth": 0,
              "ticks": ""
             }
            },
            "type": "scattercarpet"
           }
          ],
          "scattergeo": [
           {
            "marker": {
             "colorbar": {
              "outlinewidth": 0,
              "ticks": ""
             }
            },
            "type": "scattergeo"
           }
          ],
          "scattergl": [
           {
            "marker": {
             "colorbar": {
              "outlinewidth": 0,
              "ticks": ""
             }
            },
            "type": "scattergl"
           }
          ],
          "scattermapbox": [
           {
            "marker": {
             "colorbar": {
              "outlinewidth": 0,
              "ticks": ""
             }
            },
            "type": "scattermapbox"
           }
          ],
          "scatterpolar": [
           {
            "marker": {
             "colorbar": {
              "outlinewidth": 0,
              "ticks": ""
             }
            },
            "type": "scatterpolar"
           }
          ],
          "scatterpolargl": [
           {
            "marker": {
             "colorbar": {
              "outlinewidth": 0,
              "ticks": ""
             }
            },
            "type": "scatterpolargl"
           }
          ],
          "scatterternary": [
           {
            "marker": {
             "colorbar": {
              "outlinewidth": 0,
              "ticks": ""
             }
            },
            "type": "scatterternary"
           }
          ],
          "surface": [
           {
            "colorbar": {
             "outlinewidth": 0,
             "ticks": ""
            },
            "colorscale": [
             [
              0,
              "#0d0887"
             ],
             [
              0.1111111111111111,
              "#46039f"
             ],
             [
              0.2222222222222222,
              "#7201a8"
             ],
             [
              0.3333333333333333,
              "#9c179e"
             ],
             [
              0.4444444444444444,
              "#bd3786"
             ],
             [
              0.5555555555555556,
              "#d8576b"
             ],
             [
              0.6666666666666666,
              "#ed7953"
             ],
             [
              0.7777777777777778,
              "#fb9f3a"
             ],
             [
              0.8888888888888888,
              "#fdca26"
             ],
             [
              1,
              "#f0f921"
             ]
            ],
            "type": "surface"
           }
          ],
          "table": [
           {
            "cells": {
             "fill": {
              "color": "#EBF0F8"
             },
             "line": {
              "color": "white"
             }
            },
            "header": {
             "fill": {
              "color": "#C8D4E3"
             },
             "line": {
              "color": "white"
             }
            },
            "type": "table"
           }
          ]
         },
         "layout": {
          "annotationdefaults": {
           "arrowcolor": "#2a3f5f",
           "arrowhead": 0,
           "arrowwidth": 1
          },
          "autotypenumbers": "strict",
          "coloraxis": {
           "colorbar": {
            "outlinewidth": 0,
            "ticks": ""
           }
          },
          "colorscale": {
           "diverging": [
            [
             0,
             "#8e0152"
            ],
            [
             0.1,
             "#c51b7d"
            ],
            [
             0.2,
             "#de77ae"
            ],
            [
             0.3,
             "#f1b6da"
            ],
            [
             0.4,
             "#fde0ef"
            ],
            [
             0.5,
             "#f7f7f7"
            ],
            [
             0.6,
             "#e6f5d0"
            ],
            [
             0.7,
             "#b8e186"
            ],
            [
             0.8,
             "#7fbc41"
            ],
            [
             0.9,
             "#4d9221"
            ],
            [
             1,
             "#276419"
            ]
           ],
           "sequential": [
            [
             0,
             "#0d0887"
            ],
            [
             0.1111111111111111,
             "#46039f"
            ],
            [
             0.2222222222222222,
             "#7201a8"
            ],
            [
             0.3333333333333333,
             "#9c179e"
            ],
            [
             0.4444444444444444,
             "#bd3786"
            ],
            [
             0.5555555555555556,
             "#d8576b"
            ],
            [
             0.6666666666666666,
             "#ed7953"
            ],
            [
             0.7777777777777778,
             "#fb9f3a"
            ],
            [
             0.8888888888888888,
             "#fdca26"
            ],
            [
             1,
             "#f0f921"
            ]
           ],
           "sequentialminus": [
            [
             0,
             "#0d0887"
            ],
            [
             0.1111111111111111,
             "#46039f"
            ],
            [
             0.2222222222222222,
             "#7201a8"
            ],
            [
             0.3333333333333333,
             "#9c179e"
            ],
            [
             0.4444444444444444,
             "#bd3786"
            ],
            [
             0.5555555555555556,
             "#d8576b"
            ],
            [
             0.6666666666666666,
             "#ed7953"
            ],
            [
             0.7777777777777778,
             "#fb9f3a"
            ],
            [
             0.8888888888888888,
             "#fdca26"
            ],
            [
             1,
             "#f0f921"
            ]
           ]
          },
          "colorway": [
           "#636efa",
           "#EF553B",
           "#00cc96",
           "#ab63fa",
           "#FFA15A",
           "#19d3f3",
           "#FF6692",
           "#B6E880",
           "#FF97FF",
           "#FECB52"
          ],
          "font": {
           "color": "#2a3f5f"
          },
          "geo": {
           "bgcolor": "white",
           "lakecolor": "white",
           "landcolor": "#E5ECF6",
           "showlakes": true,
           "showland": true,
           "subunitcolor": "white"
          },
          "hoverlabel": {
           "align": "left"
          },
          "hovermode": "closest",
          "mapbox": {
           "style": "light"
          },
          "paper_bgcolor": "white",
          "plot_bgcolor": "#E5ECF6",
          "polar": {
           "angularaxis": {
            "gridcolor": "white",
            "linecolor": "white",
            "ticks": ""
           },
           "bgcolor": "#E5ECF6",
           "radialaxis": {
            "gridcolor": "white",
            "linecolor": "white",
            "ticks": ""
           }
          },
          "scene": {
           "xaxis": {
            "backgroundcolor": "#E5ECF6",
            "gridcolor": "white",
            "gridwidth": 2,
            "linecolor": "white",
            "showbackground": true,
            "ticks": "",
            "zerolinecolor": "white"
           },
           "yaxis": {
            "backgroundcolor": "#E5ECF6",
            "gridcolor": "white",
            "gridwidth": 2,
            "linecolor": "white",
            "showbackground": true,
            "ticks": "",
            "zerolinecolor": "white"
           },
           "zaxis": {
            "backgroundcolor": "#E5ECF6",
            "gridcolor": "white",
            "gridwidth": 2,
            "linecolor": "white",
            "showbackground": true,
            "ticks": "",
            "zerolinecolor": "white"
           }
          },
          "shapedefaults": {
           "line": {
            "color": "#2a3f5f"
           }
          },
          "ternary": {
           "aaxis": {
            "gridcolor": "white",
            "linecolor": "white",
            "ticks": ""
           },
           "baxis": {
            "gridcolor": "white",
            "linecolor": "white",
            "ticks": ""
           },
           "bgcolor": "#E5ECF6",
           "caxis": {
            "gridcolor": "white",
            "linecolor": "white",
            "ticks": ""
           }
          },
          "title": {
           "x": 0.05
          },
          "xaxis": {
           "automargin": true,
           "gridcolor": "white",
           "linecolor": "white",
           "ticks": "",
           "title": {
            "standoff": 15
           },
           "zerolinecolor": "white",
           "zerolinewidth": 2
          },
          "yaxis": {
           "automargin": true,
           "gridcolor": "white",
           "linecolor": "white",
           "ticks": "",
           "title": {
            "standoff": 15
           },
           "zerolinecolor": "white",
           "zerolinewidth": 2
          }
         }
        },
        "title": {
         "text": "Tree with Reingold-Tilford Layout"
        },
        "xaxis": {
         "showgrid": false,
         "showline": false,
         "showticklabels": false,
         "zeroline": false
        },
        "yaxis": {
         "showgrid": false,
         "showline": false,
         "showticklabels": false,
         "zeroline": false
        }
       }
      },
      "text/html": [
       "<div>                            <div id=\"060cd42d-29a5-496a-a479-f8bce50e32c0\" class=\"plotly-graph-div\" style=\"height:525px; width:100%;\"></div>            <script type=\"text/javascript\">                require([\"plotly\"], function(Plotly) {                    window.PLOTLYENV=window.PLOTLYENV || {};                                    if (document.getElementById(\"060cd42d-29a5-496a-a479-f8bce50e32c0\")) {                    Plotly.newPlot(                        \"060cd42d-29a5-496a-a479-f8bce50e32c0\",                        [{\"hoverinfo\":\"none\",\"line\":{\"color\":\"rgb(0,255,0)\",\"width\":2},\"mode\":\"lines\",\"x\":[0.5,0.07142857142857142,null,0.5,0.21428571428571427,null,0.5,0.3571428571428571,null,0.5,0.5,null,0.5,0.6428571428571428,null,0.5,0.7857142857142856,null,0.5,0.9285714285714285,null,0.7857142857142856,0.05555555555555555,null,0.7857142857142856,0.16666666666666666,null,0.7857142857142856,0.2777777777777778,null,0.7857142857142856,0.38888888888888884,null,0.7857142857142856,0.5,null,0.7857142857142856,0.6111111111111112,null,0.7857142857142856,0.7222222222222222,null,0.7857142857142856,0.8333333333333333,null,0.5,0.017241379310344827,null,0.5,0.05172413793103448,null,0.6111111111111112,0.08620689655172414,null,0.6111111111111112,0.12068965517241378,null,0.6111111111111112,0.15517241379310345,null,0.7222222222222222,0.18965517241379312,null,0.7222222222222222,0.22413793103448276,null,0.7222222222222222,0.2586206896551724,null,0.7222222222222222,0.29310344827586204,null,0.7222222222222222,0.3275862068965517,null,0.7222222222222222,0.3620689655172414,null,0.7222222222222222,0.396551724137931,null,0.7222222222222222,0.43103448275862066,null,0.7222222222222222,0.46551724137931033,null,0.7222222222222222,0.49999999999999994,null,0.7222222222222222,0.5344827586206897,null,0.7222222222222222,0.5689655172413793,null,0.7222222222222222,0.603448275862069,null,0.7222222222222222,0.6379310344827587,null,0.7222222222222222,0.6724137931034483,null,0.7222222222222222,0.706896551724138,null,0.22413793103448276,0.005434782608695652,null,0.2586206896551724,0.016304347826086956,null,0.2586206896551724,0.02717391304347826,null,0.2586206896551724,0.03804347826086957,null,0.2586206896551724,0.048913043478260865,null,0.2586206896551724,0.059782608695652176,null,0.2586206896551724,0.07065217391304347,null,0.29310344827586204,0.08152173913043478,null,0.29310344827586204,0.09239130434782608,null,0.29310344827586204,0.10326086956521738,null,0.29310344827586204,0.11413043478260869,null,0.29310344827586204,0.125,null,0.29310344827586204,0.1358695652173913,null,0.29310344827586204,0.1467391304347826,null,0.29310344827586204,0.15760869565217392,null,0.29310344827586204,0.16847826086956522,null,0.29310344827586204,0.1793478260869565,null,0.29310344827586204,0.1902173913043478,null,0.29310344827586204,0.2010869565217391,null,0.29310344827586204,0.21195652173913043,null,0.29310344827586204,0.22282608695652173,null,0.2010869565217391,0.013157894736842105,null,0.2010869565217391,0.039473684210526314,null,0.22282608695652173,0.06578947368421052,null,0.22282608695652173,0.09210526315789473,null,0.3275862068965517,0.23369565217391303,null,0.3275862068965517,0.24456521739130435,null,0.3275862068965517,0.2554347826086957,null,0.3275862068965517,0.266304347826087,null,0.3275862068965517,0.27717391304347827,null,0.3275862068965517,0.28804347826086957,null,0.3275862068965517,0.29891304347826086,null,0.3275862068965517,0.3097826086956522,null,0.3275862068965517,0.3206521739130435,null,0.3275862068965517,0.3315217391304348,null,0.3275862068965517,0.3423913043478261,null,0.3097826086956522,0.11842105263157894,null,0.3097826086956522,0.14473684210526316,null,0.3315217391304348,0.17105263157894735,null,0.3315217391304348,0.19736842105263158,null,0.3620689655172414,0.3532608695652174,null,0.3620689655172414,0.3641304347826087,null,0.3620689655172414,0.375,null,0.3620689655172414,0.3858695652173913,null,0.3620689655172414,0.3967391304347826,null,0.3620689655172414,0.40760869565217395,null,0.3620689655172414,0.41847826086956524,null,0.3620689655172414,0.42934782608695654,null,0.3620689655172414,0.44021739130434784,null,0.3620689655172414,0.45108695652173914,null,0.3620689655172414,0.46195652173913043,null,0.3641304347826087,0.22368421052631576,null,0.3641304347826087,0.25,null,0.375,0.2763157894736842,null,0.375,0.3026315789473684,null,0.396551724137931,0.47282608695652173,null,0.396551724137931,0.4836956521739131,null,0.396551724137931,0.4945652173913044,null,0.396551724137931,0.5054347826086957,null,0.4836956521739131,0.3289473684210526,null,0.4836956521739131,0.3552631578947368,null,0.4945652173913044,0.381578947368421,null,0.4945652173913044,0.40789473684210525,null,0.43103448275862066,0.5163043478260869,null,0.43103448275862066,0.5271739130434783,null,0.43103448275862066,0.5380434782608696,null,0.43103448275862066,0.5489130434782609,null,0.43103448275862066,0.5597826086956522,null,0.5271739130434783,0.43421052631578944,null,0.5271739130434783,0.4605263157894736,null,0.5380434782608696,0.48684210526315785,null,0.5380434782608696,0.5131578947368421,null,0.46551724137931033,0.5706521739130435,null,0.46551724137931033,0.5815217391304348,null,0.46551724137931033,0.592391304347826,null,0.46551724137931033,0.6032608695652174,null,0.46551724137931033,0.6141304347826088,null,0.46551724137931033,0.625,null,0.5815217391304348,0.5394736842105263,null,0.5815217391304348,0.5657894736842105,null,0.592391304347826,0.5921052631578948,null,0.592391304347826,0.618421052631579,null,0.49999999999999994,0.6358695652173914,null,0.49999999999999994,0.6467391304347826,null,0.49999999999999994,0.657608695652174,null,0.49999999999999994,0.6684782608695652,null,0.49999999999999994,0.6793478260869565,null,0.5344827586206897,0.6902173913043478,null,0.5344827586206897,0.7010869565217391,null,0.5344827586206897,0.7119565217391305,null,0.5689655172413793,0.7228260869565217,null,0.5689655172413793,0.7336956521739131,null,0.5689655172413793,0.7445652173913043,null,0.5689655172413793,0.7554347826086957,null,0.603448275862069,0.7663043478260869,null,0.603448275862069,0.7771739130434783,null,0.603448275862069,0.7880434782608695,null,0.603448275862069,0.7989130434782609,null,0.6379310344827587,0.8097826086956522,null,0.6379310344827587,0.8206521739130435,null,0.6724137931034483,0.8315217391304348,null,0.6724137931034483,0.842391304347826,null,0.706896551724138,0.8532608695652174,null,0.706896551724138,0.8641304347826086,null,0.706896551724138,0.875,null,0.706896551724138,0.8858695652173914,null,0.706896551724138,0.8967391304347826,null,0.706896551724138,0.907608695652174,null,0.8641304347826086,0.6447368421052632,null,0.8641304347826086,0.6710526315789473,null,0.8641304347826086,0.6973684210526315,null,0.8641304347826086,0.7236842105263158,null,0.6973684210526315,0.05555555555555555,null,0.6973684210526315,0.16666666666666666,null,0.6973684210526315,0.2777777777777778,null,0.6973684210526315,0.38888888888888884,null,0.6973684210526315,0.5,null,0.875,0.75,null,0.875,0.7763157894736842,null,0.8858695652173914,0.8026315789473685,null,0.8858695652173914,0.8289473684210527,null,0.8967391304347826,0.8552631578947368,null,0.8967391304347826,0.881578947368421,null,0.8967391304347826,0.9078947368421052,null,0.881578947368421,0.6111111111111112,null,0.881578947368421,0.7222222222222222,null,0.9078947368421052,0.8333333333333333,null,0.9078947368421052,0.9444444444444444,null,0.907608695652174,0.9342105263157895,null,0.907608695652174,0.9605263157894737,null,0.907608695652174,0.9868421052631579,null,0.8333333333333333,0.7413793103448276,null,0.8333333333333333,0.7758620689655172,null,0.8333333333333333,0.810344827586207,null,0.8333333333333333,0.8448275862068966,null,0.7758620689655172,0.9184782608695652,null,0.7758620689655172,0.9293478260869565,null,0.7758620689655172,0.9402173913043478,null,0.810344827586207,0.9510869565217391,null,0.810344827586207,0.9619565217391305,null,0.810344827586207,0.9728260869565217,null,0.8448275862068966,0.9836956521739131,null,0.8448275862068966,0.9945652173913043,null,0.9285714285714285,0.9444444444444444,null,0.9444444444444444,0.8793103448275862,null,0.9444444444444444,0.9137931034482759,null,0.9444444444444444,0.9482758620689655,null,0.9444444444444444,0.9827586206896551,null],\"y\":[0,-0.7142857142857143,null,0,-0.7142857142857143,null,0,-0.7142857142857143,null,0,-0.7142857142857143,null,0,-0.7142857142857143,null,0,-0.7142857142857143,null,0,-0.7142857142857143,null,-0.7142857142857143,-1.4285714285714286,null,-0.7142857142857143,-1.4285714285714286,null,-0.7142857142857143,-1.4285714285714286,null,-0.7142857142857143,-1.4285714285714286,null,-0.7142857142857143,-1.4285714285714286,null,-0.7142857142857143,-1.4285714285714286,null,-0.7142857142857143,-1.4285714285714286,null,-0.7142857142857143,-1.4285714285714286,null,-1.4285714285714286,-2.142857142857143,null,-1.4285714285714286,-2.142857142857143,null,-1.4285714285714286,-2.142857142857143,null,-1.4285714285714286,-2.142857142857143,null,-1.4285714285714286,-2.142857142857143,null,-1.4285714285714286,-2.142857142857143,null,-1.4285714285714286,-2.142857142857143,null,-1.4285714285714286,-2.142857142857143,null,-1.4285714285714286,-2.142857142857143,null,-1.4285714285714286,-2.142857142857143,null,-1.4285714285714286,-2.142857142857143,null,-1.4285714285714286,-2.142857142857143,null,-1.4285714285714286,-2.142857142857143,null,-1.4285714285714286,-2.142857142857143,null,-1.4285714285714286,-2.142857142857143,null,-1.4285714285714286,-2.142857142857143,null,-1.4285714285714286,-2.142857142857143,null,-1.4285714285714286,-2.142857142857143,null,-1.4285714285714286,-2.142857142857143,null,-1.4285714285714286,-2.142857142857143,null,-1.4285714285714286,-2.142857142857143,null,-2.142857142857143,-2.857142857142857,null,-2.142857142857143,-2.857142857142857,null,-2.142857142857143,-2.857142857142857,null,-2.142857142857143,-2.857142857142857,null,-2.142857142857143,-2.857142857142857,null,-2.142857142857143,-2.857142857142857,null,-2.142857142857143,-2.857142857142857,null,-2.142857142857143,-2.857142857142857,null,-2.142857142857143,-2.857142857142857,null,-2.142857142857143,-2.857142857142857,null,-2.142857142857143,-2.857142857142857,null,-2.142857142857143,-2.857142857142857,null,-2.142857142857143,-2.857142857142857,null,-2.142857142857143,-2.857142857142857,null,-2.142857142857143,-2.857142857142857,null,-2.142857142857143,-2.857142857142857,null,-2.142857142857143,-2.857142857142857,null,-2.142857142857143,-2.857142857142857,null,-2.142857142857143,-2.857142857142857,null,-2.142857142857143,-2.857142857142857,null,-2.142857142857143,-2.857142857142857,null,-2.857142857142857,-3.5714285714285716,null,-2.857142857142857,-3.5714285714285716,null,-2.857142857142857,-3.5714285714285716,null,-2.857142857142857,-3.5714285714285716,null,-2.142857142857143,-2.857142857142857,null,-2.142857142857143,-2.857142857142857,null,-2.142857142857143,-2.857142857142857,null,-2.142857142857143,-2.857142857142857,null,-2.142857142857143,-2.857142857142857,null,-2.142857142857143,-2.857142857142857,null,-2.142857142857143,-2.857142857142857,null,-2.142857142857143,-2.857142857142857,null,-2.142857142857143,-2.857142857142857,null,-2.142857142857143,-2.857142857142857,null,-2.142857142857143,-2.857142857142857,null,-2.857142857142857,-3.5714285714285716,null,-2.857142857142857,-3.5714285714285716,null,-2.857142857142857,-3.5714285714285716,null,-2.857142857142857,-3.5714285714285716,null,-2.142857142857143,-2.857142857142857,null,-2.142857142857143,-2.857142857142857,null,-2.142857142857143,-2.857142857142857,null,-2.142857142857143,-2.857142857142857,null,-2.142857142857143,-2.857142857142857,null,-2.142857142857143,-2.857142857142857,null,-2.142857142857143,-2.857142857142857,null,-2.142857142857143,-2.857142857142857,null,-2.142857142857143,-2.857142857142857,null,-2.142857142857143,-2.857142857142857,null,-2.142857142857143,-2.857142857142857,null,-2.857142857142857,-3.5714285714285716,null,-2.857142857142857,-3.5714285714285716,null,-2.857142857142857,-3.5714285714285716,null,-2.857142857142857,-3.5714285714285716,null,-2.142857142857143,-2.857142857142857,null,-2.142857142857143,-2.857142857142857,null,-2.142857142857143,-2.857142857142857,null,-2.142857142857143,-2.857142857142857,null,-2.857142857142857,-3.5714285714285716,null,-2.857142857142857,-3.5714285714285716,null,-2.857142857142857,-3.5714285714285716,null,-2.857142857142857,-3.5714285714285716,null,-2.142857142857143,-2.857142857142857,null,-2.142857142857143,-2.857142857142857,null,-2.142857142857143,-2.857142857142857,null,-2.142857142857143,-2.857142857142857,null,-2.142857142857143,-2.857142857142857,null,-2.857142857142857,-3.5714285714285716,null,-2.857142857142857,-3.5714285714285716,null,-2.857142857142857,-3.5714285714285716,null,-2.857142857142857,-3.5714285714285716,null,-2.142857142857143,-2.857142857142857,null,-2.142857142857143,-2.857142857142857,null,-2.142857142857143,-2.857142857142857,null,-2.142857142857143,-2.857142857142857,null,-2.142857142857143,-2.857142857142857,null,-2.142857142857143,-2.857142857142857,null,-2.857142857142857,-3.5714285714285716,null,-2.857142857142857,-3.5714285714285716,null,-2.857142857142857,-3.5714285714285716,null,-2.857142857142857,-3.5714285714285716,null,-2.142857142857143,-2.857142857142857,null,-2.142857142857143,-2.857142857142857,null,-2.142857142857143,-2.857142857142857,null,-2.142857142857143,-2.857142857142857,null,-2.142857142857143,-2.857142857142857,null,-2.142857142857143,-2.857142857142857,null,-2.142857142857143,-2.857142857142857,null,-2.142857142857143,-2.857142857142857,null,-2.142857142857143,-2.857142857142857,null,-2.142857142857143,-2.857142857142857,null,-2.142857142857143,-2.857142857142857,null,-2.142857142857143,-2.857142857142857,null,-2.142857142857143,-2.857142857142857,null,-2.142857142857143,-2.857142857142857,null,-2.142857142857143,-2.857142857142857,null,-2.142857142857143,-2.857142857142857,null,-2.142857142857143,-2.857142857142857,null,-2.142857142857143,-2.857142857142857,null,-2.142857142857143,-2.857142857142857,null,-2.142857142857143,-2.857142857142857,null,-2.142857142857143,-2.857142857142857,null,-2.142857142857143,-2.857142857142857,null,-2.142857142857143,-2.857142857142857,null,-2.142857142857143,-2.857142857142857,null,-2.142857142857143,-2.857142857142857,null,-2.142857142857143,-2.857142857142857,null,-2.857142857142857,-3.5714285714285716,null,-2.857142857142857,-3.5714285714285716,null,-2.857142857142857,-3.5714285714285716,null,-2.857142857142857,-3.5714285714285716,null,-3.5714285714285716,-4.285714285714286,null,-3.5714285714285716,-4.285714285714286,null,-3.5714285714285716,-4.285714285714286,null,-3.5714285714285716,-4.285714285714286,null,-3.5714285714285716,-4.285714285714286,null,-2.857142857142857,-3.5714285714285716,null,-2.857142857142857,-3.5714285714285716,null,-2.857142857142857,-3.5714285714285716,null,-2.857142857142857,-3.5714285714285716,null,-2.857142857142857,-3.5714285714285716,null,-2.857142857142857,-3.5714285714285716,null,-2.857142857142857,-3.5714285714285716,null,-3.5714285714285716,-4.285714285714286,null,-3.5714285714285716,-4.285714285714286,null,-3.5714285714285716,-4.285714285714286,null,-3.5714285714285716,-4.285714285714286,null,-2.857142857142857,-3.5714285714285716,null,-2.857142857142857,-3.5714285714285716,null,-2.857142857142857,-3.5714285714285716,null,-1.4285714285714286,-2.142857142857143,null,-1.4285714285714286,-2.142857142857143,null,-1.4285714285714286,-2.142857142857143,null,-1.4285714285714286,-2.142857142857143,null,-2.142857142857143,-2.857142857142857,null,-2.142857142857143,-2.857142857142857,null,-2.142857142857143,-2.857142857142857,null,-2.142857142857143,-2.857142857142857,null,-2.142857142857143,-2.857142857142857,null,-2.142857142857143,-2.857142857142857,null,-2.142857142857143,-2.857142857142857,null,-2.142857142857143,-2.857142857142857,null,-0.7142857142857143,-1.4285714285714286,null,-1.4285714285714286,-2.142857142857143,null,-1.4285714285714286,-2.142857142857143,null,-1.4285714285714286,-2.142857142857143,null,-1.4285714285714286,-2.142857142857143,null],\"type\":\"scatter\"},{\"hoverinfo\":\"text\",\"marker\":{\"color\":\"rgb(0,0,0)\",\"line\":{\"color\":\"rgb(250,250,250)\",\"width\":1},\"size\":20,\"symbol\":\"circle\"},\"mode\":\"markers\",\"name\":\"bla\",\"opacity\":1,\"text\":[\"i2nsf-security-policy\",\"name\",\"language\",\"priority-usage\",\"resolution-strategy\",\"default-action\",\"rules\",\"name\",\"description\",\"priority\",\"enable\",\"long-connection\",\"enable\",\"duration\",\"event\",\"description\",\"system-event\",\"system-alarm\",\"condition\",\"description\",\"threat-feed\",\"name\",\"layer-2\",\"description\",\"destination-mac-address\",\"destination-mac-address-mask\",\"source-mac-address\",\"source-mac-address-mask\",\"ethertype\",\"ipv4\",\"description\",\"dscp\",\"ecn\",\"length\",\"ttl\",\"protocol\",\"ihl\",\"flags\",\"offset\",\"identification\",\"destination-ipv4-network\",\"destination-ipv4-range\",\"start\",\"end\",\"source-ipv4-network\",\"source-ipv4-range\",\"start\",\"end\",\"ipv6\",\"description\",\"dscp\",\"ecn\",\"length\",\"ttl\",\"protocol\",\"destination-ipv6-network\",\"destination-ipv6-range\",\"start\",\"end\",\"source-ipv6-network\",\"source-ipv6-range\",\"start\",\"end\",\"flow-label\",\"tcp\",\"description\",\"source-port-number\",\"start\",\"end\",\"destination-port-number\",\"start\",\"end\",\"sequence-number\",\"acknowledgement-number\",\"data-offset\",\"reserved\",\"flags\",\"window-size\",\"urgent-pointer\",\"options\",\"udp\",\"description\",\"source-port-number\",\"start\",\"end\",\"destination-port-number\",\"start\",\"end\",\"length\",\"sctp\",\"description\",\"source-port-number\",\"start\",\"end\",\"destination-port-number\",\"start\",\"end\",\"chunk-type\",\"chunk-length\",\"dccp\",\"description\",\"source-port-number\",\"start\",\"end\",\"destination-port-number\",\"start\",\"end\",\"service-code\",\"type\",\"data-offset\",\"icmp\",\"description\",\"version\",\"type\",\"code\",\"rest-of-header\",\"url-category\",\"description\",\"pre-defined\",\"user-defined\",\"voice\",\"description\",\"source-voice-id\",\"destination-voice-id\",\"user-agent\",\"ddos\",\"description\",\"alert-packet-rate\",\"alert-flow-rate\",\"alert-byte-rate\",\"anti-virus\",\"profile\",\"exception-files\",\"payload\",\"description\",\"content\",\"context\",\"description\",\"time\",\"start-date-time\",\"end-date-time\",\"period\",\"start-time\",\"end-time\",\"day\",\"date\",\"month\",\"frequency\",\"application\",\"description\",\"protocol\",\"device-type\",\"description\",\"device\",\"users\",\"description\",\"user\",\"id\",\"name\",\"group\",\"id\",\"name\",\"geographic-location\",\"description\",\"source\",\"destination\",\"action\",\"description\",\"packet-action\",\"ingress-action\",\"egress-action\",\"log-action\",\"flow-action\",\"ingress-action\",\"egress-action\",\"log-action\",\"advanced-action\",\"content-security-control\",\"attack-mitigation-control\",\"rule-group\",\"groups\",\"group-name\",\"rule-name\",\"enable\",\"description\"],\"x\":[0.5,0.07142857142857142,0.21428571428571427,0.3571428571428571,0.5,0.6428571428571428,0.7857142857142856,0.05555555555555555,0.16666666666666666,0.2777777777777778,0.38888888888888884,0.5,0.017241379310344827,0.05172413793103448,0.6111111111111112,0.08620689655172414,0.12068965517241378,0.15517241379310345,0.7222222222222222,0.18965517241379312,0.22413793103448276,0.005434782608695652,0.2586206896551724,0.016304347826086956,0.02717391304347826,0.03804347826086957,0.048913043478260865,0.059782608695652176,0.07065217391304347,0.29310344827586204,0.08152173913043478,0.09239130434782608,0.10326086956521738,0.11413043478260869,0.125,0.1358695652173913,0.1467391304347826,0.15760869565217392,0.16847826086956522,0.1793478260869565,0.1902173913043478,0.2010869565217391,0.013157894736842105,0.039473684210526314,0.21195652173913043,0.22282608695652173,0.06578947368421052,0.09210526315789473,0.3275862068965517,0.23369565217391303,0.24456521739130435,0.2554347826086957,0.266304347826087,0.27717391304347827,0.28804347826086957,0.29891304347826086,0.3097826086956522,0.11842105263157894,0.14473684210526316,0.3206521739130435,0.3315217391304348,0.17105263157894735,0.19736842105263158,0.3423913043478261,0.3620689655172414,0.3532608695652174,0.3641304347826087,0.22368421052631576,0.25,0.375,0.2763157894736842,0.3026315789473684,0.3858695652173913,0.3967391304347826,0.40760869565217395,0.41847826086956524,0.42934782608695654,0.44021739130434784,0.45108695652173914,0.46195652173913043,0.396551724137931,0.47282608695652173,0.4836956521739131,0.3289473684210526,0.3552631578947368,0.4945652173913044,0.381578947368421,0.40789473684210525,0.5054347826086957,0.43103448275862066,0.5163043478260869,0.5271739130434783,0.43421052631578944,0.4605263157894736,0.5380434782608696,0.48684210526315785,0.5131578947368421,0.5489130434782609,0.5597826086956522,0.46551724137931033,0.5706521739130435,0.5815217391304348,0.5394736842105263,0.5657894736842105,0.592391304347826,0.5921052631578948,0.618421052631579,0.6032608695652174,0.6141304347826088,0.625,0.49999999999999994,0.6358695652173914,0.6467391304347826,0.657608695652174,0.6684782608695652,0.6793478260869565,0.5344827586206897,0.6902173913043478,0.7010869565217391,0.7119565217391305,0.5689655172413793,0.7228260869565217,0.7336956521739131,0.7445652173913043,0.7554347826086957,0.603448275862069,0.7663043478260869,0.7771739130434783,0.7880434782608695,0.7989130434782609,0.6379310344827587,0.8097826086956522,0.8206521739130435,0.6724137931034483,0.8315217391304348,0.842391304347826,0.706896551724138,0.8532608695652174,0.8641304347826086,0.6447368421052632,0.6710526315789473,0.6973684210526315,0.05555555555555555,0.16666666666666666,0.2777777777777778,0.38888888888888884,0.5,0.7236842105263158,0.875,0.75,0.7763157894736842,0.8858695652173914,0.8026315789473685,0.8289473684210527,0.8967391304347826,0.8552631578947368,0.881578947368421,0.6111111111111112,0.7222222222222222,0.9078947368421052,0.8333333333333333,0.9444444444444444,0.907608695652174,0.9342105263157895,0.9605263157894737,0.9868421052631579,0.8333333333333333,0.7413793103448276,0.7758620689655172,0.9184782608695652,0.9293478260869565,0.9402173913043478,0.810344827586207,0.9510869565217391,0.9619565217391305,0.9728260869565217,0.8448275862068966,0.9836956521739131,0.9945652173913043,0.9285714285714285,0.9444444444444444,0.8793103448275862,0.9137931034482759,0.9482758620689655,0.9827586206896551],\"y\":[0,-0.7142857142857143,-0.7142857142857143,-0.7142857142857143,-0.7142857142857143,-0.7142857142857143,-0.7142857142857143,-1.4285714285714286,-1.4285714285714286,-1.4285714285714286,-1.4285714285714286,-1.4285714285714286,-2.142857142857143,-2.142857142857143,-1.4285714285714286,-2.142857142857143,-2.142857142857143,-2.142857142857143,-1.4285714285714286,-2.142857142857143,-2.142857142857143,-2.857142857142857,-2.142857142857143,-2.857142857142857,-2.857142857142857,-2.857142857142857,-2.857142857142857,-2.857142857142857,-2.857142857142857,-2.142857142857143,-2.857142857142857,-2.857142857142857,-2.857142857142857,-2.857142857142857,-2.857142857142857,-2.857142857142857,-2.857142857142857,-2.857142857142857,-2.857142857142857,-2.857142857142857,-2.857142857142857,-2.857142857142857,-3.5714285714285716,-3.5714285714285716,-2.857142857142857,-2.857142857142857,-3.5714285714285716,-3.5714285714285716,-2.142857142857143,-2.857142857142857,-2.857142857142857,-2.857142857142857,-2.857142857142857,-2.857142857142857,-2.857142857142857,-2.857142857142857,-2.857142857142857,-3.5714285714285716,-3.5714285714285716,-2.857142857142857,-2.857142857142857,-3.5714285714285716,-3.5714285714285716,-2.857142857142857,-2.142857142857143,-2.857142857142857,-2.857142857142857,-3.5714285714285716,-3.5714285714285716,-2.857142857142857,-3.5714285714285716,-3.5714285714285716,-2.857142857142857,-2.857142857142857,-2.857142857142857,-2.857142857142857,-2.857142857142857,-2.857142857142857,-2.857142857142857,-2.857142857142857,-2.142857142857143,-2.857142857142857,-2.857142857142857,-3.5714285714285716,-3.5714285714285716,-2.857142857142857,-3.5714285714285716,-3.5714285714285716,-2.857142857142857,-2.142857142857143,-2.857142857142857,-2.857142857142857,-3.5714285714285716,-3.5714285714285716,-2.857142857142857,-3.5714285714285716,-3.5714285714285716,-2.857142857142857,-2.857142857142857,-2.142857142857143,-2.857142857142857,-2.857142857142857,-3.5714285714285716,-3.5714285714285716,-2.857142857142857,-3.5714285714285716,-3.5714285714285716,-2.857142857142857,-2.857142857142857,-2.857142857142857,-2.142857142857143,-2.857142857142857,-2.857142857142857,-2.857142857142857,-2.857142857142857,-2.857142857142857,-2.142857142857143,-2.857142857142857,-2.857142857142857,-2.857142857142857,-2.142857142857143,-2.857142857142857,-2.857142857142857,-2.857142857142857,-2.857142857142857,-2.142857142857143,-2.857142857142857,-2.857142857142857,-2.857142857142857,-2.857142857142857,-2.142857142857143,-2.857142857142857,-2.857142857142857,-2.142857142857143,-2.857142857142857,-2.857142857142857,-2.142857142857143,-2.857142857142857,-2.857142857142857,-3.5714285714285716,-3.5714285714285716,-3.5714285714285716,-4.285714285714286,-4.285714285714286,-4.285714285714286,-4.285714285714286,-4.285714285714286,-3.5714285714285716,-2.857142857142857,-3.5714285714285716,-3.5714285714285716,-2.857142857142857,-3.5714285714285716,-3.5714285714285716,-2.857142857142857,-3.5714285714285716,-3.5714285714285716,-4.285714285714286,-4.285714285714286,-3.5714285714285716,-4.285714285714286,-4.285714285714286,-2.857142857142857,-3.5714285714285716,-3.5714285714285716,-3.5714285714285716,-1.4285714285714286,-2.142857142857143,-2.142857142857143,-2.857142857142857,-2.857142857142857,-2.857142857142857,-2.142857142857143,-2.857142857142857,-2.857142857142857,-2.857142857142857,-2.142857142857143,-2.857142857142857,-2.857142857142857,-0.7142857142857143,-1.4285714285714286,-2.142857142857143,-2.142857142857143,-2.142857142857143,-2.142857142857143],\"type\":\"scatter\"}],                        {\"template\":{\"data\":{\"histogram2dcontour\":[{\"type\":\"histogram2dcontour\",\"colorbar\":{\"outlinewidth\":0,\"ticks\":\"\"},\"colorscale\":[[0.0,\"#0d0887\"],[0.1111111111111111,\"#46039f\"],[0.2222222222222222,\"#7201a8\"],[0.3333333333333333,\"#9c179e\"],[0.4444444444444444,\"#bd3786\"],[0.5555555555555556,\"#d8576b\"],[0.6666666666666666,\"#ed7953\"],[0.7777777777777778,\"#fb9f3a\"],[0.8888888888888888,\"#fdca26\"],[1.0,\"#f0f921\"]]}],\"choropleth\":[{\"type\":\"choropleth\",\"colorbar\":{\"outlinewidth\":0,\"ticks\":\"\"}}],\"histogram2d\":[{\"type\":\"histogram2d\",\"colorbar\":{\"outlinewidth\":0,\"ticks\":\"\"},\"colorscale\":[[0.0,\"#0d0887\"],[0.1111111111111111,\"#46039f\"],[0.2222222222222222,\"#7201a8\"],[0.3333333333333333,\"#9c179e\"],[0.4444444444444444,\"#bd3786\"],[0.5555555555555556,\"#d8576b\"],[0.6666666666666666,\"#ed7953\"],[0.7777777777777778,\"#fb9f3a\"],[0.8888888888888888,\"#fdca26\"],[1.0,\"#f0f921\"]]}],\"heatmap\":[{\"type\":\"heatmap\",\"colorbar\":{\"outlinewidth\":0,\"ticks\":\"\"},\"colorscale\":[[0.0,\"#0d0887\"],[0.1111111111111111,\"#46039f\"],[0.2222222222222222,\"#7201a8\"],[0.3333333333333333,\"#9c179e\"],[0.4444444444444444,\"#bd3786\"],[0.5555555555555556,\"#d8576b\"],[0.6666666666666666,\"#ed7953\"],[0.7777777777777778,\"#fb9f3a\"],[0.8888888888888888,\"#fdca26\"],[1.0,\"#f0f921\"]]}],\"heatmapgl\":[{\"type\":\"heatmapgl\",\"colorbar\":{\"outlinewidth\":0,\"ticks\":\"\"},\"colorscale\":[[0.0,\"#0d0887\"],[0.1111111111111111,\"#46039f\"],[0.2222222222222222,\"#7201a8\"],[0.3333333333333333,\"#9c179e\"],[0.4444444444444444,\"#bd3786\"],[0.5555555555555556,\"#d8576b\"],[0.6666666666666666,\"#ed7953\"],[0.7777777777777778,\"#fb9f3a\"],[0.8888888888888888,\"#fdca26\"],[1.0,\"#f0f921\"]]}],\"contourcarpet\":[{\"type\":\"contourcarpet\",\"colorbar\":{\"outlinewidth\":0,\"ticks\":\"\"}}],\"contour\":[{\"type\":\"contour\",\"colorbar\":{\"outlinewidth\":0,\"ticks\":\"\"},\"colorscale\":[[0.0,\"#0d0887\"],[0.1111111111111111,\"#46039f\"],[0.2222222222222222,\"#7201a8\"],[0.3333333333333333,\"#9c179e\"],[0.4444444444444444,\"#bd3786\"],[0.5555555555555556,\"#d8576b\"],[0.6666666666666666,\"#ed7953\"],[0.7777777777777778,\"#fb9f3a\"],[0.8888888888888888,\"#fdca26\"],[1.0,\"#f0f921\"]]}],\"surface\":[{\"type\":\"surface\",\"colorbar\":{\"outlinewidth\":0,\"ticks\":\"\"},\"colorscale\":[[0.0,\"#0d0887\"],[0.1111111111111111,\"#46039f\"],[0.2222222222222222,\"#7201a8\"],[0.3333333333333333,\"#9c179e\"],[0.4444444444444444,\"#bd3786\"],[0.5555555555555556,\"#d8576b\"],[0.6666666666666666,\"#ed7953\"],[0.7777777777777778,\"#fb9f3a\"],[0.8888888888888888,\"#fdca26\"],[1.0,\"#f0f921\"]]}],\"mesh3d\":[{\"type\":\"mesh3d\",\"colorbar\":{\"outlinewidth\":0,\"ticks\":\"\"}}],\"scatter\":[{\"fillpattern\":{\"fillmode\":\"overlay\",\"size\":10,\"solidity\":0.2},\"type\":\"scatter\"}],\"parcoords\":[{\"type\":\"parcoords\",\"line\":{\"colorbar\":{\"outlinewidth\":0,\"ticks\":\"\"}}}],\"scatterpolargl\":[{\"type\":\"scatterpolargl\",\"marker\":{\"colorbar\":{\"outlinewidth\":0,\"ticks\":\"\"}}}],\"bar\":[{\"error_x\":{\"color\":\"#2a3f5f\"},\"error_y\":{\"color\":\"#2a3f5f\"},\"marker\":{\"line\":{\"color\":\"#E5ECF6\",\"width\":0.5},\"pattern\":{\"fillmode\":\"overlay\",\"size\":10,\"solidity\":0.2}},\"type\":\"bar\"}],\"scattergeo\":[{\"type\":\"scattergeo\",\"marker\":{\"colorbar\":{\"outlinewidth\":0,\"ticks\":\"\"}}}],\"scatterpolar\":[{\"type\":\"scatterpolar\",\"marker\":{\"colorbar\":{\"outlinewidth\":0,\"ticks\":\"\"}}}],\"histogram\":[{\"marker\":{\"pattern\":{\"fillmode\":\"overlay\",\"size\":10,\"solidity\":0.2}},\"type\":\"histogram\"}],\"scattergl\":[{\"type\":\"scattergl\",\"marker\":{\"colorbar\":{\"outlinewidth\":0,\"ticks\":\"\"}}}],\"scatter3d\":[{\"type\":\"scatter3d\",\"line\":{\"colorbar\":{\"outlinewidth\":0,\"ticks\":\"\"}},\"marker\":{\"colorbar\":{\"outlinewidth\":0,\"ticks\":\"\"}}}],\"scattermapbox\":[{\"type\":\"scattermapbox\",\"marker\":{\"colorbar\":{\"outlinewidth\":0,\"ticks\":\"\"}}}],\"scatterternary\":[{\"type\":\"scatterternary\",\"marker\":{\"colorbar\":{\"outlinewidth\":0,\"ticks\":\"\"}}}],\"scattercarpet\":[{\"type\":\"scattercarpet\",\"marker\":{\"colorbar\":{\"outlinewidth\":0,\"ticks\":\"\"}}}],\"carpet\":[{\"aaxis\":{\"endlinecolor\":\"#2a3f5f\",\"gridcolor\":\"white\",\"linecolor\":\"white\",\"minorgridcolor\":\"white\",\"startlinecolor\":\"#2a3f5f\"},\"baxis\":{\"endlinecolor\":\"#2a3f5f\",\"gridcolor\":\"white\",\"linecolor\":\"white\",\"minorgridcolor\":\"white\",\"startlinecolor\":\"#2a3f5f\"},\"type\":\"carpet\"}],\"table\":[{\"cells\":{\"fill\":{\"color\":\"#EBF0F8\"},\"line\":{\"color\":\"white\"}},\"header\":{\"fill\":{\"color\":\"#C8D4E3\"},\"line\":{\"color\":\"white\"}},\"type\":\"table\"}],\"barpolar\":[{\"marker\":{\"line\":{\"color\":\"#E5ECF6\",\"width\":0.5},\"pattern\":{\"fillmode\":\"overlay\",\"size\":10,\"solidity\":0.2}},\"type\":\"barpolar\"}],\"pie\":[{\"automargin\":true,\"type\":\"pie\"}]},\"layout\":{\"autotypenumbers\":\"strict\",\"colorway\":[\"#636efa\",\"#EF553B\",\"#00cc96\",\"#ab63fa\",\"#FFA15A\",\"#19d3f3\",\"#FF6692\",\"#B6E880\",\"#FF97FF\",\"#FECB52\"],\"font\":{\"color\":\"#2a3f5f\"},\"hovermode\":\"closest\",\"hoverlabel\":{\"align\":\"left\"},\"paper_bgcolor\":\"white\",\"plot_bgcolor\":\"#E5ECF6\",\"polar\":{\"bgcolor\":\"#E5ECF6\",\"angularaxis\":{\"gridcolor\":\"white\",\"linecolor\":\"white\",\"ticks\":\"\"},\"radialaxis\":{\"gridcolor\":\"white\",\"linecolor\":\"white\",\"ticks\":\"\"}},\"ternary\":{\"bgcolor\":\"#E5ECF6\",\"aaxis\":{\"gridcolor\":\"white\",\"linecolor\":\"white\",\"ticks\":\"\"},\"baxis\":{\"gridcolor\":\"white\",\"linecolor\":\"white\",\"ticks\":\"\"},\"caxis\":{\"gridcolor\":\"white\",\"linecolor\":\"white\",\"ticks\":\"\"}},\"coloraxis\":{\"colorbar\":{\"outlinewidth\":0,\"ticks\":\"\"}},\"colorscale\":{\"sequential\":[[0.0,\"#0d0887\"],[0.1111111111111111,\"#46039f\"],[0.2222222222222222,\"#7201a8\"],[0.3333333333333333,\"#9c179e\"],[0.4444444444444444,\"#bd3786\"],[0.5555555555555556,\"#d8576b\"],[0.6666666666666666,\"#ed7953\"],[0.7777777777777778,\"#fb9f3a\"],[0.8888888888888888,\"#fdca26\"],[1.0,\"#f0f921\"]],\"sequentialminus\":[[0.0,\"#0d0887\"],[0.1111111111111111,\"#46039f\"],[0.2222222222222222,\"#7201a8\"],[0.3333333333333333,\"#9c179e\"],[0.4444444444444444,\"#bd3786\"],[0.5555555555555556,\"#d8576b\"],[0.6666666666666666,\"#ed7953\"],[0.7777777777777778,\"#fb9f3a\"],[0.8888888888888888,\"#fdca26\"],[1.0,\"#f0f921\"]],\"diverging\":[[0,\"#8e0152\"],[0.1,\"#c51b7d\"],[0.2,\"#de77ae\"],[0.3,\"#f1b6da\"],[0.4,\"#fde0ef\"],[0.5,\"#f7f7f7\"],[0.6,\"#e6f5d0\"],[0.7,\"#b8e186\"],[0.8,\"#7fbc41\"],[0.9,\"#4d9221\"],[1,\"#276419\"]]},\"xaxis\":{\"gridcolor\":\"white\",\"linecolor\":\"white\",\"ticks\":\"\",\"title\":{\"standoff\":15},\"zerolinecolor\":\"white\",\"automargin\":true,\"zerolinewidth\":2},\"yaxis\":{\"gridcolor\":\"white\",\"linecolor\":\"white\",\"ticks\":\"\",\"title\":{\"standoff\":15},\"zerolinecolor\":\"white\",\"automargin\":true,\"zerolinewidth\":2},\"scene\":{\"xaxis\":{\"backgroundcolor\":\"#E5ECF6\",\"gridcolor\":\"white\",\"linecolor\":\"white\",\"showbackground\":true,\"ticks\":\"\",\"zerolinecolor\":\"white\",\"gridwidth\":2},\"yaxis\":{\"backgroundcolor\":\"#E5ECF6\",\"gridcolor\":\"white\",\"linecolor\":\"white\",\"showbackground\":true,\"ticks\":\"\",\"zerolinecolor\":\"white\",\"gridwidth\":2},\"zaxis\":{\"backgroundcolor\":\"#E5ECF6\",\"gridcolor\":\"white\",\"linecolor\":\"white\",\"showbackground\":true,\"ticks\":\"\",\"zerolinecolor\":\"white\",\"gridwidth\":2}},\"shapedefaults\":{\"line\":{\"color\":\"#2a3f5f\"}},\"annotationdefaults\":{\"arrowcolor\":\"#2a3f5f\",\"arrowhead\":0,\"arrowwidth\":1},\"geo\":{\"bgcolor\":\"white\",\"landcolor\":\"#E5ECF6\",\"subunitcolor\":\"white\",\"showland\":true,\"showlakes\":true,\"lakecolor\":\"white\"},\"title\":{\"x\":0.05},\"mapbox\":{\"style\":\"light\"}}},\"font\":{\"size\":10},\"xaxis\":{\"showline\":false,\"zeroline\":false,\"showgrid\":false,\"showticklabels\":false},\"yaxis\":{\"showline\":false,\"zeroline\":false,\"showgrid\":false,\"showticklabels\":false},\"margin\":{\"l\":40,\"r\":40,\"b\":85,\"t\":100},\"title\":{\"text\":\"Tree with Reingold-Tilford Layout\"},\"annotations\":[{\"font\":{\"color\":\"rgb(250,250,250)\",\"size\":10},\"showarrow\":false,\"text\":\"0\",\"x\":0.5,\"xref\":\"x\",\"y\":0,\"yref\":\"y\"},{\"font\":{\"color\":\"rgb(250,250,250)\",\"size\":10},\"showarrow\":false,\"text\":\"1\",\"x\":0.07142857142857142,\"xref\":\"x\",\"y\":-0.7142857142857143,\"yref\":\"y\"},{\"font\":{\"color\":\"rgb(250,250,250)\",\"size\":10},\"showarrow\":false,\"text\":\"2\",\"x\":0.21428571428571427,\"xref\":\"x\",\"y\":-0.7142857142857143,\"yref\":\"y\"},{\"font\":{\"color\":\"rgb(250,250,250)\",\"size\":10},\"showarrow\":false,\"text\":\"3\",\"x\":0.3571428571428571,\"xref\":\"x\",\"y\":-0.7142857142857143,\"yref\":\"y\"},{\"font\":{\"color\":\"rgb(250,250,250)\",\"size\":10},\"showarrow\":false,\"text\":\"4\",\"x\":0.5,\"xref\":\"x\",\"y\":-0.7142857142857143,\"yref\":\"y\"},{\"font\":{\"color\":\"rgb(250,250,250)\",\"size\":10},\"showarrow\":false,\"text\":\"5\",\"x\":0.6428571428571428,\"xref\":\"x\",\"y\":-0.7142857142857143,\"yref\":\"y\"},{\"font\":{\"color\":\"rgb(250,250,250)\",\"size\":10},\"showarrow\":false,\"text\":\"6\",\"x\":0.7857142857142856,\"xref\":\"x\",\"y\":-0.7142857142857143,\"yref\":\"y\"},{\"font\":{\"color\":\"rgb(250,250,250)\",\"size\":10},\"showarrow\":false,\"text\":\"7\",\"x\":0.05555555555555555,\"xref\":\"x\",\"y\":-1.4285714285714286,\"yref\":\"y\"},{\"font\":{\"color\":\"rgb(250,250,250)\",\"size\":10},\"showarrow\":false,\"text\":\"8\",\"x\":0.16666666666666666,\"xref\":\"x\",\"y\":-1.4285714285714286,\"yref\":\"y\"},{\"font\":{\"color\":\"rgb(250,250,250)\",\"size\":10},\"showarrow\":false,\"text\":\"9\",\"x\":0.2777777777777778,\"xref\":\"x\",\"y\":-1.4285714285714286,\"yref\":\"y\"},{\"font\":{\"color\":\"rgb(250,250,250)\",\"size\":10},\"showarrow\":false,\"text\":\"10\",\"x\":0.38888888888888884,\"xref\":\"x\",\"y\":-1.4285714285714286,\"yref\":\"y\"},{\"font\":{\"color\":\"rgb(250,250,250)\",\"size\":10},\"showarrow\":false,\"text\":\"11\",\"x\":0.5,\"xref\":\"x\",\"y\":-1.4285714285714286,\"yref\":\"y\"},{\"font\":{\"color\":\"rgb(250,250,250)\",\"size\":10},\"showarrow\":false,\"text\":\"12\",\"x\":0.017241379310344827,\"xref\":\"x\",\"y\":-2.142857142857143,\"yref\":\"y\"},{\"font\":{\"color\":\"rgb(250,250,250)\",\"size\":10},\"showarrow\":false,\"text\":\"13\",\"x\":0.05172413793103448,\"xref\":\"x\",\"y\":-2.142857142857143,\"yref\":\"y\"},{\"font\":{\"color\":\"rgb(250,250,250)\",\"size\":10},\"showarrow\":false,\"text\":\"14\",\"x\":0.6111111111111112,\"xref\":\"x\",\"y\":-1.4285714285714286,\"yref\":\"y\"},{\"font\":{\"color\":\"rgb(250,250,250)\",\"size\":10},\"showarrow\":false,\"text\":\"15\",\"x\":0.08620689655172414,\"xref\":\"x\",\"y\":-2.142857142857143,\"yref\":\"y\"},{\"font\":{\"color\":\"rgb(250,250,250)\",\"size\":10},\"showarrow\":false,\"text\":\"16\",\"x\":0.12068965517241378,\"xref\":\"x\",\"y\":-2.142857142857143,\"yref\":\"y\"},{\"font\":{\"color\":\"rgb(250,250,250)\",\"size\":10},\"showarrow\":false,\"text\":\"17\",\"x\":0.15517241379310345,\"xref\":\"x\",\"y\":-2.142857142857143,\"yref\":\"y\"},{\"font\":{\"color\":\"rgb(250,250,250)\",\"size\":10},\"showarrow\":false,\"text\":\"18\",\"x\":0.7222222222222222,\"xref\":\"x\",\"y\":-1.4285714285714286,\"yref\":\"y\"},{\"font\":{\"color\":\"rgb(250,250,250)\",\"size\":10},\"showarrow\":false,\"text\":\"19\",\"x\":0.18965517241379312,\"xref\":\"x\",\"y\":-2.142857142857143,\"yref\":\"y\"},{\"font\":{\"color\":\"rgb(250,250,250)\",\"size\":10},\"showarrow\":false,\"text\":\"20\",\"x\":0.22413793103448276,\"xref\":\"x\",\"y\":-2.142857142857143,\"yref\":\"y\"},{\"font\":{\"color\":\"rgb(250,250,250)\",\"size\":10},\"showarrow\":false,\"text\":\"21\",\"x\":0.005434782608695652,\"xref\":\"x\",\"y\":-2.857142857142857,\"yref\":\"y\"},{\"font\":{\"color\":\"rgb(250,250,250)\",\"size\":10},\"showarrow\":false,\"text\":\"22\",\"x\":0.2586206896551724,\"xref\":\"x\",\"y\":-2.142857142857143,\"yref\":\"y\"},{\"font\":{\"color\":\"rgb(250,250,250)\",\"size\":10},\"showarrow\":false,\"text\":\"23\",\"x\":0.016304347826086956,\"xref\":\"x\",\"y\":-2.857142857142857,\"yref\":\"y\"},{\"font\":{\"color\":\"rgb(250,250,250)\",\"size\":10},\"showarrow\":false,\"text\":\"24\",\"x\":0.02717391304347826,\"xref\":\"x\",\"y\":-2.857142857142857,\"yref\":\"y\"},{\"font\":{\"color\":\"rgb(250,250,250)\",\"size\":10},\"showarrow\":false,\"text\":\"25\",\"x\":0.03804347826086957,\"xref\":\"x\",\"y\":-2.857142857142857,\"yref\":\"y\"},{\"font\":{\"color\":\"rgb(250,250,250)\",\"size\":10},\"showarrow\":false,\"text\":\"26\",\"x\":0.048913043478260865,\"xref\":\"x\",\"y\":-2.857142857142857,\"yref\":\"y\"},{\"font\":{\"color\":\"rgb(250,250,250)\",\"size\":10},\"showarrow\":false,\"text\":\"27\",\"x\":0.059782608695652176,\"xref\":\"x\",\"y\":-2.857142857142857,\"yref\":\"y\"},{\"font\":{\"color\":\"rgb(250,250,250)\",\"size\":10},\"showarrow\":false,\"text\":\"28\",\"x\":0.07065217391304347,\"xref\":\"x\",\"y\":-2.857142857142857,\"yref\":\"y\"},{\"font\":{\"color\":\"rgb(250,250,250)\",\"size\":10},\"showarrow\":false,\"text\":\"31\",\"x\":0.29310344827586204,\"xref\":\"x\",\"y\":-2.142857142857143,\"yref\":\"y\"},{\"font\":{\"color\":\"rgb(250,250,250)\",\"size\":10},\"showarrow\":false,\"text\":\"32\",\"x\":0.08152173913043478,\"xref\":\"x\",\"y\":-2.857142857142857,\"yref\":\"y\"},{\"font\":{\"color\":\"rgb(250,250,250)\",\"size\":10},\"showarrow\":false,\"text\":\"33\",\"x\":0.09239130434782608,\"xref\":\"x\",\"y\":-2.857142857142857,\"yref\":\"y\"},{\"font\":{\"color\":\"rgb(250,250,250)\",\"size\":10},\"showarrow\":false,\"text\":\"34\",\"x\":0.10326086956521738,\"xref\":\"x\",\"y\":-2.857142857142857,\"yref\":\"y\"},{\"font\":{\"color\":\"rgb(250,250,250)\",\"size\":10},\"showarrow\":false,\"text\":\"35\",\"x\":0.11413043478260869,\"xref\":\"x\",\"y\":-2.857142857142857,\"yref\":\"y\"},{\"font\":{\"color\":\"rgb(250,250,250)\",\"size\":10},\"showarrow\":false,\"text\":\"36\",\"x\":0.125,\"xref\":\"x\",\"y\":-2.857142857142857,\"yref\":\"y\"},{\"font\":{\"color\":\"rgb(250,250,250)\",\"size\":10},\"showarrow\":false,\"text\":\"37\",\"x\":0.1358695652173913,\"xref\":\"x\",\"y\":-2.857142857142857,\"yref\":\"y\"},{\"font\":{\"color\":\"rgb(250,250,250)\",\"size\":10},\"showarrow\":false,\"text\":\"38\",\"x\":0.1467391304347826,\"xref\":\"x\",\"y\":-2.857142857142857,\"yref\":\"y\"},{\"font\":{\"color\":\"rgb(250,250,250)\",\"size\":10},\"showarrow\":false,\"text\":\"39\",\"x\":0.15760869565217392,\"xref\":\"x\",\"y\":-2.857142857142857,\"yref\":\"y\"},{\"font\":{\"color\":\"rgb(250,250,250)\",\"size\":10},\"showarrow\":false,\"text\":\"40\",\"x\":0.16847826086956522,\"xref\":\"x\",\"y\":-2.857142857142857,\"yref\":\"y\"},{\"font\":{\"color\":\"rgb(250,250,250)\",\"size\":10},\"showarrow\":false,\"text\":\"41\",\"x\":0.1793478260869565,\"xref\":\"x\",\"y\":-2.857142857142857,\"yref\":\"y\"},{\"font\":{\"color\":\"rgb(250,250,250)\",\"size\":10},\"showarrow\":false,\"text\":\"44\",\"x\":0.1902173913043478,\"xref\":\"x\",\"y\":-2.857142857142857,\"yref\":\"y\"},{\"font\":{\"color\":\"rgb(250,250,250)\",\"size\":10},\"showarrow\":false,\"text\":\"46\",\"x\":0.2010869565217391,\"xref\":\"x\",\"y\":-2.857142857142857,\"yref\":\"y\"},{\"font\":{\"color\":\"rgb(250,250,250)\",\"size\":10},\"showarrow\":false,\"text\":\"47\",\"x\":0.013157894736842105,\"xref\":\"x\",\"y\":-3.5714285714285716,\"yref\":\"y\"},{\"font\":{\"color\":\"rgb(250,250,250)\",\"size\":10},\"showarrow\":false,\"text\":\"48\",\"x\":0.039473684210526314,\"xref\":\"x\",\"y\":-3.5714285714285716,\"yref\":\"y\"},{\"font\":{\"color\":\"rgb(250,250,250)\",\"size\":10},\"showarrow\":false,\"text\":\"51\",\"x\":0.21195652173913043,\"xref\":\"x\",\"y\":-2.857142857142857,\"yref\":\"y\"},{\"font\":{\"color\":\"rgb(250,250,250)\",\"size\":10},\"showarrow\":false,\"text\":\"53\",\"x\":0.22282608695652173,\"xref\":\"x\",\"y\":-2.857142857142857,\"yref\":\"y\"},{\"font\":{\"color\":\"rgb(250,250,250)\",\"size\":10},\"showarrow\":false,\"text\":\"54\",\"x\":0.06578947368421052,\"xref\":\"x\",\"y\":-3.5714285714285716,\"yref\":\"y\"},{\"font\":{\"color\":\"rgb(250,250,250)\",\"size\":10},\"showarrow\":false,\"text\":\"55\",\"x\":0.09210526315789473,\"xref\":\"x\",\"y\":-3.5714285714285716,\"yref\":\"y\"},{\"font\":{\"color\":\"rgb(250,250,250)\",\"size\":10},\"showarrow\":false,\"text\":\"57\",\"x\":0.3275862068965517,\"xref\":\"x\",\"y\":-2.142857142857143,\"yref\":\"y\"},{\"font\":{\"color\":\"rgb(250,250,250)\",\"size\":10},\"showarrow\":false,\"text\":\"58\",\"x\":0.23369565217391303,\"xref\":\"x\",\"y\":-2.857142857142857,\"yref\":\"y\"},{\"font\":{\"color\":\"rgb(250,250,250)\",\"size\":10},\"showarrow\":false,\"text\":\"59\",\"x\":0.24456521739130435,\"xref\":\"x\",\"y\":-2.857142857142857,\"yref\":\"y\"},{\"font\":{\"color\":\"rgb(250,250,250)\",\"size\":10},\"showarrow\":false,\"text\":\"60\",\"x\":0.2554347826086957,\"xref\":\"x\",\"y\":-2.857142857142857,\"yref\":\"y\"},{\"font\":{\"color\":\"rgb(250,250,250)\",\"size\":10},\"showarrow\":false,\"text\":\"61\",\"x\":0.266304347826087,\"xref\":\"x\",\"y\":-2.857142857142857,\"yref\":\"y\"},{\"font\":{\"color\":\"rgb(250,250,250)\",\"size\":10},\"showarrow\":false,\"text\":\"62\",\"x\":0.27717391304347827,\"xref\":\"x\",\"y\":-2.857142857142857,\"yref\":\"y\"},{\"font\":{\"color\":\"rgb(250,250,250)\",\"size\":10},\"showarrow\":false,\"text\":\"63\",\"x\":0.28804347826086957,\"xref\":\"x\",\"y\":-2.857142857142857,\"yref\":\"y\"},{\"font\":{\"color\":\"rgb(250,250,250)\",\"size\":10},\"showarrow\":false,\"text\":\"66\",\"x\":0.29891304347826086,\"xref\":\"x\",\"y\":-2.857142857142857,\"yref\":\"y\"},{\"font\":{\"color\":\"rgb(250,250,250)\",\"size\":10},\"showarrow\":false,\"text\":\"68\",\"x\":0.3097826086956522,\"xref\":\"x\",\"y\":-2.857142857142857,\"yref\":\"y\"},{\"font\":{\"color\":\"rgb(250,250,250)\",\"size\":10},\"showarrow\":false,\"text\":\"69\",\"x\":0.11842105263157894,\"xref\":\"x\",\"y\":-3.5714285714285716,\"yref\":\"y\"},{\"font\":{\"color\":\"rgb(250,250,250)\",\"size\":10},\"showarrow\":false,\"text\":\"70\",\"x\":0.14473684210526316,\"xref\":\"x\",\"y\":-3.5714285714285716,\"yref\":\"y\"},{\"font\":{\"color\":\"rgb(250,250,250)\",\"size\":10},\"showarrow\":false,\"text\":\"73\",\"x\":0.3206521739130435,\"xref\":\"x\",\"y\":-2.857142857142857,\"yref\":\"y\"},{\"font\":{\"color\":\"rgb(250,250,250)\",\"size\":10},\"showarrow\":false,\"text\":\"75\",\"x\":0.3315217391304348,\"xref\":\"x\",\"y\":-2.857142857142857,\"yref\":\"y\"},{\"font\":{\"color\":\"rgb(250,250,250)\",\"size\":10},\"showarrow\":false,\"text\":\"76\",\"x\":0.17105263157894735,\"xref\":\"x\",\"y\":-3.5714285714285716,\"yref\":\"y\"},{\"font\":{\"color\":\"rgb(250,250,250)\",\"size\":10},\"showarrow\":false,\"text\":\"77\",\"x\":0.19736842105263158,\"xref\":\"x\",\"y\":-3.5714285714285716,\"yref\":\"y\"},{\"font\":{\"color\":\"rgb(250,250,250)\",\"size\":10},\"showarrow\":false,\"text\":\"78\",\"x\":0.3423913043478261,\"xref\":\"x\",\"y\":-2.857142857142857,\"yref\":\"y\"},{\"font\":{\"color\":\"rgb(250,250,250)\",\"size\":10},\"showarrow\":false,\"text\":\"81\",\"x\":0.3620689655172414,\"xref\":\"x\",\"y\":-2.142857142857143,\"yref\":\"y\"},{\"font\":{\"color\":\"rgb(250,250,250)\",\"size\":10},\"showarrow\":false,\"text\":\"82\",\"x\":0.3532608695652174,\"xref\":\"x\",\"y\":-2.857142857142857,\"yref\":\"y\"},{\"font\":{\"color\":\"rgb(250,250,250)\",\"size\":10},\"showarrow\":false,\"text\":\"83\",\"x\":0.3641304347826087,\"xref\":\"x\",\"y\":-2.857142857142857,\"yref\":\"y\"},{\"font\":{\"color\":\"rgb(250,250,250)\",\"size\":10},\"showarrow\":false,\"text\":\"84\",\"x\":0.22368421052631576,\"xref\":\"x\",\"y\":-3.5714285714285716,\"yref\":\"y\"},{\"font\":{\"color\":\"rgb(250,250,250)\",\"size\":10},\"showarrow\":false,\"text\":\"85\",\"x\":0.25,\"xref\":\"x\",\"y\":-3.5714285714285716,\"yref\":\"y\"},{\"font\":{\"color\":\"rgb(250,250,250)\",\"size\":10},\"showarrow\":false,\"text\":\"86\",\"x\":0.375,\"xref\":\"x\",\"y\":-2.857142857142857,\"yref\":\"y\"},{\"font\":{\"color\":\"rgb(250,250,250)\",\"size\":10},\"showarrow\":false,\"text\":\"87\",\"x\":0.2763157894736842,\"xref\":\"x\",\"y\":-3.5714285714285716,\"yref\":\"y\"},{\"font\":{\"color\":\"rgb(250,250,250)\",\"size\":10},\"showarrow\":false,\"text\":\"88\",\"x\":0.3026315789473684,\"xref\":\"x\",\"y\":-3.5714285714285716,\"yref\":\"y\"},{\"font\":{\"color\":\"rgb(250,250,250)\",\"size\":10},\"showarrow\":false,\"text\":\"89\",\"x\":0.3858695652173913,\"xref\":\"x\",\"y\":-2.857142857142857,\"yref\":\"y\"},{\"font\":{\"color\":\"rgb(250,250,250)\",\"size\":10},\"showarrow\":false,\"text\":\"90\",\"x\":0.3967391304347826,\"xref\":\"x\",\"y\":-2.857142857142857,\"yref\":\"y\"},{\"font\":{\"color\":\"rgb(250,250,250)\",\"size\":10},\"showarrow\":false,\"text\":\"91\",\"x\":0.40760869565217395,\"xref\":\"x\",\"y\":-2.857142857142857,\"yref\":\"y\"},{\"font\":{\"color\":\"rgb(250,250,250)\",\"size\":10},\"showarrow\":false,\"text\":\"92\",\"x\":0.41847826086956524,\"xref\":\"x\",\"y\":-2.857142857142857,\"yref\":\"y\"},{\"font\":{\"color\":\"rgb(250,250,250)\",\"size\":10},\"showarrow\":false,\"text\":\"93\",\"x\":0.42934782608695654,\"xref\":\"x\",\"y\":-2.857142857142857,\"yref\":\"y\"},{\"font\":{\"color\":\"rgb(250,250,250)\",\"size\":10},\"showarrow\":false,\"text\":\"94\",\"x\":0.44021739130434784,\"xref\":\"x\",\"y\":-2.857142857142857,\"yref\":\"y\"},{\"font\":{\"color\":\"rgb(250,250,250)\",\"size\":10},\"showarrow\":false,\"text\":\"95\",\"x\":0.45108695652173914,\"xref\":\"x\",\"y\":-2.857142857142857,\"yref\":\"y\"},{\"font\":{\"color\":\"rgb(250,250,250)\",\"size\":10},\"showarrow\":false,\"text\":\"96\",\"x\":0.46195652173913043,\"xref\":\"x\",\"y\":-2.857142857142857,\"yref\":\"y\"},{\"font\":{\"color\":\"rgb(250,250,250)\",\"size\":10},\"showarrow\":false,\"text\":\"98\",\"x\":0.396551724137931,\"xref\":\"x\",\"y\":-2.142857142857143,\"yref\":\"y\"},{\"font\":{\"color\":\"rgb(250,250,250)\",\"size\":10},\"showarrow\":false,\"text\":\"99\",\"x\":0.47282608695652173,\"xref\":\"x\",\"y\":-2.857142857142857,\"yref\":\"y\"},{\"font\":{\"color\":\"rgb(250,250,250)\",\"size\":10},\"showarrow\":false,\"text\":\"100\",\"x\":0.4836956521739131,\"xref\":\"x\",\"y\":-2.857142857142857,\"yref\":\"y\"},{\"font\":{\"color\":\"rgb(250,250,250)\",\"size\":10},\"showarrow\":false,\"text\":\"101\",\"x\":0.3289473684210526,\"xref\":\"x\",\"y\":-3.5714285714285716,\"yref\":\"y\"},{\"font\":{\"color\":\"rgb(250,250,250)\",\"size\":10},\"showarrow\":false,\"text\":\"102\",\"x\":0.3552631578947368,\"xref\":\"x\",\"y\":-3.5714285714285716,\"yref\":\"y\"},{\"font\":{\"color\":\"rgb(250,250,250)\",\"size\":10},\"showarrow\":false,\"text\":\"103\",\"x\":0.4945652173913044,\"xref\":\"x\",\"y\":-2.857142857142857,\"yref\":\"y\"},{\"font\":{\"color\":\"rgb(250,250,250)\",\"size\":10},\"showarrow\":false,\"text\":\"104\",\"x\":0.381578947368421,\"xref\":\"x\",\"y\":-3.5714285714285716,\"yref\":\"y\"},{\"font\":{\"color\":\"rgb(250,250,250)\",\"size\":10},\"showarrow\":false,\"text\":\"105\",\"x\":0.40789473684210525,\"xref\":\"x\",\"y\":-3.5714285714285716,\"yref\":\"y\"},{\"font\":{\"color\":\"rgb(250,250,250)\",\"size\":10},\"showarrow\":false,\"text\":\"106\",\"x\":0.5054347826086957,\"xref\":\"x\",\"y\":-2.857142857142857,\"yref\":\"y\"},{\"font\":{\"color\":\"rgb(250,250,250)\",\"size\":10},\"showarrow\":false,\"text\":\"108\",\"x\":0.43103448275862066,\"xref\":\"x\",\"y\":-2.142857142857143,\"yref\":\"y\"},{\"font\":{\"color\":\"rgb(250,250,250)\",\"size\":10},\"showarrow\":false,\"text\":\"109\",\"x\":0.5163043478260869,\"xref\":\"x\",\"y\":-2.857142857142857,\"yref\":\"y\"},{\"font\":{\"color\":\"rgb(250,250,250)\",\"size\":10},\"showarrow\":false,\"text\":\"110\",\"x\":0.5271739130434783,\"xref\":\"x\",\"y\":-2.857142857142857,\"yref\":\"y\"},{\"font\":{\"color\":\"rgb(250,250,250)\",\"size\":10},\"showarrow\":false,\"text\":\"111\",\"x\":0.43421052631578944,\"xref\":\"x\",\"y\":-3.5714285714285716,\"yref\":\"y\"},{\"font\":{\"color\":\"rgb(250,250,250)\",\"size\":10},\"showarrow\":false,\"text\":\"112\",\"x\":0.4605263157894736,\"xref\":\"x\",\"y\":-3.5714285714285716,\"yref\":\"y\"},{\"font\":{\"color\":\"rgb(250,250,250)\",\"size\":10},\"showarrow\":false,\"text\":\"113\",\"x\":0.5380434782608696,\"xref\":\"x\",\"y\":-2.857142857142857,\"yref\":\"y\"},{\"font\":{\"color\":\"rgb(250,250,250)\",\"size\":10},\"showarrow\":false,\"text\":\"114\",\"x\":0.48684210526315785,\"xref\":\"x\",\"y\":-3.5714285714285716,\"yref\":\"y\"},{\"font\":{\"color\":\"rgb(250,250,250)\",\"size\":10},\"showarrow\":false,\"text\":\"115\",\"x\":0.5131578947368421,\"xref\":\"x\",\"y\":-3.5714285714285716,\"yref\":\"y\"},{\"font\":{\"color\":\"rgb(250,250,250)\",\"size\":10},\"showarrow\":false,\"text\":\"116\",\"x\":0.5489130434782609,\"xref\":\"x\",\"y\":-2.857142857142857,\"yref\":\"y\"},{\"font\":{\"color\":\"rgb(250,250,250)\",\"size\":10},\"showarrow\":false,\"text\":\"117\",\"x\":0.5597826086956522,\"xref\":\"x\",\"y\":-2.857142857142857,\"yref\":\"y\"},{\"font\":{\"color\":\"rgb(250,250,250)\",\"size\":10},\"showarrow\":false,\"text\":\"119\",\"x\":0.46551724137931033,\"xref\":\"x\",\"y\":-2.142857142857143,\"yref\":\"y\"},{\"font\":{\"color\":\"rgb(250,250,250)\",\"size\":10},\"showarrow\":false,\"text\":\"120\",\"x\":0.5706521739130435,\"xref\":\"x\",\"y\":-2.857142857142857,\"yref\":\"y\"},{\"font\":{\"color\":\"rgb(250,250,250)\",\"size\":10},\"showarrow\":false,\"text\":\"121\",\"x\":0.5815217391304348,\"xref\":\"x\",\"y\":-2.857142857142857,\"yref\":\"y\"},{\"font\":{\"color\":\"rgb(250,250,250)\",\"size\":10},\"showarrow\":false,\"text\":\"122\",\"x\":0.5394736842105263,\"xref\":\"x\",\"y\":-3.5714285714285716,\"yref\":\"y\"},{\"font\":{\"color\":\"rgb(250,250,250)\",\"size\":10},\"showarrow\":false,\"text\":\"123\",\"x\":0.5657894736842105,\"xref\":\"x\",\"y\":-3.5714285714285716,\"yref\":\"y\"},{\"font\":{\"color\":\"rgb(250,250,250)\",\"size\":10},\"showarrow\":false,\"text\":\"124\",\"x\":0.592391304347826,\"xref\":\"x\",\"y\":-2.857142857142857,\"yref\":\"y\"},{\"font\":{\"color\":\"rgb(250,250,250)\",\"size\":10},\"showarrow\":false,\"text\":\"125\",\"x\":0.5921052631578948,\"xref\":\"x\",\"y\":-3.5714285714285716,\"yref\":\"y\"},{\"font\":{\"color\":\"rgb(250,250,250)\",\"size\":10},\"showarrow\":false,\"text\":\"126\",\"x\":0.618421052631579,\"xref\":\"x\",\"y\":-3.5714285714285716,\"yref\":\"y\"},{\"font\":{\"color\":\"rgb(250,250,250)\",\"size\":10},\"showarrow\":false,\"text\":\"127\",\"x\":0.6032608695652174,\"xref\":\"x\",\"y\":-2.857142857142857,\"yref\":\"y\"},{\"font\":{\"color\":\"rgb(250,250,250)\",\"size\":10},\"showarrow\":false,\"text\":\"128\",\"x\":0.6141304347826088,\"xref\":\"x\",\"y\":-2.857142857142857,\"yref\":\"y\"},{\"font\":{\"color\":\"rgb(250,250,250)\",\"size\":10},\"showarrow\":false,\"text\":\"129\",\"x\":0.625,\"xref\":\"x\",\"y\":-2.857142857142857,\"yref\":\"y\"},{\"font\":{\"color\":\"rgb(250,250,250)\",\"size\":10},\"showarrow\":false,\"text\":\"131\",\"x\":0.49999999999999994,\"xref\":\"x\",\"y\":-2.142857142857143,\"yref\":\"y\"},{\"font\":{\"color\":\"rgb(250,250,250)\",\"size\":10},\"showarrow\":false,\"text\":\"132\",\"x\":0.6358695652173914,\"xref\":\"x\",\"y\":-2.857142857142857,\"yref\":\"y\"},{\"font\":{\"color\":\"rgb(250,250,250)\",\"size\":10},\"showarrow\":false,\"text\":\"133\",\"x\":0.6467391304347826,\"xref\":\"x\",\"y\":-2.857142857142857,\"yref\":\"y\"},{\"font\":{\"color\":\"rgb(250,250,250)\",\"size\":10},\"showarrow\":false,\"text\":\"134\",\"x\":0.657608695652174,\"xref\":\"x\",\"y\":-2.857142857142857,\"yref\":\"y\"},{\"font\":{\"color\":\"rgb(250,250,250)\",\"size\":10},\"showarrow\":false,\"text\":\"135\",\"x\":0.6684782608695652,\"xref\":\"x\",\"y\":-2.857142857142857,\"yref\":\"y\"},{\"font\":{\"color\":\"rgb(250,250,250)\",\"size\":10},\"showarrow\":false,\"text\":\"136\",\"x\":0.6793478260869565,\"xref\":\"x\",\"y\":-2.857142857142857,\"yref\":\"y\"},{\"font\":{\"color\":\"rgb(250,250,250)\",\"size\":10},\"showarrow\":false,\"text\":\"137\",\"x\":0.5344827586206897,\"xref\":\"x\",\"y\":-2.142857142857143,\"yref\":\"y\"},{\"font\":{\"color\":\"rgb(250,250,250)\",\"size\":10},\"showarrow\":false,\"text\":\"138\",\"x\":0.6902173913043478,\"xref\":\"x\",\"y\":-2.857142857142857,\"yref\":\"y\"},{\"font\":{\"color\":\"rgb(250,250,250)\",\"size\":10},\"showarrow\":false,\"text\":\"139\",\"x\":0.7010869565217391,\"xref\":\"x\",\"y\":-2.857142857142857,\"yref\":\"y\"},{\"font\":{\"color\":\"rgb(250,250,250)\",\"size\":10},\"showarrow\":false,\"text\":\"140\",\"x\":0.7119565217391305,\"xref\":\"x\",\"y\":-2.857142857142857,\"yref\":\"y\"},{\"font\":{\"color\":\"rgb(250,250,250)\",\"size\":10},\"showarrow\":false,\"text\":\"141\",\"x\":0.5689655172413793,\"xref\":\"x\",\"y\":-2.142857142857143,\"yref\":\"y\"},{\"font\":{\"color\":\"rgb(250,250,250)\",\"size\":10},\"showarrow\":false,\"text\":\"142\",\"x\":0.7228260869565217,\"xref\":\"x\",\"y\":-2.857142857142857,\"yref\":\"y\"},{\"font\":{\"color\":\"rgb(250,250,250)\",\"size\":10},\"showarrow\":false,\"text\":\"143\",\"x\":0.7336956521739131,\"xref\":\"x\",\"y\":-2.857142857142857,\"yref\":\"y\"},{\"font\":{\"color\":\"rgb(250,250,250)\",\"size\":10},\"showarrow\":false,\"text\":\"144\",\"x\":0.7445652173913043,\"xref\":\"x\",\"y\":-2.857142857142857,\"yref\":\"y\"},{\"font\":{\"color\":\"rgb(250,250,250)\",\"size\":10},\"showarrow\":false,\"text\":\"145\",\"x\":0.7554347826086957,\"xref\":\"x\",\"y\":-2.857142857142857,\"yref\":\"y\"},{\"font\":{\"color\":\"rgb(250,250,250)\",\"size\":10},\"showarrow\":false,\"text\":\"146\",\"x\":0.603448275862069,\"xref\":\"x\",\"y\":-2.142857142857143,\"yref\":\"y\"},{\"font\":{\"color\":\"rgb(250,250,250)\",\"size\":10},\"showarrow\":false,\"text\":\"147\",\"x\":0.7663043478260869,\"xref\":\"x\",\"y\":-2.857142857142857,\"yref\":\"y\"},{\"font\":{\"color\":\"rgb(250,250,250)\",\"size\":10},\"showarrow\":false,\"text\":\"148\",\"x\":0.7771739130434783,\"xref\":\"x\",\"y\":-2.857142857142857,\"yref\":\"y\"},{\"font\":{\"color\":\"rgb(250,250,250)\",\"size\":10},\"showarrow\":false,\"text\":\"149\",\"x\":0.7880434782608695,\"xref\":\"x\",\"y\":-2.857142857142857,\"yref\":\"y\"},{\"font\":{\"color\":\"rgb(250,250,250)\",\"size\":10},\"showarrow\":false,\"text\":\"150\",\"x\":0.7989130434782609,\"xref\":\"x\",\"y\":-2.857142857142857,\"yref\":\"y\"},{\"font\":{\"color\":\"rgb(250,250,250)\",\"size\":10},\"showarrow\":false,\"text\":\"151\",\"x\":0.6379310344827587,\"xref\":\"x\",\"y\":-2.142857142857143,\"yref\":\"y\"},{\"font\":{\"color\":\"rgb(250,250,250)\",\"size\":10},\"showarrow\":false,\"text\":\"152\",\"x\":0.8097826086956522,\"xref\":\"x\",\"y\":-2.857142857142857,\"yref\":\"y\"},{\"font\":{\"color\":\"rgb(250,250,250)\",\"size\":10},\"showarrow\":false,\"text\":\"153\",\"x\":0.8206521739130435,\"xref\":\"x\",\"y\":-2.857142857142857,\"yref\":\"y\"},{\"font\":{\"color\":\"rgb(250,250,250)\",\"size\":10},\"showarrow\":false,\"text\":\"154\",\"x\":0.6724137931034483,\"xref\":\"x\",\"y\":-2.142857142857143,\"yref\":\"y\"},{\"font\":{\"color\":\"rgb(250,250,250)\",\"size\":10},\"showarrow\":false,\"text\":\"155\",\"x\":0.8315217391304348,\"xref\":\"x\",\"y\":-2.857142857142857,\"yref\":\"y\"},{\"font\":{\"color\":\"rgb(250,250,250)\",\"size\":10},\"showarrow\":false,\"text\":\"156\",\"x\":0.842391304347826,\"xref\":\"x\",\"y\":-2.857142857142857,\"yref\":\"y\"},{\"font\":{\"color\":\"rgb(250,250,250)\",\"size\":10},\"showarrow\":false,\"text\":\"157\",\"x\":0.706896551724138,\"xref\":\"x\",\"y\":-2.142857142857143,\"yref\":\"y\"},{\"font\":{\"color\":\"rgb(250,250,250)\",\"size\":10},\"showarrow\":false,\"text\":\"158\",\"x\":0.8532608695652174,\"xref\":\"x\",\"y\":-2.857142857142857,\"yref\":\"y\"},{\"font\":{\"color\":\"rgb(250,250,250)\",\"size\":10},\"showarrow\":false,\"text\":\"159\",\"x\":0.8641304347826086,\"xref\":\"x\",\"y\":-2.857142857142857,\"yref\":\"y\"},{\"font\":{\"color\":\"rgb(250,250,250)\",\"size\":10},\"showarrow\":false,\"text\":\"160\",\"x\":0.6447368421052632,\"xref\":\"x\",\"y\":-3.5714285714285716,\"yref\":\"y\"},{\"font\":{\"color\":\"rgb(250,250,250)\",\"size\":10},\"showarrow\":false,\"text\":\"161\",\"x\":0.6710526315789473,\"xref\":\"x\",\"y\":-3.5714285714285716,\"yref\":\"y\"},{\"font\":{\"color\":\"rgb(250,250,250)\",\"size\":10},\"showarrow\":false,\"text\":\"162\",\"x\":0.6973684210526315,\"xref\":\"x\",\"y\":-3.5714285714285716,\"yref\":\"y\"},{\"font\":{\"color\":\"rgb(250,250,250)\",\"size\":10},\"showarrow\":false,\"text\":\"163\",\"x\":0.05555555555555555,\"xref\":\"x\",\"y\":-4.285714285714286,\"yref\":\"y\"},{\"font\":{\"color\":\"rgb(250,250,250)\",\"size\":10},\"showarrow\":false,\"text\":\"164\",\"x\":0.16666666666666666,\"xref\":\"x\",\"y\":-4.285714285714286,\"yref\":\"y\"},{\"font\":{\"color\":\"rgb(250,250,250)\",\"size\":10},\"showarrow\":false,\"text\":\"165\",\"x\":0.2777777777777778,\"xref\":\"x\",\"y\":-4.285714285714286,\"yref\":\"y\"},{\"font\":{\"color\":\"rgb(250,250,250)\",\"size\":10},\"showarrow\":false,\"text\":\"166\",\"x\":0.38888888888888884,\"xref\":\"x\",\"y\":-4.285714285714286,\"yref\":\"y\"},{\"font\":{\"color\":\"rgb(250,250,250)\",\"size\":10},\"showarrow\":false,\"text\":\"167\",\"x\":0.5,\"xref\":\"x\",\"y\":-4.285714285714286,\"yref\":\"y\"},{\"font\":{\"color\":\"rgb(250,250,250)\",\"size\":10},\"showarrow\":false,\"text\":\"168\",\"x\":0.7236842105263158,\"xref\":\"x\",\"y\":-3.5714285714285716,\"yref\":\"y\"},{\"font\":{\"color\":\"rgb(250,250,250)\",\"size\":10},\"showarrow\":false,\"text\":\"169\",\"x\":0.875,\"xref\":\"x\",\"y\":-2.857142857142857,\"yref\":\"y\"},{\"font\":{\"color\":\"rgb(250,250,250)\",\"size\":10},\"showarrow\":false,\"text\":\"170\",\"x\":0.75,\"xref\":\"x\",\"y\":-3.5714285714285716,\"yref\":\"y\"},{\"font\":{\"color\":\"rgb(250,250,250)\",\"size\":10},\"showarrow\":false,\"text\":\"171\",\"x\":0.7763157894736842,\"xref\":\"x\",\"y\":-3.5714285714285716,\"yref\":\"y\"},{\"font\":{\"color\":\"rgb(250,250,250)\",\"size\":10},\"showarrow\":false,\"text\":\"172\",\"x\":0.8858695652173914,\"xref\":\"x\",\"y\":-2.857142857142857,\"yref\":\"y\"},{\"font\":{\"color\":\"rgb(250,250,250)\",\"size\":10},\"showarrow\":false,\"text\":\"173\",\"x\":0.8026315789473685,\"xref\":\"x\",\"y\":-3.5714285714285716,\"yref\":\"y\"},{\"font\":{\"color\":\"rgb(250,250,250)\",\"size\":10},\"showarrow\":false,\"text\":\"174\",\"x\":0.8289473684210527,\"xref\":\"x\",\"y\":-3.5714285714285716,\"yref\":\"y\"},{\"font\":{\"color\":\"rgb(250,250,250)\",\"size\":10},\"showarrow\":false,\"text\":\"175\",\"x\":0.8967391304347826,\"xref\":\"x\",\"y\":-2.857142857142857,\"yref\":\"y\"},{\"font\":{\"color\":\"rgb(250,250,250)\",\"size\":10},\"showarrow\":false,\"text\":\"176\",\"x\":0.8552631578947368,\"xref\":\"x\",\"y\":-3.5714285714285716,\"yref\":\"y\"},{\"font\":{\"color\":\"rgb(250,250,250)\",\"size\":10},\"showarrow\":false,\"text\":\"177\",\"x\":0.881578947368421,\"xref\":\"x\",\"y\":-3.5714285714285716,\"yref\":\"y\"},{\"font\":{\"color\":\"rgb(250,250,250)\",\"size\":10},\"showarrow\":false,\"text\":\"178\",\"x\":0.6111111111111112,\"xref\":\"x\",\"y\":-4.285714285714286,\"yref\":\"y\"},{\"font\":{\"color\":\"rgb(250,250,250)\",\"size\":10},\"showarrow\":false,\"text\":\"179\",\"x\":0.7222222222222222,\"xref\":\"x\",\"y\":-4.285714285714286,\"yref\":\"y\"},{\"font\":{\"color\":\"rgb(250,250,250)\",\"size\":10},\"showarrow\":false,\"text\":\"180\",\"x\":0.9078947368421052,\"xref\":\"x\",\"y\":-3.5714285714285716,\"yref\":\"y\"},{\"font\":{\"color\":\"rgb(250,250,250)\",\"size\":10},\"showarrow\":false,\"text\":\"181\",\"x\":0.8333333333333333,\"xref\":\"x\",\"y\":-4.285714285714286,\"yref\":\"y\"},{\"font\":{\"color\":\"rgb(250,250,250)\",\"size\":10},\"showarrow\":false,\"text\":\"182\",\"x\":0.9444444444444444,\"xref\":\"x\",\"y\":-4.285714285714286,\"yref\":\"y\"},{\"font\":{\"color\":\"rgb(250,250,250)\",\"size\":10},\"showarrow\":false,\"text\":\"183\",\"x\":0.907608695652174,\"xref\":\"x\",\"y\":-2.857142857142857,\"yref\":\"y\"},{\"font\":{\"color\":\"rgb(250,250,250)\",\"size\":10},\"showarrow\":false,\"text\":\"184\",\"x\":0.9342105263157895,\"xref\":\"x\",\"y\":-3.5714285714285716,\"yref\":\"y\"},{\"font\":{\"color\":\"rgb(250,250,250)\",\"size\":10},\"showarrow\":false,\"text\":\"185\",\"x\":0.9605263157894737,\"xref\":\"x\",\"y\":-3.5714285714285716,\"yref\":\"y\"},{\"font\":{\"color\":\"rgb(250,250,250)\",\"size\":10},\"showarrow\":false,\"text\":\"186\",\"x\":0.9868421052631579,\"xref\":\"x\",\"y\":-3.5714285714285716,\"yref\":\"y\"},{\"font\":{\"color\":\"rgb(250,250,250)\",\"size\":10},\"showarrow\":false,\"text\":\"187\",\"x\":0.8333333333333333,\"xref\":\"x\",\"y\":-1.4285714285714286,\"yref\":\"y\"},{\"font\":{\"color\":\"rgb(250,250,250)\",\"size\":10},\"showarrow\":false,\"text\":\"188\",\"x\":0.7413793103448276,\"xref\":\"x\",\"y\":-2.142857142857143,\"yref\":\"y\"},{\"font\":{\"color\":\"rgb(250,250,250)\",\"size\":10},\"showarrow\":false,\"text\":\"189\",\"x\":0.7758620689655172,\"xref\":\"x\",\"y\":-2.142857142857143,\"yref\":\"y\"},{\"font\":{\"color\":\"rgb(250,250,250)\",\"size\":10},\"showarrow\":false,\"text\":\"190\",\"x\":0.9184782608695652,\"xref\":\"x\",\"y\":-2.857142857142857,\"yref\":\"y\"},{\"font\":{\"color\":\"rgb(250,250,250)\",\"size\":10},\"showarrow\":false,\"text\":\"191\",\"x\":0.9293478260869565,\"xref\":\"x\",\"y\":-2.857142857142857,\"yref\":\"y\"},{\"font\":{\"color\":\"rgb(250,250,250)\",\"size\":10},\"showarrow\":false,\"text\":\"192\",\"x\":0.9402173913043478,\"xref\":\"x\",\"y\":-2.857142857142857,\"yref\":\"y\"},{\"font\":{\"color\":\"rgb(250,250,250)\",\"size\":10},\"showarrow\":false,\"text\":\"193\",\"x\":0.810344827586207,\"xref\":\"x\",\"y\":-2.142857142857143,\"yref\":\"y\"},{\"font\":{\"color\":\"rgb(250,250,250)\",\"size\":10},\"showarrow\":false,\"text\":\"194\",\"x\":0.9510869565217391,\"xref\":\"x\",\"y\":-2.857142857142857,\"yref\":\"y\"},{\"font\":{\"color\":\"rgb(250,250,250)\",\"size\":10},\"showarrow\":false,\"text\":\"195\",\"x\":0.9619565217391305,\"xref\":\"x\",\"y\":-2.857142857142857,\"yref\":\"y\"},{\"font\":{\"color\":\"rgb(250,250,250)\",\"size\":10},\"showarrow\":false,\"text\":\"196\",\"x\":0.9728260869565217,\"xref\":\"x\",\"y\":-2.857142857142857,\"yref\":\"y\"},{\"font\":{\"color\":\"rgb(250,250,250)\",\"size\":10},\"showarrow\":false,\"text\":\"197\",\"x\":0.8448275862068966,\"xref\":\"x\",\"y\":-2.142857142857143,\"yref\":\"y\"},{\"font\":{\"color\":\"rgb(250,250,250)\",\"size\":10},\"showarrow\":false,\"text\":\"198\",\"x\":0.9836956521739131,\"xref\":\"x\",\"y\":-2.857142857142857,\"yref\":\"y\"},{\"font\":{\"color\":\"rgb(250,250,250)\",\"size\":10},\"showarrow\":false,\"text\":\"199\",\"x\":0.9945652173913043,\"xref\":\"x\",\"y\":-2.857142857142857,\"yref\":\"y\"},{\"font\":{\"color\":\"rgb(250,250,250)\",\"size\":10},\"showarrow\":false,\"text\":\"200\",\"x\":0.9285714285714285,\"xref\":\"x\",\"y\":-0.7142857142857143,\"yref\":\"y\"},{\"font\":{\"color\":\"rgb(250,250,250)\",\"size\":10},\"showarrow\":false,\"text\":\"201\",\"x\":0.9444444444444444,\"xref\":\"x\",\"y\":-1.4285714285714286,\"yref\":\"y\"},{\"font\":{\"color\":\"rgb(250,250,250)\",\"size\":10},\"showarrow\":false,\"text\":\"202\",\"x\":0.8793103448275862,\"xref\":\"x\",\"y\":-2.142857142857143,\"yref\":\"y\"},{\"font\":{\"color\":\"rgb(250,250,250)\",\"size\":10},\"showarrow\":false,\"text\":\"203\",\"x\":0.9137931034482759,\"xref\":\"x\",\"y\":-2.142857142857143,\"yref\":\"y\"},{\"font\":{\"color\":\"rgb(250,250,250)\",\"size\":10},\"showarrow\":false,\"text\":\"204\",\"x\":0.9482758620689655,\"xref\":\"x\",\"y\":-2.142857142857143,\"yref\":\"y\"},{\"font\":{\"color\":\"rgb(250,250,250)\",\"size\":10},\"showarrow\":false,\"text\":\"205\",\"x\":0.9827586206896551,\"xref\":\"x\",\"y\":-2.142857142857143,\"yref\":\"y\"}],\"showlegend\":false,\"hovermode\":\"closest\",\"plot_bgcolor\":\"rgb(250,250,250)\"},                        {\"responsive\": true}                    ).then(function(){\n",
       "                            \n",
       "var gd = document.getElementById('060cd42d-29a5-496a-a479-f8bce50e32c0');\n",
       "var x = new MutationObserver(function (mutations, observer) {{\n",
       "        var display = window.getComputedStyle(gd).display;\n",
       "        if (!display || display === 'none') {{\n",
       "            console.log([gd, 'removed!']);\n",
       "            Plotly.purge(gd);\n",
       "            observer.disconnect();\n",
       "        }}\n",
       "}});\n",
       "\n",
       "// Listen for the removal of the full notebook cells\n",
       "var notebookContainer = gd.closest('#notebook-container');\n",
       "if (notebookContainer) {{\n",
       "    x.observe(notebookContainer, {childList: true});\n",
       "}}\n",
       "\n",
       "// Listen for the clearing of the current output cell\n",
       "var outputEl = gd.closest('.output');\n",
       "if (outputEl) {{\n",
       "    x.observe(outputEl, {childList: true});\n",
       "}}\n",
       "\n",
       "                        })                };                });            </script>        </div>"
      ]
     },
     "metadata": {},
     "output_type": "display_data"
    }
   ],
   "source": [
    "#Show the NFI YANG Tree Figure\n",
    "fig = go.Figure()\n",
    "fig.add_trace(go.Scatter(x=Xe,\n",
    "                   y=Ye,\n",
    "                   mode='lines',\n",
    "                   line=dict(color='rgb(0,255,0)', width=2),\n",
    "                   hoverinfo='none'\n",
    "                   ))\n",
    "fig.add_trace(go.Scatter(x=Xn,\n",
    "                  y=Yn,\n",
    "                  mode='markers',\n",
    "                  name='bla',\n",
    "                  marker=dict(symbol='circle',\n",
    "                                size=20,\n",
    "                                color='rgb(0,0,0)',    #'#DB4551',\n",
    "                                line=dict(color='rgb(250,250,250)', width=1)\n",
    "                                ),\n",
    "                  text=labels,\n",
    "                  hoverinfo='text',\n",
    "                  opacity=1\n",
    "                  ))\n",
    "\n",
    "axis = dict(showline=False, # hide axis line, grid, ticklabels and  title\n",
    "            zeroline=False,\n",
    "            showgrid=False,\n",
    "            showticklabels=False,\n",
    "            )\n",
    "print(len(position))\n",
    "print(len(v_label))\n",
    "fig.update_layout(title= 'Tree with Reingold-Tilford Layout',\n",
    "              annotations=make_annotations(position, v_label, nfiNoSkip),\n",
    "              font_size=10,\n",
    "              showlegend=False,\n",
    "              xaxis=axis,\n",
    "              yaxis=axis,\n",
    "              margin=dict(l=40, r=40, b=85, t=100),\n",
    "              hovermode='closest',\n",
    "              plot_bgcolor='rgb(250,250,250)'\n",
    "              )\n",
    "fig.show()"
   ]
  },
  {
   "cell_type": "code",
   "execution_count": 493,
   "metadata": {},
   "outputs": [
    {
     "name": "stdout",
     "output_type": "stream",
     "text": [
      "Tag    : icmp\n",
      "ID     : 19\n",
      "isLeaf : False\n",
      "Level  : 4\n",
      "Skip   : False\n",
      "Parent : firewall\n",
      "Child  : [<__main__.yangdm object at 0x00000262CBC35040>]\n",
      "\n",
      "Tag    : (source-network)\n",
      "ID     : 71\n",
      "isLeaf : True\n",
      "Level  : 6\n",
      "Skip   : True\n",
      "Parent : ipv6\n",
      "Child  : []\n"
     ]
    }
   ],
   "source": [
    "cfiFull[19].printDM()\n",
    "print()\n",
    "nfiFull[71].printDM()"
   ]
  },
  {
   "cell_type": "code",
   "execution_count": 494,
   "metadata": {
    "scrolled": true
   },
   "outputs": [
    {
     "name": "stdout",
     "output_type": "stream",
     "text": [
      "[0, 1, 2, 3, 4, 5, 6, 7, 8, 9, 10, 11, 12, 13, 14, 15, 16, 17, 18, 19, 20, 21, 22, 23, 24, 25, 26, 27, 28, 29, 30, 31, 32, 33, 34, 35, 36, 37, 38, 39, 40, 41, 42, 43, 44, 45, 46, 47, 48, 49, 50, 51, 52, 53, 54, 55, 56, 57, 58, 59, 60, 61, 62, 63, 64, 65, 66, 67, 68]\n",
      "False\n"
     ]
    }
   ],
   "source": [
    "print(G1.nodes)\n",
    "node_match=lambda a,b: a['label'] == b['label']\n",
    "print(node_match(G1.nodes[2],G2.nodes[6]))\n",
    "#nx.algorithms.similarity.graph_edit_distance(G1,G2,node_match=lambda a,b: a['label']==b['label'])"
   ]
  },
  {
   "cell_type": "code",
   "execution_count": 495,
   "metadata": {},
   "outputs": [
    {
     "name": "stdout",
     "output_type": "stream",
     "text": [
      "{'label': 'a'}\n",
      "[3, 4, 5]\n",
      "False\n",
      "1.0\n"
     ]
    }
   ],
   "source": [
    "Gx= nx.DiGraph()\n",
    "Gx.add_nodes_from([(0, {'label':'a'}), (1, {'label':'e'}),(2, {'label':'c'})])\n",
    "Gx.add_edges_from([(0,1),(0,2)])\n",
    "\n",
    "Gy = nx.DiGraph()\n",
    "Gy.add_nodes_from([(3, {'label':'a'}), (4, {'label':'b'}),(5, {'label':'c'})])\n",
    "Gy.add_edges_from([(3,4),(3,5)])\n",
    "\n",
    "node_match=lambda a,b: a['label'] == b['label']\n",
    "print (Gy.nodes[3])\n",
    "print (Gy.nodes)\n",
    "print(node_match(Gx.nodes[0],Gy.nodes[4]))\n",
    "\n",
    "for dist in nx.algorithms.similarity.optimize_graph_edit_distance(Gx, Gy, node_match=lambda a,b: a['label'] == b['label']):\n",
    "    print(dist)"
   ]
  },
  {
   "cell_type": "code",
   "execution_count": 496,
   "metadata": {},
   "outputs": [],
   "source": [
    "WORD = re.compile(r\"\\w+\")\n",
    "\n",
    "def get_cosine(vector1, vector2):\n",
    "    vec1 = text_to_vector(vector1)\n",
    "    vec2 = text_to_vector(vector2)\n",
    "    intersection = set(vec1.keys()) & set(vec2.keys())\n",
    "    numerator = sum([vec1[x] * vec2[x] for x in intersection])\n",
    "\n",
    "    sum1 = sum([vec1[x] ** 2 for x in list(vec1.keys())])\n",
    "    sum2 = sum([vec2[x] ** 2 for x in list(vec2.keys())])\n",
    "    denominator = math.sqrt(sum1) * math.sqrt(sum2)\n",
    "\n",
    "    if not denominator:\n",
    "        return 1 * int(max(len(vector1),len(vector2)))\n",
    "    else:\n",
    "        return int(len(vector1) * (1- float(numerator) / denominator))\n",
    "\n",
    "def text_to_vector(text):\n",
    "    words = WORD.findall(text)\n",
    "    return Counter(words)\n",
    "\n"
   ]
  },
  {
   "cell_type": "code",
   "execution_count": 497,
   "metadata": {},
   "outputs": [
    {
     "name": "stdout",
     "output_type": "stream",
     "text": [
      "7\n",
      "0.7096774193548387\n",
      "0.6875\n",
      "0.6875\n",
      "0.6451612903225806\n",
      "0.6451612903225806\n",
      "0.625\n",
      "8\n",
      "8\n",
      "8\n",
      "8\n",
      "8\n",
      "8\n",
      "8\n"
     ]
    }
   ],
   "source": [
    "from fuzzywuzzy import fuzz\n",
    "\n",
    "print(Lv.distance(\"firewall-condition\",\"ipv4-condition\"))\n",
    "print(Lv.ratio(\"firewall-condition\",\"mac-condition\"))\n",
    "print(Lv.ratio(\"firewall-condition\",\"ipv4-condition\"))\n",
    "print(Lv.ratio(\"firewall-condition\",\"ipv6-condition\"))\n",
    "print(Lv.ratio(\"firewall-condition\",\"tcp-condition\"))\n",
    "print(Lv.ratio(\"firewall-condition\",\"udp-condition\"))\n",
    "print(Lv.ratio(\"firewall-condition\",\"sctp-condition\"))\n",
    "\n",
    "print(get_cosine(\"firewall\",\"mac\"))\n",
    "print(get_cosine(\"firewall\",\"ipv4\"))\n",
    "print(get_cosine(\"firewall\",\"ipv6\"))\n",
    "print(get_cosine(\"firewall\",\"tcp\"))\n",
    "print(get_cosine(\"firewall\",\"udp\"))\n",
    "print(get_cosine(\"firewall\",\"sctp\"))\n",
    "print(get_cosine(\"firewall\",\"voice\"))"
   ]
  },
  {
   "cell_type": "code",
   "execution_count": 498,
   "metadata": {},
   "outputs": [
    {
     "data": {
      "text/plain": [
       "1"
      ]
     },
     "execution_count": 498,
     "metadata": {},
     "output_type": "execute_result"
    }
   ],
   "source": [
    "def seqMatch(a,b):\n",
    "    return int(10 - (10 * SeqMatch(None,a,b).ratio()))\n",
    "\n",
    "seqMatch(\"i2nsf-cfi-policy\",\"i2nsf-security-policy\")"
   ]
  },
  {
   "cell_type": "code",
   "execution_count": null,
   "metadata": {},
   "outputs": [],
   "source": []
  },
  {
   "cell_type": "code",
   "execution_count": 499,
   "metadata": {},
   "outputs": [
    {
     "data": {
      "text/plain": [
       "15.0"
      ]
     },
     "execution_count": 499,
     "metadata": {},
     "output_type": "execute_result"
    }
   ],
   "source": [
    "def strdist(a, b):\n",
    "    return Lv.distance(a,b)\n",
    "    \n",
    "def weird_dist(A, B):\n",
    "    \"\"\"\n",
    "       Available to use for calculating Distance:\n",
    "       1. strdist(A,B)\n",
    "       2. seqMatch(A,B)\n",
    "       3. get_cosine(A,B)\n",
    "    \"\"\"\n",
    "    return get_cosine(A, B) \n",
    "\n",
    "class WeirdNode(object):\n",
    "\n",
    "    def __init__(self, label):\n",
    "        self.my_label = label\n",
    "        self.my_children = list()\n",
    "\n",
    "    @staticmethod\n",
    "    def get_children(node):\n",
    "        return node.my_children\n",
    "\n",
    "    @staticmethod\n",
    "    def get_label(node):\n",
    "        return node.my_label\n",
    "\n",
    "    def addkid(self, node, before=False):\n",
    "        if before:  self.my_children.insert(0, node)\n",
    "        else:   self.my_children.append(node)\n",
    "        return self\n",
    "\n",
    "\n",
    "A = WeirdNode(\"i2nsf-cfi-policy\")\n",
    "A.addkid(WeirdNode(\"rules\"))\n",
    "A.addkid(WeirdNode(\"condition\"))\n",
    "A.addkid(WeirdNode(\"firewall\"))\n",
    "A.addkid(WeirdNode(\"source\"))\n",
    "\n",
    "B = WeirdNode(\"i2nsf-security-policy\")\n",
    "B.addkid(WeirdNode(\"rules\"))\n",
    "B.addkid(WeirdNode(\"condition\"))\n",
    "B.addkid(WeirdNode(\"ipv4\"))\n",
    "B.addkid(WeirdNode(\"source-ip-address\"))\n",
    "\n",
    "\n",
    "simple_distance(A, B, WeirdNode.get_children, WeirdNode.get_label, weird_dist)"
   ]
  },
  {
   "cell_type": "code",
   "execution_count": 500,
   "metadata": {
    "scrolled": true
   },
   "outputs": [],
   "source": [
    "#Separating the YANG Tree into 1 branch\n",
    "#Edge Contraction also used here --> If the parent and the leaf has similar label, the edge is deleted, then the parent and the child is unified\n",
    "def ctree (leafNode): #leafNode is a yangdm Python Class\n",
    "    Nodes = list()\n",
    "    Nodes.append(leafNode)\n",
    "    parentNode = leafNode.parent\n",
    "    while parentNode is not None:\n",
    "        try:\n",
    "            seqMatch = SeqMatch(None, leafNode.tag, parentNode.tag)\n",
    "            #if seqMatch.ratio() < 0.8: #If the parent and the child label similarity is lower than 80% no need for Edge Contraction\n",
    "            Nodes.append(parentNode)\n",
    "        except AttributeError:\n",
    "            Nodes.append(y)\n",
    "        leafNode = leafNode.parent\n",
    "        parentNode = parentNode.parent\n",
    "    return Nodes"
   ]
  },
  {
   "cell_type": "code",
   "execution_count": 501,
   "metadata": {},
   "outputs": [],
   "source": [
    "cfiM = list()\n",
    "nfiM = list()\n",
    "cfiNL = list()\n",
    "nfiNL = list()\n",
    "for i in range(len(cfiLeaf)):\n",
    "    cfiM.append(ctree(cfiLeaf[i]))\n",
    "    \n",
    "for j in range(len(nfiLeaf)):\n",
    "    nfiM.append(ctree(nfiLeaf[j]))\n",
    "    \n",
    "for i in range(len(cfiNonLeaf)):\n",
    "    cfiNL.append(ctree(cfiNonLeaf[i]))\n",
    "    \n",
    "for j in range(len(nfiNonLeaf)):\n",
    "    nfiNL.append(ctree(nfiNonLeaf[j]))\n",
    "\n",
    "def getChild(parent):\n",
    "    allChild = []\n",
    "    for child in parent.child:\n",
    "        allChild.append(child)\n",
    "        if child.child:\n",
    "            leaf = getChild(child)\n",
    "            for l in leaf:\n",
    "                allChild.append(l)\n",
    "    return allChild"
   ]
  },
  {
   "cell_type": "code",
   "execution_count": 502,
   "metadata": {},
   "outputs": [
    {
     "name": "stdout",
     "output_type": "stream",
     "text": [
      "0 i2nsf-cfi-policy --> i2nsf-security-policy\n",
      "1 rules --> rules\n",
      "2 event --> event\n",
      "3 condition --> condition\n",
      "4 firewall --> condition\n",
      "4 firewall --> threat-feed\n",
      "4 firewall --> layer-2\n",
      "4 firewall --> ipv4\n",
      "4 firewall --> ipv6\n",
      "4 firewall --> tcp\n",
      "4 firewall --> udp\n",
      "4 firewall --> sctp\n",
      "4 firewall --> dccp\n",
      "4 firewall --> icmp\n",
      "4 firewall --> url-category\n",
      "4 firewall --> voice\n",
      "4 firewall --> ddos\n",
      "4 firewall --> anti-virus\n",
      "4 firewall --> payload\n",
      "4 firewall --> context\n",
      "5 range-port-number --> source-port-number\n",
      "5 range-port-number --> destination-port-number\n",
      "5 range-port-number --> source-port-number\n",
      "5 range-port-number --> destination-port-number\n",
      "5 range-port-number --> source-port-number\n",
      "5 range-port-number --> destination-port-number\n",
      "5 range-port-number --> source-port-number\n",
      "5 range-port-number --> destination-port-number\n",
      "6 icmp --> icmp\n",
      "7 ddos --> ddos\n",
      "8 rate-limit --> ddos\n",
      "9 anti-virus --> anti-virus\n",
      "10 payload --> payload\n",
      "11 url-category --> url-category\n",
      "12 voice --> voice\n",
      "13 context --> context\n",
      "14 time --> time\n",
      "15 period --> period\n",
      "16 application --> application\n",
      "17 device-type --> device-type\n",
      "18 users --> users\n",
      "19 user --> user\n",
      "20 group --> group\n",
      "21 geographic-location --> geographic-location\n",
      "22 threat-feed --> threat-feed\n",
      "23 action --> action\n",
      "24 primary-action --> packet-action\n",
      "24 primary-action --> flow-action\n",
      "24 primary-action --> advanced-action\n",
      "25 secondary-action --> packet-action\n",
      "25 secondary-action --> flow-action\n",
      "25 secondary-action --> advanced-action\n"
     ]
    }
   ],
   "source": [
    "#MAPPING THE NON LEAF\n",
    "parentMap = {}\n",
    "for w in range(len(cfiNonLeaf)):\n",
    "    distance = list()\n",
    "    for x in reversed(cfiNL[w]):\n",
    "        if x.parent is None:\n",
    "            A = WeirdNode(x.tag)\n",
    "        else:\n",
    "            A.addkid(WeirdNode(x.tag))\n",
    "    if cfiNonLeaf[w].parent is not None:\n",
    "        minDistances = {}\n",
    "        #print(cfiNonLeaf[w].tag)\n",
    "        for x in parentMap[cfiNonLeaf[w].parent]:\n",
    "            #print(cfiNonLeaf[i].tag, cfiNonLeaf[i].parent.tag, x.tag)\n",
    "            nfiPair = getChild(x)\n",
    "            nfiPair.insert(0,nfiPair[0].parent)\n",
    "            distance=[]\n",
    "\n",
    "            for j in range(len(nfiPair)):\n",
    "                F=''\n",
    "                for y in reversed(ctree(nfiPair[j])):\n",
    "                    F+=y.tag+'/'\n",
    "                    if y.parent is None:\n",
    "                        B = WeirdNode(y.tag)\n",
    "                    else:\n",
    "                        B.addkid(WeirdNode(y.tag))\n",
    "                if nfiPair[j].isLeaf:\n",
    "                    distance.append(10000)\n",
    "                else:\n",
    "                    distance.append(int(simple_distance(A, B, WeirdNode.get_children, WeirdNode.get_label, weird_dist)))\n",
    "            index = [i for i, x in enumerate(distance) if x == min(distance)]\n",
    "            for i in index:\n",
    "                minDistances[nfiPair[i]] = min(distance)\n",
    "        min_val = min(minDistances.values())\n",
    "        index = [k for k, x in minDistances.items() if x == min_val]\n",
    "        parentMap[cfiNonLeaf[w]] = [k for k in index]\n",
    "    else:\n",
    "        for j in range(len(nfiNonLeaf)):\n",
    "            for y in reversed(nfiNL[j]):\n",
    "                if y.parent is None:\n",
    "                    B = WeirdNode(y.tag)\n",
    "                else:\n",
    "                    B.addkid(WeirdNode(y.tag))\n",
    "            distance.append(int(simple_distance(A, B, WeirdNode.get_children, WeirdNode.get_label, weird_dist)))\n",
    "\n",
    "        index, value = min(enumerate(distance), key=operator.itemgetter(1))\n",
    "        index = [i for i, x in enumerate(distance) if x == min(distance)]\n",
    "        parentMap[cfiNonLeaf[w]]= [nfiNonLeaf[k] for k in index]\n",
    "    for asdf in parentMap[cfiNonLeaf[w]]:\n",
    "        print(\"{} {} --> {}\".format(w, cfiNonLeaf[w].tag, asdf.tag))"
   ]
  },
  {
   "cell_type": "code",
   "execution_count": 503,
   "metadata": {},
   "outputs": [
    {
     "data": {
      "text/plain": [
       "15"
      ]
     },
     "execution_count": 503,
     "metadata": {},
     "output_type": "execute_result"
    }
   ],
   "source": [
    "C = WeirdNode('i2nsf-cfi-policy')\n",
    "C.addkid(WeirdNode('rules')\n",
    "         .addkid(WeirdNode('condition')\n",
    "                 .addkid(WeirdNode('firewall')\n",
    "                         .addkid(WeirdNode('source')))))\n",
    "\n",
    "\n",
    "D = WeirdNode('i2nsf-security-policy')\n",
    "D.addkid(WeirdNode('rules')\n",
    "         .addkid(WeirdNode('condition')\n",
    "                 .addkid(WeirdNode('ipv4')\n",
    "                         .addkid(WeirdNode('source-ipv4-address')))))\n",
    "\n",
    "int(simple_distance(C, D, WeirdNode.get_children, WeirdNode.get_label, weird_dist))"
   ]
  },
  {
   "cell_type": "code",
   "execution_count": 504,
   "metadata": {},
   "outputs": [
    {
     "name": "stdout",
     "output_type": "stream",
     "text": [
      "range-port-number\n",
      "[44, 39, 39, 39, 30, 30, 30, 30, 24, 24, 30, 24, 24, 30, 18, 18, 30, 18, 18, 30, 18, 18, 30, 18, 18, 30, 30, 30, 30, 30, 30, 30, 30, 34, 30, 30, 30, 34, 35, 30, 39, 39, 39, 39, 44, 44]\n",
      "[14, 15, 17, 18, 20, 21, 23, 24]\n",
      "18\n",
      "['source-port-number', 'destination-port-number', 'source-port-number', 'destination-port-number', 'source-port-number', 'destination-port-number', 'source-port-number', 'destination-port-number']\n"
     ]
    }
   ],
   "source": [
    "distance = list()\n",
    "print(cfiNL[5][0].tag)\n",
    "for x in reversed(cfiNL[5]):\n",
    "    if x.parent is None:\n",
    "        A = WeirdNode(x.tag)\n",
    "    else:\n",
    "        A.addkid(WeirdNode(x.tag))\n",
    "\n",
    "for j in range(len(nfiNonLeaf)):\n",
    "    for y in reversed(nfiNL[j]):\n",
    "        if y.parent is None:\n",
    "            B = WeirdNode(y.tag)\n",
    "        else:\n",
    "            B.addkid(WeirdNode(y.tag))\n",
    "    distance.append(int(simple_distance(A, B, WeirdNode.get_children, WeirdNode.get_label, weird_dist)))\n",
    "\n",
    "index, value = min(enumerate(distance), key=operator.itemgetter(1))\n",
    "index = [i for i, x in enumerate(distance) if x == min(distance)]\n",
    "print(distance)\n",
    "print(index)\n",
    "print(value)\n",
    "#parentMap[cfiNonLeaf[4]]= [nfiNonLeaf[asdf] for asdf in index]\n",
    "print ([nfiNonLeaf[asdf].tag for asdf in index])"
   ]
  },
  {
   "cell_type": "code",
   "execution_count": 505,
   "metadata": {},
   "outputs": [
    {
     "name": "stdout",
     "output_type": "stream",
     "text": [
      "0 i2nsf-cfi-policy : i2nsf-security-policy\n",
      "1 rules : rules\n",
      "2 event : event\n",
      "3 condition : condition\n",
      "4 firewall : condition\n",
      "4 firewall : threat-feed\n",
      "4 firewall : layer-2\n",
      "4 firewall : ipv4\n",
      "4 firewall : ipv6\n",
      "4 firewall : tcp\n",
      "4 firewall : udp\n",
      "4 firewall : sctp\n",
      "4 firewall : dccp\n",
      "4 firewall : icmp\n",
      "4 firewall : url-category\n",
      "4 firewall : voice\n",
      "4 firewall : ddos\n",
      "4 firewall : anti-virus\n",
      "4 firewall : payload\n",
      "4 firewall : context\n",
      "5 range-port-number : source-port-number\n",
      "5 range-port-number : destination-port-number\n",
      "5 range-port-number : source-port-number\n",
      "5 range-port-number : destination-port-number\n",
      "5 range-port-number : source-port-number\n",
      "5 range-port-number : destination-port-number\n",
      "5 range-port-number : source-port-number\n",
      "5 range-port-number : destination-port-number\n",
      "6 icmp : icmp\n",
      "7 ddos : ddos\n",
      "8 rate-limit : ddos\n",
      "9 anti-virus : anti-virus\n",
      "10 payload : payload\n",
      "11 url-category : url-category\n",
      "12 voice : voice\n",
      "13 context : context\n",
      "14 time : time\n",
      "15 period : period\n",
      "16 application : application\n",
      "17 device-type : device-type\n",
      "18 users : users\n",
      "19 user : user\n",
      "20 group : group\n",
      "21 geographic-location : geographic-location\n",
      "22 threat-feed : threat-feed\n",
      "23 action : action\n",
      "24 primary-action : packet-action\n",
      "24 primary-action : flow-action\n",
      "24 primary-action : advanced-action\n",
      "25 secondary-action : packet-action\n",
      "25 secondary-action : flow-action\n",
      "25 secondary-action : advanced-action\n"
     ]
    }
   ],
   "source": [
    "w = 0\n",
    "for key,value in parentMap.items():\n",
    "    for i in value:\n",
    "        print(\"{} {} : {}\".format(w, key.tag, i.tag))\n",
    "    w+=1"
   ]
  },
  {
   "cell_type": "code",
   "execution_count": 506,
   "metadata": {
    "scrolled": false
   },
   "outputs": [
    {
     "name": "stdout",
     "output_type": "stream",
     "text": [
      "0 /i2nsf-cfi-policy/name [1]--> /i2nsf-security-policy/name [1] , Edit Distance = 5\n",
      "1 /i2nsf-cfi-policy/language [2]--> /i2nsf-security-policy/language [2] , Edit Distance = 5\n",
      "2 /i2nsf-cfi-policy/resolution-strategy [3]--> /i2nsf-security-policy/resolution-strategy [4] , Edit Distance = 5\n",
      "3 /i2nsf-cfi-policy/rules/name [5]--> /i2nsf-security-policy/rules/name [7] , Edit Distance = 5\n",
      "4 /i2nsf-cfi-policy/rules/priority [6]--> /i2nsf-security-policy/rules/priority [9] , Edit Distance = 5\n",
      "5 /i2nsf-cfi-policy/rules/event/system-event [8]--> /i2nsf-security-policy/rules/event/system-event [16] , Edit Distance = 5\n",
      "6 /i2nsf-cfi-policy/rules/event/system-alarm [9]--> /i2nsf-security-policy/rules/event/system-alarm [17] , Edit Distance = 5\n",
      "7 /i2nsf-cfi-policy/rules/condition/firewall/source [12]--> /i2nsf-security-policy/rules/condition/layer-2/source-mac-address [26] , Edit Distance = 15\n",
      "7 /i2nsf-cfi-policy/rules/condition/firewall/source [12]--> /i2nsf-security-policy/rules/condition/ipv4/source-ipv4-network [51] , Edit Distance = 15\n",
      "7 /i2nsf-cfi-policy/rules/condition/firewall/source [12]--> /i2nsf-security-policy/rules/condition/ipv4/source-ipv4-range [53] , Edit Distance = 15\n",
      "7 /i2nsf-cfi-policy/rules/condition/firewall/source [12]--> /i2nsf-security-policy/rules/condition/ipv6/source-ipv6-network [73] , Edit Distance = 15\n",
      "7 /i2nsf-cfi-policy/rules/condition/firewall/source [12]--> /i2nsf-security-policy/rules/condition/ipv6/source-ipv6-range [75] , Edit Distance = 15\n",
      "7 /i2nsf-cfi-policy/rules/condition/firewall/source [12]--> /i2nsf-security-policy/rules/condition/tcp/source-port-number [83] , Edit Distance = 15\n",
      "7 /i2nsf-cfi-policy/rules/condition/firewall/source [12]--> /i2nsf-security-policy/rules/condition/udp/source-port-number [100] , Edit Distance = 15\n",
      "7 /i2nsf-cfi-policy/rules/condition/firewall/source [12]--> /i2nsf-security-policy/rules/condition/sctp/source-port-number [110] , Edit Distance = 15\n",
      "7 /i2nsf-cfi-policy/rules/condition/firewall/source [12]--> /i2nsf-security-policy/rules/condition/dccp/source-port-number [121] , Edit Distance = 15\n",
      "7 /i2nsf-cfi-policy/rules/condition/firewall/source [12]--> /i2nsf-security-policy/rules/condition/voice/source-voice-id [143] , Edit Distance = 15\n",
      "8 /i2nsf-cfi-policy/rules/condition/firewall/destination [13]--> /i2nsf-security-policy/rules/condition/layer-2/destination-mac-address [24] , Edit Distance = 17\n",
      "8 /i2nsf-cfi-policy/rules/condition/firewall/destination [13]--> /i2nsf-security-policy/rules/condition/ipv4/destination-ipv4-network [44] , Edit Distance = 17\n",
      "8 /i2nsf-cfi-policy/rules/condition/firewall/destination [13]--> /i2nsf-security-policy/rules/condition/ipv4/destination-ipv4-range [46] , Edit Distance = 17\n",
      "8 /i2nsf-cfi-policy/rules/condition/firewall/destination [13]--> /i2nsf-security-policy/rules/condition/ipv6/destination-ipv6-network [66] , Edit Distance = 17\n",
      "8 /i2nsf-cfi-policy/rules/condition/firewall/destination [13]--> /i2nsf-security-policy/rules/condition/ipv6/destination-ipv6-range [68] , Edit Distance = 17\n",
      "8 /i2nsf-cfi-policy/rules/condition/firewall/destination [13]--> /i2nsf-security-policy/rules/condition/tcp/destination-port-number [86] , Edit Distance = 17\n",
      "8 /i2nsf-cfi-policy/rules/condition/firewall/destination [13]--> /i2nsf-security-policy/rules/condition/udp/destination-port-number [103] , Edit Distance = 17\n",
      "8 /i2nsf-cfi-policy/rules/condition/firewall/destination [13]--> /i2nsf-security-policy/rules/condition/sctp/destination-port-number [113] , Edit Distance = 17\n",
      "8 /i2nsf-cfi-policy/rules/condition/firewall/destination [13]--> /i2nsf-security-policy/rules/condition/dccp/destination-port-number [124] , Edit Distance = 17\n",
      "8 /i2nsf-cfi-policy/rules/condition/firewall/destination [13]--> /i2nsf-security-policy/rules/condition/voice/destination-voice-id [144] , Edit Distance = 17\n",
      "9 /i2nsf-cfi-policy/rules/condition/firewall/dscp [14]--> /i2nsf-security-policy/rules/condition/ipv4/dscp [33] , Edit Distance = 13\n",
      "9 /i2nsf-cfi-policy/rules/condition/firewall/dscp [14]--> /i2nsf-security-policy/rules/condition/ipv6/dscp [59] , Edit Distance = 13\n",
      "10 /i2nsf-cfi-policy/rules/condition/firewall/transport-layer-protocol [15]--> /i2nsf-security-policy/rules/condition/ipv4/protocol [37] , Edit Distance = 23\n",
      "10 /i2nsf-cfi-policy/rules/condition/firewall/transport-layer-protocol [15]--> /i2nsf-security-policy/rules/condition/ipv6/protocol [63] , Edit Distance = 23\n",
      "11 /i2nsf-cfi-policy/rules/condition/firewall/range-port-number/start-port-number [17]--> /i2nsf-security-policy/rules/condition/tcp/source-port-number/start [84] , Edit Distance = 25\n",
      "11 /i2nsf-cfi-policy/rules/condition/firewall/range-port-number/start-port-number [17]--> /i2nsf-security-policy/rules/condition/tcp/destination-port-number/start [87] , Edit Distance = 25\n",
      "11 /i2nsf-cfi-policy/rules/condition/firewall/range-port-number/start-port-number [17]--> /i2nsf-security-policy/rules/condition/udp/source-port-number/start [101] , Edit Distance = 25\n",
      "11 /i2nsf-cfi-policy/rules/condition/firewall/range-port-number/start-port-number [17]--> /i2nsf-security-policy/rules/condition/udp/destination-port-number/start [104] , Edit Distance = 25\n",
      "11 /i2nsf-cfi-policy/rules/condition/firewall/range-port-number/start-port-number [17]--> /i2nsf-security-policy/rules/condition/sctp/source-port-number/start [111] , Edit Distance = 25\n",
      "11 /i2nsf-cfi-policy/rules/condition/firewall/range-port-number/start-port-number [17]--> /i2nsf-security-policy/rules/condition/sctp/destination-port-number/start [114] , Edit Distance = 25\n",
      "11 /i2nsf-cfi-policy/rules/condition/firewall/range-port-number/start-port-number [17]--> /i2nsf-security-policy/rules/condition/dccp/source-port-number/start [122] , Edit Distance = 25\n",
      "11 /i2nsf-cfi-policy/rules/condition/firewall/range-port-number/start-port-number [17]--> /i2nsf-security-policy/rules/condition/dccp/destination-port-number/start [125] , Edit Distance = 25\n",
      "12 /i2nsf-cfi-policy/rules/condition/firewall/range-port-number/end-port-number [18]--> /i2nsf-security-policy/rules/condition/tcp/source-port-number/end [85] , Edit Distance = 24\n",
      "12 /i2nsf-cfi-policy/rules/condition/firewall/range-port-number/end-port-number [18]--> /i2nsf-security-policy/rules/condition/tcp/destination-port-number/end [88] , Edit Distance = 24\n",
      "12 /i2nsf-cfi-policy/rules/condition/firewall/range-port-number/end-port-number [18]--> /i2nsf-security-policy/rules/condition/udp/source-port-number/end [102] , Edit Distance = 24\n",
      "12 /i2nsf-cfi-policy/rules/condition/firewall/range-port-number/end-port-number [18]--> /i2nsf-security-policy/rules/condition/udp/destination-port-number/end [105] , Edit Distance = 24\n",
      "12 /i2nsf-cfi-policy/rules/condition/firewall/range-port-number/end-port-number [18]--> /i2nsf-security-policy/rules/condition/sctp/source-port-number/end [112] , Edit Distance = 24\n",
      "12 /i2nsf-cfi-policy/rules/condition/firewall/range-port-number/end-port-number [18]--> /i2nsf-security-policy/rules/condition/sctp/destination-port-number/end [115] , Edit Distance = 24\n",
      "12 /i2nsf-cfi-policy/rules/condition/firewall/range-port-number/end-port-number [18]--> /i2nsf-security-policy/rules/condition/dccp/source-port-number/end [123] , Edit Distance = 24\n",
      "12 /i2nsf-cfi-policy/rules/condition/firewall/range-port-number/end-port-number [18]--> /i2nsf-security-policy/rules/condition/dccp/destination-port-number/end [126] , Edit Distance = 24\n",
      "13 /i2nsf-cfi-policy/rules/condition/firewall/icmp/message [20]--> /i2nsf-security-policy/rules/condition/icmp/description [132] , Edit Distance = 20\n",
      "13 /i2nsf-cfi-policy/rules/condition/firewall/icmp/message [20]--> /i2nsf-security-policy/rules/condition/icmp/version [133] , Edit Distance = 20\n",
      "13 /i2nsf-cfi-policy/rules/condition/firewall/icmp/message [20]--> /i2nsf-security-policy/rules/condition/icmp/type [134] , Edit Distance = 20\n",
      "13 /i2nsf-cfi-policy/rules/condition/firewall/icmp/message [20]--> /i2nsf-security-policy/rules/condition/icmp/code [135] , Edit Distance = 20\n",
      "13 /i2nsf-cfi-policy/rules/condition/firewall/icmp/message [20]--> /i2nsf-security-policy/rules/condition/icmp/rest-of-header [136] , Edit Distance = 20\n",
      "14 /i2nsf-cfi-policy/rules/condition/ddos/rate-limit/packet-rate-threshold [23]--> /i2nsf-security-policy/rules/condition/ddos/alert-packet-rate [148] , Edit Distance = 21\n",
      "15 /i2nsf-cfi-policy/rules/condition/ddos/rate-limit/byte-rate-threshold [24]--> /i2nsf-security-policy/rules/condition/ddos/alert-byte-rate [150] , Edit Distance = 21\n",
      "16 /i2nsf-cfi-policy/rules/condition/ddos/rate-limit/flow-rate-threshold [25]--> /i2nsf-security-policy/rules/condition/ddos/alert-flow-rate [149] , Edit Distance = 21\n",
      "17 /i2nsf-cfi-policy/rules/condition/anti-virus/exception-files [27]--> /i2nsf-security-policy/rules/condition/anti-virus/exception-files [153] , Edit Distance = 5\n",
      "18 /i2nsf-cfi-policy/rules/condition/payload/content [29]--> /i2nsf-security-policy/rules/condition/payload/content [156] , Edit Distance = 5\n",
      "19 /i2nsf-cfi-policy/rules/condition/url-category/url-name [31]--> /i2nsf-security-policy/rules/condition/url-category/description [138] , Edit Distance = 13\n",
      "19 /i2nsf-cfi-policy/rules/condition/url-category/url-name [31]--> /i2nsf-security-policy/rules/condition/url-category/pre-defined [139] , Edit Distance = 13\n",
      "19 /i2nsf-cfi-policy/rules/condition/url-category/url-name [31]--> /i2nsf-security-policy/rules/condition/url-category/user-defined [140] , Edit Distance = 13\n",
      "20 /i2nsf-cfi-policy/rules/condition/voice/source-id [33]--> /i2nsf-security-policy/rules/condition/voice/source-voice-id [143] , Edit Distance = 6\n",
      "21 /i2nsf-cfi-policy/rules/condition/voice/destination-id [34]--> /i2nsf-security-policy/rules/condition/voice/destination-voice-id [144] , Edit Distance = 7\n",
      "22 /i2nsf-cfi-policy/rules/condition/voice/user-agent [35]--> /i2nsf-security-policy/rules/condition/voice/user-agent [145] , Edit Distance = 5\n",
      "23 /i2nsf-cfi-policy/rules/condition/context/time/start-date-time [38]--> /i2nsf-security-policy/rules/condition/context/time/start-date-time [160] , Edit Distance = 5\n",
      "24 /i2nsf-cfi-policy/rules/condition/context/time/end-date-time [39]--> /i2nsf-security-policy/rules/condition/context/time/end-date-time [161] , Edit Distance = 5\n",
      "25 /i2nsf-cfi-policy/rules/condition/context/time/period/start-time [41]--> /i2nsf-security-policy/rules/condition/context/time/period/start-time [163] , Edit Distance = 5\n",
      "26 /i2nsf-cfi-policy/rules/condition/context/time/period/end-time [42]--> /i2nsf-security-policy/rules/condition/context/time/period/end-time [164] , Edit Distance = 5\n",
      "27 /i2nsf-cfi-policy/rules/condition/context/time/period/day [43]--> /i2nsf-security-policy/rules/condition/context/time/period/day [165] , Edit Distance = 5\n",
      "28 /i2nsf-cfi-policy/rules/condition/context/time/period/date [44]--> /i2nsf-security-policy/rules/condition/context/time/period/date [166] , Edit Distance = 5\n",
      "29 /i2nsf-cfi-policy/rules/condition/context/time/period/month [45]--> /i2nsf-security-policy/rules/condition/context/time/period/month [167] , Edit Distance = 5\n"
     ]
    },
    {
     "name": "stdout",
     "output_type": "stream",
     "text": [
      "30 /i2nsf-cfi-policy/rules/condition/context/time/frequency [46]--> /i2nsf-security-policy/rules/condition/context/time/frequency [168] , Edit Distance = 5\n",
      "31 /i2nsf-cfi-policy/rules/condition/context/application/protocol [48]--> /i2nsf-security-policy/rules/condition/context/application/protocol [171] , Edit Distance = 5\n",
      "32 /i2nsf-cfi-policy/rules/condition/context/device-type/device [50]--> /i2nsf-security-policy/rules/condition/context/device-type/device [174] , Edit Distance = 5\n",
      "33 /i2nsf-cfi-policy/rules/condition/context/users/user/id [53]--> /i2nsf-security-policy/rules/condition/context/users/user/id [178] , Edit Distance = 5\n",
      "34 /i2nsf-cfi-policy/rules/condition/context/users/user/name [54]--> /i2nsf-security-policy/rules/condition/context/users/user/name [179] , Edit Distance = 5\n",
      "35 /i2nsf-cfi-policy/rules/condition/context/users/group/id [56]--> /i2nsf-security-policy/rules/condition/context/users/group/id [181] , Edit Distance = 5\n",
      "36 /i2nsf-cfi-policy/rules/condition/context/users/group/name [57]--> /i2nsf-security-policy/rules/condition/context/users/group/name [182] , Edit Distance = 5\n",
      "37 /i2nsf-cfi-policy/rules/condition/context/geographic-location/source [59]--> /i2nsf-security-policy/rules/condition/context/geographic-location/source [185] , Edit Distance = 5\n",
      "38 /i2nsf-cfi-policy/rules/condition/context/geographic-location/destination [60]--> /i2nsf-security-policy/rules/condition/context/geographic-location/destination [186] , Edit Distance = 5\n",
      "39 /i2nsf-cfi-policy/rules/condition/threat-feed/name [62]--> /i2nsf-security-policy/rules/condition/threat-feed/name [21] , Edit Distance = 5\n",
      "40 /i2nsf-cfi-policy/rules/action/primary-action/ingress-action [65]--> /i2nsf-security-policy/rules/action/packet-action/ingress-action [190] , Edit Distance = 12\n",
      "40 /i2nsf-cfi-policy/rules/action/primary-action/ingress-action [65]--> /i2nsf-security-policy/rules/action/flow-action/ingress-action [194] , Edit Distance = 12\n",
      "41 /i2nsf-cfi-policy/rules/action/primary-action/egress-action [66]--> /i2nsf-security-policy/rules/action/packet-action/egress-action [191] , Edit Distance = 12\n",
      "41 /i2nsf-cfi-policy/rules/action/primary-action/egress-action [66]--> /i2nsf-security-policy/rules/action/flow-action/egress-action [195] , Edit Distance = 12\n",
      "42 /i2nsf-cfi-policy/rules/action/secondary-action/log-action [68]--> /i2nsf-security-policy/rules/action/packet-action/log-action [192] , Edit Distance = 13\n",
      "42 /i2nsf-cfi-policy/rules/action/secondary-action/log-action [68]--> /i2nsf-security-policy/rules/action/flow-action/log-action [196] , Edit Distance = 13\n"
     ]
    }
   ],
   "source": [
    "finalMap = {}\n",
    "res = {}\n",
    "myMap = {}\n",
    "for w in range(len(cfiLeaf)):\n",
    "    minDistances = {}\n",
    "    current = cfiLeaf[w]\n",
    "\n",
    "    cfiM = ctree(current)\n",
    "    nfiparents = parentMap[current.parent]\n",
    "    for x in reversed(cfiM):\n",
    "        if x.parent is None:\n",
    "            A = WeirdNode(x.tag)\n",
    "        else:\n",
    "            A.addkid(WeirdNode(x.tag))\n",
    "    for nfiparent in (nfiparents):\n",
    "        distance=[]\n",
    "        nfiPair = getChild(nfiparent)\n",
    "\n",
    "\n",
    "        for j in range(len(nfiPair)):\n",
    "            nfiM = ctree(nfiPair[j])\n",
    "            for x in reversed(nfiM):\n",
    "                if x.parent is None:\n",
    "                    B = WeirdNode(x.tag)\n",
    "                else:\n",
    "                    B.addkid(WeirdNode(x.tag))\n",
    "\n",
    "            distance.append(int(simple_distance(A, B, WeirdNode.get_children, WeirdNode.get_label, weird_dist)))\n",
    "\n",
    "        index = [i for i, x in enumerate(distance) if x == min(distance)]\n",
    "        for i in index:\n",
    "            minDistances[nfiPair[i]] = min(distance)\n",
    "\n",
    "    min_val = min(minDistances.values())\n",
    "    index = [k for k, x in minDistances.items() if x == min_val]\n",
    "    finalMap[current] = {}\n",
    "    for i in index:\n",
    "        finalMap[current][i] = min_val\n",
    "    \n",
    "        if i in myMap:\n",
    "            myMap[i][current] = min_val\n",
    "        else:\n",
    "            myMap[i] = {current:min_val}\n",
    "    for i in index:\n",
    "        if current in res:\n",
    "            res[current].append(i)\n",
    "        else:\n",
    "            res[current] = [i]\n",
    "\n",
    "        print('{} {} [{}]--> {} [{}] , Edit Distance = {}'.format(w, cfiFull[current.id].path(),current.id,nfiFull[i.id].path(),i.id,min_val))"
   ]
  },
  {
   "cell_type": "code",
   "execution_count": 507,
   "metadata": {
    "scrolled": false
   },
   "outputs": [
    {
     "name": "stdout",
     "output_type": "stream",
     "text": [
      "/i2nsf-cfi-policy/name:['/i2nsf-security-policy/name']\n",
      "/i2nsf-cfi-policy/language:['/i2nsf-security-policy/language']\n",
      "/i2nsf-cfi-policy/resolution-strategy:['/i2nsf-security-policy/resolution-strategy']\n",
      "/i2nsf-cfi-policy/rules/name:['/i2nsf-security-policy/rules/name']\n",
      "/i2nsf-cfi-policy/rules/priority:['/i2nsf-security-policy/rules/priority']\n",
      "/i2nsf-cfi-policy/rules/event/system-event:['/i2nsf-security-policy/rules/event/system-event']\n",
      "/i2nsf-cfi-policy/rules/event/system-alarm:['/i2nsf-security-policy/rules/event/system-alarm']\n",
      "/i2nsf-cfi-policy/rules/condition/firewall/source:['/i2nsf-security-policy/rules/condition/layer-2/source-mac-address', '/i2nsf-security-policy/rules/condition/ipv4/source-ipv4-network', '/i2nsf-security-policy/rules/condition/ipv4/source-ipv4-range', '/i2nsf-security-policy/rules/condition/ipv6/source-ipv6-network', '/i2nsf-security-policy/rules/condition/ipv6/source-ipv6-range', '/i2nsf-security-policy/rules/condition/tcp/source-port-number', '/i2nsf-security-policy/rules/condition/udp/source-port-number', '/i2nsf-security-policy/rules/condition/sctp/source-port-number', '/i2nsf-security-policy/rules/condition/dccp/source-port-number', '/i2nsf-security-policy/rules/condition/voice/source-voice-id']\n",
      "/i2nsf-cfi-policy/rules/condition/firewall/destination:['/i2nsf-security-policy/rules/condition/layer-2/destination-mac-address', '/i2nsf-security-policy/rules/condition/ipv4/destination-ipv4-network', '/i2nsf-security-policy/rules/condition/ipv4/destination-ipv4-range', '/i2nsf-security-policy/rules/condition/ipv6/destination-ipv6-network', '/i2nsf-security-policy/rules/condition/ipv6/destination-ipv6-range', '/i2nsf-security-policy/rules/condition/tcp/destination-port-number', '/i2nsf-security-policy/rules/condition/udp/destination-port-number', '/i2nsf-security-policy/rules/condition/sctp/destination-port-number', '/i2nsf-security-policy/rules/condition/dccp/destination-port-number', '/i2nsf-security-policy/rules/condition/voice/destination-voice-id']\n",
      "/i2nsf-cfi-policy/rules/condition/firewall/dscp:['/i2nsf-security-policy/rules/condition/ipv4/dscp', '/i2nsf-security-policy/rules/condition/ipv6/dscp']\n",
      "/i2nsf-cfi-policy/rules/condition/firewall/transport-layer-protocol:['/i2nsf-security-policy/rules/condition/ipv4/protocol', '/i2nsf-security-policy/rules/condition/ipv6/protocol']\n",
      "/i2nsf-cfi-policy/rules/condition/firewall/range-port-number/start-port-number:['/i2nsf-security-policy/rules/condition/tcp/source-port-number/start', '/i2nsf-security-policy/rules/condition/tcp/destination-port-number/start', '/i2nsf-security-policy/rules/condition/udp/source-port-number/start', '/i2nsf-security-policy/rules/condition/udp/destination-port-number/start', '/i2nsf-security-policy/rules/condition/sctp/source-port-number/start', '/i2nsf-security-policy/rules/condition/sctp/destination-port-number/start', '/i2nsf-security-policy/rules/condition/dccp/source-port-number/start', '/i2nsf-security-policy/rules/condition/dccp/destination-port-number/start']\n",
      "/i2nsf-cfi-policy/rules/condition/firewall/range-port-number/end-port-number:['/i2nsf-security-policy/rules/condition/tcp/source-port-number/end', '/i2nsf-security-policy/rules/condition/tcp/destination-port-number/end', '/i2nsf-security-policy/rules/condition/udp/source-port-number/end', '/i2nsf-security-policy/rules/condition/udp/destination-port-number/end', '/i2nsf-security-policy/rules/condition/sctp/source-port-number/end', '/i2nsf-security-policy/rules/condition/sctp/destination-port-number/end', '/i2nsf-security-policy/rules/condition/dccp/source-port-number/end', '/i2nsf-security-policy/rules/condition/dccp/destination-port-number/end']\n",
      "/i2nsf-cfi-policy/rules/condition/firewall/icmp/message:['/i2nsf-security-policy/rules/condition/icmp/description', '/i2nsf-security-policy/rules/condition/icmp/version', '/i2nsf-security-policy/rules/condition/icmp/type', '/i2nsf-security-policy/rules/condition/icmp/code', '/i2nsf-security-policy/rules/condition/icmp/rest-of-header']\n",
      "/i2nsf-cfi-policy/rules/condition/ddos/rate-limit/packet-rate-threshold:['/i2nsf-security-policy/rules/condition/ddos/alert-packet-rate']\n",
      "/i2nsf-cfi-policy/rules/condition/ddos/rate-limit/byte-rate-threshold:['/i2nsf-security-policy/rules/condition/ddos/alert-byte-rate']\n",
      "/i2nsf-cfi-policy/rules/condition/ddos/rate-limit/flow-rate-threshold:['/i2nsf-security-policy/rules/condition/ddos/alert-flow-rate']\n",
      "/i2nsf-cfi-policy/rules/condition/anti-virus/exception-files:['/i2nsf-security-policy/rules/condition/anti-virus/exception-files']\n",
      "/i2nsf-cfi-policy/rules/condition/payload/content:['/i2nsf-security-policy/rules/condition/payload/content']\n",
      "/i2nsf-cfi-policy/rules/condition/url-category/url-name:['/i2nsf-security-policy/rules/condition/url-category/description', '/i2nsf-security-policy/rules/condition/url-category/pre-defined', '/i2nsf-security-policy/rules/condition/url-category/user-defined']\n",
      "/i2nsf-cfi-policy/rules/condition/voice/source-id:['/i2nsf-security-policy/rules/condition/voice/source-voice-id']\n",
      "/i2nsf-cfi-policy/rules/condition/voice/destination-id:['/i2nsf-security-policy/rules/condition/voice/destination-voice-id']\n",
      "/i2nsf-cfi-policy/rules/condition/voice/user-agent:['/i2nsf-security-policy/rules/condition/voice/user-agent']\n",
      "/i2nsf-cfi-policy/rules/condition/context/time/start-date-time:['/i2nsf-security-policy/rules/condition/context/time/start-date-time']\n",
      "/i2nsf-cfi-policy/rules/condition/context/time/end-date-time:['/i2nsf-security-policy/rules/condition/context/time/end-date-time']\n",
      "/i2nsf-cfi-policy/rules/condition/context/time/period/start-time:['/i2nsf-security-policy/rules/condition/context/time/period/start-time']\n",
      "/i2nsf-cfi-policy/rules/condition/context/time/period/end-time:['/i2nsf-security-policy/rules/condition/context/time/period/end-time']\n",
      "/i2nsf-cfi-policy/rules/condition/context/time/period/day:['/i2nsf-security-policy/rules/condition/context/time/period/day']\n",
      "/i2nsf-cfi-policy/rules/condition/context/time/period/date:['/i2nsf-security-policy/rules/condition/context/time/period/date']\n",
      "/i2nsf-cfi-policy/rules/condition/context/time/period/month:['/i2nsf-security-policy/rules/condition/context/time/period/month']\n",
      "/i2nsf-cfi-policy/rules/condition/context/time/frequency:['/i2nsf-security-policy/rules/condition/context/time/frequency']\n",
      "/i2nsf-cfi-policy/rules/condition/context/application/protocol:['/i2nsf-security-policy/rules/condition/context/application/protocol']\n",
      "/i2nsf-cfi-policy/rules/condition/context/device-type/device:['/i2nsf-security-policy/rules/condition/context/device-type/device']\n",
      "/i2nsf-cfi-policy/rules/condition/context/users/user/id:['/i2nsf-security-policy/rules/condition/context/users/user/id']\n",
      "/i2nsf-cfi-policy/rules/condition/context/users/user/name:['/i2nsf-security-policy/rules/condition/context/users/user/name']\n",
      "/i2nsf-cfi-policy/rules/condition/context/users/group/id:['/i2nsf-security-policy/rules/condition/context/users/group/id']\n",
      "/i2nsf-cfi-policy/rules/condition/context/users/group/name:['/i2nsf-security-policy/rules/condition/context/users/group/name']\n",
      "/i2nsf-cfi-policy/rules/condition/context/geographic-location/source:['/i2nsf-security-policy/rules/condition/context/geographic-location/source']\n",
      "/i2nsf-cfi-policy/rules/condition/context/geographic-location/destination:['/i2nsf-security-policy/rules/condition/context/geographic-location/destination']\n",
      "/i2nsf-cfi-policy/rules/condition/threat-feed/name:['/i2nsf-security-policy/rules/condition/threat-feed/name']\n",
      "/i2nsf-cfi-policy/rules/action/primary-action/ingress-action:['/i2nsf-security-policy/rules/action/packet-action/ingress-action', '/i2nsf-security-policy/rules/action/flow-action/ingress-action']\n",
      "/i2nsf-cfi-policy/rules/action/primary-action/egress-action:['/i2nsf-security-policy/rules/action/packet-action/egress-action', '/i2nsf-security-policy/rules/action/flow-action/egress-action']\n",
      "/i2nsf-cfi-policy/rules/action/secondary-action/log-action:['/i2nsf-security-policy/rules/action/packet-action/log-action', '/i2nsf-security-policy/rules/action/flow-action/log-action']\n"
     ]
    }
   ],
   "source": [
    "for k,v in res.items():\n",
    "    print(f\"{k.path()}:{[pair.path() for pair in v]}\")"
   ]
  },
  {
   "cell_type": "code",
   "execution_count": 508,
   "metadata": {
    "scrolled": false
   },
   "outputs": [
    {
     "name": "stdout",
     "output_type": "stream",
     "text": [
      "1 /i2nsf-cfi-policy/name /i2nsf-security-policy/name 5\n",
      "2 /i2nsf-cfi-policy/language /i2nsf-security-policy/language 5\n",
      "3 /i2nsf-cfi-policy/resolution-strategy /i2nsf-security-policy/resolution-strategy 5\n",
      "4 /i2nsf-cfi-policy/rules/name /i2nsf-security-policy/rules/name 5\n",
      "5 /i2nsf-cfi-policy/rules/priority /i2nsf-security-policy/rules/priority 5\n",
      "6 /i2nsf-cfi-policy/rules/event/system-event /i2nsf-security-policy/rules/event/system-event 5\n",
      "7 /i2nsf-cfi-policy/rules/event/system-alarm /i2nsf-security-policy/rules/event/system-alarm 5\n",
      "8 /i2nsf-cfi-policy/rules/condition/firewall/source /i2nsf-security-policy/rules/condition/layer-2/source-mac-address 15\n",
      "9 /i2nsf-cfi-policy/rules/condition/firewall/source /i2nsf-security-policy/rules/condition/ipv4/source-ipv4-network 15\n",
      "10 /i2nsf-cfi-policy/rules/condition/firewall/source /i2nsf-security-policy/rules/condition/ipv6/source-ipv6-network 15\n",
      "11 /i2nsf-cfi-policy/rules/condition/firewall/source /i2nsf-security-policy/rules/condition/voice/source-voice-id 15\n",
      "12 /i2nsf-cfi-policy/rules/condition/firewall/destination /i2nsf-security-policy/rules/condition/layer-2/destination-mac-address 17\n",
      "13 /i2nsf-cfi-policy/rules/condition/firewall/destination /i2nsf-security-policy/rules/condition/ipv4/destination-ipv4-network 17\n",
      "14 /i2nsf-cfi-policy/rules/condition/firewall/destination /i2nsf-security-policy/rules/condition/ipv6/destination-ipv6-network 17\n",
      "15 /i2nsf-cfi-policy/rules/condition/firewall/destination /i2nsf-security-policy/rules/condition/voice/destination-voice-id 17\n",
      "16 /i2nsf-cfi-policy/rules/condition/firewall/dscp /i2nsf-security-policy/rules/condition/ipv4/dscp 13\n",
      "17 /i2nsf-cfi-policy/rules/condition/firewall/dscp /i2nsf-security-policy/rules/condition/ipv6/dscp 13\n",
      "18 /i2nsf-cfi-policy/rules/condition/firewall/transport-layer-protocol /i2nsf-security-policy/rules/condition/ipv4/protocol 23\n",
      "19 /i2nsf-cfi-policy/rules/condition/firewall/transport-layer-protocol /i2nsf-security-policy/rules/condition/ipv6/protocol 23\n",
      "20 /i2nsf-cfi-policy/rules/condition/firewall/range-port-number/start-port-number /i2nsf-security-policy/rules/condition/tcp/source-port-number/start 25\n",
      "21 /i2nsf-cfi-policy/rules/condition/firewall/range-port-number/start-port-number /i2nsf-security-policy/rules/condition/tcp/destination-port-number/start 25\n",
      "22 /i2nsf-cfi-policy/rules/condition/firewall/range-port-number/start-port-number /i2nsf-security-policy/rules/condition/udp/source-port-number/start 25\n",
      "23 /i2nsf-cfi-policy/rules/condition/firewall/range-port-number/start-port-number /i2nsf-security-policy/rules/condition/udp/destination-port-number/start 25\n",
      "24 /i2nsf-cfi-policy/rules/condition/firewall/range-port-number/start-port-number /i2nsf-security-policy/rules/condition/sctp/source-port-number/start 25\n",
      "25 /i2nsf-cfi-policy/rules/condition/firewall/range-port-number/start-port-number /i2nsf-security-policy/rules/condition/sctp/destination-port-number/start 25\n",
      "26 /i2nsf-cfi-policy/rules/condition/firewall/range-port-number/start-port-number /i2nsf-security-policy/rules/condition/dccp/source-port-number/start 25\n",
      "27 /i2nsf-cfi-policy/rules/condition/firewall/range-port-number/start-port-number /i2nsf-security-policy/rules/condition/dccp/destination-port-number/start 25\n",
      "28 /i2nsf-cfi-policy/rules/condition/firewall/range-port-number/end-port-number /i2nsf-security-policy/rules/condition/tcp/source-port-number/end 24\n",
      "29 /i2nsf-cfi-policy/rules/condition/firewall/range-port-number/end-port-number /i2nsf-security-policy/rules/condition/tcp/destination-port-number/end 24\n",
      "30 /i2nsf-cfi-policy/rules/condition/firewall/range-port-number/end-port-number /i2nsf-security-policy/rules/condition/udp/source-port-number/end 24\n",
      "31 /i2nsf-cfi-policy/rules/condition/firewall/range-port-number/end-port-number /i2nsf-security-policy/rules/condition/udp/destination-port-number/end 24\n",
      "32 /i2nsf-cfi-policy/rules/condition/firewall/range-port-number/end-port-number /i2nsf-security-policy/rules/condition/sctp/source-port-number/end 24\n",
      "33 /i2nsf-cfi-policy/rules/condition/firewall/range-port-number/end-port-number /i2nsf-security-policy/rules/condition/sctp/destination-port-number/end 24\n",
      "34 /i2nsf-cfi-policy/rules/condition/firewall/range-port-number/end-port-number /i2nsf-security-policy/rules/condition/dccp/source-port-number/end 24\n",
      "35 /i2nsf-cfi-policy/rules/condition/firewall/range-port-number/end-port-number /i2nsf-security-policy/rules/condition/dccp/destination-port-number/end 24\n",
      "36 /i2nsf-cfi-policy/rules/condition/firewall/icmp/message /i2nsf-security-policy/rules/condition/icmp/description 20\n",
      "37 /i2nsf-cfi-policy/rules/condition/firewall/icmp/message /i2nsf-security-policy/rules/condition/icmp/version 20\n",
      "38 /i2nsf-cfi-policy/rules/condition/firewall/icmp/message /i2nsf-security-policy/rules/condition/icmp/type 20\n",
      "39 /i2nsf-cfi-policy/rules/condition/firewall/icmp/message /i2nsf-security-policy/rules/condition/icmp/code 20\n",
      "40 /i2nsf-cfi-policy/rules/condition/firewall/icmp/message /i2nsf-security-policy/rules/condition/icmp/rest-of-header 20\n",
      "41 /i2nsf-cfi-policy/rules/condition/ddos/rate-limit/packet-rate-threshold /i2nsf-security-policy/rules/condition/ddos/alert-packet-rate 21\n",
      "42 /i2nsf-cfi-policy/rules/condition/ddos/rate-limit/byte-rate-threshold /i2nsf-security-policy/rules/condition/ddos/alert-byte-rate 21\n",
      "43 /i2nsf-cfi-policy/rules/condition/ddos/rate-limit/flow-rate-threshold /i2nsf-security-policy/rules/condition/ddos/alert-flow-rate 21\n",
      "44 /i2nsf-cfi-policy/rules/condition/anti-virus/exception-files /i2nsf-security-policy/rules/condition/anti-virus/exception-files 5\n",
      "45 /i2nsf-cfi-policy/rules/condition/payload/content /i2nsf-security-policy/rules/condition/payload/content 5\n",
      "46 /i2nsf-cfi-policy/rules/condition/url-category/url-name /i2nsf-security-policy/rules/condition/url-category/description 13\n",
      "47 /i2nsf-cfi-policy/rules/condition/url-category/url-name /i2nsf-security-policy/rules/condition/url-category/pre-defined 13\n",
      "48 /i2nsf-cfi-policy/rules/condition/url-category/url-name /i2nsf-security-policy/rules/condition/url-category/user-defined 13\n",
      "49 /i2nsf-cfi-policy/rules/condition/voice/source-id /i2nsf-security-policy/rules/condition/voice/source-voice-id 6\n",
      "50 /i2nsf-cfi-policy/rules/condition/voice/destination-id /i2nsf-security-policy/rules/condition/voice/destination-voice-id 7\n",
      "51 /i2nsf-cfi-policy/rules/condition/voice/user-agent /i2nsf-security-policy/rules/condition/voice/user-agent 5\n",
      "52 /i2nsf-cfi-policy/rules/condition/context/time/start-date-time /i2nsf-security-policy/rules/condition/context/time/start-date-time 5\n",
      "53 /i2nsf-cfi-policy/rules/condition/context/time/end-date-time /i2nsf-security-policy/rules/condition/context/time/end-date-time 5\n",
      "54 /i2nsf-cfi-policy/rules/condition/context/time/period/start-time /i2nsf-security-policy/rules/condition/context/time/period/start-time 5\n",
      "55 /i2nsf-cfi-policy/rules/condition/context/time/period/end-time /i2nsf-security-policy/rules/condition/context/time/period/end-time 5\n",
      "56 /i2nsf-cfi-policy/rules/condition/context/time/period/day /i2nsf-security-policy/rules/condition/context/time/period/day 5\n",
      "57 /i2nsf-cfi-policy/rules/condition/context/time/period/date /i2nsf-security-policy/rules/condition/context/time/period/date 5\n",
      "58 /i2nsf-cfi-policy/rules/condition/context/time/period/month /i2nsf-security-policy/rules/condition/context/time/period/month 5\n",
      "59 /i2nsf-cfi-policy/rules/condition/context/time/frequency /i2nsf-security-policy/rules/condition/context/time/frequency 5\n",
      "60 /i2nsf-cfi-policy/rules/condition/context/application/protocol /i2nsf-security-policy/rules/condition/context/application/protocol 5\n",
      "61 /i2nsf-cfi-policy/rules/condition/context/device-type/device /i2nsf-security-policy/rules/condition/context/device-type/device 5\n",
      "62 /i2nsf-cfi-policy/rules/condition/context/users/user/id /i2nsf-security-policy/rules/condition/context/users/user/id 5\n",
      "63 /i2nsf-cfi-policy/rules/condition/context/users/user/name /i2nsf-security-policy/rules/condition/context/users/user/name 5\n",
      "64 /i2nsf-cfi-policy/rules/condition/context/users/group/id /i2nsf-security-policy/rules/condition/context/users/group/id 5\n",
      "65 /i2nsf-cfi-policy/rules/condition/context/users/group/name /i2nsf-security-policy/rules/condition/context/users/group/name 5\n",
      "66 /i2nsf-cfi-policy/rules/condition/context/geographic-location/source /i2nsf-security-policy/rules/condition/context/geographic-location/source 5\n",
      "67 /i2nsf-cfi-policy/rules/condition/context/geographic-location/destination /i2nsf-security-policy/rules/condition/context/geographic-location/destination 5\n",
      "68 /i2nsf-cfi-policy/rules/condition/threat-feed/name /i2nsf-security-policy/rules/condition/threat-feed/name 5\n",
      "69 /i2nsf-cfi-policy/rules/action/primary-action/ingress-action /i2nsf-security-policy/rules/action/packet-action/ingress-action 12\n",
      "70 /i2nsf-cfi-policy/rules/action/primary-action/ingress-action /i2nsf-security-policy/rules/action/flow-action/ingress-action 12\n",
      "71 /i2nsf-cfi-policy/rules/action/primary-action/egress-action /i2nsf-security-policy/rules/action/packet-action/egress-action 12\n",
      "72 /i2nsf-cfi-policy/rules/action/primary-action/egress-action /i2nsf-security-policy/rules/action/flow-action/egress-action 12\n",
      "73 /i2nsf-cfi-policy/rules/action/secondary-action/log-action /i2nsf-security-policy/rules/action/packet-action/log-action 13\n",
      "74 /i2nsf-cfi-policy/rules/action/secondary-action/log-action /i2nsf-security-policy/rules/action/flow-action/log-action 13\n"
     ]
    }
   ],
   "source": [
    "i=1\n",
    "for k,v in finalMap.items():\n",
    "    \n",
    "    for a,b in v.items():\n",
    "        if a.isLeaf:\n",
    "            print(i,k.path(),a.path(),b)\n",
    "            i+=1"
   ]
  },
  {
   "cell_type": "code",
   "execution_count": null,
   "metadata": {
    "scrolled": true
   },
   "outputs": [],
   "source": []
  },
  {
   "cell_type": "code",
   "execution_count": 509,
   "metadata": {
    "scrolled": false
   },
   "outputs": [
    {
     "name": "stdout",
     "output_type": "stream",
     "text": [
      "/i2nsf-security-policy/name   [<__main__.yangdm object at 0x00000262CBABB400>]\n",
      "/i2nsf-security-policy/language   [<__main__.yangdm object at 0x00000262CBABB0A0>]\n",
      "/i2nsf-security-policy/resolution-strategy   [<__main__.yangdm object at 0x00000262CBABBBB0>]\n",
      "/i2nsf-security-policy/rules/name   [<__main__.yangdm object at 0x00000262CBABB4F0>]\n",
      "/i2nsf-security-policy/rules/priority   [<__main__.yangdm object at 0x00000262CB7A64C0>]\n",
      "/i2nsf-security-policy/rules/event/system-event   [<__main__.yangdm object at 0x00000262CAC1ADC0>]\n",
      "/i2nsf-security-policy/rules/event/system-alarm   [<__main__.yangdm object at 0x00000262CB604400>]\n",
      "/i2nsf-security-policy/rules/condition/layer-2/source-mac-address   [<__main__.yangdm object at 0x00000262CBA657C0>]\n",
      "/i2nsf-security-policy/rules/condition/ipv4/source-ipv4-network   [<__main__.yangdm object at 0x00000262CBA657C0>]\n",
      "/i2nsf-security-policy/rules/condition/ipv4/source-ipv4-range   [<__main__.yangdm object at 0x00000262CBA657C0>]\n",
      "/i2nsf-security-policy/rules/condition/ipv6/source-ipv6-network   [<__main__.yangdm object at 0x00000262CBA657C0>]\n",
      "/i2nsf-security-policy/rules/condition/ipv6/source-ipv6-range   [<__main__.yangdm object at 0x00000262CBA657C0>]\n",
      "/i2nsf-security-policy/rules/condition/tcp/source-port-number   [<__main__.yangdm object at 0x00000262CBA657C0>]\n",
      "/i2nsf-security-policy/rules/condition/udp/source-port-number   [<__main__.yangdm object at 0x00000262CBA657C0>]\n",
      "/i2nsf-security-policy/rules/condition/sctp/source-port-number   [<__main__.yangdm object at 0x00000262CBA657C0>]\n",
      "/i2nsf-security-policy/rules/condition/dccp/source-port-number   [<__main__.yangdm object at 0x00000262CBA657C0>]\n",
      "/i2nsf-security-policy/rules/condition/voice/source-voice-id   [<__main__.yangdm object at 0x00000262CBC35FD0>]\n",
      "/i2nsf-security-policy/rules/condition/layer-2/destination-mac-address   [<__main__.yangdm object at 0x00000262CBA65D60>]\n",
      "/i2nsf-security-policy/rules/condition/ipv4/destination-ipv4-network   [<__main__.yangdm object at 0x00000262CBA65D60>]\n",
      "/i2nsf-security-policy/rules/condition/ipv4/destination-ipv4-range   [<__main__.yangdm object at 0x00000262CBA65D60>]\n",
      "/i2nsf-security-policy/rules/condition/ipv6/destination-ipv6-network   [<__main__.yangdm object at 0x00000262CBA65D60>]\n",
      "/i2nsf-security-policy/rules/condition/ipv6/destination-ipv6-range   [<__main__.yangdm object at 0x00000262CBA65D60>]\n",
      "/i2nsf-security-policy/rules/condition/tcp/destination-port-number   [<__main__.yangdm object at 0x00000262CBA65D60>]\n",
      "/i2nsf-security-policy/rules/condition/udp/destination-port-number   [<__main__.yangdm object at 0x00000262CBA65D60>]\n",
      "/i2nsf-security-policy/rules/condition/sctp/destination-port-number   [<__main__.yangdm object at 0x00000262CBA65D60>]\n",
      "/i2nsf-security-policy/rules/condition/dccp/destination-port-number   [<__main__.yangdm object at 0x00000262CBA65D60>]\n",
      "/i2nsf-security-policy/rules/condition/voice/destination-voice-id   [<__main__.yangdm object at 0x00000262CBC35FA0>]\n",
      "/i2nsf-security-policy/rules/condition/ipv4/dscp   [<__main__.yangdm object at 0x00000262CBA65460>]\n",
      "/i2nsf-security-policy/rules/condition/ipv6/dscp   [<__main__.yangdm object at 0x00000262CBA65460>]\n",
      "/i2nsf-security-policy/rules/condition/ipv4/protocol   [<__main__.yangdm object at 0x00000262CBA65370>]\n",
      "/i2nsf-security-policy/rules/condition/ipv6/protocol   [<__main__.yangdm object at 0x00000262CBA65370>]\n",
      "/i2nsf-security-policy/rules/condition/tcp/source-port-number/start   [<__main__.yangdm object at 0x00000262CBA65BB0>]\n",
      "/i2nsf-security-policy/rules/condition/tcp/destination-port-number/start   [<__main__.yangdm object at 0x00000262CBA65BB0>]\n",
      "/i2nsf-security-policy/rules/condition/udp/source-port-number/start   [<__main__.yangdm object at 0x00000262CBA65BB0>]\n",
      "/i2nsf-security-policy/rules/condition/udp/destination-port-number/start   [<__main__.yangdm object at 0x00000262CBA65BB0>]\n",
      "/i2nsf-security-policy/rules/condition/sctp/source-port-number/start   [<__main__.yangdm object at 0x00000262CBA65BB0>]\n",
      "/i2nsf-security-policy/rules/condition/sctp/destination-port-number/start   [<__main__.yangdm object at 0x00000262CBA65BB0>]\n",
      "/i2nsf-security-policy/rules/condition/dccp/source-port-number/start   [<__main__.yangdm object at 0x00000262CBA65BB0>]\n",
      "/i2nsf-security-policy/rules/condition/dccp/destination-port-number/start   [<__main__.yangdm object at 0x00000262CBA65BB0>]\n",
      "/i2nsf-security-policy/rules/condition/tcp/source-port-number/end   [<__main__.yangdm object at 0x00000262CBC35100>]\n",
      "/i2nsf-security-policy/rules/condition/tcp/destination-port-number/end   [<__main__.yangdm object at 0x00000262CBC35100>]\n",
      "/i2nsf-security-policy/rules/condition/udp/source-port-number/end   [<__main__.yangdm object at 0x00000262CBC35100>]\n",
      "/i2nsf-security-policy/rules/condition/udp/destination-port-number/end   [<__main__.yangdm object at 0x00000262CBC35100>]\n",
      "/i2nsf-security-policy/rules/condition/sctp/source-port-number/end   [<__main__.yangdm object at 0x00000262CBC35100>]\n",
      "/i2nsf-security-policy/rules/condition/sctp/destination-port-number/end   [<__main__.yangdm object at 0x00000262CBC35100>]\n",
      "/i2nsf-security-policy/rules/condition/dccp/source-port-number/end   [<__main__.yangdm object at 0x00000262CBC35100>]\n",
      "/i2nsf-security-policy/rules/condition/dccp/destination-port-number/end   [<__main__.yangdm object at 0x00000262CBC35100>]\n",
      "/i2nsf-security-policy/rules/condition/icmp/description   [<__main__.yangdm object at 0x00000262CBC35040>]\n",
      "/i2nsf-security-policy/rules/condition/icmp/version   [<__main__.yangdm object at 0x00000262CBC35040>]\n",
      "/i2nsf-security-policy/rules/condition/icmp/type   [<__main__.yangdm object at 0x00000262CBC35040>]\n",
      "/i2nsf-security-policy/rules/condition/icmp/code   [<__main__.yangdm object at 0x00000262CBC35040>]\n",
      "/i2nsf-security-policy/rules/condition/icmp/rest-of-header   [<__main__.yangdm object at 0x00000262CBC35040>]\n",
      "/i2nsf-security-policy/rules/condition/ddos/alert-packet-rate   [<__main__.yangdm object at 0x00000262CBC35F40>]\n",
      "/i2nsf-security-policy/rules/condition/ddos/alert-byte-rate   [<__main__.yangdm object at 0x00000262CBC35850>]\n",
      "/i2nsf-security-policy/rules/condition/ddos/alert-flow-rate   [<__main__.yangdm object at 0x00000262CBC35880>]\n",
      "/i2nsf-security-policy/rules/condition/anti-virus/exception-files   [<__main__.yangdm object at 0x00000262CBC358E0>]\n",
      "/i2nsf-security-policy/rules/condition/payload/content   [<__main__.yangdm object at 0x00000262CBC35D00>]\n",
      "/i2nsf-security-policy/rules/condition/url-category/description   [<__main__.yangdm object at 0x00000262CBC35640>]\n",
      "/i2nsf-security-policy/rules/condition/url-category/pre-defined   [<__main__.yangdm object at 0x00000262CBC35640>]\n",
      "/i2nsf-security-policy/rules/condition/url-category/user-defined   [<__main__.yangdm object at 0x00000262CBC35640>]\n",
      "/i2nsf-security-policy/rules/condition/voice/user-agent   [<__main__.yangdm object at 0x00000262CBC353D0>]\n",
      "/i2nsf-security-policy/rules/condition/context/time/start-date-time   [<__main__.yangdm object at 0x00000262CBC35340>]\n",
      "/i2nsf-security-policy/rules/condition/context/time/end-date-time   [<__main__.yangdm object at 0x00000262CBC35310>]\n",
      "/i2nsf-security-policy/rules/condition/context/time/period/start-time   [<__main__.yangdm object at 0x00000262CBC352B0>]\n",
      "/i2nsf-security-policy/rules/condition/context/time/period/end-time   [<__main__.yangdm object at 0x00000262CBC35280>]\n",
      "/i2nsf-security-policy/rules/condition/context/time/period/day   [<__main__.yangdm object at 0x00000262CBC35400>]\n",
      "/i2nsf-security-policy/rules/condition/context/time/period/date   [<__main__.yangdm object at 0x00000262CBC35430>]\n",
      "/i2nsf-security-policy/rules/condition/context/time/period/month   [<__main__.yangdm object at 0x00000262CBC35460>]\n",
      "/i2nsf-security-policy/rules/condition/context/time/frequency   [<__main__.yangdm object at 0x00000262CBC35490>]\n",
      "/i2nsf-security-policy/rules/condition/context/application/protocol   [<__main__.yangdm object at 0x00000262CBC35F10>]\n",
      "/i2nsf-security-policy/rules/condition/context/device-type/device   [<__main__.yangdm object at 0x00000262CBC35B80>]\n",
      "/i2nsf-security-policy/rules/condition/context/users/user/id   [<__main__.yangdm object at 0x00000262CBC35700>]\n",
      "/i2nsf-security-policy/rules/condition/context/users/user/name   [<__main__.yangdm object at 0x00000262CBC35670>]\n",
      "/i2nsf-security-policy/rules/condition/context/users/group/id   [<__main__.yangdm object at 0x00000262CBC35730>]\n",
      "/i2nsf-security-policy/rules/condition/context/users/group/name   [<__main__.yangdm object at 0x00000262CBB461F0>]\n",
      "/i2nsf-security-policy/rules/condition/context/geographic-location/source   [<__main__.yangdm object at 0x00000262CBB46460>]\n",
      "/i2nsf-security-policy/rules/condition/context/geographic-location/destination   [<__main__.yangdm object at 0x00000262CBB467C0>]\n",
      "/i2nsf-security-policy/rules/condition/threat-feed/name   [<__main__.yangdm object at 0x00000262CBB46370>]\n",
      "/i2nsf-security-policy/rules/action/packet-action/ingress-action   [<__main__.yangdm object at 0x00000262CBB46D00>]\n",
      "/i2nsf-security-policy/rules/action/flow-action/ingress-action   [<__main__.yangdm object at 0x00000262CBB46D00>]\n",
      "/i2nsf-security-policy/rules/action/packet-action/egress-action   [<__main__.yangdm object at 0x00000262CBB46340>]\n",
      "/i2nsf-security-policy/rules/action/flow-action/egress-action   [<__main__.yangdm object at 0x00000262CBB46340>]\n",
      "/i2nsf-security-policy/rules/action/packet-action/log-action   [<__main__.yangdm object at 0x00000262CBB46EE0>]\n",
      "/i2nsf-security-policy/rules/action/flow-action/log-action   [<__main__.yangdm object at 0x00000262CBB46EE0>]\n"
     ]
    }
   ],
   "source": [
    "finMap = {}\n",
    "for k,v in myMap.items():\n",
    "\n",
    "    temp = min(v.values())\n",
    "    res = [key for key in v if v[key] == temp]\n",
    "    print(f\"{k.path()}   {res}\")\n",
    "    for r in res:\n",
    "        if r in finMap:\n",
    "            finMap[r].append(k)\n",
    "        else:\n",
    "            finMap[r] = [k]"
   ]
  },
  {
   "cell_type": "code",
   "execution_count": 510,
   "metadata": {
    "scrolled": false
   },
   "outputs": [
    {
     "name": "stdout",
     "output_type": "stream",
     "text": [
      "   /i2nsf-cfi-policy/name\n",
      "0                                               /i2nsf-security-policy/name\n",
      "   /i2nsf-cfi-policy/language\n",
      "1                                               /i2nsf-security-policy/language\n",
      "   /i2nsf-cfi-policy/resolution-strategy\n",
      "2                                               /i2nsf-security-policy/resolution-strategy\n",
      "   /i2nsf-cfi-policy/rules/name\n",
      "3                                               /i2nsf-security-policy/rules/name\n",
      "   /i2nsf-cfi-policy/rules/priority\n",
      "4                                               /i2nsf-security-policy/rules/priority\n",
      "   /i2nsf-cfi-policy/rules/event/system-event\n",
      "5                                               /i2nsf-security-policy/rules/event/system-event\n",
      "   /i2nsf-cfi-policy/rules/event/system-alarm\n",
      "6                                               /i2nsf-security-policy/rules/event/system-alarm\n",
      "   /i2nsf-cfi-policy/rules/condition/firewall/source\n",
      "7                                               /i2nsf-security-policy/rules/condition/layer-2/source-mac-address\n",
      "8                                               /i2nsf-security-policy/rules/condition/ipv4/source-ipv4-network\n",
      "9                                               /i2nsf-security-policy/rules/condition/ipv6/source-ipv6-network\n",
      "   /i2nsf-cfi-policy/rules/condition/voice/source-id\n",
      "10                                               /i2nsf-security-policy/rules/condition/voice/source-voice-id\n",
      "   /i2nsf-cfi-policy/rules/condition/firewall/destination\n",
      "11                                               /i2nsf-security-policy/rules/condition/layer-2/destination-mac-address\n",
      "12                                               /i2nsf-security-policy/rules/condition/ipv4/destination-ipv4-network\n",
      "13                                               /i2nsf-security-policy/rules/condition/ipv6/destination-ipv6-network\n",
      "   /i2nsf-cfi-policy/rules/condition/voice/destination-id\n",
      "14                                               /i2nsf-security-policy/rules/condition/voice/destination-voice-id\n",
      "   /i2nsf-cfi-policy/rules/condition/firewall/dscp\n",
      "15                                               /i2nsf-security-policy/rules/condition/ipv4/dscp\n",
      "16                                               /i2nsf-security-policy/rules/condition/ipv6/dscp\n",
      "   /i2nsf-cfi-policy/rules/condition/firewall/transport-layer-protocol\n",
      "17                                               /i2nsf-security-policy/rules/condition/ipv4/protocol\n",
      "18                                               /i2nsf-security-policy/rules/condition/ipv6/protocol\n",
      "   /i2nsf-cfi-policy/rules/condition/firewall/range-port-number/start-port-number\n",
      "19                                               /i2nsf-security-policy/rules/condition/tcp/source-port-number/start\n",
      "20                                               /i2nsf-security-policy/rules/condition/tcp/destination-port-number/start\n",
      "21                                               /i2nsf-security-policy/rules/condition/udp/source-port-number/start\n",
      "22                                               /i2nsf-security-policy/rules/condition/udp/destination-port-number/start\n",
      "23                                               /i2nsf-security-policy/rules/condition/sctp/source-port-number/start\n",
      "24                                               /i2nsf-security-policy/rules/condition/sctp/destination-port-number/start\n",
      "25                                               /i2nsf-security-policy/rules/condition/dccp/source-port-number/start\n",
      "26                                               /i2nsf-security-policy/rules/condition/dccp/destination-port-number/start\n",
      "   /i2nsf-cfi-policy/rules/condition/firewall/range-port-number/end-port-number\n",
      "27                                               /i2nsf-security-policy/rules/condition/tcp/source-port-number/end\n",
      "28                                               /i2nsf-security-policy/rules/condition/tcp/destination-port-number/end\n",
      "29                                               /i2nsf-security-policy/rules/condition/udp/source-port-number/end\n",
      "30                                               /i2nsf-security-policy/rules/condition/udp/destination-port-number/end\n",
      "31                                               /i2nsf-security-policy/rules/condition/sctp/source-port-number/end\n",
      "32                                               /i2nsf-security-policy/rules/condition/sctp/destination-port-number/end\n",
      "33                                               /i2nsf-security-policy/rules/condition/dccp/source-port-number/end\n",
      "34                                               /i2nsf-security-policy/rules/condition/dccp/destination-port-number/end\n",
      "   /i2nsf-cfi-policy/rules/condition/firewall/icmp/message\n",
      "35                                               /i2nsf-security-policy/rules/condition/icmp/description\n",
      "36                                               /i2nsf-security-policy/rules/condition/icmp/version\n",
      "37                                               /i2nsf-security-policy/rules/condition/icmp/type\n",
      "38                                               /i2nsf-security-policy/rules/condition/icmp/code\n",
      "39                                               /i2nsf-security-policy/rules/condition/icmp/rest-of-header\n",
      "   /i2nsf-cfi-policy/rules/condition/ddos/rate-limit/packet-rate-threshold\n",
      "40                                               /i2nsf-security-policy/rules/condition/ddos/alert-packet-rate\n",
      "   /i2nsf-cfi-policy/rules/condition/ddos/rate-limit/byte-rate-threshold\n",
      "41                                               /i2nsf-security-policy/rules/condition/ddos/alert-byte-rate\n",
      "   /i2nsf-cfi-policy/rules/condition/ddos/rate-limit/flow-rate-threshold\n",
      "42                                               /i2nsf-security-policy/rules/condition/ddos/alert-flow-rate\n",
      "   /i2nsf-cfi-policy/rules/condition/anti-virus/exception-files\n",
      "43                                               /i2nsf-security-policy/rules/condition/anti-virus/exception-files\n",
      "   /i2nsf-cfi-policy/rules/condition/payload/content\n",
      "44                                               /i2nsf-security-policy/rules/condition/payload/content\n",
      "   /i2nsf-cfi-policy/rules/condition/url-category/url-name\n",
      "45                                               /i2nsf-security-policy/rules/condition/url-category/description\n",
      "46                                               /i2nsf-security-policy/rules/condition/url-category/pre-defined\n",
      "47                                               /i2nsf-security-policy/rules/condition/url-category/user-defined\n",
      "   /i2nsf-cfi-policy/rules/condition/voice/user-agent\n",
      "48                                               /i2nsf-security-policy/rules/condition/voice/user-agent\n",
      "   /i2nsf-cfi-policy/rules/condition/context/time/start-date-time\n",
      "49                                               /i2nsf-security-policy/rules/condition/context/time/start-date-time\n",
      "   /i2nsf-cfi-policy/rules/condition/context/time/end-date-time\n",
      "50                                               /i2nsf-security-policy/rules/condition/context/time/end-date-time\n",
      "   /i2nsf-cfi-policy/rules/condition/context/time/period/start-time\n",
      "51                                               /i2nsf-security-policy/rules/condition/context/time/period/start-time\n",
      "   /i2nsf-cfi-policy/rules/condition/context/time/period/end-time\n",
      "52                                               /i2nsf-security-policy/rules/condition/context/time/period/end-time\n",
      "   /i2nsf-cfi-policy/rules/condition/context/time/period/day\n",
      "53                                               /i2nsf-security-policy/rules/condition/context/time/period/day\n",
      "   /i2nsf-cfi-policy/rules/condition/context/time/period/date\n",
      "54                                               /i2nsf-security-policy/rules/condition/context/time/period/date\n",
      "   /i2nsf-cfi-policy/rules/condition/context/time/period/month\n",
      "55                                               /i2nsf-security-policy/rules/condition/context/time/period/month\n",
      "   /i2nsf-cfi-policy/rules/condition/context/time/frequency\n",
      "56                                               /i2nsf-security-policy/rules/condition/context/time/frequency\n",
      "   /i2nsf-cfi-policy/rules/condition/context/application/protocol\n",
      "57                                               /i2nsf-security-policy/rules/condition/context/application/protocol\n",
      "   /i2nsf-cfi-policy/rules/condition/context/device-type/device\n",
      "58                                               /i2nsf-security-policy/rules/condition/context/device-type/device\n",
      "   /i2nsf-cfi-policy/rules/condition/context/users/user/id\n",
      "59                                               /i2nsf-security-policy/rules/condition/context/users/user/id\n",
      "   /i2nsf-cfi-policy/rules/condition/context/users/user/name\n",
      "60                                               /i2nsf-security-policy/rules/condition/context/users/user/name\n",
      "   /i2nsf-cfi-policy/rules/condition/context/users/group/id\n",
      "61                                               /i2nsf-security-policy/rules/condition/context/users/group/id\n",
      "   /i2nsf-cfi-policy/rules/condition/context/users/group/name\n",
      "62                                               /i2nsf-security-policy/rules/condition/context/users/group/name\n",
      "   /i2nsf-cfi-policy/rules/condition/context/geographic-location/source\n",
      "63                                               /i2nsf-security-policy/rules/condition/context/geographic-location/source\n",
      "   /i2nsf-cfi-policy/rules/condition/context/geographic-location/destination\n",
      "64                                               /i2nsf-security-policy/rules/condition/context/geographic-location/destination\n",
      "   /i2nsf-cfi-policy/rules/condition/threat-feed/name\n",
      "65                                               /i2nsf-security-policy/rules/condition/threat-feed/name\n",
      "   /i2nsf-cfi-policy/rules/action/primary-action/ingress-action\n",
      "66                                               /i2nsf-security-policy/rules/action/packet-action/ingress-action\n",
      "67                                               /i2nsf-security-policy/rules/action/flow-action/ingress-action\n",
      "   /i2nsf-cfi-policy/rules/action/primary-action/egress-action\n",
      "68                                               /i2nsf-security-policy/rules/action/packet-action/egress-action\n",
      "69                                               /i2nsf-security-policy/rules/action/flow-action/egress-action\n",
      "   /i2nsf-cfi-policy/rules/action/secondary-action/log-action\n",
      "70                                               /i2nsf-security-policy/rules/action/packet-action/log-action\n",
      "71                                               /i2nsf-security-policy/rules/action/flow-action/log-action\n"
     ]
    }
   ],
   "source": [
    "i = 0\n",
    "for k,v in finMap.items():\n",
    "    print(f\"   {k.path()}\")\n",
    "    for a in v:\n",
    "        if a.isLeaf:\n",
    "            print(f\"{i}                                               {a.path()}\")\n",
    "            i+=1"
   ]
  }
 ],
 "metadata": {
  "kernelspec": {
   "display_name": "Python 3 (ipykernel)",
   "language": "python",
   "name": "python3"
  },
  "language_info": {
   "codemirror_mode": {
    "name": "ipython",
    "version": 3
   },
   "file_extension": ".py",
   "mimetype": "text/x-python",
   "name": "python",
   "nbconvert_exporter": "python",
   "pygments_lexer": "ipython3",
   "version": "3.9.12"
  }
 },
 "nbformat": 4,
 "nbformat_minor": 4
}
