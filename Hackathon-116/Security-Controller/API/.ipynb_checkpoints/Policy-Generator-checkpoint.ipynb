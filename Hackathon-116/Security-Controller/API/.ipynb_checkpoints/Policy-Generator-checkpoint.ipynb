{
 "cells": [
  {
   "cell_type": "code",
   "execution_count": 1,
   "metadata": {},
   "outputs": [],
   "source": [
    "from bindingNFI import ietf_i2nsf_nsf_facing_interface\n",
    "from bindingCFI import ietf_i2nsf_cfi_policy\n",
    "from bindingReg import ietf_i2nsf_registration_interface\n",
    "\n",
    "from pybind.pyangbind.lib.serialise import pybindIETFXMLEncoder\n",
    "import logging\n",
    "import re\n",
    "import json"
   ]
  },
  {
   "cell_type": "code",
   "execution_count": null,
   "metadata": {
    "scrolled": true
   },
   "outputs": [],
   "source": [
    "restriction_arg={'pass': {'@module': 'ietf-i2nsf-capability', '@namespace': 'urn:ietf:params:xml:ns:yang:ietf-i2nsf-capability'}, 'nsfcap:pass': {'@module': 'ietf-i2nsf-capability', '@namespace': 'urn:ietf:params:xml:ns:yang:ietf-i2nsf-capability'}, 'i2nsfcap:pass': {'@module': 'ietf-i2nsf-capability', '@namespace': 'urn:ietf:params:xml:ns:yang:ietf-i2nsf-capability'}, 'drop': {'@module': 'ietf-i2nsf-capability', '@namespace': 'urn:ietf:params:xml:ns:yang:ietf-i2nsf-capability'}, 'nsfcap:drop': {'@module': 'ietf-i2nsf-capability', '@namespace': 'urn:ietf:params:xml:ns:yang:ietf-i2nsf-capability'}, 'i2nsfcap:drop': {'@module': 'ietf-i2nsf-capability', '@namespace': 'urn:ietf:params:xml:ns:yang:ietf-i2nsf-capability'}, 'reject': {'@module': 'ietf-i2nsf-capability', '@namespace': 'urn:ietf:params:xml:ns:yang:ietf-i2nsf-capability'}, 'nsfcap:reject': {'@module': 'ietf-i2nsf-capability', '@namespace': 'urn:ietf:params:xml:ns:yang:ietf-i2nsf-capability'}, 'i2nsfcap:reject': {'@module': 'ietf-i2nsf-capability', '@namespace': 'urn:ietf:params:xml:ns:yang:ietf-i2nsf-capability'}, 'mirror': {'@module': 'ietf-i2nsf-capability', '@namespace': 'urn:ietf:params:xml:ns:yang:ietf-i2nsf-capability'}, 'nsfcap:mirror': {'@module': 'ietf-i2nsf-capability', '@namespace': 'urn:ietf:params:xml:ns:yang:ietf-i2nsf-capability'}, 'i2nsfcap:mirror': {'@module': 'ietf-i2nsf-capability', '@namespace': 'urn:ietf:params:xml:ns:yang:ietf-i2nsf-capability'}, 'rate-limit': {'@module': 'ietf-i2nsf-capability', '@namespace': 'urn:ietf:params:xml:ns:yang:ietf-i2nsf-capability'}, 'nsfcap:rate-limit': {'@module': 'ietf-i2nsf-capability', '@namespace': 'urn:ietf:params:xml:ns:yang:ietf-i2nsf-capability'}, 'i2nsfcap:rate-limit': {'@module': 'ietf-i2nsf-capability', '@namespace': 'urn:ietf:params:xml:ns:yang:ietf-i2nsf-capability'}},\n",
    "print(json.dumps(restriction_arg,indent=2))"
   ]
  },
  {
   "cell_type": "code",
   "execution_count": null,
   "metadata": {},
   "outputs": [],
   "source": [
    "import pymongo"
   ]
  },
  {
   "cell_type": "code",
   "execution_count": null,
   "metadata": {},
   "outputs": [],
   "source": [
    "restriction_arg={'pass': {'@module': 'ietf-i2nsf-capability', '@namespace': 'urn:ietf:params:xml:ns:yang:ietf-i2nsf-capability'}, 'nsfcap:pass': {'@module': 'ietf-i2nsf-capability', '@namespace': 'urn:ietf:params:xml:ns:yang:ietf-i2nsf-capability'}, 'i2nsfcap:pass': {'@module': 'ietf-i2nsf-capability', '@namespace': 'urn:ietf:params:xml:ns:yang:ietf-i2nsf-capability'}, 'drop': {'@module': 'ietf-i2nsf-capability', '@namespace': 'urn:ietf:params:xml:ns:yang:ietf-i2nsf-capability'}, 'nsfcap:drop': {'@module': 'ietf-i2nsf-capability', '@namespace': 'urn:ietf:params:xml:ns:yang:ietf-i2nsf-capability'}, 'i2nsfcap:drop': {'@module': 'ietf-i2nsf-capability', '@namespace': 'urn:ietf:params:xml:ns:yang:ietf-i2nsf-capability'}, 'reject': {'@module': 'ietf-i2nsf-capability', '@namespace': 'urn:ietf:params:xml:ns:yang:ietf-i2nsf-capability'}, 'nsfcap:reject': {'@module': 'ietf-i2nsf-capability', '@namespace': 'urn:ietf:params:xml:ns:yang:ietf-i2nsf-capability'}, 'i2nsfcap:reject': {'@module': 'ietf-i2nsf-capability', '@namespace': 'urn:ietf:params:xml:ns:yang:ietf-i2nsf-capability'}, 'mirror': {'@module': 'ietf-i2nsf-capability', '@namespace': 'urn:ietf:params:xml:ns:yang:ietf-i2nsf-capability'}, 'nsfcap:mirror': {'@module': 'ietf-i2nsf-capability', '@namespace': 'urn:ietf:params:xml:ns:yang:ietf-i2nsf-capability'}, 'i2nsfcap:mirror': {'@module': 'ietf-i2nsf-capability', '@namespace': 'urn:ietf:params:xml:ns:yang:ietf-i2nsf-capability'}, 'rate-limit': {'@module': 'ietf-i2nsf-capability', '@namespace': 'urn:ietf:params:xml:ns:yang:ietf-i2nsf-capability'}, 'nsfcap:rate-limit': {'@module': 'ietf-i2nsf-capability', '@namespace': 'urn:ietf:params:xml:ns:yang:ietf-i2nsf-capability'}, 'i2nsfcap:rate-limit': {'@module': 'ietf-i2nsf-capability', '@namespace': 'urn:ietf:params:xml:ns:yang:ietf-i2nsf-capability'},'invoke-signaling': {'@module': 'ietf-i2nsf-capability', '@namespace': 'urn:ietf:params:xml:ns:yang:ietf-i2nsf-capability'}, 'nsfcap:invoke-signaling': {'@module': 'ietf-i2nsf-capability', '@namespace': 'urn:ietf:params:xml:ns:yang:ietf-i2nsf-capability'}, 'i2nsfcap:invoke-signaling': {'@module': 'ietf-i2nsf-capability', '@namespace': 'urn:ietf:params:xml:ns:yang:ietf-i2nsf-capability'}, 'tunnel-encapsulation': {'@module': 'ietf-i2nsf-capability', '@namespace': 'urn:ietf:params:xml:ns:yang:ietf-i2nsf-capability'}, 'nsfcap:tunnel-encapsulation': {'@module': 'ietf-i2nsf-capability', '@namespace': 'urn:ietf:params:xml:ns:yang:ietf-i2nsf-capability'}, 'i2nsfcap:tunnel-encapsulation': {'@module': 'ietf-i2nsf-capability', '@namespace': 'urn:ietf:params:xml:ns:yang:ietf-i2nsf-capability'}, 'forwarding': {'@module': 'ietf-i2nsf-capability', '@namespace': 'urn:ietf:params:xml:ns:yang:ietf-i2nsf-capability'}, 'nsfcap:forwarding': {'@module': 'ietf-i2nsf-capability', '@namespace': 'urn:ietf:params:xml:ns:yang:ietf-i2nsf-capability'}, 'i2nsfcap:forwarding': {'@module': 'ietf-i2nsf-capability', '@namespace': 'urn:ietf:params:xml:ns:yang:ietf-i2nsf-capability'}, 'transformation': {'@module': 'ietf-i2nsf-capability', '@namespace': 'urn:ietf:params:xml:ns:yang:ietf-i2nsf-capability'}, 'nsfcap:transformation': {'@module': 'ietf-i2nsf-capability', '@namespace': 'urn:ietf:params:xml:ns:yang:ietf-i2nsf-capability'}, 'i2nsfcap:transformation': {'@module': 'ietf-i2nsf-capability', '@namespace': 'urn:ietf:params:xml:ns:yang:ietf-i2nsf-capability'}},\n",
    "print(json.dumps(restriction_arg,indent=2))"
   ]
  },
  {
   "cell_type": "code",
   "execution_count": null,
   "metadata": {},
   "outputs": [],
   "source": [
    "logging.basicConfig(level=logging.DEBUG, format='%(asctime)s - %(levelname)s - %(message)s')\n",
    "logging.debug(\"This is test\")"
   ]
  },
  {
   "cell_type": "code",
   "execution_count": 3,
   "metadata": {},
   "outputs": [],
   "source": [
    "nfi = ietf_i2nsf_nsf_facing_interface()\n",
    "cfi = ietf_i2nsf_cfi_policy()\n",
    "reg = ietf_i2nsf_registration_interface()"
   ]
  },
  {
   "cell_type": "code",
   "execution_count": null,
   "metadata": {},
   "outputs": [],
   "source": [
    "%reset"
   ]
  },
  {
   "cell_type": "code",
   "execution_count": null,
   "metadata": {},
   "outputs": [],
   "source": [
    "reg._unset_nsf_registrations()"
   ]
  },
  {
   "cell_type": "code",
   "execution_count": 4,
   "metadata": {},
   "outputs": [],
   "source": [
    "reg._unset_nsf_registrations()\n",
    "nsfInfo = reg.nsf_registrations.nsf_information.add(\"Firewall\")\n",
    "nsfInfo.nsf_capability_info.security_capability.condition_capabilities.generic_nsf_capabilities.ipv4_capability.append(\"next-header\")\n",
    "nsfInfo.nsf_capability_info.security_capability.condition_capabilities.generic_nsf_capabilities.ipv4_capability.append(\"source-address\")\n",
    "nsfInfo.nsf_capability_info.security_capability.condition_capabilities.generic_nsf_capabilities.tcp_capability.append(\"source-port-number\")\n",
    "nsfInfo.nsf_capability_info.security_capability.condition_capabilities.generic_nsf_capabilities.tcp_capability.append(\"destination-port-number\")\n",
    "nsfInfo.nsf_capability_info.security_capability.action_capabilities.ingress_action_capability.append(\"pass\")\n",
    "nsfInfo.nsf_capability_info.security_capability.action_capabilities.ingress_action_capability.append(\"drop\")\n",
    "nsfInfo.nsf_capability_info.security_capability.action_capabilities.ingress_action_capability.append(\"mirror\")\n",
    "nsfInfo.nsf_capability_info.security_capability.action_capabilities.egress_action_capability.append(\"pass\")\n",
    "nsfInfo.nsf_capability_info.security_capability.action_capabilities.egress_action_capability.append(\"drop\")\n",
    "nsfInfo.nsf_capability_info.security_capability.action_capabilities.egress_action_capability.append(\"mirror\")\n",
    "nsfInfo.nsf_capability_info.performance_capability.processing.processing_average=1000\n",
    "nsfInfo.nsf_capability_info.performance_capability.processing.processing_peak=5000\n",
    "nsfInfo.nsf_capability_info.performance_capability.bandwidth.outbound.outbound_average=1000\n",
    "nsfInfo.nsf_capability_info.performance_capability.bandwidth.outbound.outbound_peak=5000\n",
    "nsfInfo.nsf_capability_info.performance_capability.bandwidth.inbound.inbound_average=1000\n",
    "nsfInfo.nsf_capability_info.performance_capability.bandwidth.inbound.inbound_peak=5000\n",
    "nsfInfo.nsf_access_info.ip=\"192.0.2.11\"\n",
    "nsfInfo.nsf_access_info.port=49152"
   ]
  },
  {
   "cell_type": "code",
   "execution_count": 11,
   "metadata": {
    "scrolled": true
   },
   "outputs": [
    {
     "ename": "AttributeError",
     "evalue": "'ietf_i2nsf_registration_interface' object has no attribute '_yang_namespace'",
     "output_type": "error",
     "traceback": [
      "\u001b[1;31m---------------------------------------------------------------------------\u001b[0m",
      "\u001b[1;31mAttributeError\u001b[0m                            Traceback (most recent call last)",
      "Input \u001b[1;32mIn [11]\u001b[0m, in \u001b[0;36m<cell line: 2>\u001b[1;34m()\u001b[0m\n\u001b[0;32m      1\u001b[0m \u001b[38;5;28;01mimport\u001b[39;00m \u001b[38;5;21;01mpyangbind\u001b[39;00m\u001b[38;5;21;01m.\u001b[39;00m\u001b[38;5;21;01mlib\u001b[39;00m\u001b[38;5;21;01m.\u001b[39;00m\u001b[38;5;21;01mpybindJSON\u001b[39;00m \u001b[38;5;28;01mas\u001b[39;00m \u001b[38;5;21;01mpybindJSON\u001b[39;00m\n\u001b[1;32m----> 2\u001b[0m \u001b[38;5;28mprint\u001b[39m(\u001b[43mpybindIETFXMLEncoder\u001b[49m\u001b[38;5;241;43m.\u001b[39;49m\u001b[43mserialise\u001b[49m\u001b[43m(\u001b[49m\u001b[43mreg\u001b[49m\u001b[43m)\u001b[49m)\n",
      "File \u001b[1;32m~\\OneDrive - 성균관대학교\\Python Scripts\\API\\pybind\\pyangbind\\lib\\serialise.py:389\u001b[0m, in \u001b[0;36mpybindIETFXMLEncoder.serialise\u001b[1;34m(cls, obj, filter, pretty_print)\u001b[0m\n\u001b[0;32m    386\u001b[0m \u001b[38;5;129m@classmethod\u001b[39m\n\u001b[0;32m    387\u001b[0m \u001b[38;5;28;01mdef\u001b[39;00m \u001b[38;5;21mserialise\u001b[39m(\u001b[38;5;28mcls\u001b[39m, obj, \u001b[38;5;28mfilter\u001b[39m\u001b[38;5;241m=\u001b[39m\u001b[38;5;28;01mTrue\u001b[39;00m, pretty_print\u001b[38;5;241m=\u001b[39m\u001b[38;5;28;01mTrue\u001b[39;00m):\n\u001b[0;32m    388\u001b[0m     \u001b[38;5;124;03m\"\"\"return the complete XML document, as pretty-printed string\"\"\"\u001b[39;00m\n\u001b[1;32m--> 389\u001b[0m     doc \u001b[38;5;241m=\u001b[39m \u001b[38;5;28;43mcls\u001b[39;49m\u001b[38;5;241;43m.\u001b[39;49m\u001b[43mencode\u001b[49m\u001b[43m(\u001b[49m\u001b[43mobj\u001b[49m\u001b[43m,\u001b[49m\u001b[43m \u001b[49m\u001b[38;5;28;43mfilter\u001b[39;49m\u001b[38;5;241;43m=\u001b[39;49m\u001b[38;5;28;43mfilter\u001b[39;49m\u001b[43m)\u001b[49m\n\u001b[0;32m    390\u001b[0m     \u001b[38;5;28;01mreturn\u001b[39;00m etree\u001b[38;5;241m.\u001b[39mtostring(doc, pretty_print\u001b[38;5;241m=\u001b[39mpretty_print)\u001b[38;5;241m.\u001b[39mdecode(\u001b[38;5;124m\"\u001b[39m\u001b[38;5;124mutf8\u001b[39m\u001b[38;5;124m\"\u001b[39m)\n",
      "File \u001b[1;32m~\\OneDrive - 성균관대학교\\Python Scripts\\API\\pybind\\pyangbind\\lib\\serialise.py:384\u001b[0m, in \u001b[0;36mpybindIETFXMLEncoder.encode\u001b[1;34m(cls, obj, filter)\u001b[0m\n\u001b[0;32m    382\u001b[0m tree \u001b[38;5;241m=\u001b[39m ietf_tree_xml_func(obj, flt\u001b[38;5;241m=\u001b[39m\u001b[38;5;28mfilter\u001b[39m)\n\u001b[0;32m    383\u001b[0m preprocessed \u001b[38;5;241m=\u001b[39m XmlYangDataSerialiser()\u001b[38;5;241m.\u001b[39mpreprocess_element(tree)\n\u001b[1;32m--> 384\u001b[0m \u001b[38;5;28;01mreturn\u001b[39;00m \u001b[38;5;28mcls\u001b[39m\u001b[38;5;241m.\u001b[39mgenerate_xml_tree(obj\u001b[38;5;241m.\u001b[39m_yang_name, \u001b[43mobj\u001b[49m\u001b[38;5;241;43m.\u001b[39;49m\u001b[43m_yang_namespace\u001b[49m, preprocessed)\n",
      "\u001b[1;31mAttributeError\u001b[0m: 'ietf_i2nsf_registration_interface' object has no attribute '_yang_namespace'"
     ]
    }
   ],
   "source": [
    "import pyangbind.lib.pybindJSON as pybindJSON\n",
    "print(pybindIETFXMLEncoder.serialise(reg))"
   ]
  },
  {
   "cell_type": "code",
   "execution_count": null,
   "metadata": {},
   "outputs": [],
   "source": [
    "nsfInfo = reg.nsf_registrations.nsf_information.add(\"web-filter\")\n",
    "nsfInfo.nsf_capability_info.security_capability.condition_capabilities.advanced_nsf_capabilities.url_filtering_capability.append(\"user-defined\")\n",
    "nsfInfo.nsf_capability_info.security_capability.action_capabilities.ingress_action_capability.append(\"pass\")\n",
    "nsfInfo.nsf_capability_info.security_capability.action_capabilities.ingress_action_capability.append(\"drop\")\n",
    "nsfInfo.nsf_capability_info.security_capability.action_capabilities.ingress_action_capability.append(\"mirror\")\n",
    "nsfInfo.nsf_capability_info.security_capability.action_capabilities.egress_action_capability.append(\"pass\")\n",
    "nsfInfo.nsf_capability_info.security_capability.action_capabilities.egress_action_capability.append(\"drop\")\n",
    "nsfInfo.nsf_capability_info.security_capability.action_capabilities.egress_action_capability.append(\"mirror\")\n",
    "nsfInfo.nsf_capability_info.performance_capability.processing.processing_average=1000\n",
    "nsfInfo.nsf_capability_info.performance_capability.processing.processing_peak=5000\n",
    "nsfInfo.nsf_capability_info.performance_capability.bandwidth.outbound.outbound_average=1000\n",
    "nsfInfo.nsf_capability_info.performance_capability.bandwidth.outbound.outbound_peak=5000\n",
    "nsfInfo.nsf_capability_info.performance_capability.bandwidth.inbound.inbound_average=1000\n",
    "nsfInfo.nsf_capability_info.performance_capability.bandwidth.inbound.inbound_peak=5000\n",
    "nsfInfo.nsf_access_info.ip=\"192.0.2.12\"\n",
    "nsfInfo.nsf_access_info.port=49152"
   ]
  },
  {
   "cell_type": "code",
   "execution_count": null,
   "metadata": {},
   "outputs": [],
   "source": [
    "print(pybindJSON.dumps(reg))"
   ]
  },
  {
   "cell_type": "code",
   "execution_count": null,
   "metadata": {},
   "outputs": [],
   "source": [
    "nfi._unset_i2nsf_security_policy()\n",
    "i2nsf_security_policy = getattr(nfi,\"i2nsf_security_policy\").add(\"sns_policy\")\n",
    "language = setattr(i2nsf_security_policy,\"language\",\"en-UK\")\n",
    "rules = getattr(i2nsf_security_policy,\"rules\").add(\"sns_rules\")\n",
    "destination_ipv4_range = getattr(rules.condition.ipv6,\"source_ipv6_range\").add(\"2001:db8:1:: 2001:db8:1:f:ffff:ffff:ffff:ffff\")\n",
    "ddos = setattr(rules.condition.ddos,\"alert_packet_rate\",100)"
   ]
  },
  {
   "cell_type": "code",
   "execution_count": null,
   "metadata": {
    "scrolled": true
   },
   "outputs": [],
   "source": [
    "dir(rules.condition.ddos)"
   ]
  },
  {
   "cell_type": "code",
   "execution_count": 4,
   "metadata": {},
   "outputs": [],
   "source": [
    "def insert(nfi,data):\n",
    "     #Type of the element (i.e., List, container, leaf,...)\n",
    "    for key,value in data.items():\n",
    "        yangType = getattr(nfi,key)._yang_type\n",
    "        pygen = getattr(nfi,key)._pybind_generated_by\n",
    "        logging.debug(\"\\nYANG Type: {}\\nPYgen: {}\\n\".format(yangType,pygen))\n",
    "        if yangType == \"list\":\n",
    "            nfi = getattr(nfi,key).add(value)\n",
    "        elif yangType == \"string\":\n",
    "            setattr(nfi, key, value)\n",
    "        elif yangType == \"identityref\":\n",
    "            setattr(nfi, key, value)\n",
    "    return 0"
   ]
  },
  {
   "cell_type": "code",
   "execution_count": 114,
   "metadata": {},
   "outputs": [],
   "source": [
    "def generate(nfi,data):\n",
    "    for path,value in data.items():\n",
    "        print(path,value)\n",
    "        currentNode = nfi\n",
    "        splitPath = path.replace('-','_').split(\"/\")\n",
    "        print(splitPath)\n",
    "        splitPath.pop(0) # Remove the first element of the as it has no value\n",
    "        for k in range(len(splitPath)):\n",
    "            if getattr(currentNode,splitPath[k])._is_leaf or getattr(currentNode,splitPath[k])._yang_type == \"identityref\":\n",
    "                setattr(currentNode,splitPath[k],value)\n",
    "                break\n",
    "            currentNode = getattr(currentNode,splitPath[k])\n",
    "            if currentNode._yang_type == \"list\":\n",
    "                if k == len(splitPath)-1:\n",
    "                    currentNode.add(value)\n",
    "                elif (len(currentNode._keyval.split()) == 1 and splitPath[k+1] == currentNode._keyval):\n",
    "                    currentNode.add(value)\n",
    "                    break\n",
    "                else:\n",
    "                    splitNode = currentNode._keyval.split()\n",
    "                    for split in splitNode:\n",
    "                        keyPath = re.sub(\"\\[.+?\\]\",'',\"/{}/{}\".format('/'.join(currentNode._path()),\n",
    "                                                split.replace(\"_\",\"-\")))\n",
    "                        currentNode = currentNode[data[keyPath]]"
   ]
  },
  {
   "cell_type": "code",
   "execution_count": 117,
   "metadata": {},
   "outputs": [
    {
     "name": "stdout",
     "output_type": "stream",
     "text": [
      "/i2nsf-security-policy/name security_policy_for_blocking_sns\n",
      "['', 'i2nsf_security_policy', 'name']\n",
      "/i2nsf-security-policy/rules/name block_access_to_sns_during_office_hours\n",
      "['', 'i2nsf_security_policy', 'rules', 'name']\n",
      "/i2nsf-security-policy/rules/event/system-event access-violation\n",
      "['', 'i2nsf_security_policy', 'rules', 'event', 'system_event']\n",
      "/i2nsf-security-policy/rules/condition/ipv4/source-ipv4-range 10.0.0.21 10.0.0.42\n",
      "['', 'i2nsf_security_policy', 'rules', 'condition', 'ipv4', 'source_ipv4_range']\n",
      "/i2nsf-security-policy/rules/condition/tcp/source-port-number/port-numbers 80 80\n",
      "['', 'i2nsf_security_policy', 'rules', 'condition', 'tcp', 'source_port_number', 'port_numbers']\n",
      "/i2nsf-security-policy/rules/condition/layer-2 AB:CD:EF:AA:12:12 AB:CD:EF:AA:12:12 ipv4\n",
      "['', 'i2nsf_security_policy', 'rules', 'condition', 'layer_2']\n",
      "/i2nsf-security-policy/rules/condition/context/time/frequency only-once\n",
      "['', 'i2nsf_security_policy', 'rules', 'condition', 'context', 'time', 'frequency']\n",
      "/i2nsf-security-policy/rules/action/packet-action/ingress-action drop\n",
      "['', 'i2nsf_security_policy', 'rules', 'action', 'packet_action', 'ingress_action']\n",
      "<ietf-i2nsf-nsf-facing-interface xmlns=\"urn:ietf:params:xml:ns:yang:ietf-i2nsf-nsf-facing-interface\">\n",
      "  <i2nsf-security-policy>\n",
      "    <name>security_policy_for_blocking_sns</name>\n",
      "    <rules>\n",
      "      <name>block_access_to_sns_during_office_hours</name>\n",
      "      <event>\n",
      "        <system-event>access-violation</system-event>\n",
      "      </event>\n",
      "      <condition>\n",
      "        <layer-2>\n",
      "          <destination-mac-address>AB:CD:EF:AA:12:12</destination-mac-address>\n",
      "          <source-mac-address>AB:CD:EF:AA:12:12</source-mac-address>\n",
      "          <ethertype>ipv4</ethertype>\n",
      "        </layer-2>\n",
      "        <ipv4>\n",
      "          <source-ipv4-range>\n",
      "            <start>10.0.0.21</start>\n",
      "            <end>10.0.0.42</end>\n",
      "          </source-ipv4-range>\n",
      "        </ipv4>\n",
      "        <tcp>\n",
      "          <source-port-number>\n",
      "            <port-numbers>\n",
      "              <start>80</start>\n",
      "              <end>80</end>\n",
      "            </port-numbers>\n",
      "          </source-port-number>\n",
      "        </tcp>\n",
      "      </condition>\n",
      "      <action>\n",
      "        <packet-action>\n",
      "          <ingress-action>drop</ingress-action>\n",
      "        </packet-action>\n",
      "      </action>\n",
      "    </rules>\n",
      "  </i2nsf-security-policy>\n",
      "</ietf-i2nsf-nsf-facing-interface>\n",
      "\n"
     ]
    }
   ],
   "source": [
    "data = {\n",
    "    \"/i2nsf-security-policy/name\": \"security_policy_for_blocking_sns\",\n",
    "    \"/i2nsf-security-policy/rules/name\": \"block_access_to_sns_during_office_hours\",\n",
    "    \"/i2nsf-security-policy/rules/event/system-event\": \"access-violation\",\n",
    "    \"/i2nsf-security-policy/rules/condition/ipv4/source-ipv4-range\": \"10.0.0.21 10.0.0.42\",\n",
    "    \"/i2nsf-security-policy/rules/condition/tcp/source-port-number/port-numbers\": \"80 80\",\n",
    "    \"/i2nsf-security-policy/rules/condition/layer-2\": \"AB:CD:EF:AA:12:12 AB:CD:EF:AA:12:12 ipv4\",\n",
    "    \"/i2nsf-security-policy/rules/condition/context/time/frequency\": \"only-once\",\n",
    "    \"/i2nsf-security-policy/rules/action/packet-action/ingress-action\": \"drop\"\n",
    "}\n",
    "nfi._unset_i2nsf_security_policy()\n",
    "generate(nfi,data)\n",
    "print(pybindIETFXMLEncoder.serialise(nfi))"
   ]
  },
  {
   "cell_type": "code",
   "execution_count": 5,
   "metadata": {},
   "outputs": [
    {
     "data": {
      "text/plain": [
       "['_YANGBaseClass__generate_extmethod',\n",
       " '_YANGList__set',\n",
       " '__check__',\n",
       " '__class__',\n",
       " '__contains__',\n",
       " '__delattr__',\n",
       " '__delitem__',\n",
       " '__dir__',\n",
       " '__doc__',\n",
       " '__eq__',\n",
       " '__format__',\n",
       " '__ge__',\n",
       " '__getattribute__',\n",
       " '__getitem__',\n",
       " '__gt__',\n",
       " '__hash__',\n",
       " '__init__',\n",
       " '__init_subclass__',\n",
       " '__iter__',\n",
       " '__le__',\n",
       " '__len__',\n",
       " '__lt__',\n",
       " '__module__',\n",
       " '__ne__',\n",
       " '__new__',\n",
       " '__reduce__',\n",
       " '__reduce_ex__',\n",
       " '__repr__',\n",
       " '__setattr__',\n",
       " '__setitem__',\n",
       " '__sizeof__',\n",
       " '__slots__',\n",
       " '__str__',\n",
       " '__subclasshook__',\n",
       " '_add_metadata',\n",
       " '_base_type',\n",
       " '_changed',\n",
       " '_choice',\n",
       " '_contained_class',\n",
       " '_cpresent',\n",
       " '_default',\n",
       " '_defining_module',\n",
       " '_extensions',\n",
       " '_extensionsd',\n",
       " '_extmethods',\n",
       " '_extract_key',\n",
       " '_generate_key',\n",
       " '_is_config',\n",
       " '_is_container',\n",
       " '_is_keyval',\n",
       " '_is_leaf',\n",
       " '_item',\n",
       " '_key_to_native_key_type',\n",
       " '_keyval',\n",
       " '_mchanged',\n",
       " '_members',\n",
       " '_metadata',\n",
       " '_namespace',\n",
       " '_new_item',\n",
       " '_ordered',\n",
       " '_parent',\n",
       " '_path',\n",
       " '_path_helper',\n",
       " '_presence',\n",
       " '_present',\n",
       " '_pybind_base_class',\n",
       " '_pybind_generated_by',\n",
       " '_register_path',\n",
       " '_register_paths',\n",
       " '_set',\n",
       " '_set_present',\n",
       " '_supplied_register_path',\n",
       " '_yang_keys',\n",
       " '_yang_name',\n",
       " '_yang_path',\n",
       " '_yang_type',\n",
       " 'add',\n",
       " 'append',\n",
       " 'default',\n",
       " 'delete',\n",
       " 'extend',\n",
       " 'get',\n",
       " 'insert',\n",
       " 'items',\n",
       " 'iteritems',\n",
       " 'itervalues',\n",
       " 'keys',\n",
       " 'pop',\n",
       " 'remove',\n",
       " 'values',\n",
       " 'yang_name']"
      ]
     },
     "execution_count": 5,
     "metadata": {},
     "output_type": "execute_result"
    }
   ],
   "source": [
    "dir(nfi.i2nsf_security_policy)"
   ]
  },
  {
   "cell_type": "code",
   "execution_count": null,
   "metadata": {},
   "outputs": [],
   "source": [
    "nfi.i2nsf_security_policy[\"sns-policy\"].language_yang_keys"
   ]
  },
  {
   "cell_type": "code",
   "execution_count": 22,
   "metadata": {},
   "outputs": [
    {
     "data": {
      "text/plain": [
       "['_YANGBaseClass__generate_extmethod',\n",
       " '_YANGList__set',\n",
       " '__check__',\n",
       " '__class__',\n",
       " '__contains__',\n",
       " '__delattr__',\n",
       " '__delitem__',\n",
       " '__dir__',\n",
       " '__doc__',\n",
       " '__eq__',\n",
       " '__format__',\n",
       " '__ge__',\n",
       " '__getattribute__',\n",
       " '__getitem__',\n",
       " '__gt__',\n",
       " '__hash__',\n",
       " '__init__',\n",
       " '__init_subclass__',\n",
       " '__iter__',\n",
       " '__le__',\n",
       " '__len__',\n",
       " '__lt__',\n",
       " '__module__',\n",
       " '__ne__',\n",
       " '__new__',\n",
       " '__reduce__',\n",
       " '__reduce_ex__',\n",
       " '__repr__',\n",
       " '__setattr__',\n",
       " '__setitem__',\n",
       " '__sizeof__',\n",
       " '__slots__',\n",
       " '__str__',\n",
       " '__subclasshook__',\n",
       " '_add_metadata',\n",
       " '_base_type',\n",
       " '_changed',\n",
       " '_choice',\n",
       " '_contained_class',\n",
       " '_cpresent',\n",
       " '_default',\n",
       " '_defining_module',\n",
       " '_extensions',\n",
       " '_extensionsd',\n",
       " '_extmethods',\n",
       " '_extract_key',\n",
       " '_generate_key',\n",
       " '_is_config',\n",
       " '_is_container',\n",
       " '_is_keyval',\n",
       " '_is_leaf',\n",
       " '_item',\n",
       " '_key_to_native_key_type',\n",
       " '_keyval',\n",
       " '_mchanged',\n",
       " '_members',\n",
       " '_metadata',\n",
       " '_namespace',\n",
       " '_new_item',\n",
       " '_ordered',\n",
       " '_parent',\n",
       " '_path',\n",
       " '_path_helper',\n",
       " '_presence',\n",
       " '_present',\n",
       " '_pybind_base_class',\n",
       " '_pybind_generated_by',\n",
       " '_register_path',\n",
       " '_register_paths',\n",
       " '_set',\n",
       " '_set_present',\n",
       " '_supplied_register_path',\n",
       " '_yang_keys',\n",
       " '_yang_name',\n",
       " '_yang_path',\n",
       " '_yang_type',\n",
       " 'add',\n",
       " 'append',\n",
       " 'default',\n",
       " 'delete',\n",
       " 'extend',\n",
       " 'get',\n",
       " 'insert',\n",
       " 'items',\n",
       " 'iteritems',\n",
       " 'itervalues',\n",
       " 'keys',\n",
       " 'pop',\n",
       " 'remove',\n",
       " 'values',\n",
       " 'yang_name']"
      ]
     },
     "execution_count": 22,
     "metadata": {},
     "output_type": "execute_result"
    }
   ],
   "source": [
    "dir(nfi.i2nsf_security_policy[\"security_policy_for_blocking_sns\"].rules[\"block_access_to_sns_during_office_hours\"].condition.layer_2)"
   ]
  },
  {
   "cell_type": "code",
   "execution_count": null,
   "metadata": {},
   "outputs": [],
   "source": [
    "nfi.i2nsf_security_policy[\"sns-policy\"].language.insert()"
   ]
  },
  {
   "cell_type": "code",
   "execution_count": null,
   "metadata": {},
   "outputs": [],
   "source": [
    "string = \"/i2nsf-security-policy/name\"\n",
    "newstr = string.replace('-','_').split(\"/\")\n",
    "newstr.pop(0)\n",
    "print(newstr)\n",
    "currentNode = nfi\n",
    "currentNode = getattr(currentNode,newstr[0])\n",
    "if currentNode._yang_type == \"list\":\n",
    "    if currentNode._keyval == newstr[1]:\n",
    "        currentNode.add()\n",
    "    "
   ]
  },
  {
   "cell_type": "code",
   "execution_count": null,
   "metadata": {
    "scrolled": true
   },
   "outputs": [],
   "source": [
    "data = {\"/i2nsf-security-policy/name\":\"sns-policy\",\n",
    "        \"/i2nsf-security-policy/language\": \"en-UK\",\n",
    "        \"/i2nsf-security-policy/rules/name\": \"sns-rule\",\n",
    "        \"/i2nsf-security-policy/rules/condition/ipv4/source-ipv4-range\": \"10.0.0.1 10.0.0.6\",\n",
    "        '/i2nsf-security-policy/rules/condition/ddos/alert-packet-rate': 100\n",
    "       }\n",
    "nfi._unset_i2nsf_security_policy()\n",
    "insert(nfi,data)"
   ]
  },
  {
   "cell_type": "code",
   "execution_count": null,
   "metadata": {},
   "outputs": [],
   "source": [
    "nfi.i2nsf_security_policy._keyval"
   ]
  },
  {
   "cell_type": "code",
   "execution_count": null,
   "metadata": {},
   "outputs": [],
   "source": [
    "dir(nfi.i2nsf_security_policy)"
   ]
  },
  {
   "cell_type": "code",
   "execution_count": null,
   "metadata": {
    "scrolled": false
   },
   "outputs": [],
   "source": [
    "def search(nfi, target, data):\n",
    "    # if pybind_generated_by is YANGListType, a \"Key\" is needed. Use the data to get the \"Key\".\n",
    "    # If \"Key\" does not exist, skip the attribute as the target is not the children of that attribute.\n",
    "    if nfi._pybind_generated_by == \"YANGListType\":\n",
    "        if nfi._yang_name.replace('-','_') in data:\n",
    "            nfi = nfi[data[nfi._yang_name.replace('-','_')].replace('-','_')]\n",
    "        else:\n",
    "            return None\n",
    "    \n",
    "    # Find the Attribute in current node\n",
    "    if hasattr(nfi,target):\n",
    "        print(getattr(nfi,target)._path())\n",
    "        result = (getattr(nfi,target)._path())\n",
    "    \n",
    "    # Attribute does not exist, go to next attribute.\n",
    "    else:\n",
    "        for key,value in nfi.elements().items():\n",
    "            nextAttr = getattr(nfi,key) # Next Attribute to search from. Only search if it is a container or a list.\n",
    "            if nextAttr._yang_type == \"container\" or getattr(nfi,key)._yang_type == \"list\":\n",
    "                result = search(getattr(nfi,key),target,data)\n",
    "                if result is not None:\n",
    "                    break\n",
    "            else:\n",
    "                result = None\n",
    "    return result\n",
    "print(search(nfi,'source-port-number',data))"
   ]
  },
  {
   "cell_type": "code",
   "execution_count": null,
   "metadata": {
    "scrolled": true
   },
   "outputs": [],
   "source": [
    "data[nfi.i2nsf_security_policy._yang_name.replace('-','_')]"
   ]
  },
  {
   "cell_type": "code",
   "execution_count": null,
   "metadata": {},
   "outputs": [],
   "source": [
    "print(nfi.i2nsf_security_policy)"
   ]
  },
  {
   "cell_type": "code",
   "execution_count": null,
   "metadata": {},
   "outputs": [],
   "source": [
    "dir(nfi.elements()['i2nsf_security_policy'])"
   ]
  },
  {
   "cell_type": "code",
   "execution_count": null,
   "metadata": {},
   "outputs": [],
   "source": [
    "nfi._unset_i2nsf_security_policy()"
   ]
  },
  {
   "cell_type": "code",
   "execution_count": 8,
   "metadata": {},
   "outputs": [
    {
     "data": {
      "text/plain": [
       "['_YANGBaseClass__generate_extmethod',\n",
       " '_YANGList__set',\n",
       " '__check__',\n",
       " '__class__',\n",
       " '__contains__',\n",
       " '__delattr__',\n",
       " '__delitem__',\n",
       " '__dir__',\n",
       " '__doc__',\n",
       " '__eq__',\n",
       " '__format__',\n",
       " '__ge__',\n",
       " '__getattribute__',\n",
       " '__getitem__',\n",
       " '__gt__',\n",
       " '__hash__',\n",
       " '__init__',\n",
       " '__init_subclass__',\n",
       " '__iter__',\n",
       " '__le__',\n",
       " '__len__',\n",
       " '__lt__',\n",
       " '__module__',\n",
       " '__ne__',\n",
       " '__new__',\n",
       " '__reduce__',\n",
       " '__reduce_ex__',\n",
       " '__repr__',\n",
       " '__setattr__',\n",
       " '__setitem__',\n",
       " '__sizeof__',\n",
       " '__slots__',\n",
       " '__str__',\n",
       " '__subclasshook__',\n",
       " '_add_metadata',\n",
       " '_base_type',\n",
       " '_changed',\n",
       " '_choice',\n",
       " '_contained_class',\n",
       " '_cpresent',\n",
       " '_default',\n",
       " '_defining_module',\n",
       " '_extensions',\n",
       " '_extensionsd',\n",
       " '_extmethods',\n",
       " '_extract_key',\n",
       " '_generate_key',\n",
       " '_is_config',\n",
       " '_is_container',\n",
       " '_is_keyval',\n",
       " '_is_leaf',\n",
       " '_item',\n",
       " '_key_to_native_key_type',\n",
       " '_keyval',\n",
       " '_mchanged',\n",
       " '_members',\n",
       " '_metadata',\n",
       " '_namespace',\n",
       " '_new_item',\n",
       " '_ordered',\n",
       " '_parent',\n",
       " '_path',\n",
       " '_path_helper',\n",
       " '_presence',\n",
       " '_present',\n",
       " '_pybind_base_class',\n",
       " '_pybind_generated_by',\n",
       " '_register_path',\n",
       " '_register_paths',\n",
       " '_set',\n",
       " '_set_present',\n",
       " '_supplied_register_path',\n",
       " '_yang_keys',\n",
       " '_yang_name',\n",
       " '_yang_path',\n",
       " '_yang_type',\n",
       " 'add',\n",
       " 'append',\n",
       " 'default',\n",
       " 'delete',\n",
       " 'extend',\n",
       " 'get',\n",
       " 'insert',\n",
       " 'items',\n",
       " 'iteritems',\n",
       " 'itervalues',\n",
       " 'keys',\n",
       " 'pop',\n",
       " 'remove',\n",
       " 'values',\n",
       " 'yang_name']"
      ]
     },
     "execution_count": 8,
     "metadata": {},
     "output_type": "execute_result"
    }
   ],
   "source": [
    "dir(nfi.i2nsf_security_policy[\"sns_policy\"].rules)"
   ]
  },
  {
   "cell_type": "code",
   "execution_count": 11,
   "metadata": {},
   "outputs": [],
   "source": [
    "nfi._unset_i2nsf_security_policy()\n",
    "nfi.i2nsf_security_policy.add(\"sns_policy\")\n",
    "nfi.i2nsf_security_policy[\"sns_policy\"].rules.add(\"sns_rule\")\n",
    "nfi.i2nsf_security_policy[\"sns_policy\"].rules[\"sns_rule\"].event.system_event=\"access-violation\"\n",
    "nfi.i2nsf_security_policy[\"sns_policy\"].rules[\"sns_rule\"].condition.ipv4.source_ipv4_range.add(\"10.0.0.1 10.0.0.6\")\n",
    "nfi.i2nsf_security_policy[\"sns_policy\"].rules[\"sns_rule\"].action.advanced_action.content_security_control.append(\"url-filtering\")"
   ]
  },
  {
   "cell_type": "code",
   "execution_count": null,
   "metadata": {},
   "outputs": [],
   "source": [
    "nfi._unset_i2nsf_security_policy()\n",
    "nfi.i2nsf_security_policy.add(\"sns_policy\")\n",
    "nfi.i2nsf_security_policy[\"sns_policy\"].rules.add(\"sns_rule\")\n",
    "nfi.i2nsf_security_policy[\"sns_policy\"].rules[\"sns_rule\"].condition.ipv4.source_ipv4_range.add(\"10.0.0.1 10.0.0.6\")\n",
    "nfi.i2nsf_security_policy[\"sns_policy\"].rules[\"sns_rule\"].action.packet_action._set_ingress_action(\"drop\")"
   ]
  },
  {
   "cell_type": "code",
   "execution_count": null,
   "metadata": {},
   "outputs": [],
   "source": [
    "nfi.i2nsf_security_policy[\"sns_policy\"].rules[\"sns_rule\"].action.advanced_action.content_security_control._pybind_generated_by"
   ]
  },
  {
   "cell_type": "code",
   "execution_count": null,
   "metadata": {},
   "outputs": [],
   "source": [
    "nfi.i2nsf_security_policy[\"sns_policy\"].rules[\"sns_rule\"].condition.ipv4.source_ipv4_range._pybind_generated"
   ]
  },
  {
   "cell_type": "code",
   "execution_count": null,
   "metadata": {},
   "outputs": [],
   "source": [
    "nfi.i2nsf_security_policy[\"sns_policy\"].language._pybind_generated_by"
   ]
  },
  {
   "cell_type": "code",
   "execution_count": null,
   "metadata": {},
   "outputs": [],
   "source": [
    "getattr(nfi.i2nsf_security_policy[\"sns_policy\"].rules[\"sns_rule\"].action.advanced_action,\"content_security_control\")"
   ]
  },
  {
   "cell_type": "code",
   "execution_count": null,
   "metadata": {},
   "outputs": [],
   "source": [
    "nfi._unset_i2nsf_security_policy()\n",
    "nfi.i2nsf_security_policy.add(\"sns_policy\")\n",
    "nfi.i2nsf_security_policy[\"sns_policy\"].rules.add(\"sns_rule\")\n",
    "#nfi.i2nsf_security_policy[\"sns_policy\"]._set_language(\"en-UK\")\n",
    "nfi.i2nsf_security_policy[\"sns_policy\"].rules[\"sns_rule\"].condition.url_category.user_defined.append(\"facebook\")\n",
    "nfi.i2nsf_security_policy[\"sns_policy\"].rules[\"sns_rule\"].condition.url_category.user_defined.append(\"instagram\")\n",
    "nfi.i2nsf_security_policy[\"sns_policy\"].rules[\"sns_rule\"].action.packet_action._set_ingress_action(\"drop\")\n",
    "#nfi.i2nsf_security_policy[\"sns_policy\"].rules[\"sns_rule\"].action.advanced_action.content_security_control.append(\"url-filtering\")"
   ]
  },
  {
   "cell_type": "code",
   "execution_count": null,
   "metadata": {},
   "outputs": [],
   "source": [
    "nfi.i2nsf_security_policy[\"sns_policy\"].rules[\"sns_rule\"].condition.url_category.user_defined._pybind_generated_by"
   ]
  },
  {
   "cell_type": "code",
   "execution_count": null,
   "metadata": {},
   "outputs": [],
   "source": [
    "nfi.i2nsf_security_policy[\"sns_policy\"].rules._pybind_generated_by"
   ]
  },
  {
   "cell_type": "code",
   "execution_count": null,
   "metadata": {},
   "outputs": [],
   "source": [
    "nfi.i2nsf_security_policy[\"sns_policy\"].rules[\"sns_rule\"].action.packet_action.ingress_action._pybind_generated_by"
   ]
  },
  {
   "cell_type": "code",
   "execution_count": null,
   "metadata": {},
   "outputs": [],
   "source": [
    "nfi.i2nsf_security_policy[\"sns_policy\"].rules[\"sns_rule\"].condition._pybind_generated_by"
   ]
  },
  {
   "cell_type": "code",
   "execution_count": null,
   "metadata": {},
   "outputs": [],
   "source": [
    "test = nfi.i2nsf_security_policy.add(\"sns_policy\")"
   ]
  },
  {
   "cell_type": "code",
   "execution_count": null,
   "metadata": {},
   "outputs": [],
   "source": [
    "test.rules.add(\"sns_rule\")"
   ]
  },
  {
   "cell_type": "code",
   "execution_count": null,
   "metadata": {},
   "outputs": [],
   "source": [
    "nfi.i2nsf_security_policy[\"sns_policy\"].rules[\"sns_rule\"].action.advanced_action.content_security_control.append(\"url-filtering\")"
   ]
  },
  {
   "cell_type": "code",
   "execution_count": null,
   "metadata": {
    "scrolled": true
   },
   "outputs": [],
   "source": [
    "nfi.i2nsf_security_policy[\"sns_policy\"].rules[\"sns_rule\"].action.packet_action._set_ingress_action(\"drop\")"
   ]
  },
  {
   "cell_type": "code",
   "execution_count": null,
   "metadata": {},
   "outputs": [],
   "source": [
    "print(nfi.i2nsf_security_policy[\"sns_policy\"].rules[\"sns_rule\"].action.advanced_action.content_security_control)"
   ]
  },
  {
   "cell_type": "code",
   "execution_count": 12,
   "metadata": {
    "scrolled": false
   },
   "outputs": [
    {
     "name": "stdout",
     "output_type": "stream",
     "text": [
      "<ietf-i2nsf-nsf-facing-interface xmlns=\"urn:ietf:params:xml:ns:yang:ietf-i2nsf-nsf-facing-interface\">\n",
      "  <i2nsf-security-policy>\n",
      "    <name>sns_policy</name>\n",
      "    <rules>\n",
      "      <name>sns_rule</name>\n",
      "      <event>\n",
      "        <system-event>access-violation</system-event>\n",
      "      </event>\n",
      "      <condition>\n",
      "        <ipv4>\n",
      "          <source-ipv4-range>\n",
      "            <start>10.0.0.1</start>\n",
      "            <end>10.0.0.6</end>\n",
      "          </source-ipv4-range>\n",
      "        </ipv4>\n",
      "      </condition>\n",
      "      <action>\n",
      "        <advanced-action>\n",
      "          <content-security-control>url-filtering</content-security-control>\n",
      "        </advanced-action>\n",
      "      </action>\n",
      "    </rules>\n",
      "  </i2nsf-security-policy>\n",
      "</ietf-i2nsf-nsf-facing-interface>\n",
      "\n"
     ]
    }
   ],
   "source": [
    "from pybind.pyangbind.lib.serialise import pybindIETFXMLEncoder\n",
    "print(pybindIETFXMLEncoder.serialise(nfi))"
   ]
  },
  {
   "cell_type": "code",
   "execution_count": null,
   "metadata": {},
   "outputs": [],
   "source": [
    "nfi.i2nsf_security_policy.get(filter=True)"
   ]
  },
  {
   "cell_type": "code",
   "execution_count": null,
   "metadata": {},
   "outputs": [],
   "source": [
    "nfi.i2nsf_security_policy[\"sns_policy\"]._set_default_action(\"nsfintf:drop\")"
   ]
  },
  {
   "cell_type": "code",
   "execution_count": null,
   "metadata": {},
   "outputs": [],
   "source": [
    "import pyangbind.lib.pybindJSON as pybindJSON\n",
    "print(pybindJSON.dumps(nfi))"
   ]
  },
  {
   "cell_type": "code",
   "execution_count": 12,
   "metadata": {},
   "outputs": [],
   "source": [
    "from rbindings.ietf_i2nsf_registration_interface_rpc.nsf_capability_registration.input import input\n",
    "from rbindings.ietf_i2nsf_registration_interface_rpc.nsf_capability_registration.output import output"
   ]
  },
  {
   "cell_type": "code",
   "execution_count": 14,
   "metadata": {},
   "outputs": [],
   "source": [
    "import pprint\n",
    "import os\n",
    "import json"
   ]
  },
  {
   "cell_type": "code",
   "execution_count": 15,
   "metadata": {},
   "outputs": [],
   "source": [
    "from pyangbind.lib.serialise import pybindJSONDecoder\n",
    "from pyangbind.lib.pybindJSON import dumps"
   ]
  },
  {
   "cell_type": "code",
   "execution_count": 18,
   "metadata": {},
   "outputs": [
    {
     "name": "stdout",
     "output_type": "stream",
     "text": [
      "{\n",
      "    \"ietf-i2nsf-registration-interface:query-nsf-capability\": {\n",
      "        \"condition-capabilities\": {\n",
      "            \"generic-nsf-capabilities\": {\n",
      "                \"ipv4-capability\": [\n",
      "                    \"source-address\"\n",
      "                ]\n",
      "            }\n",
      "        }\n",
      "    }\n",
      "}\n"
     ]
    }
   ],
   "source": [
    "pp = pprint.PrettyPrinter(indent=4)\n",
    "\n",
    "# Create an input instance\n",
    "rpc_input = input()\n",
    "rpc_input.query_nsf_capability.condition_capabilities.generic_nsf_capabilities.ipv4_capability = \"source-address\"\n",
    "\n",
    "print(dumps(rpc_input, mode=\"ietf\"))\n",
    "\n",
    "# Load an output from IETF JSON\n",
    "# rpc_output = output()\n",
    "# fn = os.path.join(\"json\", \"rpc-output.json\")\n",
    "# json_obj = json.load(open(fn, \"r\"))\n",
    "# pybindJSONDecoder.load_ietf_json(json_obj, None, None, obj=rpc_output)\n",
    "# print(rpc_output.response_id)\n",
    "\n",
    "pp.pprint(rpc_input.get(filter=True))"
   ]
  }
 ],
 "metadata": {
  "kernelspec": {
   "display_name": "Python 3 (ipykernel)",
   "language": "python",
   "name": "python3"
  },
  "language_info": {
   "codemirror_mode": {
    "name": "ipython",
    "version": 3
   },
   "file_extension": ".py",
   "mimetype": "text/x-python",
   "name": "python",
   "nbconvert_exporter": "python",
   "pygments_lexer": "ipython3",
   "version": "3.9.12"
  },
  "vscode": {
   "interpreter": {
    "hash": "a077222d77dfe082b8f1dd562ad70e458ac2ab76993a0b248ab0476e32e9e8dd"
   }
  }
 },
 "nbformat": 4,
 "nbformat_minor": 4
}
