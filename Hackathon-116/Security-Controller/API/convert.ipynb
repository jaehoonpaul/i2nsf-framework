{
 "cells": [
  {
   "cell_type": "code",
   "execution_count": 21,
   "metadata": {},
   "outputs": [],
   "source": [
    "import DFAAPI\n",
    "import MySQLdb"
   ]
  },
  {
   "cell_type": "code",
   "execution_count": 22,
   "metadata": {},
   "outputs": [
    {
     "name": "stdout",
     "output_type": "stream",
     "text": [
      "Complete to construct DFA for DataModel/cfi_dm.txt\n",
      "Success to extract HighLevelPolicy/rule.txt:\n",
      "0\tname: ['security_policy_for_blocking_sns']\n",
      "3\tname: ['block_access_to_sns_during_office_hours']\n",
      "7\tsource: ['employees']\n",
      "39\taction: ['drop']\n",
      "\n",
      "\n"
     ]
    }
   ],
   "source": [
    "consumer = DFAAPI.dfa_construction('DataModel/cfi_dm.txt')\n",
    "resInfo,resData = DFAAPI.extracting_data('HighLevelPolicy/rule.txt',consumer[0],consumer[1])"
   ]
  },
  {
   "cell_type": "code",
   "execution_count": null,
   "metadata": {},
   "outputs": [],
   "source": []
  },
  {
   "cell_type": "code",
   "execution_count": 23,
   "metadata": {},
   "outputs": [
    {
     "name": "stdout",
     "output_type": "stream",
     "text": [
      "1  name      : ['security_policy_for_blocking_sns']\n",
      "5  name      : ['block_access_to_sns_during_office_hours']\n",
      "12 source    : ['employees']\n",
      "64 action    : ['drop']\n"
     ]
    }
   ],
   "source": [
    "highData = {}\n",
    "for x in range(len(resInfo)):\n",
    "    if resData[x]:\n",
    "        print(\"{id:<3}{attribute:<10}: {value}\".format(id= resInfo[x][4],attribute= resInfo[x][2],value= resData[x]))\n",
    "        highData[resInfo[x][4]] = resData[x][0]"
   ]
  },
  {
   "cell_type": "code",
   "execution_count": 24,
   "metadata": {},
   "outputs": [
    {
     "data": {
      "text/plain": [
       "{1: 'security_policy_for_blocking_sns',\n",
       " 5: 'block_access_to_sns_during_office_hours',\n",
       " 12: 'employees',\n",
       " 64: 'drop'}"
      ]
     },
     "execution_count": 24,
     "metadata": {},
     "output_type": "execute_result"
    }
   ],
   "source": [
    "highData"
   ]
  },
  {
   "cell_type": "code",
   "execution_count": 69,
   "metadata": {},
   "outputs": [],
   "source": [
    "def convert(highData,db):\n",
    "    lowData = {}\n",
    "    for keys,value in highData.items():\n",
    "        print(keys)\n",
    "        lowAttr = mapAttr(keys,db)\n",
    "        lowData[lowAttr[0][1]] = value\n",
    "    return(lowData)"
   ]
  },
  {
   "cell_type": "code",
   "execution_count": 70,
   "metadata": {},
   "outputs": [
    {
     "name": "stdout",
     "output_type": "stream",
     "text": [
      "1\n",
      "5\n",
      "12\n",
      "64\n",
      "{'/i2nsf-security-policy/name': 'security_policy_for_blocking_sns', '/i2nsf-security-policy/rules/name': 'block_access_to_sns_during_office_hours', '/i2nsf-security-policy/rules/condition/layer-2/source-mac-address': 'employees', '/i2nsf-security-policy/rules/action/packet-action/ingress-action': 'drop'}\n"
     ]
    }
   ],
   "source": [
    "conv = convert(highData,db)\n",
    "print(conv)"
   ]
  },
  {
   "cell_type": "code",
   "execution_count": 27,
   "metadata": {},
   "outputs": [
    {
     "name": "stdout",
     "output_type": "stream",
     "text": [
      "1\n",
      "5\n",
      "12\n",
      "64\n"
     ]
    }
   ],
   "source": [
    "for keys,value in highData.items():\n",
    "    print(keys)"
   ]
  },
  {
   "cell_type": "code",
   "execution_count": 35,
   "metadata": {},
   "outputs": [],
   "source": [
    "def mapAttr(highAttr,db):\n",
    "    mySQL = MySQLdb.connect(host   = db['host'],\n",
    "                            user   = db['user'],\n",
    "                            passwd = db['passwd'],\n",
    "                            db     = 'mapping')\n",
    "    cursor = mySQL.cursor()\n",
    "    cursor.execute(\"SELECT nfiID,nfiPath FROM attributes WHERE cfiID = {};\".format(highAttr))\n",
    "    res = cursor.fetchall()\n",
    "    mySQL.close()\n",
    "    return res\n",
    "\n",
    "def getUserData(highData,db):\n",
    "    mySQL = MySQLdb.connect(host   = db['host'],\n",
    "                            user   = db['user'],\n",
    "                            passwd = db['passwd'],\n",
    "                            db     = 'endpoint')\n",
    "    cursor = mySQL.cursor()\n",
    "    cursor.execute(\"SELECT * FROM user WHERE name = '{}';\".format(highData))\n",
    "    res = cursor.fetchone()\n",
    "    mySQL.close()\n",
    "    return res"
   ]
  },
  {
   "cell_type": "code",
   "execution_count": 89,
   "metadata": {},
   "outputs": [
    {
     "name": "stdout",
     "output_type": "stream",
     "text": [
      "('employees', None, '10.0.0.21', '10.0.0.42', None, None)\n",
      "employees None 10.0.0.21 10.0.0.42 None None\n",
      "hi\n"
     ]
    }
   ],
   "source": [
    "if getUserData(\"employees\",db):\n",
    "    print(getUserData(\"employees\",db))\n",
    "    name, mac, start_ipv4, end_ipv4, start_ipv6, end_ipv6 = getUserData(\"employees\",db)\n",
    "    print(name,mac,start_ipv4, end_ipv4, start_ipv6, end_ipv6)\n",
    "    if end_ipv4:\n",
    "        print('hi')"
   ]
  },
  {
   "cell_type": "code",
   "execution_count": 29,
   "metadata": {},
   "outputs": [
    {
     "data": {
      "text/plain": [
       "((276, '/i2nsf-security-policy/rules/action/packet-action/ingress-action'),\n",
       " (277, '/i2nsf-security-policy/rules/action/packet-action/egress-action'),\n",
       " (278, '/i2nsf-security-policy/rules/action/packet-action/log-action'),\n",
       " (280, '/i2nsf-security-policy/rules/action/flow-action/ingress-action'),\n",
       " (281, '/i2nsf-security-policy/rules/action/flow-action/egress-action'),\n",
       " (282, '/i2nsf-security-policy/rules/action/flow-action/log-action'))"
      ]
     },
     "execution_count": 29,
     "metadata": {},
     "output_type": "execute_result"
    }
   ],
   "source": [
    "db = {'host': '127.0.0.1', 'user': 'patrick', 'passwd':'patrick'}\n",
    "mapAttr(64,db)"
   ]
  },
  {
   "cell_type": "code",
   "execution_count": 13,
   "metadata": {
    "scrolled": true
   },
   "outputs": [
    {
     "name": "stdout",
     "output_type": "stream",
     "text": [
      "1645671600.0\n"
     ]
    }
   ],
   "source": [
    "from datetime import datetime\n",
    "\n",
    "time = \"2022-02-24 12:00:00\"\n",
    "dt = datetime.strptime(\"2022-02-24T12:00:00.000Z\",\"%Y-%m-%dT%H:%M:%S.%fZ\")\n",
    "print(dt.timestamp())"
   ]
  },
  {
   "cell_type": "code",
   "execution_count": 12,
   "metadata": {},
   "outputs": [
    {
     "name": "stdout",
     "output_type": "stream",
     "text": [
      "1482194322760.0\n"
     ]
    }
   ],
   "source": [
    "from datetime import datetime\n",
    "\n",
    "dt_obj = datetime.strptime('20.12.2016 09:38:42,76',\n",
    "                           '%d.%m.%Y %H:%M:%S,%f')\n",
    "millisec = dt_obj.timestamp() * 1000\n",
    "\n",
    "print(millisec)\n"
   ]
  }
 ],
 "metadata": {
  "kernelspec": {
   "display_name": "Python 3 (ipykernel)",
   "language": "python",
   "name": "python3"
  },
  "language_info": {
   "codemirror_mode": {
    "name": "ipython",
    "version": 3
   },
   "file_extension": ".py",
   "mimetype": "text/x-python",
   "name": "python",
   "nbconvert_exporter": "python",
   "pygments_lexer": "ipython3",
   "version": "3.9.12"
  }
 },
 "nbformat": 4,
 "nbformat_minor": 4
}
